{
 "cells": [
  {
   "cell_type": "code",
   "execution_count": 2,
   "metadata": {},
   "outputs": [],
   "source": [
    "import polars as pl\n",
    "from langchain_community.document_loaders import PolarsDataFrameLoader"
   ]
  },
  {
   "cell_type": "code",
   "execution_count": 3,
   "metadata": {},
   "outputs": [
    {
     "name": "stdout",
     "output_type": "stream",
     "text": [
      "shape: (90_857, 78)\n",
      "┌───────────┬───────────┬───────────┬───────────┬───┬──────────┬───────────┬───────────┬───────────┐\n",
      "│ artist    ┆ artistIds ┆ asciiName ┆ attractio ┆ … ┆ types    ┆ uuid      ┆ variation ┆ watermark │\n",
      "│ ---       ┆ ---       ┆ ---       ┆ nLights   ┆   ┆ ---      ┆ ---       ┆ s         ┆ ---       │\n",
      "│ str       ┆ str       ┆ str       ┆ ---       ┆   ┆ str      ┆ str       ┆ ---       ┆ str       │\n",
      "│           ┆           ┆           ┆ str       ┆   ┆          ┆           ┆ str       ┆           │\n",
      "╞═══════════╪═══════════╪═══════════╪═══════════╪═══╪══════════╪═══════════╪═══════════╪═══════════╡\n",
      "│ Pete      ┆ d54c4a1a- ┆ null      ┆ null      ┆ … ┆ Creature ┆ 5f8287b1- ┆ b7c19924- ┆ null      │\n",
      "│ Venters   ┆ c0c5-4834 ┆           ┆           ┆   ┆          ┆ 5bb6-5f4c ┆ b4bf-56fc ┆           │\n",
      "│           ┆ -84db-125 ┆           ┆           ┆   ┆          ┆ -ad17-316 ┆ -aa73-f58 ┆           │\n",
      "│           ┆ d341f…    ┆           ┆           ┆   ┆          ┆ a40d5…    ┆ 6e940…    ┆           │\n",
      "│ Pete      ┆ d54c4a1a- ┆ null      ┆ null      ┆ … ┆ Creature ┆ b7c19924- ┆ 5f8287b1- ┆ null      │\n",
      "│ Venters   ┆ c0c5-4834 ┆           ┆           ┆   ┆          ┆ b4bf-56fc ┆ 5bb6-5f4c ┆           │\n",
      "│           ┆ -84db-125 ┆           ┆           ┆   ┆          ┆ -aa73-f58 ┆ -ad17-316 ┆           │\n",
      "│           ┆ d341f…    ┆           ┆           ┆   ┆          ┆ 6e940…    ┆ a40d5…    ┆           │\n",
      "│ Volkan    ┆ 93bec3c0- ┆ null      ┆ null      ┆ … ┆ Creature ┆ 57aaebc1- ┆ 8fd4e2eb- ┆ null      │\n",
      "│ Baǵa      ┆ 0260-4d31 ┆           ┆           ┆   ┆          ┆ 850c-503d ┆ 3eb4-50ea ┆           │\n",
      "│           ┆ -8064-5d0 ┆           ┆           ┆   ┆          ┆ -9f6e-bb8 ┆ -856b-ef6 ┆           │\n",
      "│           ┆ 1efb4…    ┆           ┆           ┆   ┆          ┆ d00d8…    ┆ 38fa4…    ┆           │\n",
      "│ Volkan    ┆ 93bec3c0- ┆ null      ┆ null      ┆ … ┆ Creature ┆ 8fd4e2eb- ┆ 57aaebc1- ┆ null      │\n",
      "│ Baǵa      ┆ 0260-4d31 ┆           ┆           ┆   ┆          ┆ 3eb4-50ea ┆ 850c-503d ┆           │\n",
      "│           ┆ -8064-5d0 ┆           ┆           ┆   ┆          ┆ -856b-ef6 ┆ -9f6e-bb8 ┆           │\n",
      "│           ┆ 1efb4…    ┆           ┆           ┆   ┆          ┆ 38fa4…    ┆ d00d8…    ┆           │\n",
      "│ Mark Zug  ┆ 48e2b98c- ┆ null      ┆ null      ┆ … ┆ Sorcery  ┆ 55bd38ca- ┆ c5655330- ┆ null      │\n",
      "│           ┆ 5467-4671 ┆           ┆           ┆   ┆          ┆ dc73-5c06 ┆ 5131-5f40 ┆           │\n",
      "│           ┆ -bd42-4c3 ┆           ┆           ┆   ┆          ┆ -8f80-a6d ┆ -9d3e-054 ┆           │\n",
      "│           ┆ 74611…    ┆           ┆           ┆   ┆          ┆ dd2f4…    ┆ 9d88c…    ┆           │\n",
      "│ …         ┆ …         ┆ …         ┆ …         ┆ … ┆ …        ┆ …         ┆ …         ┆ …         │\n",
      "│ Campbell  ┆ d281eab4- ┆ null      ┆ null      ┆ … ┆ Instant  ┆ 3f492516- ┆ dd604910- ┆ planeswal │\n",
      "│ White     ┆ 463a-4ba8 ┆           ┆           ┆   ┆          ┆ 7767-5ed7 ┆ 0e81-5d56 ┆ ker       │\n",
      "│           ┆ -9039-894 ┆           ┆           ┆   ┆          ┆ -a1d4-e3f ┆ -b022-e08 ┆           │\n",
      "│           ┆ 37379…    ┆           ┆           ┆   ┆          ┆ 7c06a…    ┆ f21de…    ┆           │\n",
      "│ Jason     ┆ 6ed7e669- ┆ null      ┆ null      ┆ … ┆ Sorcery  ┆ 3f9a0369- ┆ d947d9cd- ┆ planeswal │\n",
      "│ Rainville ┆ 579b-443d ┆           ┆           ┆   ┆          ┆ 5fe7-5aee ┆ f855-5496 ┆ ker       │\n",
      "│           ┆ -b223-e5c ┆           ┆           ┆   ┆          ┆ -85fe-3cf ┆ -b5de-880 ┆           │\n",
      "│           ┆ bcb2a…    ┆           ┆           ┆   ┆          ┆ aacd2…    ┆ 06b49…    ┆           │\n",
      "│ Campbell  ┆ d281eab4- ┆ null      ┆ null      ┆ … ┆ Sorcery  ┆ 97577e9e- ┆ dbd65728- ┆ planeswal │\n",
      "│ White     ┆ 463a-4ba8 ┆           ┆           ┆   ┆          ┆ 69a9-5a8b ┆ bba8-536e ┆ ker       │\n",
      "│           ┆ -9039-894 ┆           ┆           ┆   ┆          ┆ -9c24-a72 ┆ -a908-5df ┆           │\n",
      "│           ┆ 37379…    ┆           ┆           ┆   ┆          ┆ 70379…    ┆ a5606…    ┆           │\n",
      "│ Jonas De  ┆ 561ebf9e- ┆ null      ┆ null      ┆ … ┆ Instant  ┆ deb51cbd- ┆ 7ef6cffb- ┆ planeswal │\n",
      "│ Ro        ┆ 8d93-4b57 ┆           ┆           ┆   ┆          ┆ b890-5b2d ┆ 335a-5831 ┆ ker       │\n",
      "│           ┆ -8156-882 ┆           ┆           ┆   ┆          ┆ -9d6f-7b8 ┆ -8319-20b ┆           │\n",
      "│           ┆ 6d0c1…    ┆           ┆           ┆   ┆          ┆ 96e16…    ┆ 6a020…    ┆           │\n",
      "│ Colin     ┆ 9c201dbe- ┆ null      ┆ null      ┆ … ┆ Creature ┆ 46407d93- ┆ f3434acf- ┆ planeswal │\n",
      "│ Boyer     ┆ db56-429a ┆           ┆           ┆   ┆          ┆ df48-5161 ┆ 7796-572c ┆ ker       │\n",
      "│           ┆ -87e6-189 ┆           ┆           ┆   ┆          ┆ -95fe-f24 ┆ -a889-487 ┆           │\n",
      "│           ┆ ea70c…    ┆           ┆           ┆   ┆          ┆ 08674…    ┆ c84cf…    ┆           │\n",
      "└───────────┴───────────┴───────────┴───────────┴───┴──────────┴───────────┴───────────┴───────────┘\n"
     ]
    }
   ],
   "source": [
    "# Read the parquet file\n",
    "df = pl.read_parquet('../data/raw/cards.parquet')\n",
    "\n",
    "# Display the dataframe\n",
    "print(df)\n"
   ]
  },
  {
   "cell_type": "code",
   "execution_count": 4,
   "metadata": {},
   "outputs": [
    {
     "name": "stdout",
     "output_type": "stream",
     "text": [
      "['artist', 'artistIds', 'asciiName', 'attractionLights', 'availability', 'boosterTypes', 'borderColor', 'cardParts', 'colorIdentity', 'colorIndicator', 'colors', 'defense', 'duelDeck', 'edhrecRank', 'edhrecSaltiness', 'faceConvertedManaCost', 'faceFlavorName', 'faceManaValue', 'faceName', 'finishes', 'flavorName', 'flavorText', 'frameEffects', 'frameVersion', 'hand', 'hasAlternativeDeckLimit', 'hasContentWarning', 'hasFoil', 'hasNonFoil', 'isAlternative', 'isFullArt', 'isFunny', 'isOnlineOnly', 'isOversized', 'isPromo', 'isRebalanced', 'isReprint', 'isReserved', 'isStarter', 'isStorySpotlight', 'isTextless', 'isTimeshifted', 'keywords', 'language', 'layout', 'leadershipSkills', 'life', 'loyalty', 'manaCost', 'manaValue', 'name', 'number', 'originalPrintings', 'originalReleaseDate', 'originalText', 'originalType', 'otherFaceIds', 'power', 'printings', 'promoTypes', 'rarity', 'rebalancedPrintings', 'relatedCards', 'securityStamp', 'setCode', 'side', 'signature', 'sourceProducts', 'subsets', 'subtypes', 'supertypes', 'text', 'toughness', 'type', 'types', 'uuid', 'variations', 'watermark']\n"
     ]
    }
   ],
   "source": [
    "print(df.columns)"
   ]
  },
  {
   "cell_type": "code",
   "execution_count": 5,
   "metadata": {},
   "outputs": [
    {
     "data": {
      "text/html": [
       "<div><style>\n",
       ".dataframe > thead > tr,\n",
       ".dataframe > tbody > tr {\n",
       "  text-align: right;\n",
       "  white-space: pre-wrap;\n",
       "}\n",
       "</style>\n",
       "<small>shape: (9, 79)</small><table border=\"1\" class=\"dataframe\"><thead><tr><th>statistic</th><th>artist</th><th>artistIds</th><th>asciiName</th><th>attractionLights</th><th>availability</th><th>boosterTypes</th><th>borderColor</th><th>cardParts</th><th>colorIdentity</th><th>colorIndicator</th><th>colors</th><th>defense</th><th>duelDeck</th><th>edhrecRank</th><th>edhrecSaltiness</th><th>faceConvertedManaCost</th><th>faceFlavorName</th><th>faceManaValue</th><th>faceName</th><th>finishes</th><th>flavorName</th><th>flavorText</th><th>frameEffects</th><th>frameVersion</th><th>hand</th><th>hasAlternativeDeckLimit</th><th>hasContentWarning</th><th>hasFoil</th><th>hasNonFoil</th><th>isAlternative</th><th>isFullArt</th><th>isFunny</th><th>isOnlineOnly</th><th>isOversized</th><th>isPromo</th><th>isRebalanced</th><th>&hellip;</th><th>isTimeshifted</th><th>keywords</th><th>language</th><th>layout</th><th>leadershipSkills</th><th>life</th><th>loyalty</th><th>manaCost</th><th>manaValue</th><th>name</th><th>number</th><th>originalPrintings</th><th>originalReleaseDate</th><th>originalText</th><th>originalType</th><th>otherFaceIds</th><th>power</th><th>printings</th><th>promoTypes</th><th>rarity</th><th>rebalancedPrintings</th><th>relatedCards</th><th>securityStamp</th><th>setCode</th><th>side</th><th>signature</th><th>sourceProducts</th><th>subsets</th><th>subtypes</th><th>supertypes</th><th>text</th><th>toughness</th><th>type</th><th>types</th><th>uuid</th><th>variations</th><th>watermark</th></tr><tr><td>str</td><td>str</td><td>str</td><td>str</td><td>str</td><td>str</td><td>str</td><td>str</td><td>str</td><td>str</td><td>str</td><td>str</td><td>str</td><td>str</td><td>f64</td><td>f64</td><td>f64</td><td>str</td><td>f64</td><td>str</td><td>str</td><td>str</td><td>str</td><td>str</td><td>str</td><td>str</td><td>f64</td><td>f64</td><td>f64</td><td>f64</td><td>f64</td><td>f64</td><td>f64</td><td>f64</td><td>f64</td><td>f64</td><td>f64</td><td>&hellip;</td><td>f64</td><td>str</td><td>str</td><td>str</td><td>str</td><td>str</td><td>str</td><td>str</td><td>f64</td><td>str</td><td>str</td><td>str</td><td>str</td><td>str</td><td>str</td><td>str</td><td>str</td><td>str</td><td>str</td><td>str</td><td>str</td><td>str</td><td>str</td><td>str</td><td>str</td><td>str</td><td>str</td><td>str</td><td>str</td><td>str</td><td>str</td><td>str</td><td>str</td><td>str</td><td>str</td><td>str</td><td>str</td></tr></thead><tbody><tr><td>&quot;count&quot;</td><td>&quot;90849&quot;</td><td>&quot;90849&quot;</td><td>&quot;221&quot;</td><td>&quot;135&quot;</td><td>&quot;90857&quot;</td><td>&quot;48415&quot;</td><td>&quot;90857&quot;</td><td>&quot;18&quot;</td><td>&quot;90857&quot;</td><td>&quot;796&quot;</td><td>&quot;90857&quot;</td><td>&quot;52&quot;</td><td>&quot;1594&quot;</td><td>83844.0</td><td>67820.0</td><td>3395.0</td><td>&quot;20&quot;</td><td>3395.0</td><td>&quot;3573&quot;</td><td>&quot;90857&quot;</td><td>&quot;272&quot;</td><td>&quot;45385&quot;</td><td>&quot;14065&quot;</td><td>&quot;90857&quot;</td><td>&quot;119&quot;</td><td>61.0</td><td>29.0</td><td>90857.0</td><td>90857.0</td><td>6054.0</td><td>1745.0</td><td>1332.0</td><td>8531.0</td><td>619.0</td><td>10424.0</td><td>228.0</td><td>&hellip;</td><td>223.0</td><td>&quot;37117&quot;</td><td>&quot;90857&quot;</td><td>&quot;90857&quot;</td><td>&quot;9988&quot;</td><td>&quot;119&quot;</td><td>&quot;1451&quot;</td><td>&quot;78802&quot;</td><td>90857.0</td><td>&quot;90857&quot;</td><td>&quot;90857&quot;</td><td>&quot;228&quot;</td><td>&quot;9457&quot;</td><td>&quot;53658&quot;</td><td>&quot;54787&quot;</td><td>&quot;3573&quot;</td><td>&quot;43144&quot;</td><td>&quot;90857&quot;</td><td>&quot;17606&quot;</td><td>&quot;90857&quot;</td><td>&quot;347&quot;</td><td>&quot;46&quot;</td><td>&quot;31015&quot;</td><td>&quot;90857&quot;</td><td>&quot;3573&quot;</td><td>&quot;1244&quot;</td><td>&quot;69480&quot;</td><td>&quot;1016&quot;</td><td>&quot;90857&quot;</td><td>&quot;90857&quot;</td><td>&quot;89769&quot;</td><td>&quot;43144&quot;</td><td>&quot;90857&quot;</td><td>&quot;90857&quot;</td><td>&quot;90857&quot;</td><td>&quot;27837&quot;</td><td>&quot;6491&quot;</td></tr><tr><td>&quot;null_count&quot;</td><td>&quot;8&quot;</td><td>&quot;8&quot;</td><td>&quot;90636&quot;</td><td>&quot;90722&quot;</td><td>&quot;0&quot;</td><td>&quot;42442&quot;</td><td>&quot;0&quot;</td><td>&quot;90839&quot;</td><td>&quot;0&quot;</td><td>&quot;90061&quot;</td><td>&quot;0&quot;</td><td>&quot;90805&quot;</td><td>&quot;89263&quot;</td><td>7013.0</td><td>23037.0</td><td>87462.0</td><td>&quot;90837&quot;</td><td>87462.0</td><td>&quot;87284&quot;</td><td>&quot;0&quot;</td><td>&quot;90585&quot;</td><td>&quot;45472&quot;</td><td>&quot;76792&quot;</td><td>&quot;0&quot;</td><td>&quot;90738&quot;</td><td>90796.0</td><td>90828.0</td><td>0.0</td><td>0.0</td><td>84803.0</td><td>89112.0</td><td>89525.0</td><td>82326.0</td><td>90238.0</td><td>80433.0</td><td>90629.0</td><td>&hellip;</td><td>90634.0</td><td>&quot;53740&quot;</td><td>&quot;0&quot;</td><td>&quot;0&quot;</td><td>&quot;80869&quot;</td><td>&quot;90738&quot;</td><td>&quot;89406&quot;</td><td>&quot;12055&quot;</td><td>0.0</td><td>&quot;0&quot;</td><td>&quot;0&quot;</td><td>&quot;90629&quot;</td><td>&quot;81400&quot;</td><td>&quot;37199&quot;</td><td>&quot;36070&quot;</td><td>&quot;87284&quot;</td><td>&quot;47713&quot;</td><td>&quot;0&quot;</td><td>&quot;73251&quot;</td><td>&quot;0&quot;</td><td>&quot;90510&quot;</td><td>&quot;90811&quot;</td><td>&quot;59842&quot;</td><td>&quot;0&quot;</td><td>&quot;87284&quot;</td><td>&quot;89613&quot;</td><td>&quot;21377&quot;</td><td>&quot;89841&quot;</td><td>&quot;0&quot;</td><td>&quot;0&quot;</td><td>&quot;1088&quot;</td><td>&quot;47713&quot;</td><td>&quot;0&quot;</td><td>&quot;0&quot;</td><td>&quot;0&quot;</td><td>&quot;63020&quot;</td><td>&quot;84366&quot;</td></tr><tr><td>&quot;mean&quot;</td><td>null</td><td>null</td><td>null</td><td>null</td><td>null</td><td>null</td><td>null</td><td>null</td><td>null</td><td>null</td><td>null</td><td>null</td><td>null</td><td>10055.72382</td><td>0.332868</td><td>2.233873</td><td>null</td><td>2.233873</td><td>null</td><td>null</td><td>null</td><td>null</td><td>null</td><td>null</td><td>null</td><td>1.0</td><td>1.0</td><td>0.602606</td><td>0.866791</td><td>1.0</td><td>1.0</td><td>1.0</td><td>1.0</td><td>1.0</td><td>1.0</td><td>1.0</td><td>&hellip;</td><td>1.0</td><td>null</td><td>null</td><td>null</td><td>null</td><td>null</td><td>null</td><td>null</td><td>25.0076</td><td>null</td><td>null</td><td>null</td><td>null</td><td>null</td><td>null</td><td>null</td><td>null</td><td>null</td><td>null</td><td>null</td><td>null</td><td>null</td><td>null</td><td>null</td><td>null</td><td>null</td><td>null</td><td>null</td><td>null</td><td>null</td><td>null</td><td>null</td><td>null</td><td>null</td><td>null</td><td>null</td><td>null</td></tr><tr><td>&quot;std&quot;</td><td>null</td><td>null</td><td>null</td><td>null</td><td>null</td><td>null</td><td>null</td><td>null</td><td>null</td><td>null</td><td>null</td><td>null</td><td>null</td><td>7925.170815</td><td>0.328432</td><td>1.997959</td><td>null</td><td>1.997959</td><td>null</td><td>null</td><td>null</td><td>null</td><td>null</td><td>null</td><td>null</td><td>null</td><td>null</td><td>null</td><td>null</td><td>null</td><td>null</td><td>null</td><td>null</td><td>null</td><td>null</td><td>null</td><td>&hellip;</td><td>null</td><td>null</td><td>null</td><td>null</td><td>null</td><td>null</td><td>null</td><td>null</td><td>4691.72069</td><td>null</td><td>null</td><td>null</td><td>null</td><td>null</td><td>null</td><td>null</td><td>null</td><td>null</td><td>null</td><td>null</td><td>null</td><td>null</td><td>null</td><td>null</td><td>null</td><td>null</td><td>null</td><td>null</td><td>null</td><td>null</td><td>null</td><td>null</td><td>null</td><td>null</td><td>null</td><td>null</td><td>null</td></tr><tr><td>&quot;min&quot;</td><td>&quot;A. M. Sartor&quot;</td><td>&quot;00018b26-29e7-…</td><td>&quot;Altair Ibn-La&#x27;…</td><td>&quot;2, 3, 4, 6&quot;</td><td>&quot;arena&quot;</td><td>&quot;deck&quot;</td><td>&quot;black&quot;</td><td>&quot;Gisela, the Br…</td><td>&quot;&quot;</td><td>&quot;B&quot;</td><td>&quot;&quot;</td><td>&quot;3&quot;</td><td>&quot;a&quot;</td><td>1.0</td><td>0.01</td><td>0.0</td><td>&quot;Casket of Nati…</td><td>0.0</td><td>&quot;A-Alrund, God …</td><td>&quot;etched&quot;</td><td>&quot;Abraham Van He…</td><td>&quot;&quot; . . . And th…</td><td>&quot;borderless&quot;</td><td>&quot;1993&quot;</td><td>&quot;+0&quot;</td><td>1.0</td><td>1.0</td><td>0.0</td><td>0.0</td><td>1.0</td><td>1.0</td><td>1.0</td><td>1.0</td><td>1.0</td><td>1.0</td><td>1.0</td><td>&hellip;</td><td>1.0</td><td>&quot;A Thousand Sou…</td><td>&quot;Ancient Greek&quot;</td><td>&quot;adventure&quot;</td><td>&quot;{&quot;brawl&quot;: fals…</td><td>&quot;+0&quot;</td><td>&quot;*&quot;</td><td>&quot;{0}&quot;</td><td>0.0</td><td>&quot;&quot;Ach! Hans, Ru…</td><td>&quot;0&quot;</td><td>&quot;00819278-741b-…</td><td>&quot;1993-11-01&quot;</td><td>&quot;&quot;Until end of …</td><td>&quot;(none)&quot;</td><td>&quot;000a85b2-d96c-…</td><td>&quot;*&quot;</td><td>&quot;10E, 2ED, 2XM,…</td><td>&quot;alchemy&quot;</td><td>&quot;bonus&quot;</td><td>&quot;003dd554-bc55-…</td><td>&quot;{&quot;spellbook&quot;: …</td><td>&quot;acorn&quot;</td><td>&quot;10E&quot;</td><td>&quot;a&quot;</td><td>&quot;Aeo Paquette&quot;</td><td>&quot;{&quot;etched&quot;: [&quot;0…</td><td>&quot;&lt;explosion sou…</td><td>&quot;&quot;</td><td>&quot;&quot;</td><td>&quot;&quot;Lifetime&quot; Pas…</td><td>&quot;*&quot;</td><td>&quot;Artifact&quot;</td><td>&quot;Artifact&quot;</td><td>&quot;00010d56-fe38-…</td><td>&quot;0005fe8b-170d-…</td><td>&quot;abzan&quot;</td></tr><tr><td>&quot;25%&quot;</td><td>null</td><td>null</td><td>null</td><td>null</td><td>null</td><td>null</td><td>null</td><td>null</td><td>null</td><td>null</td><td>null</td><td>null</td><td>null</td><td>2837.0</td><td>0.12</td><td>0.0</td><td>null</td><td>0.0</td><td>null</td><td>null</td><td>null</td><td>null</td><td>null</td><td>null</td><td>null</td><td>null</td><td>null</td><td>null</td><td>null</td><td>null</td><td>null</td><td>null</td><td>null</td><td>null</td><td>null</td><td>null</td><td>&hellip;</td><td>null</td><td>null</td><td>null</td><td>null</td><td>null</td><td>null</td><td>null</td><td>null</td><td>2.0</td><td>null</td><td>null</td><td>null</td><td>null</td><td>null</td><td>null</td><td>null</td><td>null</td><td>null</td><td>null</td><td>null</td><td>null</td><td>null</td><td>null</td><td>null</td><td>null</td><td>null</td><td>null</td><td>null</td><td>null</td><td>null</td><td>null</td><td>null</td><td>null</td><td>null</td><td>null</td><td>null</td><td>null</td></tr><tr><td>&quot;50%&quot;</td><td>null</td><td>null</td><td>null</td><td>null</td><td>null</td><td>null</td><td>null</td><td>null</td><td>null</td><td>null</td><td>null</td><td>null</td><td>null</td><td>8530.0</td><td>0.24</td><td>2.0</td><td>null</td><td>2.0</td><td>null</td><td>null</td><td>null</td><td>null</td><td>null</td><td>null</td><td>null</td><td>null</td><td>null</td><td>null</td><td>null</td><td>null</td><td>null</td><td>null</td><td>null</td><td>null</td><td>null</td><td>null</td><td>&hellip;</td><td>null</td><td>null</td><td>null</td><td>null</td><td>null</td><td>null</td><td>null</td><td>null</td><td>3.0</td><td>null</td><td>null</td><td>null</td><td>null</td><td>null</td><td>null</td><td>null</td><td>null</td><td>null</td><td>null</td><td>null</td><td>null</td><td>null</td><td>null</td><td>null</td><td>null</td><td>null</td><td>null</td><td>null</td><td>null</td><td>null</td><td>null</td><td>null</td><td>null</td><td>null</td><td>null</td><td>null</td><td>null</td></tr><tr><td>&quot;75%&quot;</td><td>null</td><td>null</td><td>null</td><td>null</td><td>null</td><td>null</td><td>null</td><td>null</td><td>null</td><td>null</td><td>null</td><td>null</td><td>null</td><td>16510.0</td><td>0.41</td><td>3.0</td><td>null</td><td>3.0</td><td>null</td><td>null</td><td>null</td><td>null</td><td>null</td><td>null</td><td>null</td><td>null</td><td>null</td><td>null</td><td>null</td><td>null</td><td>null</td><td>null</td><td>null</td><td>null</td><td>null</td><td>null</td><td>&hellip;</td><td>null</td><td>null</td><td>null</td><td>null</td><td>null</td><td>null</td><td>null</td><td>null</td><td>4.0</td><td>null</td><td>null</td><td>null</td><td>null</td><td>null</td><td>null</td><td>null</td><td>null</td><td>null</td><td>null</td><td>null</td><td>null</td><td>null</td><td>null</td><td>null</td><td>null</td><td>null</td><td>null</td><td>null</td><td>null</td><td>null</td><td>null</td><td>null</td><td>null</td><td>null</td><td>null</td><td>null</td><td>null</td></tr><tr><td>&quot;max&quot;</td><td>&quot;王玉群&quot;</td><td>&quot;ffd063ae-c097-…</td><td>&quot;Ugluk of the W…</td><td>&quot;5, 6&quot;</td><td>&quot;shandalar&quot;</td><td>&quot;default&quot;</td><td>&quot;white&quot;</td><td>&quot;Urza, Lord Pro…</td><td>&quot;W&quot;</td><td>&quot;W&quot;</td><td>&quot;W, U&quot;</td><td>&quot;7&quot;</td><td>&quot;b&quot;</td><td>26737.0</td><td>2.99</td><td>11.0</td><td>&quot;The Upside Dow…</td><td>11.0</td><td>&quot;Zoological Stu…</td><td>&quot;nonfoil, signe…</td><td>&quot;Zangief, the R…</td><td>&quot;𓍹𓈎𓃭𓍢𓊪𓂧𓂋𓏏𓆇𓊹𓏏𓆇𓌰𓏏…</td><td>&quot;tombstone&quot;</td><td>&quot;future&quot;</td><td>&quot;-4&quot;</td><td>1.0</td><td>1.0</td><td>1.0</td><td>1.0</td><td>1.0</td><td>1.0</td><td>1.0</td><td>1.0</td><td>1.0</td><td>1.0</td><td>1.0</td><td>&hellip;</td><td>1.0</td><td>&quot;Wither&quot;</td><td>&quot;Spanish&quot;</td><td>&quot;vanguard&quot;</td><td>&quot;{&quot;brawl&quot;: true…</td><td>&quot;-8&quot;</td><td>&quot;X&quot;</td><td>&quot;{X}{Y}{Z}{R}{R…</td><td>1e6</td><td>&quot;Éowyn, Shieldm…</td><td>&quot;we97&quot;</td><td>&quot;ffa1ae56-535f-…</td><td>&quot;2024-10-01&quot;</td><td>&quot;−1: Up to two …</td><td>&quot;o3oB&quot;</td><td>&quot;ffa4a87d-f2e4-…</td><td>&quot;∞&quot;</td><td>&quot;ZNR&quot;</td><td>&quot;wizardsplaynet…</td><td>&quot;uncommon&quot;</td><td>&quot;fdbabaf0-9197-…</td><td>&quot;{&quot;spellbook&quot;: …</td><td>&quot;triangle&quot;</td><td>&quot;ZNR&quot;</td><td>&quot;e&quot;</td><td>&quot;Wolfgang Eder&quot;</td><td>&quot;{&quot;nonfoil&quot;: [&quot;…</td><td>&quot;Year of the Ra…</td><td>&quot;Zubera, Spirit…</td><td>&quot;World&quot;</td><td>&quot;{X}{X}{R}, {T}…</td><td>&quot;?&quot;</td><td>&quot;instant&quot;</td><td>&quot;instant&quot;</td><td>&quot;fffe10ca-d43b-…</td><td>&quot;fffe10ca-d43b-…</td><td>&quot;wpn&quot;</td></tr></tbody></table></div>"
      ],
      "text/plain": [
       "shape: (9, 79)\n",
       "┌────────────┬────────┬────────────┬────────────┬───┬──────────┬───────────┬───────────┬───────────┐\n",
       "│ statistic  ┆ artist ┆ artistIds  ┆ asciiName  ┆ … ┆ types    ┆ uuid      ┆ variation ┆ watermark │\n",
       "│ ---        ┆ ---    ┆ ---        ┆ ---        ┆   ┆ ---      ┆ ---       ┆ s         ┆ ---       │\n",
       "│ str        ┆ str    ┆ str        ┆ str        ┆   ┆ str      ┆ str       ┆ ---       ┆ str       │\n",
       "│            ┆        ┆            ┆            ┆   ┆          ┆           ┆ str       ┆           │\n",
       "╞════════════╪════════╪════════════╪════════════╪═══╪══════════╪═══════════╪═══════════╪═══════════╡\n",
       "│ count      ┆ 90849  ┆ 90849      ┆ 221        ┆ … ┆ 90857    ┆ 90857     ┆ 27837     ┆ 6491      │\n",
       "│ null_count ┆ 8      ┆ 8          ┆ 90636      ┆ … ┆ 0        ┆ 0         ┆ 63020     ┆ 84366     │\n",
       "│ mean       ┆ null   ┆ null       ┆ null       ┆ … ┆ null     ┆ null      ┆ null      ┆ null      │\n",
       "│ std        ┆ null   ┆ null       ┆ null       ┆ … ┆ null     ┆ null      ┆ null      ┆ null      │\n",
       "│ min        ┆ A. M.  ┆ 00018b26-2 ┆ Altair Ibn ┆ … ┆ Artifact ┆ 00010d56- ┆ 0005fe8b- ┆ abzan     │\n",
       "│            ┆ Sartor ┆ 9e7-4545-9 ┆ -La'Ahad   ┆   ┆          ┆ fe38-5e35 ┆ 170d-5381 ┆           │\n",
       "│            ┆        ┆ 15b-382d9c ┆            ┆   ┆          ┆ -8aed-518 ┆ -baaf-3d6 ┆           │\n",
       "│            ┆        ┆ bc…        ┆            ┆   ┆          ┆ 019aa…    ┆ bd580…    ┆           │\n",
       "│ 25%        ┆ null   ┆ null       ┆ null       ┆ … ┆ null     ┆ null      ┆ null      ┆ null      │\n",
       "│ 50%        ┆ null   ┆ null       ┆ null       ┆ … ┆ null     ┆ null      ┆ null      ┆ null      │\n",
       "│ 75%        ┆ null   ┆ null       ┆ null       ┆ … ┆ null     ┆ null      ┆ null      ┆ null      │\n",
       "│ max        ┆ 王玉群 ┆ ffd063ae-c ┆ Ugluk of   ┆ … ┆ instant  ┆ fffe10ca- ┆ fffe10ca- ┆ wpn       │\n",
       "│            ┆        ┆ 097-4f26-b ┆ the White  ┆   ┆          ┆ d43b-5234 ┆ d43b-5234 ┆           │\n",
       "│            ┆        ┆ 2e6-b1e213 ┆ Hand       ┆   ┆          ┆ -b768-201 ┆ -b768-201 ┆           │\n",
       "│            ┆        ┆ 77…        ┆            ┆   ┆          ┆ cc5c2…    ┆ cc5c2…    ┆           │\n",
       "└────────────┴────────┴────────────┴────────────┴───┴──────────┴───────────┴───────────┴───────────┘"
      ]
     },
     "execution_count": 5,
     "metadata": {},
     "output_type": "execute_result"
    }
   ],
   "source": [
    "df.describe()\n"
   ]
  },
  {
   "cell_type": "code",
   "execution_count": 6,
   "metadata": {},
   "outputs": [
    {
     "data": {
      "text/html": [
       "<div><style>\n",
       ".dataframe > thead > tr,\n",
       ".dataframe > tbody > tr {\n",
       "  text-align: right;\n",
       "  white-space: pre-wrap;\n",
       "}\n",
       "</style>\n",
       "<small>shape: (90_857, 3)</small><table border=\"1\" class=\"dataframe\"><thead><tr><th>name</th><th>power</th><th>toughness</th></tr><tr><td>str</td><td>str</td><td>str</td></tr></thead><tbody><tr><td>&quot;Ancestor&#x27;s Cho…</td><td>&quot;4&quot;</td><td>&quot;4&quot;</td></tr><tr><td>&quot;Ancestor&#x27;s Cho…</td><td>&quot;4&quot;</td><td>&quot;4&quot;</td></tr><tr><td>&quot;Angel of Mercy…</td><td>&quot;3&quot;</td><td>&quot;3&quot;</td></tr><tr><td>&quot;Angel of Mercy…</td><td>&quot;3&quot;</td><td>&quot;3&quot;</td></tr><tr><td>&quot;Angelic Blessi…</td><td>null</td><td>null</td></tr><tr><td>&hellip;</td><td>&hellip;</td><td>&hellip;</td></tr><tr><td>&quot;Into the Roil&quot;</td><td>null</td><td>null</td></tr><tr><td>&quot;Bloodchief&#x27;s T…</td><td>null</td><td>null</td></tr><tr><td>&quot;Roil Eruption&quot;</td><td>null</td><td>null</td></tr><tr><td>&quot;Roiling Regrow…</td><td>null</td><td>null</td></tr><tr><td>&quot;Kargan Warlead…</td><td>&quot;3&quot;</td><td>&quot;3&quot;</td></tr></tbody></table></div>"
      ],
      "text/plain": [
       "shape: (90_857, 3)\n",
       "┌─────────────────────┬───────┬───────────┐\n",
       "│ name                ┆ power ┆ toughness │\n",
       "│ ---                 ┆ ---   ┆ ---       │\n",
       "│ str                 ┆ str   ┆ str       │\n",
       "╞═════════════════════╪═══════╪═══════════╡\n",
       "│ Ancestor's Chosen   ┆ 4     ┆ 4         │\n",
       "│ Ancestor's Chosen   ┆ 4     ┆ 4         │\n",
       "│ Angel of Mercy      ┆ 3     ┆ 3         │\n",
       "│ Angel of Mercy      ┆ 3     ┆ 3         │\n",
       "│ Angelic Blessing    ┆ null  ┆ null      │\n",
       "│ …                   ┆ …     ┆ …         │\n",
       "│ Into the Roil       ┆ null  ┆ null      │\n",
       "│ Bloodchief's Thirst ┆ null  ┆ null      │\n",
       "│ Roil Eruption       ┆ null  ┆ null      │\n",
       "│ Roiling Regrowth    ┆ null  ┆ null      │\n",
       "│ Kargan Warleader    ┆ 3     ┆ 3         │\n",
       "└─────────────────────┴───────┴───────────┘"
      ]
     },
     "execution_count": 6,
     "metadata": {},
     "output_type": "execute_result"
    }
   ],
   "source": [
    "df.select([\"name\", \"power\", \"toughness\"])"
   ]
  },
  {
   "cell_type": "code",
   "execution_count": 7,
   "metadata": {},
   "outputs": [
    {
     "data": {
      "text/html": [
       "<div><style>\n",
       ".dataframe > thead > tr,\n",
       ".dataframe > tbody > tr {\n",
       "  text-align: right;\n",
       "  white-space: pre-wrap;\n",
       "}\n",
       "</style>\n",
       "<small>shape: (28_672, 2)</small><table border=\"1\" class=\"dataframe\"><thead><tr><th>name</th><th>len</th></tr><tr><td>str</td><td>u32</td></tr></thead><tbody><tr><td>&quot;Harmonious Arc…</td><td>5</td></tr><tr><td>&quot;Genasi Rabble-…</td><td>1</td></tr><tr><td>&quot;Vedalken Plott…</td><td>2</td></tr><tr><td>&quot;Solitary Hunte…</td><td>2</td></tr><tr><td>&quot;Work a Double&quot;</td><td>1</td></tr><tr><td>&hellip;</td><td>&hellip;</td></tr><tr><td>&quot;Sequence Engin…</td><td>3</td></tr><tr><td>&quot;Giant Ambush B…</td><td>1</td></tr><tr><td>&quot;Otepec Huntmas…</td><td>2</td></tr><tr><td>&quot;Escape Artist&quot;</td><td>1</td></tr><tr><td>&quot;Reclaiming Vin…</td><td>2</td></tr></tbody></table></div>"
      ],
      "text/plain": [
       "shape: (28_672, 2)\n",
       "┌───────────────────────────────────┬─────┐\n",
       "│ name                              ┆ len │\n",
       "│ ---                               ┆ --- │\n",
       "│ str                               ┆ u32 │\n",
       "╞═══════════════════════════════════╪═════╡\n",
       "│ Harmonious Archon                 ┆ 5   │\n",
       "│ Genasi Rabble-Rouser              ┆ 1   │\n",
       "│ Vedalken Plotter                  ┆ 2   │\n",
       "│ Solitary Hunter // One of the Pa… ┆ 2   │\n",
       "│ Work a Double                     ┆ 1   │\n",
       "│ …                                 ┆ …   │\n",
       "│ Sequence Engine                   ┆ 3   │\n",
       "│ Giant Ambush Beetle               ┆ 1   │\n",
       "│ Otepec Huntmaster                 ┆ 2   │\n",
       "│ Escape Artist                     ┆ 1   │\n",
       "│ Reclaiming Vines                  ┆ 2   │\n",
       "└───────────────────────────────────┴─────┘"
      ]
     },
     "execution_count": 7,
     "metadata": {},
     "output_type": "execute_result"
    }
   ],
   "source": [
    "df.group_by([\"name\"]).len()\n"
   ]
  },
  {
   "cell_type": "code",
   "execution_count": 8,
   "metadata": {},
   "outputs": [
    {
     "data": {
      "text/html": [
       "<div><style>\n",
       ".dataframe > thead > tr,\n",
       ".dataframe > tbody > tr {\n",
       "  text-align: right;\n",
       "  white-space: pre-wrap;\n",
       "}\n",
       "</style>\n",
       "<small>shape: (9, 1)</small><table border=\"1\" class=\"dataframe\"><thead><tr><th>setCode</th></tr><tr><td>str</td></tr></thead><tbody><tr><td>&quot;5ED&quot;</td></tr><tr><td>&quot;6ED&quot;</td></tr><tr><td>&quot;BCHR&quot;</td></tr><tr><td>&quot;CHR&quot;</td></tr><tr><td>&quot;LEG&quot;</td></tr><tr><td>&quot;ME3&quot;</td></tr><tr><td>&quot;OLEP&quot;</td></tr><tr><td>&quot;PTC&quot;</td></tr><tr><td>&quot;PTC&quot;</td></tr></tbody></table></div>"
      ],
      "text/plain": [
       "shape: (9, 1)\n",
       "┌─────────┐\n",
       "│ setCode │\n",
       "│ ---     │\n",
       "│ str     │\n",
       "╞═════════╡\n",
       "│ 5ED     │\n",
       "│ 6ED     │\n",
       "│ BCHR    │\n",
       "│ CHR     │\n",
       "│ LEG     │\n",
       "│ ME3     │\n",
       "│ OLEP    │\n",
       "│ PTC     │\n",
       "│ PTC     │\n",
       "└─────────┘"
      ]
     },
     "execution_count": 8,
     "metadata": {},
     "output_type": "execute_result"
    }
   ],
   "source": [
    "df.filter(pl.col(\"name\") == \"Recall\").select(\"setCode\")"
   ]
  },
  {
   "cell_type": "code",
   "execution_count": 9,
   "metadata": {},
   "outputs": [
    {
     "data": {
      "text/html": [
       "<div><style>\n",
       ".dataframe > thead > tr,\n",
       ".dataframe > tbody > tr {\n",
       "  text-align: right;\n",
       "  white-space: pre-wrap;\n",
       "}\n",
       "</style>\n",
       "<small>shape: (268, 78)</small><table border=\"1\" class=\"dataframe\"><thead><tr><th>artist</th><th>artistIds</th><th>asciiName</th><th>attractionLights</th><th>availability</th><th>boosterTypes</th><th>borderColor</th><th>cardParts</th><th>colorIdentity</th><th>colorIndicator</th><th>colors</th><th>defense</th><th>duelDeck</th><th>edhrecRank</th><th>edhrecSaltiness</th><th>faceConvertedManaCost</th><th>faceFlavorName</th><th>faceManaValue</th><th>faceName</th><th>finishes</th><th>flavorName</th><th>flavorText</th><th>frameEffects</th><th>frameVersion</th><th>hand</th><th>hasAlternativeDeckLimit</th><th>hasContentWarning</th><th>hasFoil</th><th>hasNonFoil</th><th>isAlternative</th><th>isFullArt</th><th>isFunny</th><th>isOnlineOnly</th><th>isOversized</th><th>isPromo</th><th>isRebalanced</th><th>isReprint</th><th>&hellip;</th><th>isTimeshifted</th><th>keywords</th><th>language</th><th>layout</th><th>leadershipSkills</th><th>life</th><th>loyalty</th><th>manaCost</th><th>manaValue</th><th>name</th><th>number</th><th>originalPrintings</th><th>originalReleaseDate</th><th>originalText</th><th>originalType</th><th>otherFaceIds</th><th>power</th><th>printings</th><th>promoTypes</th><th>rarity</th><th>rebalancedPrintings</th><th>relatedCards</th><th>securityStamp</th><th>setCode</th><th>side</th><th>signature</th><th>sourceProducts</th><th>subsets</th><th>subtypes</th><th>supertypes</th><th>text</th><th>toughness</th><th>type</th><th>types</th><th>uuid</th><th>variations</th><th>watermark</th></tr><tr><td>str</td><td>str</td><td>str</td><td>str</td><td>str</td><td>str</td><td>str</td><td>str</td><td>str</td><td>str</td><td>str</td><td>str</td><td>str</td><td>f64</td><td>f64</td><td>f64</td><td>str</td><td>f64</td><td>str</td><td>str</td><td>str</td><td>str</td><td>str</td><td>str</td><td>str</td><td>bool</td><td>bool</td><td>bool</td><td>bool</td><td>bool</td><td>bool</td><td>bool</td><td>bool</td><td>bool</td><td>bool</td><td>bool</td><td>bool</td><td>&hellip;</td><td>bool</td><td>str</td><td>str</td><td>str</td><td>str</td><td>str</td><td>str</td><td>str</td><td>f64</td><td>str</td><td>str</td><td>str</td><td>str</td><td>str</td><td>str</td><td>str</td><td>str</td><td>str</td><td>str</td><td>str</td><td>str</td><td>str</td><td>str</td><td>str</td><td>str</td><td>str</td><td>str</td><td>str</td><td>str</td><td>str</td><td>str</td><td>str</td><td>str</td><td>str</td><td>str</td><td>str</td><td>str</td></tr></thead><tbody><tr><td>&quot;Kekai Kotaki&quot;</td><td>&quot;4b771085-c049-…</td><td>null</td><td>null</td><td>&quot;arena, mtgo, p…</td><td>&quot;default&quot;</td><td>&quot;black&quot;</td><td>null</td><td>&quot;U&quot;</td><td>null</td><td>&quot;&quot;</td><td>null</td><td>null</td><td>10705.0</td><td>0.43</td><td>null</td><td>null</td><td>null</td><td>null</td><td>&quot;nonfoil, foil&quot;</td><td>null</td><td>null</td><td>null</td><td>&quot;2015&quot;</td><td>null</td><td>null</td><td>null</td><td>true</td><td>true</td><td>null</td><td>null</td><td>null</td><td>null</td><td>null</td><td>null</td><td>null</td><td>null</td><td>&hellip;</td><td>null</td><td>&quot;Prototype&quot;</td><td>&quot;English&quot;</td><td>&quot;prototype&quot;</td><td>null</td><td>null</td><td>null</td><td>&quot;{7}&quot;</td><td>7.0</td><td>&quot;Arcane Proxy&quot;</td><td>&quot;75&quot;</td><td>null</td><td>null</td><td>null</td><td>null</td><td>null</td><td>&quot;4&quot;</td><td>&quot;BRO, PBRO, PRM…</td><td>null</td><td>&quot;mythic&quot;</td><td>null</td><td>null</td><td>&quot;oval&quot;</td><td>&quot;BRO&quot;</td><td>null</td><td>null</td><td>&quot;{&quot;foil&quot;: [&quot;104…</td><td>null</td><td>&quot;Wizard&quot;</td><td>&quot;&quot;</td><td>&quot;Prototype {1}{…</td><td>&quot;3&quot;</td><td>&quot;Artifact Creat…</td><td>&quot;Artifact, Crea…</td><td>&quot;7047d44f-0eb7-…</td><td>&quot;7a16b020-5aef-…</td><td>null</td></tr><tr><td>&quot;Kekai Kotaki&quot;</td><td>&quot;4b771085-c049-…</td><td>null</td><td>null</td><td>&quot;arena, mtgo, p…</td><td>null</td><td>&quot;black&quot;</td><td>null</td><td>&quot;U&quot;</td><td>null</td><td>&quot;&quot;</td><td>null</td><td>null</td><td>10705.0</td><td>0.43</td><td>null</td><td>null</td><td>null</td><td>null</td><td>&quot;nonfoil, foil&quot;</td><td>null</td><td>null</td><td>&quot;extendedart&quot;</td><td>&quot;2015&quot;</td><td>null</td><td>null</td><td>null</td><td>true</td><td>true</td><td>null</td><td>null</td><td>null</td><td>null</td><td>null</td><td>null</td><td>null</td><td>null</td><td>&hellip;</td><td>null</td><td>&quot;Prototype&quot;</td><td>&quot;English&quot;</td><td>&quot;prototype&quot;</td><td>null</td><td>null</td><td>null</td><td>&quot;{7}&quot;</td><td>7.0</td><td>&quot;Arcane Proxy&quot;</td><td>&quot;319&quot;</td><td>null</td><td>null</td><td>null</td><td>null</td><td>null</td><td>&quot;4&quot;</td><td>&quot;BRO, PBRO, PRM…</td><td>&quot;boosterfun&quot;</td><td>&quot;mythic&quot;</td><td>null</td><td>null</td><td>&quot;oval&quot;</td><td>&quot;BRO&quot;</td><td>null</td><td>null</td><td>&quot;{&quot;foil&quot;: [&quot;5d7…</td><td>null</td><td>&quot;Wizard&quot;</td><td>&quot;&quot;</td><td>&quot;Prototype {1}{…</td><td>&quot;3&quot;</td><td>&quot;Artifact Creat…</td><td>&quot;Artifact, Crea…</td><td>&quot;7a16b020-5aef-…</td><td>&quot;7047d44f-0eb7-…</td><td>null</td></tr><tr><td>&quot;Leon Tukker&quot;</td><td>&quot;669b8b90-758d-…</td><td>null</td><td>null</td><td>&quot;arena, mtgo, p…</td><td>null</td><td>&quot;black&quot;</td><td>null</td><td>&quot;R&quot;</td><td>null</td><td>&quot;&quot;</td><td>null</td><td>null</td><td>14008.0</td><td>0.05</td><td>null</td><td>null</td><td>null</td><td>null</td><td>&quot;nonfoil, foil&quot;</td><td>null</td><td>null</td><td>null</td><td>&quot;2015&quot;</td><td>null</td><td>null</td><td>null</td><td>true</td><td>true</td><td>null</td><td>null</td><td>null</td><td>null</td><td>null</td><td>null</td><td>null</td><td>null</td><td>&hellip;</td><td>null</td><td>&quot;Flying, Uneart…</td><td>&quot;English&quot;</td><td>&quot;normal&quot;</td><td>null</td><td>null</td><td>null</td><td>&quot;{6}&quot;</td><td>6.0</td><td>&quot;Artificer&#x27;s Dr…</td><td>&quot;291&quot;</td><td>null</td><td>null</td><td>null</td><td>null</td><td>null</td><td>&quot;4&quot;</td><td>&quot;BRO, PRM&quot;</td><td>null</td><td>&quot;rare&quot;</td><td>null</td><td>null</td><td>&quot;oval&quot;</td><td>&quot;BRO&quot;</td><td>null</td><td>null</td><td>&quot;{&quot;nonfoil&quot;: [&quot;…</td><td>null</td><td>&quot;Dragon&quot;</td><td>&quot;&quot;</td><td>&quot;Flying\\n{R}: A…</td><td>&quot;4&quot;</td><td>&quot;Artifact Creat…</td><td>&quot;Artifact, Crea…</td><td>&quot;5228982e-997d-…</td><td>&quot;c4a8e16e-d4cc-…</td><td>null</td></tr><tr><td>&quot;Leon Tukker&quot;</td><td>&quot;669b8b90-758d-…</td><td>null</td><td>null</td><td>&quot;arena, mtgo, p…</td><td>null</td><td>&quot;black&quot;</td><td>null</td><td>&quot;R&quot;</td><td>null</td><td>&quot;&quot;</td><td>null</td><td>null</td><td>14008.0</td><td>0.05</td><td>null</td><td>null</td><td>null</td><td>null</td><td>&quot;nonfoil, foil&quot;</td><td>null</td><td>null</td><td>&quot;extendedart&quot;</td><td>&quot;2015&quot;</td><td>null</td><td>null</td><td>null</td><td>true</td><td>true</td><td>null</td><td>null</td><td>null</td><td>null</td><td>null</td><td>null</td><td>null</td><td>null</td><td>&hellip;</td><td>null</td><td>&quot;Flying, Uneart…</td><td>&quot;English&quot;</td><td>&quot;normal&quot;</td><td>null</td><td>null</td><td>null</td><td>&quot;{6}&quot;</td><td>6.0</td><td>&quot;Artificer&#x27;s Dr…</td><td>&quot;376&quot;</td><td>null</td><td>null</td><td>null</td><td>null</td><td>null</td><td>&quot;4&quot;</td><td>&quot;BRO, PRM&quot;</td><td>&quot;boosterfun&quot;</td><td>&quot;rare&quot;</td><td>null</td><td>null</td><td>&quot;oval&quot;</td><td>&quot;BRO&quot;</td><td>null</td><td>null</td><td>&quot;{&quot;foil&quot;: [&quot;5d7…</td><td>null</td><td>&quot;Dragon&quot;</td><td>&quot;&quot;</td><td>&quot;Flying\\n{R}: A…</td><td>&quot;4&quot;</td><td>&quot;Artifact Creat…</td><td>&quot;Artifact, Crea…</td><td>&quot;c4a8e16e-d4cc-…</td><td>&quot;5228982e-997d-…</td><td>null</td></tr><tr><td>&quot;Kieran Yanner&quot;</td><td>&quot;aa7e89ed-d294-…</td><td>null</td><td>null</td><td>&quot;mtgo, paper&quot;</td><td>null</td><td>&quot;black&quot;</td><td>null</td><td>&quot;B, R, U&quot;</td><td>null</td><td>&quot;B, R, U&quot;</td><td>null</td><td>null</td><td>8449.0</td><td>0.33</td><td>null</td><td>null</td><td>null</td><td>null</td><td>&quot;nonfoil, foil&quot;</td><td>null</td><td>null</td><td>null</td><td>&quot;1997&quot;</td><td>null</td><td>null</td><td>null</td><td>true</td><td>true</td><td>null</td><td>null</td><td>null</td><td>null</td><td>null</td><td>null</td><td>null</td><td>null</td><td>&hellip;</td><td>null</td><td>&quot;Deathtouch&quot;</td><td>&quot;English&quot;</td><td>&quot;normal&quot;</td><td>&quot;{&quot;brawl&quot;: fals…</td><td>null</td><td>null</td><td>&quot;{2}{U}{B}{R}&quot;</td><td>5.0</td><td>&quot;Ashnod the Unc…</td><td>&quot;4&quot;</td><td>null</td><td>null</td><td>&quot;Deathtouch\\nWh…</td><td>&quot;Legendary Crea…</td><td>null</td><td>&quot;1&quot;</td><td>&quot;BRC, PRM&quot;</td><td>null</td><td>&quot;mythic&quot;</td><td>null</td><td>null</td><td>null</td><td>&quot;BRC&quot;</td><td>null</td><td>null</td><td>&quot;{&quot;foil&quot;: [&quot;6ed…</td><td>null</td><td>&quot;Human, Artific…</td><td>&quot;Legendary&quot;</td><td>&quot;Deathtouch\\nWh…</td><td>&quot;4&quot;</td><td>&quot;Legendary Crea…</td><td>&quot;Creature&quot;</td><td>&quot;cf08de10-eeba-…</td><td>&quot;40d68e84-5538-…</td><td>&quot;wotc&quot;</td></tr><tr><td>&hellip;</td><td>&hellip;</td><td>&hellip;</td><td>&hellip;</td><td>&hellip;</td><td>&hellip;</td><td>&hellip;</td><td>&hellip;</td><td>&hellip;</td><td>&hellip;</td><td>&hellip;</td><td>&hellip;</td><td>&hellip;</td><td>&hellip;</td><td>&hellip;</td><td>&hellip;</td><td>&hellip;</td><td>&hellip;</td><td>&hellip;</td><td>&hellip;</td><td>&hellip;</td><td>&hellip;</td><td>&hellip;</td><td>&hellip;</td><td>&hellip;</td><td>&hellip;</td><td>&hellip;</td><td>&hellip;</td><td>&hellip;</td><td>&hellip;</td><td>&hellip;</td><td>&hellip;</td><td>&hellip;</td><td>&hellip;</td><td>&hellip;</td><td>&hellip;</td><td>&hellip;</td><td>&hellip;</td><td>&hellip;</td><td>&hellip;</td><td>&hellip;</td><td>&hellip;</td><td>&hellip;</td><td>&hellip;</td><td>&hellip;</td><td>&hellip;</td><td>&hellip;</td><td>&hellip;</td><td>&hellip;</td><td>&hellip;</td><td>&hellip;</td><td>&hellip;</td><td>&hellip;</td><td>&hellip;</td><td>&hellip;</td><td>&hellip;</td><td>&hellip;</td><td>&hellip;</td><td>&hellip;</td><td>&hellip;</td><td>&hellip;</td><td>&hellip;</td><td>&hellip;</td><td>&hellip;</td><td>&hellip;</td><td>&hellip;</td><td>&hellip;</td><td>&hellip;</td><td>&hellip;</td><td>&hellip;</td><td>&hellip;</td><td>&hellip;</td><td>&hellip;</td><td>&hellip;</td><td>&hellip;</td></tr><tr><td>&quot;Evan Shipard&quot;</td><td>&quot;eea284ce-9377-…</td><td>null</td><td>null</td><td>&quot;paper&quot;</td><td>null</td><td>&quot;black&quot;</td><td>null</td><td>&quot;&quot;</td><td>null</td><td>&quot;&quot;</td><td>null</td><td>null</td><td>4829.0</td><td>0.5</td><td>null</td><td>null</td><td>null</td><td>null</td><td>&quot;nonfoil&quot;</td><td>null</td><td>null</td><td>&quot;extendedart&quot;</td><td>&quot;2015&quot;</td><td>null</td><td>null</td><td>null</td><td>false</td><td>true</td><td>null</td><td>null</td><td>null</td><td>null</td><td>null</td><td>null</td><td>null</td><td>null</td><td>&hellip;</td><td>null</td><td>&quot;Mill&quot;</td><td>&quot;English&quot;</td><td>&quot;normal&quot;</td><td>null</td><td>null</td><td>null</td><td>&quot;{7}&quot;</td><td>7.0</td><td>&quot;Wondrous Cruci…</td><td>&quot;67&quot;</td><td>null</td><td>null</td><td>&quot;Permanents you…</td><td>&quot;Artifact&quot;</td><td>null</td><td>null</td><td>&quot;BRC, PRM&quot;</td><td>&quot;boosterfun&quot;</td><td>&quot;rare&quot;</td><td>null</td><td>null</td><td>&quot;oval&quot;</td><td>&quot;BRC&quot;</td><td>null</td><td>null</td><td>&quot;{&quot;nonfoil&quot;: [&quot;…</td><td>null</td><td>&quot;&quot;</td><td>&quot;&quot;</td><td>&quot;Permanents you…</td><td>null</td><td>&quot;Artifact&quot;</td><td>&quot;Artifact&quot;</td><td>&quot;78bfcb1a-4379-…</td><td>&quot;1c283607-16fc-…</td><td>null</td></tr><tr><td>&quot;Ryan Pancoast&quot;</td><td>&quot;89cc9475-dda2-…</td><td>null</td><td>null</td><td>&quot;arena, mtgo, p…</td><td>null</td><td>&quot;black&quot;</td><td>null</td><td>&quot;G&quot;</td><td>null</td><td>&quot;&quot;</td><td>null</td><td>null</td><td>15438.0</td><td>null</td><td>null</td><td>null</td><td>null</td><td>null</td><td>&quot;nonfoil, foil&quot;</td><td>null</td><td>null</td><td>null</td><td>&quot;2015&quot;</td><td>null</td><td>null</td><td>null</td><td>true</td><td>true</td><td>null</td><td>null</td><td>null</td><td>null</td><td>null</td><td>null</td><td>null</td><td>null</td><td>&hellip;</td><td>null</td><td>&quot;Prototype&quot;</td><td>&quot;English&quot;</td><td>&quot;prototype&quot;</td><td>null</td><td>null</td><td>null</td><td>&quot;{10}&quot;</td><td>10.0</td><td>&quot;Woodcaller Aut…</td><td>&quot;292&quot;</td><td>null</td><td>null</td><td>null</td><td>null</td><td>null</td><td>&quot;8&quot;</td><td>&quot;BRO, PRM&quot;</td><td>null</td><td>&quot;rare&quot;</td><td>null</td><td>null</td><td>&quot;oval&quot;</td><td>&quot;BRO&quot;</td><td>null</td><td>null</td><td>&quot;{&quot;nonfoil&quot;: [&quot;…</td><td>null</td><td>&quot;Construct&quot;</td><td>&quot;&quot;</td><td>&quot;Prototype {2}{…</td><td>&quot;8&quot;</td><td>&quot;Artifact Creat…</td><td>&quot;Artifact, Crea…</td><td>&quot;a89e0ffd-5b3b-…</td><td>&quot;135aeec4-f811-…</td><td>null</td></tr><tr><td>&quot;Ryan Pancoast&quot;</td><td>&quot;89cc9475-dda2-…</td><td>null</td><td>null</td><td>&quot;arena, mtgo, p…</td><td>null</td><td>&quot;black&quot;</td><td>null</td><td>&quot;G&quot;</td><td>null</td><td>&quot;&quot;</td><td>null</td><td>null</td><td>15438.0</td><td>null</td><td>null</td><td>null</td><td>null</td><td>null</td><td>&quot;nonfoil, foil&quot;</td><td>null</td><td>null</td><td>&quot;extendedart&quot;</td><td>&quot;2015&quot;</td><td>null</td><td>null</td><td>null</td><td>true</td><td>true</td><td>null</td><td>null</td><td>null</td><td>null</td><td>null</td><td>null</td><td>null</td><td>null</td><td>&hellip;</td><td>null</td><td>&quot;Prototype&quot;</td><td>&quot;English&quot;</td><td>&quot;prototype&quot;</td><td>null</td><td>null</td><td>null</td><td>&quot;{10}&quot;</td><td>10.0</td><td>&quot;Woodcaller Aut…</td><td>&quot;377&quot;</td><td>null</td><td>null</td><td>null</td><td>null</td><td>null</td><td>&quot;8&quot;</td><td>&quot;BRO, PRM&quot;</td><td>&quot;boosterfun&quot;</td><td>&quot;rare&quot;</td><td>null</td><td>null</td><td>&quot;oval&quot;</td><td>&quot;BRO&quot;</td><td>null</td><td>null</td><td>&quot;{&quot;foil&quot;: [&quot;5d7…</td><td>null</td><td>&quot;Construct&quot;</td><td>&quot;&quot;</td><td>&quot;Prototype {2}{…</td><td>&quot;8&quot;</td><td>&quot;Artifact Creat…</td><td>&quot;Artifact, Crea…</td><td>&quot;135aeec4-f811-…</td><td>&quot;a89e0ffd-5b3b-…</td><td>null</td></tr><tr><td>&quot;Josu Hernaiz&quot;</td><td>&quot;74246024-92b4-…</td><td>null</td><td>null</td><td>&quot;mtgo, paper&quot;</td><td>null</td><td>&quot;black&quot;</td><td>null</td><td>&quot;B&quot;</td><td>null</td><td>&quot;B&quot;</td><td>null</td><td>null</td><td>11358.0</td><td>0.11</td><td>null</td><td>null</td><td>null</td><td>null</td><td>&quot;nonfoil&quot;</td><td>null</td><td>null</td><td>null</td><td>&quot;1997&quot;</td><td>null</td><td>null</td><td>null</td><td>false</td><td>true</td><td>null</td><td>null</td><td>null</td><td>null</td><td>null</td><td>null</td><td>null</td><td>null</td><td>&hellip;</td><td>null</td><td>&quot;Flash&quot;</td><td>&quot;English&quot;</td><td>&quot;normal&quot;</td><td>null</td><td>null</td><td>null</td><td>&quot;{B}{B}&quot;</td><td>2.0</td><td>&quot;Wreck Hunter&quot;</td><td>&quot;11&quot;</td><td>null</td><td>null</td><td>&quot;Flash\\nWhen Wr…</td><td>&quot;Creature — Hum…</td><td>null</td><td>&quot;2&quot;</td><td>&quot;BRC, PRM&quot;</td><td>null</td><td>&quot;rare&quot;</td><td>null</td><td>null</td><td>null</td><td>&quot;BRC&quot;</td><td>null</td><td>null</td><td>&quot;{&quot;nonfoil&quot;: [&quot;…</td><td>null</td><td>&quot;Human, Artific…</td><td>&quot;&quot;</td><td>&quot;Flash\\nWhen Wr…</td><td>&quot;2&quot;</td><td>&quot;Creature — Hum…</td><td>&quot;Creature&quot;</td><td>&quot;7f1f230b-9036-…</td><td>&quot;45ac6c4c-907e-…</td><td>null</td></tr><tr><td>&quot;Josu Hernaiz&quot;</td><td>&quot;74246024-92b4-…</td><td>null</td><td>null</td><td>&quot;paper&quot;</td><td>null</td><td>&quot;black&quot;</td><td>null</td><td>&quot;B&quot;</td><td>null</td><td>&quot;B&quot;</td><td>null</td><td>null</td><td>11358.0</td><td>0.11</td><td>null</td><td>null</td><td>null</td><td>null</td><td>&quot;nonfoil&quot;</td><td>null</td><td>null</td><td>&quot;extendedart&quot;</td><td>&quot;2015&quot;</td><td>null</td><td>null</td><td>null</td><td>false</td><td>true</td><td>null</td><td>null</td><td>null</td><td>null</td><td>null</td><td>null</td><td>null</td><td>null</td><td>&hellip;</td><td>null</td><td>&quot;Flash&quot;</td><td>&quot;English&quot;</td><td>&quot;normal&quot;</td><td>null</td><td>null</td><td>null</td><td>&quot;{B}{B}&quot;</td><td>2.0</td><td>&quot;Wreck Hunter&quot;</td><td>&quot;58&quot;</td><td>null</td><td>null</td><td>&quot;Flash\\nWhen Wr…</td><td>&quot;Creature — Hum…</td><td>null</td><td>&quot;2&quot;</td><td>&quot;BRC, PRM&quot;</td><td>&quot;boosterfun&quot;</td><td>&quot;rare&quot;</td><td>null</td><td>null</td><td>&quot;oval&quot;</td><td>&quot;BRC&quot;</td><td>null</td><td>null</td><td>&quot;{&quot;nonfoil&quot;: [&quot;…</td><td>null</td><td>&quot;Human, Artific…</td><td>&quot;&quot;</td><td>&quot;Flash\\nWhen Wr…</td><td>&quot;2&quot;</td><td>&quot;Creature — Hum…</td><td>&quot;Creature&quot;</td><td>&quot;45ac6c4c-907e-…</td><td>&quot;7f1f230b-9036-…</td><td>null</td></tr></tbody></table></div>"
      ],
      "text/plain": [
       "shape: (268, 78)\n",
       "┌───────────┬───────────┬───────────┬───────────┬───┬───────────┬───────────┬───────────┬──────────┐\n",
       "│ artist    ┆ artistIds ┆ asciiName ┆ attractio ┆ … ┆ types     ┆ uuid      ┆ variation ┆ watermar │\n",
       "│ ---       ┆ ---       ┆ ---       ┆ nLights   ┆   ┆ ---       ┆ ---       ┆ s         ┆ k        │\n",
       "│ str       ┆ str       ┆ str       ┆ ---       ┆   ┆ str       ┆ str       ┆ ---       ┆ ---      │\n",
       "│           ┆           ┆           ┆ str       ┆   ┆           ┆           ┆ str       ┆ str      │\n",
       "╞═══════════╪═══════════╪═══════════╪═══════════╪═══╪═══════════╪═══════════╪═══════════╪══════════╡\n",
       "│ Kekai     ┆ 4b771085- ┆ null      ┆ null      ┆ … ┆ Artifact, ┆ 7047d44f- ┆ 7a16b020- ┆ null     │\n",
       "│ Kotaki    ┆ c049-4308 ┆           ┆           ┆   ┆ Creature  ┆ 0eb7-5a0b ┆ 5aef-5d65 ┆          │\n",
       "│           ┆ -930d-ec9 ┆           ┆           ┆   ┆           ┆ -9a2b-7ef ┆ -bcae-69d ┆          │\n",
       "│           ┆ 665f8…    ┆           ┆           ┆   ┆           ┆ 51448…    ┆ e0509…    ┆          │\n",
       "│ Kekai     ┆ 4b771085- ┆ null      ┆ null      ┆ … ┆ Artifact, ┆ 7a16b020- ┆ 7047d44f- ┆ null     │\n",
       "│ Kotaki    ┆ c049-4308 ┆           ┆           ┆   ┆ Creature  ┆ 5aef-5d65 ┆ 0eb7-5a0b ┆          │\n",
       "│           ┆ -930d-ec9 ┆           ┆           ┆   ┆           ┆ -bcae-69d ┆ -9a2b-7ef ┆          │\n",
       "│           ┆ 665f8…    ┆           ┆           ┆   ┆           ┆ e0509…    ┆ 51448…    ┆          │\n",
       "│ Leon      ┆ 669b8b90- ┆ null      ┆ null      ┆ … ┆ Artifact, ┆ 5228982e- ┆ c4a8e16e- ┆ null     │\n",
       "│ Tukker    ┆ 758d-4f9e ┆           ┆           ┆   ┆ Creature  ┆ 997d-5edc ┆ d4cc-5e46 ┆          │\n",
       "│           ┆ -b4f7-98c ┆           ┆           ┆   ┆           ┆ -9d3d-a29 ┆ -945e-771 ┆          │\n",
       "│           ┆ d6742…    ┆           ┆           ┆   ┆           ┆ 25250…    ┆ 7007d…    ┆          │\n",
       "│ Leon      ┆ 669b8b90- ┆ null      ┆ null      ┆ … ┆ Artifact, ┆ c4a8e16e- ┆ 5228982e- ┆ null     │\n",
       "│ Tukker    ┆ 758d-4f9e ┆           ┆           ┆   ┆ Creature  ┆ d4cc-5e46 ┆ 997d-5edc ┆          │\n",
       "│           ┆ -b4f7-98c ┆           ┆           ┆   ┆           ┆ -945e-771 ┆ -9d3d-a29 ┆          │\n",
       "│           ┆ d6742…    ┆           ┆           ┆   ┆           ┆ 7007d…    ┆ 25250…    ┆          │\n",
       "│ Kieran    ┆ aa7e89ed- ┆ null      ┆ null      ┆ … ┆ Creature  ┆ cf08de10- ┆ 40d68e84- ┆ wotc     │\n",
       "│ Yanner    ┆ d294-4633 ┆           ┆           ┆   ┆           ┆ eeba-542e ┆ 5538-599e ┆          │\n",
       "│           ┆ -9057-ce0 ┆           ┆           ┆   ┆           ┆ -ad88-21f ┆ -a47b-595 ┆          │\n",
       "│           ┆ 4dacf…    ┆           ┆           ┆   ┆           ┆ 3b1ff…    ┆ a0815…    ┆          │\n",
       "│ …         ┆ …         ┆ …         ┆ …         ┆ … ┆ …         ┆ …         ┆ …         ┆ …        │\n",
       "│ Evan      ┆ eea284ce- ┆ null      ┆ null      ┆ … ┆ Artifact  ┆ 78bfcb1a- ┆ 1c283607- ┆ null     │\n",
       "│ Shipard   ┆ 9377-49c1 ┆           ┆           ┆   ┆           ┆ 4379-5731 ┆ 16fc-51e1 ┆          │\n",
       "│           ┆ -9d96-f34 ┆           ┆           ┆   ┆           ┆ -a4cb-7b3 ┆ -8d57-212 ┆          │\n",
       "│           ┆ b7d48…    ┆           ┆           ┆   ┆           ┆ b81ec…    ┆ 442be…    ┆          │\n",
       "│ Ryan      ┆ 89cc9475- ┆ null      ┆ null      ┆ … ┆ Artifact, ┆ a89e0ffd- ┆ 135aeec4- ┆ null     │\n",
       "│ Pancoast  ┆ dda2-4d13 ┆           ┆           ┆   ┆ Creature  ┆ 5b3b-5227 ┆ f811-5944 ┆          │\n",
       "│           ┆ -bf88-54b ┆           ┆           ┆   ┆           ┆ -8818-e42 ┆ -afca-a45 ┆          │\n",
       "│           ┆ 92867…    ┆           ┆           ┆   ┆           ┆ 70e8f…    ┆ f163c…    ┆          │\n",
       "│ Ryan      ┆ 89cc9475- ┆ null      ┆ null      ┆ … ┆ Artifact, ┆ 135aeec4- ┆ a89e0ffd- ┆ null     │\n",
       "│ Pancoast  ┆ dda2-4d13 ┆           ┆           ┆   ┆ Creature  ┆ f811-5944 ┆ 5b3b-5227 ┆          │\n",
       "│           ┆ -bf88-54b ┆           ┆           ┆   ┆           ┆ -afca-a45 ┆ -8818-e42 ┆          │\n",
       "│           ┆ 92867…    ┆           ┆           ┆   ┆           ┆ f163c…    ┆ 70e8f…    ┆          │\n",
       "│ Josu      ┆ 74246024- ┆ null      ┆ null      ┆ … ┆ Creature  ┆ 7f1f230b- ┆ 45ac6c4c- ┆ null     │\n",
       "│ Hernaiz   ┆ 92b4-43d0 ┆           ┆           ┆   ┆           ┆ 9036-5672 ┆ 907e-57b2 ┆          │\n",
       "│           ┆ -a5af-a3f ┆           ┆           ┆   ┆           ┆ -926f-4d8 ┆ -8564-15e ┆          │\n",
       "│           ┆ 9f2a3…    ┆           ┆           ┆   ┆           ┆ 1da7c…    ┆ 516fe…    ┆          │\n",
       "│ Josu      ┆ 74246024- ┆ null      ┆ null      ┆ … ┆ Creature  ┆ 45ac6c4c- ┆ 7f1f230b- ┆ null     │\n",
       "│ Hernaiz   ┆ 92b4-43d0 ┆           ┆           ┆   ┆           ┆ 907e-57b2 ┆ 9036-5672 ┆          │\n",
       "│           ┆ -a5af-a3f ┆           ┆           ┆   ┆           ┆ -8564-15e ┆ -926f-4d8 ┆          │\n",
       "│           ┆ 9f2a3…    ┆           ┆           ┆   ┆           ┆ 516fe…    ┆ 1da7c…    ┆          │\n",
       "└───────────┴───────────┴───────────┴───────────┴───┴───────────┴───────────┴───────────┴──────────┘"
      ]
     },
     "execution_count": 9,
     "metadata": {},
     "output_type": "execute_result"
    }
   ],
   "source": [
    "brothers_war_cards = df.filter(pl.col(\"setCode\").is_in([\"BRO\", \"BRC\"]))\n",
    "\n",
    "duplicated_brothers_war_cards = brothers_war_cards.filter(pl.col(\"setCode\").is_in([\"BRO\", \"BRC\"])).group_by(\"name\").len().filter(pl.col(\"len\") > 1)\n",
    "\n",
    "brothers_war_cards.filter(pl.col(\"name\").is_in(duplicated_brothers_war_cards[\"name\"])).sort(\"name\")"
   ]
  },
  {
   "cell_type": "code",
   "execution_count": 10,
   "metadata": {},
   "outputs": [
    {
     "data": {
      "text/html": [
       "<div><style>\n",
       ".dataframe > thead > tr,\n",
       ".dataframe > tbody > tr {\n",
       "  text-align: right;\n",
       "  white-space: pre-wrap;\n",
       "}\n",
       "</style>\n",
       "<small>shape: (12, 78)</small><table border=\"1\" class=\"dataframe\"><thead><tr><th>artist</th><th>artistIds</th><th>asciiName</th><th>attractionLights</th><th>availability</th><th>boosterTypes</th><th>borderColor</th><th>cardParts</th><th>colorIdentity</th><th>colorIndicator</th><th>colors</th><th>defense</th><th>duelDeck</th><th>edhrecRank</th><th>edhrecSaltiness</th><th>faceConvertedManaCost</th><th>faceFlavorName</th><th>faceManaValue</th><th>faceName</th><th>finishes</th><th>flavorName</th><th>flavorText</th><th>frameEffects</th><th>frameVersion</th><th>hand</th><th>hasAlternativeDeckLimit</th><th>hasContentWarning</th><th>hasFoil</th><th>hasNonFoil</th><th>isAlternative</th><th>isFullArt</th><th>isFunny</th><th>isOnlineOnly</th><th>isOversized</th><th>isPromo</th><th>isRebalanced</th><th>isReprint</th><th>&hellip;</th><th>isTimeshifted</th><th>keywords</th><th>language</th><th>layout</th><th>leadershipSkills</th><th>life</th><th>loyalty</th><th>manaCost</th><th>manaValue</th><th>name</th><th>number</th><th>originalPrintings</th><th>originalReleaseDate</th><th>originalText</th><th>originalType</th><th>otherFaceIds</th><th>power</th><th>printings</th><th>promoTypes</th><th>rarity</th><th>rebalancedPrintings</th><th>relatedCards</th><th>securityStamp</th><th>setCode</th><th>side</th><th>signature</th><th>sourceProducts</th><th>subsets</th><th>subtypes</th><th>supertypes</th><th>text</th><th>toughness</th><th>type</th><th>types</th><th>uuid</th><th>variations</th><th>watermark</th></tr><tr><td>str</td><td>str</td><td>str</td><td>str</td><td>str</td><td>str</td><td>str</td><td>str</td><td>str</td><td>str</td><td>str</td><td>str</td><td>str</td><td>f64</td><td>f64</td><td>f64</td><td>str</td><td>f64</td><td>str</td><td>str</td><td>str</td><td>str</td><td>str</td><td>str</td><td>str</td><td>bool</td><td>bool</td><td>bool</td><td>bool</td><td>bool</td><td>bool</td><td>bool</td><td>bool</td><td>bool</td><td>bool</td><td>bool</td><td>bool</td><td>&hellip;</td><td>bool</td><td>str</td><td>str</td><td>str</td><td>str</td><td>str</td><td>str</td><td>str</td><td>f64</td><td>str</td><td>str</td><td>str</td><td>str</td><td>str</td><td>str</td><td>str</td><td>str</td><td>str</td><td>str</td><td>str</td><td>str</td><td>str</td><td>str</td><td>str</td><td>str</td><td>str</td><td>str</td><td>str</td><td>str</td><td>str</td><td>str</td><td>str</td><td>str</td><td>str</td><td>str</td><td>str</td><td>str</td></tr></thead><tbody><tr><td>&quot;Campbell White…</td><td>&quot;d281eab4-463a-…</td><td>null</td><td>null</td><td>&quot;arena&quot;</td><td>null</td><td>&quot;black&quot;</td><td>null</td><td>&quot;R&quot;</td><td>null</td><td>&quot;R&quot;</td><td>null</td><td>null</td><td>null</td><td>null</td><td>null</td><td>null</td><td>null</td><td>null</td><td>&quot;nonfoil&quot;</td><td>null</td><td>null</td><td>null</td><td>&quot;2015&quot;</td><td>null</td><td>null</td><td>null</td><td>false</td><td>true</td><td>true</td><td>null</td><td>null</td><td>true</td><td>null</td><td>null</td><td>true</td><td>null</td><td>&hellip;</td><td>null</td><td>null</td><td>&quot;English&quot;</td><td>&quot;normal&quot;</td><td>null</td><td>null</td><td>null</td><td>&quot;{2}{R}&quot;</td><td>3.0</td><td>&quot;A-Excavation E…</td><td>&quot;A-132&quot;</td><td>&quot;5831d344-544b-…</td><td>null</td><td>null</td><td>null</td><td>null</td><td>null</td><td>&quot;BRO&quot;</td><td>&quot;rebalanced, al…</td><td>&quot;common&quot;</td><td>null</td><td>null</td><td>&quot;arena&quot;</td><td>&quot;BRO&quot;</td><td>null</td><td>null</td><td>null</td><td>null</td><td>&quot;&quot;</td><td>&quot;&quot;</td><td>&quot;Excavation Exp…</td><td>null</td><td>&quot;Instant&quot;</td><td>&quot;Instant&quot;</td><td>&quot;9152dd72-2eb9-…</td><td>null</td><td>null</td></tr><tr><td>&quot;Fajareka Setia…</td><td>&quot;0cc534e0-be18-…</td><td>null</td><td>null</td><td>&quot;arena&quot;</td><td>null</td><td>&quot;black&quot;</td><td>null</td><td>&quot;U&quot;</td><td>null</td><td>&quot;U&quot;</td><td>null</td><td>null</td><td>null</td><td>null</td><td>null</td><td>null</td><td>null</td><td>null</td><td>&quot;nonfoil&quot;</td><td>null</td><td>null</td><td>null</td><td>&quot;2015&quot;</td><td>null</td><td>null</td><td>null</td><td>false</td><td>true</td><td>true</td><td>null</td><td>null</td><td>true</td><td>null</td><td>null</td><td>true</td><td>null</td><td>&hellip;</td><td>null</td><td>&quot;Vigilance&quot;</td><td>&quot;English&quot;</td><td>&quot;normal&quot;</td><td>null</td><td>null</td><td>null</td><td>&quot;{2}{U}{U}&quot;</td><td>4.0</td><td>&quot;A-Geology Enth…</td><td>&quot;A-289&quot;</td><td>&quot;00a2b46d-8f74-…</td><td>null</td><td>null</td><td>null</td><td>null</td><td>&quot;3&quot;</td><td>&quot;BRO&quot;</td><td>&quot;rebalanced, al…</td><td>&quot;rare&quot;</td><td>null</td><td>null</td><td>&quot;arena&quot;</td><td>&quot;BRO&quot;</td><td>null</td><td>null</td><td>null</td><td>null</td><td>&quot;Human, Artific…</td><td>&quot;&quot;</td><td>&quot;Vigilance\\nAt …</td><td>&quot;4&quot;</td><td>&quot;Creature — Hum…</td><td>&quot;Creature&quot;</td><td>&quot;7c6bb20e-7c85-…</td><td>null</td><td>null</td></tr><tr><td>&quot;Christian Dimi…</td><td>&quot;c4c9b5ea-4b31-…</td><td>null</td><td>null</td><td>&quot;arena&quot;</td><td>null</td><td>&quot;black&quot;</td><td>null</td><td>&quot;&quot;</td><td>null</td><td>&quot;&quot;</td><td>null</td><td>null</td><td>null</td><td>null</td><td>null</td><td>null</td><td>null</td><td>null</td><td>&quot;nonfoil&quot;</td><td>null</td><td>null</td><td>null</td><td>&quot;2015&quot;</td><td>null</td><td>null</td><td>null</td><td>false</td><td>true</td><td>true</td><td>null</td><td>null</td><td>true</td><td>null</td><td>null</td><td>true</td><td>null</td><td>&hellip;</td><td>null</td><td>null</td><td>&quot;English&quot;</td><td>&quot;normal&quot;</td><td>null</td><td>null</td><td>null</td><td>null</td><td>0.0</td><td>&quot;A-Hall of Tags…</td><td>&quot;A-263&quot;</td><td>&quot;88ca67b5-006e-…</td><td>null</td><td>null</td><td>null</td><td>null</td><td>null</td><td>&quot;BRO&quot;</td><td>&quot;rebalanced, al…</td><td>&quot;rare&quot;</td><td>null</td><td>null</td><td>&quot;arena&quot;</td><td>&quot;BRO&quot;</td><td>null</td><td>null</td><td>null</td><td>null</td><td>&quot;&quot;</td><td>&quot;&quot;</td><td>&quot;{T}: Add {C}.\\…</td><td>null</td><td>&quot;Land&quot;</td><td>&quot;Land&quot;</td><td>&quot;328cbb1d-14b3-…</td><td>null</td><td>null</td></tr><tr><td>&quot;Izzy&quot;</td><td>&quot;2c3d2473-ff5d-…</td><td>null</td><td>null</td><td>&quot;arena&quot;</td><td>null</td><td>&quot;black&quot;</td><td>null</td><td>&quot;G&quot;</td><td>null</td><td>&quot;&quot;</td><td>null</td><td>null</td><td>null</td><td>null</td><td>null</td><td>null</td><td>null</td><td>null</td><td>&quot;nonfoil&quot;</td><td>null</td><td>null</td><td>null</td><td>&quot;2015&quot;</td><td>null</td><td>null</td><td>null</td><td>false</td><td>true</td><td>true</td><td>null</td><td>null</td><td>true</td><td>null</td><td>null</td><td>true</td><td>null</td><td>&hellip;</td><td>null</td><td>null</td><td>&quot;English&quot;</td><td>&quot;normal&quot;</td><td>null</td><td>null</td><td>null</td><td>&quot;{1}&quot;</td><td>1.0</td><td>&quot;A-Haywire Mite…</td><td>&quot;A-199&quot;</td><td>&quot;4cc2e974-bd0c-…</td><td>null</td><td>null</td><td>null</td><td>null</td><td>&quot;1&quot;</td><td>&quot;BRO&quot;</td><td>&quot;rebalanced, al…</td><td>&quot;uncommon&quot;</td><td>null</td><td>null</td><td>&quot;arena&quot;</td><td>&quot;BRO&quot;</td><td>null</td><td>null</td><td>null</td><td>null</td><td>&quot;Insect&quot;</td><td>&quot;&quot;</td><td>&quot;When Haywire M…</td><td>&quot;2&quot;</td><td>&quot;Artifact Creat…</td><td>&quot;Artifact, Crea…</td><td>&quot;f0737feb-71aa-…</td><td>null</td><td>null</td></tr><tr><td>&quot;Igor Kieryluk&quot;</td><td>&quot;9c3e9d17-509f-…</td><td>null</td><td>null</td><td>&quot;arena&quot;</td><td>null</td><td>&quot;black&quot;</td><td>null</td><td>&quot;U&quot;</td><td>null</td><td>&quot;U&quot;</td><td>null</td><td>null</td><td>null</td><td>null</td><td>null</td><td>null</td><td>null</td><td>null</td><td>&quot;nonfoil&quot;</td><td>null</td><td>null</td><td>null</td><td>&quot;2015&quot;</td><td>null</td><td>null</td><td>null</td><td>false</td><td>true</td><td>true</td><td>null</td><td>null</td><td>true</td><td>null</td><td>null</td><td>true</td><td>null</td><td>&hellip;</td><td>null</td><td>&quot;Enchant&quot;</td><td>&quot;English&quot;</td><td>&quot;normal&quot;</td><td>null</td><td>null</td><td>null</td><td>&quot;{2}{U}&quot;</td><td>3.0</td><td>&quot;A-Mightstone&#x27;s…</td><td>&quot;A-58&quot;</td><td>&quot;1d8cbd80-5292-…</td><td>null</td><td>null</td><td>null</td><td>null</td><td>null</td><td>&quot;BRO&quot;</td><td>&quot;rebalanced, al…</td><td>&quot;common&quot;</td><td>null</td><td>null</td><td>&quot;arena&quot;</td><td>&quot;BRO&quot;</td><td>null</td><td>null</td><td>null</td><td>null</td><td>&quot;Aura&quot;</td><td>&quot;&quot;</td><td>&quot;Enchant artifa…</td><td>null</td><td>&quot;Enchantment — …</td><td>&quot;Enchantment&quot;</td><td>&quot;30b7cd74-4998-…</td><td>null</td><td>null</td></tr><tr><td>&hellip;</td><td>&hellip;</td><td>&hellip;</td><td>&hellip;</td><td>&hellip;</td><td>&hellip;</td><td>&hellip;</td><td>&hellip;</td><td>&hellip;</td><td>&hellip;</td><td>&hellip;</td><td>&hellip;</td><td>&hellip;</td><td>&hellip;</td><td>&hellip;</td><td>&hellip;</td><td>&hellip;</td><td>&hellip;</td><td>&hellip;</td><td>&hellip;</td><td>&hellip;</td><td>&hellip;</td><td>&hellip;</td><td>&hellip;</td><td>&hellip;</td><td>&hellip;</td><td>&hellip;</td><td>&hellip;</td><td>&hellip;</td><td>&hellip;</td><td>&hellip;</td><td>&hellip;</td><td>&hellip;</td><td>&hellip;</td><td>&hellip;</td><td>&hellip;</td><td>&hellip;</td><td>&hellip;</td><td>&hellip;</td><td>&hellip;</td><td>&hellip;</td><td>&hellip;</td><td>&hellip;</td><td>&hellip;</td><td>&hellip;</td><td>&hellip;</td><td>&hellip;</td><td>&hellip;</td><td>&hellip;</td><td>&hellip;</td><td>&hellip;</td><td>&hellip;</td><td>&hellip;</td><td>&hellip;</td><td>&hellip;</td><td>&hellip;</td><td>&hellip;</td><td>&hellip;</td><td>&hellip;</td><td>&hellip;</td><td>&hellip;</td><td>&hellip;</td><td>&hellip;</td><td>&hellip;</td><td>&hellip;</td><td>&hellip;</td><td>&hellip;</td><td>&hellip;</td><td>&hellip;</td><td>&hellip;</td><td>&hellip;</td><td>&hellip;</td><td>&hellip;</td><td>&hellip;</td><td>&hellip;</td></tr><tr><td>&quot;Campbell White…</td><td>&quot;d281eab4-463a-…</td><td>null</td><td>null</td><td>&quot;arena&quot;</td><td>null</td><td>&quot;black&quot;</td><td>null</td><td>&quot;U&quot;</td><td>null</td><td>&quot;U&quot;</td><td>null</td><td>null</td><td>null</td><td>null</td><td>null</td><td>null</td><td>null</td><td>null</td><td>&quot;nonfoil&quot;</td><td>null</td><td>null</td><td>null</td><td>&quot;2015&quot;</td><td>null</td><td>null</td><td>null</td><td>false</td><td>true</td><td>true</td><td>null</td><td>null</td><td>true</td><td>null</td><td>null</td><td>true</td><td>null</td><td>&hellip;</td><td>null</td><td>null</td><td>&quot;English&quot;</td><td>&quot;normal&quot;</td><td>null</td><td>null</td><td>null</td><td>&quot;{2}{U}&quot;</td><td>3.0</td><td>&quot;A-Splitting th…</td><td>&quot;A-63&quot;</td><td>&quot;9ae558eb-5fc1-…</td><td>null</td><td>null</td><td>null</td><td>null</td><td>null</td><td>&quot;BRO&quot;</td><td>&quot;rebalanced, al…</td><td>&quot;uncommon&quot;</td><td>null</td><td>null</td><td>&quot;arena&quot;</td><td>&quot;BRO&quot;</td><td>null</td><td>null</td><td>null</td><td>null</td><td>&quot;&quot;</td><td>&quot;&quot;</td><td>&quot;As an addition…</td><td>null</td><td>&quot;Instant&quot;</td><td>&quot;Instant&quot;</td><td>&quot;ed0f04ca-afa3-…</td><td>null</td><td>null</td></tr><tr><td>&quot;Joshua Cairos&quot;</td><td>&quot;2b8abf3a-262e-…</td><td>null</td><td>null</td><td>&quot;arena&quot;</td><td>null</td><td>&quot;black&quot;</td><td>null</td><td>&quot;&quot;</td><td>null</td><td>&quot;&quot;</td><td>null</td><td>null</td><td>null</td><td>null</td><td>null</td><td>null</td><td>null</td><td>null</td><td>&quot;nonfoil&quot;</td><td>null</td><td>null</td><td>null</td><td>&quot;2015&quot;</td><td>null</td><td>null</td><td>null</td><td>false</td><td>true</td><td>true</td><td>null</td><td>null</td><td>true</td><td>null</td><td>null</td><td>true</td><td>null</td><td>&hellip;</td><td>null</td><td>&quot;Reach&quot;</td><td>&quot;English&quot;</td><td>&quot;normal&quot;</td><td>null</td><td>null</td><td>null</td><td>&quot;{3}&quot;</td><td>3.0</td><td>&quot;A-Thran Spider…</td><td>&quot;A-254&quot;</td><td>&quot;372e83af-fdcf-…</td><td>null</td><td>null</td><td>null</td><td>null</td><td>&quot;2&quot;</td><td>&quot;BRO&quot;</td><td>&quot;rebalanced, al…</td><td>&quot;rare&quot;</td><td>null</td><td>null</td><td>&quot;arena&quot;</td><td>&quot;BRO&quot;</td><td>null</td><td>null</td><td>null</td><td>null</td><td>&quot;Spider&quot;</td><td>&quot;&quot;</td><td>&quot;Reach\\nWhen Th…</td><td>&quot;4&quot;</td><td>&quot;Artifact Creat…</td><td>&quot;Artifact, Crea…</td><td>&quot;19a8cbcb-c954-…</td><td>null</td><td>null</td></tr><tr><td>&quot;Dominik Mayer&quot;</td><td>&quot;c3439c4a-1fee-…</td><td>null</td><td>null</td><td>&quot;arena&quot;</td><td>null</td><td>&quot;black&quot;</td><td>null</td><td>&quot;U&quot;</td><td>null</td><td>&quot;U&quot;</td><td>null</td><td>null</td><td>null</td><td>null</td><td>null</td><td>null</td><td>null</td><td>null</td><td>&quot;nonfoil&quot;</td><td>null</td><td>null</td><td>null</td><td>&quot;2015&quot;</td><td>null</td><td>null</td><td>null</td><td>false</td><td>true</td><td>true</td><td>null</td><td>null</td><td>true</td><td>null</td><td>null</td><td>true</td><td>null</td><td>&hellip;</td><td>null</td><td>&quot;Scry&quot;</td><td>&quot;English&quot;</td><td>&quot;normal&quot;</td><td>null</td><td>null</td><td>null</td><td>&quot;{2}{U}{U}&quot;</td><td>4.0</td><td>&quot;A-Urza&#x27;s Comma…</td><td>&quot;A-70&quot;</td><td>&quot;0f4988ce-d720-…</td><td>null</td><td>null</td><td>null</td><td>null</td><td>null</td><td>&quot;BRO&quot;</td><td>&quot;rebalanced, al…</td><td>&quot;rare&quot;</td><td>null</td><td>null</td><td>&quot;arena&quot;</td><td>&quot;BRO&quot;</td><td>null</td><td>null</td><td>null</td><td>null</td><td>&quot;&quot;</td><td>&quot;&quot;</td><td>&quot;Choose two —\\n…</td><td>null</td><td>&quot;Instant&quot;</td><td>&quot;Instant&quot;</td><td>&quot;60ab7bf9-5870-…</td><td>null</td><td>null</td></tr><tr><td>&quot;Donato Giancol…</td><td>&quot;90332db2-aecb-…</td><td>null</td><td>null</td><td>&quot;arena&quot;</td><td>null</td><td>&quot;black&quot;</td><td>null</td><td>&quot;U&quot;</td><td>null</td><td>&quot;U&quot;</td><td>null</td><td>null</td><td>null</td><td>null</td><td>null</td><td>null</td><td>null</td><td>null</td><td>&quot;nonfoil&quot;</td><td>null</td><td>null</td><td>null</td><td>&quot;2015&quot;</td><td>null</td><td>null</td><td>null</td><td>false</td><td>true</td><td>true</td><td>null</td><td>null</td><td>true</td><td>null</td><td>null</td><td>true</td><td>null</td><td>&hellip;</td><td>null</td><td>null</td><td>&quot;English&quot;</td><td>&quot;normal&quot;</td><td>&quot;{&quot;brawl&quot;: true…</td><td>null</td><td>null</td><td>&quot;{1}{U}&quot;</td><td>2.0</td><td>&quot;A-Urza, Powers…</td><td>&quot;A-69&quot;</td><td>&quot;8bae54a4-9288-…</td><td>null</td><td>null</td><td>null</td><td>null</td><td>&quot;1&quot;</td><td>&quot;BRO&quot;</td><td>&quot;rebalanced, al…</td><td>&quot;uncommon&quot;</td><td>null</td><td>null</td><td>&quot;arena&quot;</td><td>&quot;BRO&quot;</td><td>null</td><td>null</td><td>null</td><td>null</td><td>&quot;Human, Artific…</td><td>&quot;Legendary&quot;</td><td>&quot;{1}, {T}: Draw…</td><td>&quot;3&quot;</td><td>&quot;Legendary Crea…</td><td>&quot;Creature&quot;</td><td>&quot;d8241e4f-dd2f-…</td><td>null</td><td>null</td></tr><tr><td>&quot;Dominik Mayer&quot;</td><td>&quot;c3439c4a-1fee-…</td><td>null</td><td>null</td><td>&quot;arena&quot;</td><td>null</td><td>&quot;black&quot;</td><td>null</td><td>&quot;R&quot;</td><td>null</td><td>&quot;R&quot;</td><td>null</td><td>null</td><td>null</td><td>null</td><td>null</td><td>null</td><td>null</td><td>null</td><td>&quot;nonfoil&quot;</td><td>null</td><td>null</td><td>null</td><td>&quot;2015&quot;</td><td>null</td><td>null</td><td>null</td><td>false</td><td>true</td><td>true</td><td>null</td><td>null</td><td>true</td><td>null</td><td>null</td><td>true</td><td>null</td><td>&hellip;</td><td>null</td><td>null</td><td>&quot;English&quot;</td><td>&quot;normal&quot;</td><td>null</td><td>null</td><td>null</td><td>&quot;{2}{R}{R}&quot;</td><td>4.0</td><td>&quot;A-Visions of P…</td><td>&quot;A-156&quot;</td><td>&quot;7fb9f9e3-df5d-…</td><td>null</td><td>null</td><td>null</td><td>null</td><td>null</td><td>&quot;BRO&quot;</td><td>&quot;rebalanced, al…</td><td>&quot;rare&quot;</td><td>null</td><td>null</td><td>&quot;arena&quot;</td><td>&quot;BRO&quot;</td><td>null</td><td>null</td><td>null</td><td>null</td><td>&quot;&quot;</td><td>&quot;&quot;</td><td>&quot;At the beginni…</td><td>null</td><td>&quot;Enchantment&quot;</td><td>&quot;Enchantment&quot;</td><td>&quot;aced4594-ef5d-…</td><td>null</td><td>null</td></tr></tbody></table></div>"
      ],
      "text/plain": [
       "shape: (12, 78)\n",
       "┌───────────┬───────────┬───────────┬───────────┬───┬───────────┬───────────┬───────────┬──────────┐\n",
       "│ artist    ┆ artistIds ┆ asciiName ┆ attractio ┆ … ┆ types     ┆ uuid      ┆ variation ┆ watermar │\n",
       "│ ---       ┆ ---       ┆ ---       ┆ nLights   ┆   ┆ ---       ┆ ---       ┆ s         ┆ k        │\n",
       "│ str       ┆ str       ┆ str       ┆ ---       ┆   ┆ str       ┆ str       ┆ ---       ┆ ---      │\n",
       "│           ┆           ┆           ┆ str       ┆   ┆           ┆           ┆ str       ┆ str      │\n",
       "╞═══════════╪═══════════╪═══════════╪═══════════╪═══╪═══════════╪═══════════╪═══════════╪══════════╡\n",
       "│ Campbell  ┆ d281eab4- ┆ null      ┆ null      ┆ … ┆ Instant   ┆ 9152dd72- ┆ null      ┆ null     │\n",
       "│ White     ┆ 463a-4ba8 ┆           ┆           ┆   ┆           ┆ 2eb9-586c ┆           ┆          │\n",
       "│           ┆ -9039-894 ┆           ┆           ┆   ┆           ┆ -9abb-4e6 ┆           ┆          │\n",
       "│           ┆ 37379…    ┆           ┆           ┆   ┆           ┆ 8056d…    ┆           ┆          │\n",
       "│ Fajareka  ┆ 0cc534e0- ┆ null      ┆ null      ┆ … ┆ Creature  ┆ 7c6bb20e- ┆ null      ┆ null     │\n",
       "│ Setiawan  ┆ be18-4cb1 ┆           ┆           ┆   ┆           ┆ 7c85-5dae ┆           ┆          │\n",
       "│           ┆ -8521-50f ┆           ┆           ┆   ┆           ┆ -bf32-a5e ┆           ┆          │\n",
       "│           ┆ abd0d…    ┆           ┆           ┆   ┆           ┆ 6dffb…    ┆           ┆          │\n",
       "│ Christian ┆ c4c9b5ea- ┆ null      ┆ null      ┆ … ┆ Land      ┆ 328cbb1d- ┆ null      ┆ null     │\n",
       "│ Dimitrov  ┆ 4b31-40a0 ┆           ┆           ┆   ┆           ┆ 14b3-54ef ┆           ┆          │\n",
       "│           ┆ -8e40-d7d ┆           ┆           ┆   ┆           ┆ -9b09-32f ┆           ┆          │\n",
       "│           ┆ feae4…    ┆           ┆           ┆   ┆           ┆ 81451…    ┆           ┆          │\n",
       "│ Izzy      ┆ 2c3d2473- ┆ null      ┆ null      ┆ … ┆ Artifact, ┆ f0737feb- ┆ null      ┆ null     │\n",
       "│           ┆ ff5d-4309 ┆           ┆           ┆   ┆ Creature  ┆ 71aa-5803 ┆           ┆          │\n",
       "│           ┆ -8194-e0b ┆           ┆           ┆   ┆           ┆ -abcc-b04 ┆           ┆          │\n",
       "│           ┆ 2def2…    ┆           ┆           ┆   ┆           ┆ 85b46…    ┆           ┆          │\n",
       "│ Igor      ┆ 9c3e9d17- ┆ null      ┆ null      ┆ … ┆ Enchantme ┆ 30b7cd74- ┆ null      ┆ null     │\n",
       "│ Kieryluk  ┆ 509f-485c ┆           ┆           ┆   ┆ nt        ┆ 4998-5723 ┆           ┆          │\n",
       "│           ┆ -9360-46d ┆           ┆           ┆   ┆           ┆ -88c3-10e ┆           ┆          │\n",
       "│           ┆ 897ce…    ┆           ┆           ┆   ┆           ┆ d2889…    ┆           ┆          │\n",
       "│ …         ┆ …         ┆ …         ┆ …         ┆ … ┆ …         ┆ …         ┆ …         ┆ …        │\n",
       "│ Campbell  ┆ d281eab4- ┆ null      ┆ null      ┆ … ┆ Instant   ┆ ed0f04ca- ┆ null      ┆ null     │\n",
       "│ White     ┆ 463a-4ba8 ┆           ┆           ┆   ┆           ┆ afa3-5a09 ┆           ┆          │\n",
       "│           ┆ -9039-894 ┆           ┆           ┆   ┆           ┆ -a8c1-e9b ┆           ┆          │\n",
       "│           ┆ 37379…    ┆           ┆           ┆   ┆           ┆ fefb9…    ┆           ┆          │\n",
       "│ Joshua    ┆ 2b8abf3a- ┆ null      ┆ null      ┆ … ┆ Artifact, ┆ 19a8cbcb- ┆ null      ┆ null     │\n",
       "│ Cairos    ┆ 262e-492d ┆           ┆           ┆   ┆ Creature  ┆ c954-534f ┆           ┆          │\n",
       "│           ┆ -8ee5-5f3 ┆           ┆           ┆   ┆           ┆ -aa9e-385 ┆           ┆          │\n",
       "│           ┆ 3e09c…    ┆           ┆           ┆   ┆           ┆ 40bb6…    ┆           ┆          │\n",
       "│ Dominik   ┆ c3439c4a- ┆ null      ┆ null      ┆ … ┆ Instant   ┆ 60ab7bf9- ┆ null      ┆ null     │\n",
       "│ Mayer     ┆ 1fee-4e33 ┆           ┆           ┆   ┆           ┆ 5870-506a ┆           ┆          │\n",
       "│           ┆ -9b89-18d ┆           ┆           ┆   ┆           ┆ -b230-d0b ┆           ┆          │\n",
       "│           ┆ ac27a…    ┆           ┆           ┆   ┆           ┆ 614a6…    ┆           ┆          │\n",
       "│ Donato    ┆ 90332db2- ┆ null      ┆ null      ┆ … ┆ Creature  ┆ d8241e4f- ┆ null      ┆ null     │\n",
       "│ Giancola  ┆ aecb-4d79 ┆           ┆           ┆   ┆           ┆ dd2f-5edc ┆           ┆          │\n",
       "│           ┆ -917b-95c ┆           ┆           ┆   ┆           ┆ -a195-ac3 ┆           ┆          │\n",
       "│           ┆ beb8d…    ┆           ┆           ┆   ┆           ┆ b0fd4…    ┆           ┆          │\n",
       "│ Dominik   ┆ c3439c4a- ┆ null      ┆ null      ┆ … ┆ Enchantme ┆ aced4594- ┆ null      ┆ null     │\n",
       "│ Mayer     ┆ 1fee-4e33 ┆           ┆           ┆   ┆ nt        ┆ ef5d-5598 ┆           ┆          │\n",
       "│           ┆ -9b89-18d ┆           ┆           ┆   ┆           ┆ -924a-af4 ┆           ┆          │\n",
       "│           ┆ ac27a…    ┆           ┆           ┆   ┆           ┆ 268df…    ┆           ┆          │\n",
       "└───────────┴───────────┴───────────┴───────────┴───┴───────────┴───────────┴───────────┴──────────┘"
      ]
     },
     "execution_count": 10,
     "metadata": {},
     "output_type": "execute_result"
    }
   ],
   "source": [
    "brothers_war_alchemy_cards = brothers_war_cards.filter(pl.col(\"number\").str.contains(\"A-\")).sort(\"name\")\n",
    "\n",
    "brothers_war_alchemy_cards"
   ]
  },
  {
   "cell_type": "markdown",
   "metadata": {},
   "source": [
    "['artist', 'artistIds', 'asciiName', 'attractionLights', 'availability', 'boosterTypes', 'borderColor', 'cardParts', 'colorIdentity', 'colorIndicator', 'colors', 'defense', 'duelDeck', 'edhrecRank', 'edhrecSaltiness', 'faceConvertedManaCost', 'faceFlavorName', 'faceManaValue', 'faceName', 'finishes', 'flavorName', 'flavorText', 'frameEffects', 'frameVersion', 'hand', 'hasAlternativeDeckLimit', 'hasContentWarning', 'hasFoil', 'hasNonFoil', 'isAlternative', 'isFullArt', 'isFunny', 'isOnlineOnly', 'isOversized', 'isPromo', 'isRebalanced', 'isReprint', 'isReserved', 'isStarter', 'isStorySpotlight', 'isTextless', 'isTimeshifted', 'keywords', 'language', 'layout', 'leadershipSkills', 'life', 'loyalty', 'manaCost', 'manaValue', 'name', 'number', 'originalPrintings', 'originalReleaseDate', 'originalText', 'originalType', 'otherFaceIds', 'power', 'printings', 'promoTypes', 'rarity', 'rebalancedPrintings', 'relatedCards', 'securityStamp', 'setCode', 'side', 'signature', 'sourceProducts', 'subsets', 'subtypes', 'supertypes', 'text', 'toughness', 'type', 'types', 'uuid', 'variations', 'watermark']\n"
   ]
  },
  {
   "cell_type": "code",
   "execution_count": 11,
   "metadata": {},
   "outputs": [
    {
     "name": "stdout",
     "output_type": "stream",
     "text": [
      "attractionLights: ['2, 3, 4, 6', '2, 6', None, '4, 5, 6', '2, 3, 6', '2, 4, 5, 6', '2, 3, 5, 6', '4, 6', '3, 4, 6', '3, 6', '5, 6', '2, 4, 6', '3, 4, 5, 6', '3, 5, 6', '2, 5, 6']\n",
      "availability: ['arena', 'paper', 'dreamcast', 'arena, paper', 'mtgo', 'shandalar', 'arena, mtgo, paper', 'mtgo, paper']\n",
      "frameEffects: ['legendary, sunmoondfc', 'fullart, inverted, showcase', 'legendary, waxingandwaningmoondfc', 'legendary, extendedart', 'showcase, inverted', 'extendedart, lesson', 'borderless, inverted', 'inverted', 'extendedart, snow', 'draft', 'compasslanddfc, legendary', 'extendedart, sunmoondfc', 'fullart, inverted', 'showcase, legendary, sunmoondfc, inverted', 'extendedart, legendary', 'sunmoondfc', 'extendedart', 'legendary', 'legendary, showcase', 'showcase, inverted, legendary', 'showcase, legendary', 'legendary, compasslanddfc', 'convertdfc, shatteredglass, legendary, inverted', 'legendary, etched, inverted', 'legendary, inverted', 'showcase, legendary, sunmoondfc', 'legendary, inverted, nyxtouched', 'miracle', 'etched, inverted', 'mooneldrazidfc', 'inverted, etched, legendary', 'legendary, convertdfc', 'inverted, fullart', 'inverted, etched, legendary, nyxtouched', 'tombstone', 'legendary, companion', 'colorshifted', 'legendary, showcase, inverted, nyxtouched', 'legendary, nyxtouched', 'legendary, inverted, companion', 'legendary, snow', 'borderless', 'showcase, sunmoondfc', 'legendary, fullart', 'inverted, etched', 'inverted, convertdfc', 'compasslanddfc', 'companion, legendary, extendedart', 'stamped', 'inverted, showcase', 'inverted, showcase, legendary', 'showcase, inverted, nyxtouched', 'fullart', 'inverted, snow', 'nyxtouched, showcase, legendary, inverted', 'showcase, legendary, inverted, nyxtouched', 'legendary, inverted, etched, nyxtouched', 'legendary, showcase, inverted', 'extendedart, fandfc', 'devoid', 'stamped, promo', 'lesson', 'inverted, legendary', 'legendary, inverted, showcase', 'legendary, inverted, sunmoondfc', 'convertdfc, legendary', 'nyxtouched, legendary, extendedart', 'legendary, extendedart, nyxtouched', None, 'originpwdfc', 'fandfc', 'legendary, inverted, fullart', 'showcase, legendary, inverted', 'companion, legendary', 'legendary, upsidedowndfc', 'originpwdfc, legendary', 'nyxtouched, legendary', 'showcase, fandfc, inverted', 'nyxtouched', 'legendary, shatteredglass, inverted, convertdfc', 'nyxtouched, inverted', 'snow', 'nyxtouched, legendary, showcase, inverted', 'showcase', 'showcase, legendary, inverted, sunmoondfc', 'legendary, companion, inverted', 'legendary, inverted, etched', 'extendedart, nyxtouched', 'inverted, sunmoondfc']\n",
      "frameVersion: ['1997', 'future', '2015', '2003', '1993']\n",
      "layout: ['host', 'scheme', 'prototype', 'split', 'normal', 'planar', 'adventure', 'mutate', 'augment', 'meld', 'reversible_card', 'vanguard', 'aftermath', 'modal_dfc', 'case', 'leveler', 'class', 'transform', 'flip', 'saga']\n",
      "isAlternative: [None, True]\n",
      "isFullArt: [None, True]\n",
      "isFunny: [None, True]\n",
      "isOnlineOnly: [None, True]\n",
      "isOversized: [None, True]\n",
      "isPromo: [None, True]\n",
      "isRebalanced: [None, True]\n",
      "isReprint: [True, None]\n",
      "isReserved: [None, True]\n",
      "isStarter: [None, True]\n",
      "isStorySpotlight: [None, True]\n",
      "isTextless: [None, True]\n",
      "isTimeshifted: [None, True]\n",
      "layout: ['adventure', 'scheme', 'case', 'modal_dfc', 'vanguard', 'leveler', 'augment', 'saga', 'meld', 'prototype', 'host', 'reversible_card', 'planar', 'transform', 'split', 'flip', 'aftermath', 'mutate', 'normal', 'class']\n",
      "side: [None, 'e', 'a', 'c', 'b', 'd']\n"
     ]
    }
   ],
   "source": [
    "\n",
    "def print_unique_values(df: pl.DataFrame, column_lanes: list[str]):\n",
    "    for column_name in column_lanes:\n",
    "        print(f\"{column_name}: {df[column_name].unique().to_list()}\")\n",
    "\n",
    "print_unique_values(df, [\"attractionLights\", \"availability\", \"frameEffects\", \"frameVersion\", \"layout\", 'isAlternative', 'isFullArt', 'isFunny', 'isOnlineOnly', 'isOversized', 'isPromo', 'isRebalanced', 'isReprint', 'isReserved', 'isStarter', 'isStorySpotlight', 'isTextless', 'isTimeshifted', 'layout', 'side', ])"
   ]
  },
  {
   "cell_type": "code",
   "execution_count": 12,
   "metadata": {},
   "outputs": [
    {
     "data": {
      "text/html": [
       "<div><style>\n",
       ".dataframe > thead > tr,\n",
       ".dataframe > tbody > tr {\n",
       "  text-align: right;\n",
       "  white-space: pre-wrap;\n",
       "}\n",
       "</style>\n",
       "<small>shape: (3_573, 78)</small><table border=\"1\" class=\"dataframe\"><thead><tr><th>artist</th><th>artistIds</th><th>asciiName</th><th>attractionLights</th><th>availability</th><th>boosterTypes</th><th>borderColor</th><th>cardParts</th><th>colorIdentity</th><th>colorIndicator</th><th>colors</th><th>defense</th><th>duelDeck</th><th>edhrecRank</th><th>edhrecSaltiness</th><th>faceConvertedManaCost</th><th>faceFlavorName</th><th>faceManaValue</th><th>faceName</th><th>finishes</th><th>flavorName</th><th>flavorText</th><th>frameEffects</th><th>frameVersion</th><th>hand</th><th>hasAlternativeDeckLimit</th><th>hasContentWarning</th><th>hasFoil</th><th>hasNonFoil</th><th>isAlternative</th><th>isFullArt</th><th>isFunny</th><th>isOnlineOnly</th><th>isOversized</th><th>isPromo</th><th>isRebalanced</th><th>isReprint</th><th>&hellip;</th><th>isTimeshifted</th><th>keywords</th><th>language</th><th>layout</th><th>leadershipSkills</th><th>life</th><th>loyalty</th><th>manaCost</th><th>manaValue</th><th>name</th><th>number</th><th>originalPrintings</th><th>originalReleaseDate</th><th>originalText</th><th>originalType</th><th>otherFaceIds</th><th>power</th><th>printings</th><th>promoTypes</th><th>rarity</th><th>rebalancedPrintings</th><th>relatedCards</th><th>securityStamp</th><th>setCode</th><th>side</th><th>signature</th><th>sourceProducts</th><th>subsets</th><th>subtypes</th><th>supertypes</th><th>text</th><th>toughness</th><th>type</th><th>types</th><th>uuid</th><th>variations</th><th>watermark</th></tr><tr><td>str</td><td>str</td><td>str</td><td>str</td><td>str</td><td>str</td><td>str</td><td>str</td><td>str</td><td>str</td><td>str</td><td>str</td><td>str</td><td>f64</td><td>f64</td><td>f64</td><td>str</td><td>f64</td><td>str</td><td>str</td><td>str</td><td>str</td><td>str</td><td>str</td><td>str</td><td>bool</td><td>bool</td><td>bool</td><td>bool</td><td>bool</td><td>bool</td><td>bool</td><td>bool</td><td>bool</td><td>bool</td><td>bool</td><td>bool</td><td>&hellip;</td><td>bool</td><td>str</td><td>str</td><td>str</td><td>str</td><td>str</td><td>str</td><td>str</td><td>f64</td><td>str</td><td>str</td><td>str</td><td>str</td><td>str</td><td>str</td><td>str</td><td>str</td><td>str</td><td>str</td><td>str</td><td>str</td><td>str</td><td>str</td><td>str</td><td>str</td><td>str</td><td>str</td><td>str</td><td>str</td><td>str</td><td>str</td><td>str</td><td>str</td><td>str</td><td>str</td><td>str</td><td>str</td></tr></thead><tbody><tr><td>&quot;Kieran Yanner&quot;</td><td>&quot;aa7e89ed-d294-…</td><td>null</td><td>null</td><td>&quot;arena&quot;</td><td>null</td><td>&quot;black&quot;</td><td>null</td><td>&quot;U&quot;</td><td>null</td><td>&quot;U&quot;</td><td>null</td><td>null</td><td>null</td><td>null</td><td>5.0</td><td>null</td><td>5.0</td><td>&quot;A-Alrund, God …</td><td>&quot;nonfoil&quot;</td><td>null</td><td>null</td><td>null</td><td>&quot;2015&quot;</td><td>null</td><td>null</td><td>null</td><td>false</td><td>true</td><td>true</td><td>null</td><td>null</td><td>true</td><td>null</td><td>null</td><td>true</td><td>null</td><td>&hellip;</td><td>null</td><td>null</td><td>&quot;English&quot;</td><td>&quot;modal_dfc&quot;</td><td>&quot;{&quot;brawl&quot;: fals…</td><td>null</td><td>null</td><td>&quot;{3}{U}{U}&quot;</td><td>5.0</td><td>&quot;A-Alrund, God …</td><td>&quot;A-40&quot;</td><td>&quot;45a682a9-a941-…</td><td>null</td><td>null</td><td>null</td><td>&quot;27a2189a-fe39-…</td><td>&quot;1&quot;</td><td>&quot;KHM&quot;</td><td>&quot;rebalanced, al…</td><td>&quot;mythic&quot;</td><td>null</td><td>null</td><td>null</td><td>&quot;KHM&quot;</td><td>&quot;a&quot;</td><td>null</td><td>null</td><td>null</td><td>&quot;God&quot;</td><td>&quot;Legendary&quot;</td><td>&quot;Alrund gets +1…</td><td>&quot;1&quot;</td><td>&quot;Legendary Crea…</td><td>&quot;Creature&quot;</td><td>&quot;ec1f62d3-ec77-…</td><td>null</td><td>null</td></tr><tr><td>&quot;Kieran Yanner&quot;</td><td>&quot;aa7e89ed-d294-…</td><td>null</td><td>null</td><td>&quot;arena&quot;</td><td>null</td><td>&quot;black&quot;</td><td>null</td><td>&quot;U&quot;</td><td>null</td><td>&quot;U&quot;</td><td>null</td><td>null</td><td>null</td><td>null</td><td>2.0</td><td>null</td><td>2.0</td><td>&quot;A-Hakka, Whisp…</td><td>&quot;nonfoil&quot;</td><td>null</td><td>null</td><td>null</td><td>&quot;2015&quot;</td><td>null</td><td>null</td><td>null</td><td>false</td><td>true</td><td>true</td><td>null</td><td>null</td><td>true</td><td>null</td><td>null</td><td>true</td><td>null</td><td>&hellip;</td><td>null</td><td>&quot;Flying, Scry&quot;</td><td>&quot;English&quot;</td><td>&quot;modal_dfc&quot;</td><td>null</td><td>null</td><td>null</td><td>&quot;{1}{U}&quot;</td><td>2.0</td><td>&quot;A-Alrund, God …</td><td>&quot;A-40&quot;</td><td>&quot;45a682a9-a941-…</td><td>null</td><td>null</td><td>null</td><td>&quot;ec1f62d3-ec77-…</td><td>&quot;3&quot;</td><td>&quot;KHM&quot;</td><td>&quot;rebalanced, al…</td><td>&quot;mythic&quot;</td><td>null</td><td>null</td><td>null</td><td>&quot;KHM&quot;</td><td>&quot;b&quot;</td><td>null</td><td>null</td><td>null</td><td>&quot;Bird&quot;</td><td>&quot;Legendary&quot;</td><td>&quot;Flying\\nWhenev…</td><td>&quot;3&quot;</td><td>&quot;Legendary Crea…</td><td>&quot;Creature&quot;</td><td>&quot;27a2189a-fe39-…</td><td>null</td><td>null</td></tr><tr><td>&quot;Campbell White…</td><td>&quot;d281eab4-463a-…</td><td>null</td><td>null</td><td>&quot;arena&quot;</td><td>null</td><td>&quot;black&quot;</td><td>null</td><td>&quot;U&quot;</td><td>null</td><td>&quot;U&quot;</td><td>null</td><td>null</td><td>null</td><td>null</td><td>2.0</td><td>null</td><td>2.0</td><td>&quot;A-Binding Geis…</td><td>&quot;nonfoil&quot;</td><td>null</td><td>null</td><td>&quot;sunmoondfc&quot;</td><td>&quot;2015&quot;</td><td>null</td><td>null</td><td>null</td><td>false</td><td>true</td><td>true</td><td>null</td><td>null</td><td>true</td><td>null</td><td>null</td><td>true</td><td>null</td><td>&hellip;</td><td>null</td><td>&quot;Disturb, Trans…</td><td>&quot;English&quot;</td><td>&quot;transform&quot;</td><td>null</td><td>null</td><td>null</td><td>&quot;{1}{U}&quot;</td><td>2.0</td><td>&quot;A-Binding Geis…</td><td>&quot;A-48&quot;</td><td>&quot;cec10798-3fdb-…</td><td>null</td><td>null</td><td>null</td><td>&quot;f389f93b-6ccb-…</td><td>&quot;2&quot;</td><td>&quot;VOW&quot;</td><td>&quot;rebalanced, al…</td><td>&quot;common&quot;</td><td>null</td><td>null</td><td>&quot;arena&quot;</td><td>&quot;VOW&quot;</td><td>&quot;a&quot;</td><td>null</td><td>null</td><td>null</td><td>&quot;Spirit&quot;</td><td>&quot;&quot;</td><td>&quot;Whenever Bindi…</td><td>&quot;1&quot;</td><td>&quot;Creature — Spi…</td><td>&quot;Creature&quot;</td><td>&quot;c8389e50-b89b-…</td><td>null</td><td>null</td></tr><tr><td>&quot;Campbell White…</td><td>&quot;d281eab4-463a-…</td><td>null</td><td>null</td><td>&quot;arena&quot;</td><td>null</td><td>&quot;black&quot;</td><td>null</td><td>&quot;U&quot;</td><td>&quot;U&quot;</td><td>&quot;U&quot;</td><td>null</td><td>null</td><td>null</td><td>null</td><td>0.0</td><td>null</td><td>0.0</td><td>&quot;A-Spectral Bin…</td><td>&quot;nonfoil&quot;</td><td>null</td><td>null</td><td>&quot;sunmoondfc&quot;</td><td>&quot;2015&quot;</td><td>null</td><td>null</td><td>null</td><td>false</td><td>true</td><td>true</td><td>null</td><td>null</td><td>true</td><td>null</td><td>null</td><td>true</td><td>null</td><td>&hellip;</td><td>null</td><td>&quot;Enchant&quot;</td><td>&quot;English&quot;</td><td>&quot;transform&quot;</td><td>null</td><td>null</td><td>null</td><td>null</td><td>2.0</td><td>&quot;A-Binding Geis…</td><td>&quot;A-48&quot;</td><td>&quot;cec10798-3fdb-…</td><td>null</td><td>null</td><td>null</td><td>&quot;c8389e50-b89b-…</td><td>null</td><td>&quot;VOW&quot;</td><td>&quot;rebalanced, al…</td><td>&quot;common&quot;</td><td>null</td><td>null</td><td>&quot;arena&quot;</td><td>&quot;VOW&quot;</td><td>&quot;b&quot;</td><td>null</td><td>null</td><td>null</td><td>&quot;Aura&quot;</td><td>&quot;&quot;</td><td>&quot;Enchant creatu…</td><td>null</td><td>&quot;Enchantment — …</td><td>&quot;Enchantment&quot;</td><td>&quot;f389f93b-6ccb-…</td><td>null</td><td>null</td></tr><tr><td>&quot;Leanna Crossan…</td><td>&quot;976cfe82-042e-…</td><td>null</td><td>null</td><td>&quot;arena&quot;</td><td>null</td><td>&quot;black&quot;</td><td>null</td><td>&quot;W&quot;</td><td>null</td><td>&quot;W&quot;</td><td>null</td><td>null</td><td>null</td><td>null</td><td>4.0</td><td>null</td><td>4.0</td><td>&quot;A-Blessed Hipp…</td><td>&quot;nonfoil&quot;</td><td>null</td><td>null</td><td>null</td><td>&quot;2015&quot;</td><td>null</td><td>null</td><td>null</td><td>false</td><td>true</td><td>true</td><td>null</td><td>null</td><td>true</td><td>null</td><td>null</td><td>true</td><td>null</td><td>&hellip;</td><td>null</td><td>&quot;Flying&quot;</td><td>&quot;English&quot;</td><td>&quot;adventure&quot;</td><td>null</td><td>null</td><td>null</td><td>&quot;{3}{W}&quot;</td><td>4.0</td><td>&quot;A-Blessed Hipp…</td><td>&quot;A-85&quot;</td><td>&quot;fd2c9e79-044e-…</td><td>null</td><td>null</td><td>null</td><td>&quot;dc2f7f21-c148-…</td><td>&quot;2&quot;</td><td>&quot;HBG&quot;</td><td>&quot;rebalanced, al…</td><td>&quot;common&quot;</td><td>null</td><td>null</td><td>&quot;arena&quot;</td><td>&quot;HBG&quot;</td><td>&quot;a&quot;</td><td>null</td><td>null</td><td>null</td><td>&quot;Hippogriff&quot;</td><td>&quot;&quot;</td><td>&quot;Flying\\nWhenev…</td><td>&quot;3&quot;</td><td>&quot;Creature — Hip…</td><td>&quot;Creature&quot;</td><td>&quot;9d1802ec-4c98-…</td><td>null</td><td>null</td></tr><tr><td>&hellip;</td><td>&hellip;</td><td>&hellip;</td><td>&hellip;</td><td>&hellip;</td><td>&hellip;</td><td>&hellip;</td><td>&hellip;</td><td>&hellip;</td><td>&hellip;</td><td>&hellip;</td><td>&hellip;</td><td>&hellip;</td><td>&hellip;</td><td>&hellip;</td><td>&hellip;</td><td>&hellip;</td><td>&hellip;</td><td>&hellip;</td><td>&hellip;</td><td>&hellip;</td><td>&hellip;</td><td>&hellip;</td><td>&hellip;</td><td>&hellip;</td><td>&hellip;</td><td>&hellip;</td><td>&hellip;</td><td>&hellip;</td><td>&hellip;</td><td>&hellip;</td><td>&hellip;</td><td>&hellip;</td><td>&hellip;</td><td>&hellip;</td><td>&hellip;</td><td>&hellip;</td><td>&hellip;</td><td>&hellip;</td><td>&hellip;</td><td>&hellip;</td><td>&hellip;</td><td>&hellip;</td><td>&hellip;</td><td>&hellip;</td><td>&hellip;</td><td>&hellip;</td><td>&hellip;</td><td>&hellip;</td><td>&hellip;</td><td>&hellip;</td><td>&hellip;</td><td>&hellip;</td><td>&hellip;</td><td>&hellip;</td><td>&hellip;</td><td>&hellip;</td><td>&hellip;</td><td>&hellip;</td><td>&hellip;</td><td>&hellip;</td><td>&hellip;</td><td>&hellip;</td><td>&hellip;</td><td>&hellip;</td><td>&hellip;</td><td>&hellip;</td><td>&hellip;</td><td>&hellip;</td><td>&hellip;</td><td>&hellip;</td><td>&hellip;</td><td>&hellip;</td><td>&hellip;</td><td>&hellip;</td></tr><tr><td>&quot;Alexis Ziritt&quot;</td><td>&quot;add4cc84-9254-…</td><td>null</td><td>null</td><td>&quot;paper&quot;</td><td>null</td><td>&quot;borderless&quot;</td><td>null</td><td>&quot;U&quot;</td><td>null</td><td>&quot;U&quot;</td><td>null</td><td>null</td><td>9353.0</td><td>0.47</td><td>null</td><td>null</td><td>null</td><td>&quot;Zndrsplt, Eye …</td><td>&quot;nonfoil&quot;</td><td>null</td><td>null</td><td>&quot;legendary&quot;</td><td>&quot;2015&quot;</td><td>null</td><td>null</td><td>null</td><td>false</td><td>true</td><td>null</td><td>true</td><td>null</td><td>null</td><td>null</td><td>null</td><td>null</td><td>true</td><td>&hellip;</td><td>null</td><td>&quot;Partner, Partn…</td><td>&quot;English&quot;</td><td>&quot;reversible_car…</td><td>null</td><td>null</td><td>null</td><td>&quot;{4}{U}&quot;</td><td>5.0</td><td>&quot;Zndrsplt, Eye …</td><td>&quot;379★&quot;</td><td>null</td><td>&quot;2022-04-22&quot;</td><td>null</td><td>null</td><td>&quot;2ef3715f-fcb9-…</td><td>&quot;1&quot;</td><td>&quot;BBD, PBBD, SLD…</td><td>&quot;thick&quot;</td><td>&quot;rare&quot;</td><td>null</td><td>null</td><td>&quot;oval&quot;</td><td>&quot;SLD&quot;</td><td>&quot;b&quot;</td><td>null</td><td>null</td><td>null</td><td>&quot;Homunculus&quot;</td><td>&quot;Legendary&quot;</td><td>&quot;Partner with O…</td><td>&quot;4&quot;</td><td>&quot;Legendary Crea…</td><td>&quot;Creature&quot;</td><td>&quot;2f7b07c3-fc95-…</td><td>&quot;9f9c49af-02d5-…</td><td>null</td></tr><tr><td>&quot;Izzy&quot;</td><td>&quot;2c3d2473-ff5d-…</td><td>null</td><td>null</td><td>&quot;arena, mtgo, p…</td><td>&quot;default&quot;</td><td>&quot;black&quot;</td><td>null</td><td>&quot;B&quot;</td><td>null</td><td>&quot;B&quot;</td><td>null</td><td>null</td><td>8002.0</td><td>0.09</td><td>6.0</td><td>null</td><td>6.0</td><td>&quot;Zof Consumptio…</td><td>&quot;nonfoil, foil&quot;</td><td>null</td><td>&quot;&quot;Annihilation …</td><td>null</td><td>&quot;2015&quot;</td><td>null</td><td>null</td><td>null</td><td>true</td><td>true</td><td>null</td><td>null</td><td>null</td><td>null</td><td>null</td><td>null</td><td>null</td><td>null</td><td>&hellip;</td><td>null</td><td>null</td><td>&quot;English&quot;</td><td>&quot;modal_dfc&quot;</td><td>null</td><td>null</td><td>null</td><td>&quot;{4}{B}{B}&quot;</td><td>6.0</td><td>&quot;Zof Consumptio…</td><td>&quot;132&quot;</td><td>null</td><td>null</td><td>null</td><td>null</td><td>&quot;ca78ebc5-2b25-…</td><td>null</td><td>&quot;ZNR&quot;</td><td>null</td><td>&quot;uncommon&quot;</td><td>null</td><td>null</td><td>null</td><td>&quot;ZNR&quot;</td><td>&quot;a&quot;</td><td>null</td><td>&quot;{&quot;foil&quot;: [&quot;2b7…</td><td>null</td><td>&quot;&quot;</td><td>&quot;&quot;</td><td>&quot;Each opponent …</td><td>null</td><td>&quot;Sorcery&quot;</td><td>&quot;Sorcery&quot;</td><td>&quot;c097250b-2e07-…</td><td>null</td><td>null</td></tr><tr><td>&quot;Izzy&quot;</td><td>&quot;2c3d2473-ff5d-…</td><td>null</td><td>null</td><td>&quot;arena, mtgo, p…</td><td>&quot;default&quot;</td><td>&quot;black&quot;</td><td>null</td><td>&quot;B&quot;</td><td>null</td><td>&quot;&quot;</td><td>null</td><td>null</td><td>8002.0</td><td>0.09</td><td>0.0</td><td>null</td><td>0.0</td><td>&quot;Zof Bloodbog&quot;</td><td>&quot;nonfoil, foil&quot;</td><td>null</td><td>&quot;&quot;Look at this …</td><td>null</td><td>&quot;2015&quot;</td><td>null</td><td>null</td><td>null</td><td>true</td><td>true</td><td>null</td><td>null</td><td>null</td><td>null</td><td>null</td><td>null</td><td>null</td><td>null</td><td>&hellip;</td><td>null</td><td>null</td><td>&quot;English&quot;</td><td>&quot;modal_dfc&quot;</td><td>null</td><td>null</td><td>null</td><td>null</td><td>0.0</td><td>&quot;Zof Consumptio…</td><td>&quot;132&quot;</td><td>null</td><td>null</td><td>null</td><td>null</td><td>&quot;c097250b-2e07-…</td><td>null</td><td>&quot;ZNR&quot;</td><td>null</td><td>&quot;uncommon&quot;</td><td>null</td><td>null</td><td>null</td><td>&quot;ZNR&quot;</td><td>&quot;b&quot;</td><td>null</td><td>null</td><td>null</td><td>&quot;&quot;</td><td>&quot;&quot;</td><td>&quot;Zof Bloodbog e…</td><td>null</td><td>&quot;Land&quot;</td><td>&quot;Land&quot;</td><td>&quot;ca78ebc5-2b25-…</td><td>null</td><td>null</td></tr><tr><td>&quot;Andrea De Domi…</td><td>&quot;d0f5310c-acb8-…</td><td>null</td><td>null</td><td>&quot;paper&quot;</td><td>null</td><td>&quot;borderless&quot;</td><td>null</td><td>&quot;B&quot;</td><td>null</td><td>&quot;B&quot;</td><td>null</td><td>null</td><td>4008.0</td><td>0.53</td><td>null</td><td>null</td><td>null</td><td>&quot;Zombie Master&quot;</td><td>&quot;nonfoil, foil&quot;</td><td>null</td><td>null</td><td>&quot;fullart&quot;</td><td>&quot;2015&quot;</td><td>null</td><td>null</td><td>null</td><td>true</td><td>true</td><td>null</td><td>true</td><td>null</td><td>null</td><td>null</td><td>null</td><td>null</td><td>true</td><td>&hellip;</td><td>null</td><td>null</td><td>&quot;English&quot;</td><td>&quot;reversible_car…</td><td>null</td><td>null</td><td>null</td><td>&quot;{1}{B}{B}&quot;</td><td>3.0</td><td>&quot;Zombie Master …</td><td>&quot;1460&quot;</td><td>null</td><td>&quot;2023-10-02&quot;</td><td>null</td><td>null</td><td>&quot;19047b90-bde7-…</td><td>&quot;2&quot;</td><td>&quot;2ED, 30A, 3ED,…</td><td>null</td><td>&quot;rare&quot;</td><td>null</td><td>null</td><td>&quot;triangle&quot;</td><td>&quot;SLD&quot;</td><td>&quot;a&quot;</td><td>null</td><td>null</td><td>&quot;Creepshow&quot;</td><td>&quot;Zombie&quot;</td><td>&quot;&quot;</td><td>&quot;Other Zombie c…</td><td>&quot;3&quot;</td><td>&quot;Creature — Zom…</td><td>&quot;Creature&quot;</td><td>&quot;ce665ebb-3003-…</td><td>null</td><td>null</td></tr><tr><td>&quot;Scott Okumura&quot;</td><td>&quot;d0f5310c-acb8-…</td><td>null</td><td>null</td><td>&quot;paper&quot;</td><td>null</td><td>&quot;borderless&quot;</td><td>null</td><td>&quot;B&quot;</td><td>null</td><td>&quot;B&quot;</td><td>null</td><td>null</td><td>4008.0</td><td>0.53</td><td>null</td><td>null</td><td>null</td><td>&quot;Zombie Master&quot;</td><td>&quot;nonfoil, foil&quot;</td><td>null</td><td>null</td><td>&quot;fullart&quot;</td><td>&quot;2015&quot;</td><td>null</td><td>null</td><td>null</td><td>true</td><td>true</td><td>null</td><td>true</td><td>null</td><td>null</td><td>null</td><td>null</td><td>null</td><td>true</td><td>&hellip;</td><td>null</td><td>null</td><td>&quot;English&quot;</td><td>&quot;reversible_car…</td><td>null</td><td>null</td><td>null</td><td>&quot;{1}{B}{B}&quot;</td><td>3.0</td><td>&quot;Zombie Master …</td><td>&quot;1460&quot;</td><td>null</td><td>&quot;2023-10-02&quot;</td><td>null</td><td>null</td><td>&quot;ce665ebb-3003-…</td><td>&quot;2&quot;</td><td>&quot;2ED, 30A, 3ED,…</td><td>null</td><td>&quot;rare&quot;</td><td>null</td><td>null</td><td>&quot;triangle&quot;</td><td>&quot;SLD&quot;</td><td>&quot;b&quot;</td><td>null</td><td>null</td><td>&quot;Creepshow&quot;</td><td>&quot;Zombie&quot;</td><td>&quot;&quot;</td><td>&quot;Other Zombie c…</td><td>&quot;3&quot;</td><td>&quot;Creature — Zom…</td><td>&quot;Creature&quot;</td><td>&quot;19047b90-bde7-…</td><td>null</td><td>null</td></tr></tbody></table></div>"
      ],
      "text/plain": [
       "shape: (3_573, 78)\n",
       "┌───────────┬───────────┬───────────┬───────────┬───┬───────────┬───────────┬───────────┬──────────┐\n",
       "│ artist    ┆ artistIds ┆ asciiName ┆ attractio ┆ … ┆ types     ┆ uuid      ┆ variation ┆ watermar │\n",
       "│ ---       ┆ ---       ┆ ---       ┆ nLights   ┆   ┆ ---       ┆ ---       ┆ s         ┆ k        │\n",
       "│ str       ┆ str       ┆ str       ┆ ---       ┆   ┆ str       ┆ str       ┆ ---       ┆ ---      │\n",
       "│           ┆           ┆           ┆ str       ┆   ┆           ┆           ┆ str       ┆ str      │\n",
       "╞═══════════╪═══════════╪═══════════╪═══════════╪═══╪═══════════╪═══════════╪═══════════╪══════════╡\n",
       "│ Kieran    ┆ aa7e89ed- ┆ null      ┆ null      ┆ … ┆ Creature  ┆ ec1f62d3- ┆ null      ┆ null     │\n",
       "│ Yanner    ┆ d294-4633 ┆           ┆           ┆   ┆           ┆ ec77-5fa9 ┆           ┆          │\n",
       "│           ┆ -9057-ce0 ┆           ┆           ┆   ┆           ┆ -925b-e03 ┆           ┆          │\n",
       "│           ┆ 4dacf…    ┆           ┆           ┆   ┆           ┆ 6225b…    ┆           ┆          │\n",
       "│ Kieran    ┆ aa7e89ed- ┆ null      ┆ null      ┆ … ┆ Creature  ┆ 27a2189a- ┆ null      ┆ null     │\n",
       "│ Yanner    ┆ d294-4633 ┆           ┆           ┆   ┆           ┆ fe39-5e71 ┆           ┆          │\n",
       "│           ┆ -9057-ce0 ┆           ┆           ┆   ┆           ┆ -8b33-2d2 ┆           ┆          │\n",
       "│           ┆ 4dacf…    ┆           ┆           ┆   ┆           ┆ ca13b…    ┆           ┆          │\n",
       "│ Campbell  ┆ d281eab4- ┆ null      ┆ null      ┆ … ┆ Creature  ┆ c8389e50- ┆ null      ┆ null     │\n",
       "│ White     ┆ 463a-4ba8 ┆           ┆           ┆   ┆           ┆ b89b-518d ┆           ┆          │\n",
       "│           ┆ -9039-894 ┆           ┆           ┆   ┆           ┆ -9935-b73 ┆           ┆          │\n",
       "│           ┆ 37379…    ┆           ┆           ┆   ┆           ┆ 5b83d…    ┆           ┆          │\n",
       "│ Campbell  ┆ d281eab4- ┆ null      ┆ null      ┆ … ┆ Enchantme ┆ f389f93b- ┆ null      ┆ null     │\n",
       "│ White     ┆ 463a-4ba8 ┆           ┆           ┆   ┆ nt        ┆ 6ccb-51ab ┆           ┆          │\n",
       "│           ┆ -9039-894 ┆           ┆           ┆   ┆           ┆ -948d-3f2 ┆           ┆          │\n",
       "│           ┆ 37379…    ┆           ┆           ┆   ┆           ┆ b6e31…    ┆           ┆          │\n",
       "│ Leanna    ┆ 976cfe82- ┆ null      ┆ null      ┆ … ┆ Creature  ┆ 9d1802ec- ┆ null      ┆ null     │\n",
       "│ Crossan   ┆ 042e-4c2a ┆           ┆           ┆   ┆           ┆ 4c98-5b17 ┆           ┆          │\n",
       "│           ┆ -b762-2bc ┆           ┆           ┆   ┆           ┆ -8ab9-b1b ┆           ┆          │\n",
       "│           ┆ 3e86c…    ┆           ┆           ┆   ┆           ┆ 08ecc…    ┆           ┆          │\n",
       "│ …         ┆ …         ┆ …         ┆ …         ┆ … ┆ …         ┆ …         ┆ …         ┆ …        │\n",
       "│ Alexis    ┆ add4cc84- ┆ null      ┆ null      ┆ … ┆ Creature  ┆ 2f7b07c3- ┆ 9f9c49af- ┆ null     │\n",
       "│ Ziritt    ┆ 9254-4c0b ┆           ┆           ┆   ┆           ┆ fc95-5e5e ┆ 02d5-5219 ┆          │\n",
       "│           ┆ -8fcd-af4 ┆           ┆           ┆   ┆           ┆ -a63e-393 ┆ -8827-98b ┆          │\n",
       "│           ┆ a238b…    ┆           ┆           ┆   ┆           ┆ d685b…    ┆ 857cf…    ┆          │\n",
       "│ Izzy      ┆ 2c3d2473- ┆ null      ┆ null      ┆ … ┆ Sorcery   ┆ c097250b- ┆ null      ┆ null     │\n",
       "│           ┆ ff5d-4309 ┆           ┆           ┆   ┆           ┆ 2e07-5484 ┆           ┆          │\n",
       "│           ┆ -8194-e0b ┆           ┆           ┆   ┆           ┆ -8507-5e9 ┆           ┆          │\n",
       "│           ┆ 2def2…    ┆           ┆           ┆   ┆           ┆ f075b…    ┆           ┆          │\n",
       "│ Izzy      ┆ 2c3d2473- ┆ null      ┆ null      ┆ … ┆ Land      ┆ ca78ebc5- ┆ null      ┆ null     │\n",
       "│           ┆ ff5d-4309 ┆           ┆           ┆   ┆           ┆ 2b25-5141 ┆           ┆          │\n",
       "│           ┆ -8194-e0b ┆           ┆           ┆   ┆           ┆ -8fcf-efb ┆           ┆          │\n",
       "│           ┆ 2def2…    ┆           ┆           ┆   ┆           ┆ c71fb…    ┆           ┆          │\n",
       "│ Andrea De ┆ d0f5310c- ┆ null      ┆ null      ┆ … ┆ Creature  ┆ ce665ebb- ┆ null      ┆ null     │\n",
       "│ Dominicis ┆ acb8-4df7 ┆           ┆           ┆   ┆           ┆ 3003-543a ┆           ┆          │\n",
       "│           ┆ -b78d-84a ┆           ┆           ┆   ┆           ┆ -bae6-a70 ┆           ┆          │\n",
       "│           ┆ 4e5fb…    ┆           ┆           ┆   ┆           ┆ 957ff…    ┆           ┆          │\n",
       "│ Scott     ┆ d0f5310c- ┆ null      ┆ null      ┆ … ┆ Creature  ┆ 19047b90- ┆ null      ┆ null     │\n",
       "│ Okumura   ┆ acb8-4df7 ┆           ┆           ┆   ┆           ┆ bde7-5649 ┆           ┆          │\n",
       "│           ┆ -b78d-84a ┆           ┆           ┆   ┆           ┆ -aeec-117 ┆           ┆          │\n",
       "│           ┆ 4e5fb…    ┆           ┆           ┆   ┆           ┆ 8f2ed…    ┆           ┆          │\n",
       "└───────────┴───────────┴───────────┴───────────┴───┴───────────┴───────────┴───────────┴──────────┘"
      ]
     },
     "execution_count": 12,
     "metadata": {},
     "output_type": "execute_result"
    }
   ],
   "source": [
    "df.filter(pl.col(\"side\").is_not_null()).sort(\"name\")"
   ]
  },
  {
   "cell_type": "code",
   "execution_count": 13,
   "metadata": {},
   "outputs": [],
   "source": [
    "# drop cards with number format \"A- \"\n",
    "\n",
    "useful_gameplay_columns = [\n",
    "        \"name\",\n",
    "        \"colorIdentity\",\n",
    "        \"colors\",\n",
    "        \"edhrecRank\",\n",
    "        \"edhrecSaltiness\",\n",
    "        \"faceConvertedManaCost\",\n",
    "        \"keywords\",\n",
    "        \"loyalty\",\n",
    "        \"manaCost\",\n",
    "        \"manaValue\",\n",
    "        \"number\",\n",
    "        \"power\",\n",
    "        \"rarity\",\n",
    "        \"setCode\",\n",
    "        \"side\",\n",
    "        \"subtypes\",\n",
    "        \"supertypes\",\n",
    "        \"toughness\",\n",
    "        \"text\",\n",
    "        \"type\",\n",
    "        \"types\",\n",
    "        \"uuid\",\n",
    "        \"variations\",\n",
    "        \"relatedCards\",\n",
    "    ]\n",
    "\n",
    "\n",
    "likely_unique_columns = [\n",
    "        \"name\",\n",
    "        # \"colorIdentity\",\n",
    "        # \"colors\",\n",
    "        # \"edhrecRank\",\n",
    "        # \"edhrecSaltiness\",\n",
    "        # \"faceConvertedManaCost\",\n",
    "        # \"keywords\",\n",
    "        # \"loyalty\",\n",
    "        # \"manaCost\",\n",
    "        # \"manaValue\",\n",
    "        # \"power\",\n",
    "        # \"subtypes\",\n",
    "        # \"supertypes\",\n",
    "        # \"toughness\",\n",
    "        # \"text\",\n",
    "        # \"type\",\n",
    "        # \"types\",\n",
    "    ]\n",
    "\n",
    "unique_brothers_war_cards = brothers_war_cards.select(\n",
    "    useful_gameplay_columns\n",
    ").filter(~pl.col(\"number\").str.contains(\"A-\")).sort(\"number\").unique(\n",
    "    likely_unique_columns\n",
    ").sort(\"name\")"
   ]
  },
  {
   "cell_type": "code",
   "execution_count": 14,
   "metadata": {},
   "outputs": [
    {
     "data": {
      "text/html": [
       "<div><style>\n",
       ".dataframe > thead > tr,\n",
       ".dataframe > tbody > tr {\n",
       "  text-align: right;\n",
       "  white-space: pre-wrap;\n",
       "}\n",
       "</style>\n",
       "<small>shape: (0, 2)</small><table border=\"1\" class=\"dataframe\"><thead><tr><th>name</th><th>len</th></tr><tr><td>str</td><td>u32</td></tr></thead><tbody></tbody></table></div>"
      ],
      "text/plain": [
       "shape: (0, 2)\n",
       "┌──────┬─────┐\n",
       "│ name ┆ len │\n",
       "│ ---  ┆ --- │\n",
       "│ str  ┆ u32 │\n",
       "╞══════╪═════╡\n",
       "└──────┴─────┘"
      ]
     },
     "execution_count": 14,
     "metadata": {},
     "output_type": "execute_result"
    }
   ],
   "source": [
    "unique_brothers_war_cards.group_by(\"name\").len().filter(pl.col(\"len\") > 1)"
   ]
  },
  {
   "cell_type": "code",
   "execution_count": 15,
   "metadata": {},
   "outputs": [
    {
     "data": {
      "text/html": [
       "<div><style>\n",
       ".dataframe > thead > tr,\n",
       ".dataframe > tbody > tr {\n",
       "  text-align: right;\n",
       "  white-space: pre-wrap;\n",
       "}\n",
       "</style>\n",
       "<small>shape: (0, 2)</small><table border=\"1\" class=\"dataframe\"><thead><tr><th>name</th><th>len</th></tr><tr><td>str</td><td>u32</td></tr></thead><tbody></tbody></table></div>"
      ],
      "text/plain": [
       "shape: (0, 2)\n",
       "┌──────┬─────┐\n",
       "│ name ┆ len │\n",
       "│ ---  ┆ --- │\n",
       "│ str  ┆ u32 │\n",
       "╞══════╪═════╡\n",
       "└──────┴─────┘"
      ]
     },
     "execution_count": 15,
     "metadata": {},
     "output_type": "execute_result"
    }
   ],
   "source": [
    "def filter_gameplay_unique_cards(df) -> pl.DataFrame:\n",
    "    useful_gameplay_columns = [\n",
    "        \"name\",\n",
    "        \"colorIdentity\",\n",
    "        \"colors\",\n",
    "        \"edhrecRank\",\n",
    "        \"edhrecSaltiness\",\n",
    "        \"faceConvertedManaCost\",\n",
    "        \"keywords\",\n",
    "        \"loyalty\",\n",
    "        \"manaCost\",\n",
    "        \"manaValue\",\n",
    "        \"number\",\n",
    "        \"power\",\n",
    "        \"rarity\",\n",
    "        \"setCode\",\n",
    "        \"subtypes\",\n",
    "        \"supertypes\",\n",
    "        \"toughness\",\n",
    "        \"text\",\n",
    "        \"type\",\n",
    "        \"types\",\n",
    "        \"uuid\",\n",
    "        \"variations\",\n",
    "        \"relatedCards\",\n",
    "    ]\n",
    "\n",
    "    likely_unique_columns = [\n",
    "        \"name\",\n",
    "        # \"colorIdentity\",\n",
    "        # \"colors\",\n",
    "        # \"faceConvertedManaCost\",\n",
    "        # \"keywords\",\n",
    "        # \"loyalty\",\n",
    "        # \"manaCost\",\n",
    "        # \"manaValue\",\n",
    "        # \"power\",\n",
    "        # \"subtypes\",\n",
    "        # \"supertypes\",\n",
    "        # \"toughness\",\n",
    "        # \"text\",\n",
    "        # \"type\",\n",
    "        # \"types\",\n",
    "    ]\n",
    "\n",
    "    return df.select(\n",
    "        useful_gameplay_columns\n",
    "    ).filter(~pl.col(\"number\").str.contains(\"A-\")).sort(\"number\").unique(\n",
    "        likely_unique_columns\n",
    "    ).sort(\"name\")\n",
    "\n",
    "def filter_main_sets(df) -> pl.DataFrame:\n",
    "    recent_main_sets = {\n",
    "    'ELD': 'Throne of Eldraine',\n",
    "    'THB': 'Theros Beyond Death',\n",
    "    'IKO': 'Ikoria: Lair of Behemoths',\n",
    "    'C20': 'Commander 2020',\n",
    "    'M21': 'Core Set 2021',\n",
    "    'ZNR': 'Zendikar Rising',\n",
    "    'ZNC': 'Zendikar Rising Commander Decks',\n",
    "    'CMR': 'Commander Legends',\n",
    "    'KHM': 'Kaldheim',\n",
    "    'KHC': 'Kaldheim Commander Decks',\n",
    "    'STX': 'Strixhaven: School of Mages',\n",
    "    'C21': 'Commander 2021',\n",
    "    'AFR': 'Dungeons & Dragons: Adventures in the Forgotten Realms',\n",
    "    'AFC': 'Dungeons & Dragons: Adventures in the Forgotten Realms Commander Decks',\n",
    "    'MID': 'Innistrad: Midnight Hunt',\n",
    "    'MIC': 'Innistrad: Midnight Hunt Commander Decks',\n",
    "    'VOW': 'Innistrad: Crimson Vow',\n",
    "    'VOC': 'Innistrad: Crimson Vow Commander Decks',\n",
    "    'NEO': 'Kamigawa: Neon Dynasty',\n",
    "    'NEC': 'Kamigawa: Neon Dynasty Commander Decks',\n",
    "    'SNC': 'Streets of New Capenna',\n",
    "    'NCC': 'Streets of New Capenna Commander Decks',\n",
    "    'CLB': 'Commander Legends: Battle for Baldur\\'s Gate',\n",
    "    'DMU': 'Dominaria United',\n",
    "    'DMC': 'Dominaria United Commander Decks',\n",
    "    'UNF': 'Unfinity',\n",
    "    '40K': 'Warhammer 40,000 Commander Decks',\n",
    "    'BRO': 'The Brothers\\' War',\n",
    "    'BRC': 'The Brothers\\' War Commander Decks',\n",
    "    'ONE': 'Phyrexia: All Will Be One',\n",
    "    'ONC': 'Phyrexia: All Will Be One Commander Decks',\n",
    "    'MOM': 'March of the Machine',\n",
    "    'MOC': 'March of the Machine/Commander decks',\n",
    "    'LTR': 'The Lord of the Rings: Tales of Middle-Earth',\n",
    "    'LTC': 'The Lord of the Rings: Tales of Middle-Earth Commander Decks',\n",
    "    'WOE': 'Wilds of Eldraine',\n",
    "    'WOC': 'Wilds of Eldraine/Commander decks',\n",
    "    'LCI': 'The Lost Caverns of Ixalan',\n",
    "    'LCC': 'The Lost Caverns of Ixalan/Commander decks',\n",
    "    'MKM': 'Murders at Karlov Manor',\n",
    "    'MKC': 'Murders at Karlov Manor/Commander decks'\n",
    "}\n",
    "    return df.filter(pl.col(\"setCode\").is_in(list(recent_main_sets.keys())))\n",
    "\n",
    "main_sets_cards = filter_main_sets(df)\n",
    "unique_main_sets_cards = filter_gameplay_unique_cards(main_sets_cards)\n",
    "\n",
    "duplicated_main_set_cards = unique_main_sets_cards.group_by(\"name\").len().filter(pl.col(\"len\") > 1)\n",
    "duplicated_main_set_cards\n"
   ]
  },
  {
   "cell_type": "code",
   "execution_count": 16,
   "metadata": {},
   "outputs": [
    {
     "data": {
      "text/html": [
       "<div><style>\n",
       ".dataframe > thead > tr,\n",
       ".dataframe > tbody > tr {\n",
       "  text-align: right;\n",
       "  white-space: pre-wrap;\n",
       "}\n",
       "</style>\n",
       "<small>shape: (0, 78)</small><table border=\"1\" class=\"dataframe\"><thead><tr><th>artist</th><th>artistIds</th><th>asciiName</th><th>attractionLights</th><th>availability</th><th>boosterTypes</th><th>borderColor</th><th>cardParts</th><th>colorIdentity</th><th>colorIndicator</th><th>colors</th><th>defense</th><th>duelDeck</th><th>edhrecRank</th><th>edhrecSaltiness</th><th>faceConvertedManaCost</th><th>faceFlavorName</th><th>faceManaValue</th><th>faceName</th><th>finishes</th><th>flavorName</th><th>flavorText</th><th>frameEffects</th><th>frameVersion</th><th>hand</th><th>hasAlternativeDeckLimit</th><th>hasContentWarning</th><th>hasFoil</th><th>hasNonFoil</th><th>isAlternative</th><th>isFullArt</th><th>isFunny</th><th>isOnlineOnly</th><th>isOversized</th><th>isPromo</th><th>isRebalanced</th><th>isReprint</th><th>&hellip;</th><th>isTimeshifted</th><th>keywords</th><th>language</th><th>layout</th><th>leadershipSkills</th><th>life</th><th>loyalty</th><th>manaCost</th><th>manaValue</th><th>name</th><th>number</th><th>originalPrintings</th><th>originalReleaseDate</th><th>originalText</th><th>originalType</th><th>otherFaceIds</th><th>power</th><th>printings</th><th>promoTypes</th><th>rarity</th><th>rebalancedPrintings</th><th>relatedCards</th><th>securityStamp</th><th>setCode</th><th>side</th><th>signature</th><th>sourceProducts</th><th>subsets</th><th>subtypes</th><th>supertypes</th><th>text</th><th>toughness</th><th>type</th><th>types</th><th>uuid</th><th>variations</th><th>watermark</th></tr><tr><td>str</td><td>str</td><td>str</td><td>str</td><td>str</td><td>str</td><td>str</td><td>str</td><td>str</td><td>str</td><td>str</td><td>str</td><td>str</td><td>f64</td><td>f64</td><td>f64</td><td>str</td><td>f64</td><td>str</td><td>str</td><td>str</td><td>str</td><td>str</td><td>str</td><td>str</td><td>bool</td><td>bool</td><td>bool</td><td>bool</td><td>bool</td><td>bool</td><td>bool</td><td>bool</td><td>bool</td><td>bool</td><td>bool</td><td>bool</td><td>&hellip;</td><td>bool</td><td>str</td><td>str</td><td>str</td><td>str</td><td>str</td><td>str</td><td>str</td><td>f64</td><td>str</td><td>str</td><td>str</td><td>str</td><td>str</td><td>str</td><td>str</td><td>str</td><td>str</td><td>str</td><td>str</td><td>str</td><td>str</td><td>str</td><td>str</td><td>str</td><td>str</td><td>str</td><td>str</td><td>str</td><td>str</td><td>str</td><td>str</td><td>str</td><td>str</td><td>str</td><td>str</td><td>str</td></tr></thead><tbody></tbody></table></div>"
      ],
      "text/plain": [
       "shape: (0, 78)\n",
       "┌────────┬───────────┬───────────┬──────────────────┬───┬───────┬──────┬────────────┬───────────┐\n",
       "│ artist ┆ artistIds ┆ asciiName ┆ attractionLights ┆ … ┆ types ┆ uuid ┆ variations ┆ watermark │\n",
       "│ ---    ┆ ---       ┆ ---       ┆ ---              ┆   ┆ ---   ┆ ---  ┆ ---        ┆ ---       │\n",
       "│ str    ┆ str       ┆ str       ┆ str              ┆   ┆ str   ┆ str  ┆ str        ┆ str       │\n",
       "╞════════╪═══════════╪═══════════╪══════════════════╪═══╪═══════╪══════╪════════════╪═══════════╡\n",
       "└────────┴───────────┴───────────┴──────────────────┴───┴───────┴──────┴────────────┴───────────┘"
      ]
     },
     "execution_count": 16,
     "metadata": {},
     "output_type": "execute_result"
    }
   ],
   "source": [
    "main_sets_cards.filter(pl.col(\"name\").is_in(duplicated_main_set_cards[\"name\"])).sort(\"name\")"
   ]
  },
  {
   "cell_type": "code",
   "execution_count": 17,
   "metadata": {},
   "outputs": [],
   "source": [
    "def collapse_sets(df) -> pl.DataFrame:\n",
    "    return df.group_by(\"name\",\n",
    "        \"colorIdentity\",\n",
    "        \"colors\",\n",
    "        \"faceConvertedManaCost\",\n",
    "        \"keywords\",\n",
    "        \"loyalty\",\n",
    "        \"manaCost\",\n",
    "        \"manaValue\",\n",
    "        \"power\",\n",
    "        \"subtypes\",\n",
    "        \"supertypes\",\n",
    "        \"toughness\",\n",
    "        \"text\",\n",
    "        \"type\",\n",
    "        \"types\",).agg(\n",
    "        pl.col(\"setCode\").map_elements(list).alias(\"setCodes\")\n",
    "    ).sort(\"name\")\n"
   ]
  },
  {
   "cell_type": "code",
   "execution_count": 18,
   "metadata": {},
   "outputs": [
    {
     "data": {
      "text/html": [
       "<div><style>\n",
       ".dataframe > thead > tr,\n",
       ".dataframe > tbody > tr {\n",
       "  text-align: right;\n",
       "  white-space: pre-wrap;\n",
       "}\n",
       "</style>\n",
       "<small>shape: (4_657, 16)</small><table border=\"1\" class=\"dataframe\"><thead><tr><th>name</th><th>colorIdentity</th><th>colors</th><th>faceConvertedManaCost</th><th>keywords</th><th>loyalty</th><th>manaCost</th><th>manaValue</th><th>power</th><th>subtypes</th><th>supertypes</th><th>toughness</th><th>text</th><th>type</th><th>types</th><th>setCodes</th></tr><tr><td>str</td><td>str</td><td>str</td><td>f64</td><td>str</td><td>str</td><td>str</td><td>f64</td><td>str</td><td>str</td><td>str</td><td>str</td><td>str</td><td>str</td><td>str</td><td>list[str]</td></tr></thead><tbody><tr><td>&quot;&quot;Brims&quot; Barone…</td><td>&quot;B, W&quot;</td><td>&quot;B, W&quot;</td><td>null</td><td>null</td><td>null</td><td>&quot;{3}{W}{B}&quot;</td><td>5.0</td><td>&quot;5&quot;</td><td>&quot;Human, Rogue&quot;</td><td>&quot;Legendary&quot;</td><td>&quot;4&quot;</td><td>&quot;When &quot;Brims&quot; B…</td><td>&quot;Legendary Crea…</td><td>&quot;Creature&quot;</td><td>[&quot;UNF&quot;, &quot;UNF&quot;, … &quot;UNF&quot;]</td></tr><tr><td>&quot;&quot;Lifetime&quot; Pas…</td><td>&quot;B&quot;</td><td>&quot;B&quot;</td><td>null</td><td>&quot;Open an Attrac…</td><td>null</td><td>&quot;{B}&quot;</td><td>1.0</td><td>&quot;2&quot;</td><td>&quot;Zombie, Guest&quot;</td><td>&quot;&quot;</td><td>&quot;1&quot;</td><td>&quot;&quot;Lifetime&quot; Pas…</td><td>&quot;Creature — Zom…</td><td>&quot;Creature&quot;</td><td>[&quot;UNF&quot;, &quot;UNF&quot;]</td></tr><tr><td>&quot;A Good Day to …</td><td>&quot;W&quot;</td><td>&quot;W&quot;</td><td>null</td><td>null</td><td>null</td><td>&quot;{1}{W}&quot;</td><td>2.0</td><td>null</td><td>&quot;&quot;</td><td>&quot;&quot;</td><td>null</td><td>&quot;Tap up to two …</td><td>&quot;Instant&quot;</td><td>&quot;Instant&quot;</td><td>[&quot;UNF&quot;, &quot;UNF&quot;]</td></tr><tr><td>&quot;A Real Handful…</td><td>&quot;B&quot;</td><td>&quot;B&quot;</td><td>null</td><td>null</td><td>null</td><td>&quot;{3}{B}&quot;</td><td>4.0</td><td>&quot;1&quot;</td><td>&quot;Alien, Child, …</td><td>&quot;&quot;</td><td>&quot;1&quot;</td><td>&quot;As long as one…</td><td>&quot;Creature — Ali…</td><td>&quot;Creature&quot;</td><td>[&quot;UNF&quot;, &quot;UNF&quot;]</td></tr><tr><td>&quot;A Tale for the…</td><td>&quot;W&quot;</td><td>&quot;W&quot;</td><td>null</td><td>null</td><td>null</td><td>&quot;{1}{W}&quot;</td><td>2.0</td><td>null</td><td>&quot;&quot;</td><td>&quot;&quot;</td><td>null</td><td>&quot;Enchanted crea…</td><td>&quot;Enchantment&quot;</td><td>&quot;Enchantment&quot;</td><td>[&quot;WOE&quot;, &quot;WOE&quot;]</td></tr><tr><td>&hellip;</td><td>&hellip;</td><td>&hellip;</td><td>&hellip;</td><td>&hellip;</td><td>&hellip;</td><td>&hellip;</td><td>&hellip;</td><td>&hellip;</td><td>&hellip;</td><td>&hellip;</td><td>&hellip;</td><td>&hellip;</td><td>&hellip;</td><td>&hellip;</td><td>&hellip;</td></tr><tr><td>&quot;Éomer, King of…</td><td>&quot;R, W&quot;</td><td>&quot;R, W&quot;</td><td>null</td><td>&quot;Double strike&quot;</td><td>null</td><td>&quot;{3}{R}{W}&quot;</td><td>5.0</td><td>&quot;2&quot;</td><td>&quot;Human, Noble&quot;</td><td>&quot;Legendary&quot;</td><td>&quot;2&quot;</td><td>&quot;Double strike\\…</td><td>&quot;Legendary Crea…</td><td>&quot;Creature&quot;</td><td>[&quot;LTC&quot;, &quot;LTC&quot;, &quot;LTC&quot;]</td></tr><tr><td>&quot;Éomer, Marshal…</td><td>&quot;R&quot;</td><td>&quot;R&quot;</td><td>null</td><td>&quot;Haste&quot;</td><td>null</td><td>&quot;{2}{R}{R}&quot;</td><td>4.0</td><td>&quot;4&quot;</td><td>&quot;Human, Knight&quot;</td><td>&quot;Legendary&quot;</td><td>&quot;4&quot;</td><td>&quot;Haste\\nWheneve…</td><td>&quot;Legendary Crea…</td><td>&quot;Creature&quot;</td><td>[&quot;LTR&quot;, &quot;LTR&quot;, &quot;LTR&quot;]</td></tr><tr><td>&quot;Éowyn, Fearles…</td><td>&quot;R, W&quot;</td><td>&quot;R, W&quot;</td><td>null</td><td>&quot;Haste&quot;</td><td>null</td><td>&quot;{2}{R}{W}&quot;</td><td>4.0</td><td>&quot;3&quot;</td><td>&quot;Human, Knight&quot;</td><td>&quot;Legendary&quot;</td><td>&quot;4&quot;</td><td>&quot;Haste\\nWhen Éo…</td><td>&quot;Legendary Crea…</td><td>&quot;Creature&quot;</td><td>[&quot;LTR&quot;, &quot;LTR&quot;, &quot;LTR&quot;]</td></tr><tr><td>&quot;Éowyn, Lady of…</td><td>&quot;W&quot;</td><td>&quot;W&quot;</td><td>null</td><td>null</td><td>null</td><td>&quot;{2}{W}&quot;</td><td>3.0</td><td>&quot;2&quot;</td><td>&quot;Human, Noble&quot;</td><td>&quot;Legendary&quot;</td><td>&quot;4&quot;</td><td>&quot;At the beginni…</td><td>&quot;Legendary Crea…</td><td>&quot;Creature&quot;</td><td>[&quot;LTR&quot;, &quot;LTR&quot;]</td></tr><tr><td>&quot;Éowyn, Shieldm…</td><td>&quot;R, U, W&quot;</td><td>&quot;R, U, W&quot;</td><td>null</td><td>&quot;First strike&quot;</td><td>null</td><td>&quot;{2}{U}{R}{W}&quot;</td><td>5.0</td><td>&quot;5&quot;</td><td>&quot;Human, Knight&quot;</td><td>&quot;Legendary&quot;</td><td>&quot;4&quot;</td><td>&quot;First strike\\n…</td><td>&quot;Legendary Crea…</td><td>&quot;Creature&quot;</td><td>[&quot;LTC&quot;, &quot;LTC&quot;, … &quot;LTC&quot;]</td></tr></tbody></table></div>"
      ],
      "text/plain": [
       "shape: (4_657, 16)\n",
       "┌────────────┬───────────┬─────────┬───────────┬───┬───────────┬───────────┬───────────┬───────────┐\n",
       "│ name       ┆ colorIden ┆ colors  ┆ faceConve ┆ … ┆ text      ┆ type      ┆ types     ┆ setCodes  │\n",
       "│ ---        ┆ tity      ┆ ---     ┆ rtedManaC ┆   ┆ ---       ┆ ---       ┆ ---       ┆ ---       │\n",
       "│ str        ┆ ---       ┆ str     ┆ ost       ┆   ┆ str       ┆ str       ┆ str       ┆ list[str] │\n",
       "│            ┆ str       ┆         ┆ ---       ┆   ┆           ┆           ┆           ┆           │\n",
       "│            ┆           ┆         ┆ f64       ┆   ┆           ┆           ┆           ┆           │\n",
       "╞════════════╪═══════════╪═════════╪═══════════╪═══╪═══════════╪═══════════╪═══════════╪═══════════╡\n",
       "│ \"Brims\"    ┆ B, W      ┆ B, W    ┆ null      ┆ … ┆ When      ┆ Legendary ┆ Creature  ┆ [\"UNF\",   │\n",
       "│ Barone,    ┆           ┆         ┆           ┆   ┆ \"Brims\"   ┆ Creature  ┆           ┆ \"UNF\", …  │\n",
       "│ Midway     ┆           ┆         ┆           ┆   ┆ Barone,   ┆ — Human   ┆           ┆ \"UNF\"]    │\n",
       "│ Mobster    ┆           ┆         ┆           ┆   ┆ Midway    ┆ Rogue     ┆           ┆           │\n",
       "│            ┆           ┆         ┆           ┆   ┆ Mobs…     ┆           ┆           ┆           │\n",
       "│ \"Lifetime\" ┆ B         ┆ B       ┆ null      ┆ … ┆ \"Lifetime ┆ Creature  ┆ Creature  ┆ [\"UNF\",   │\n",
       "│ Pass       ┆           ┆         ┆           ┆   ┆ \" Pass    ┆ — Zombie  ┆           ┆ \"UNF\"]    │\n",
       "│ Holder     ┆           ┆         ┆           ┆   ┆ Holder    ┆ Guest     ┆           ┆           │\n",
       "│            ┆           ┆         ┆           ┆   ┆ enters    ┆           ┆           ┆           │\n",
       "│            ┆           ┆         ┆           ┆   ┆ th…       ┆           ┆           ┆           │\n",
       "│ A Good Day ┆ W         ┆ W       ┆ null      ┆ … ┆ Tap up to ┆ Instant   ┆ Instant   ┆ [\"UNF\",   │\n",
       "│ to Pie     ┆           ┆         ┆           ┆   ┆ two       ┆           ┆           ┆ \"UNF\"]    │\n",
       "│            ┆           ┆         ┆           ┆   ┆ target    ┆           ┆           ┆           │\n",
       "│            ┆           ┆         ┆           ┆   ┆ creatures ┆           ┆           ┆           │\n",
       "│            ┆           ┆         ┆           ┆   ┆ .\\…       ┆           ┆           ┆           │\n",
       "│ A Real     ┆ B         ┆ B       ┆ null      ┆ … ┆ As long   ┆ Creature  ┆ Creature  ┆ [\"UNF\",   │\n",
       "│ Handful    ┆           ┆         ┆           ┆   ┆ as one or ┆ — Alien   ┆           ┆ \"UNF\"]    │\n",
       "│            ┆           ┆         ┆           ┆   ┆ more      ┆ Child     ┆           ┆           │\n",
       "│            ┆           ┆         ┆           ┆   ┆ hands     ┆ Guest     ┆           ┆           │\n",
       "│            ┆           ┆         ┆           ┆   ┆ are…      ┆           ┆           ┆           │\n",
       "│ A Tale for ┆ W         ┆ W       ┆ null      ┆ … ┆ Enchanted ┆ Enchantme ┆ Enchantme ┆ [\"WOE\",   │\n",
       "│ the Ages   ┆           ┆         ┆           ┆   ┆ creatures ┆ nt        ┆ nt        ┆ \"WOE\"]    │\n",
       "│            ┆           ┆         ┆           ┆   ┆ you       ┆           ┆           ┆           │\n",
       "│            ┆           ┆         ┆           ┆   ┆ control … ┆           ┆           ┆           │\n",
       "│ …          ┆ …         ┆ …       ┆ …         ┆ … ┆ …         ┆ …         ┆ …         ┆ …         │\n",
       "│ Éomer,     ┆ R, W      ┆ R, W    ┆ null      ┆ … ┆ Double    ┆ Legendary ┆ Creature  ┆ [\"LTC\",   │\n",
       "│ King of    ┆           ┆         ┆           ┆   ┆ strike\\nÉ ┆ Creature  ┆           ┆ \"LTC\",    │\n",
       "│ Rohan      ┆           ┆         ┆           ┆   ┆ omer,     ┆ — Human   ┆           ┆ \"LTC\"]    │\n",
       "│            ┆           ┆         ┆           ┆   ┆ King of   ┆ Noble     ┆           ┆           │\n",
       "│            ┆           ┆         ┆           ┆   ┆ Ro…       ┆           ┆           ┆           │\n",
       "│ Éomer,     ┆ R         ┆ R       ┆ null      ┆ … ┆ Haste\\nWh ┆ Legendary ┆ Creature  ┆ [\"LTR\",   │\n",
       "│ Marshal of ┆           ┆         ┆           ┆   ┆ enever    ┆ Creature  ┆           ┆ \"LTR\",    │\n",
       "│ Rohan      ┆           ┆         ┆           ┆   ┆ one or    ┆ — Human   ┆           ┆ \"LTR\"]    │\n",
       "│            ┆           ┆         ┆           ┆   ┆ more      ┆ Knigh…    ┆           ┆           │\n",
       "│            ┆           ┆         ┆           ┆   ┆ othe…     ┆           ┆           ┆           │\n",
       "│ Éowyn,     ┆ R, W      ┆ R, W    ┆ null      ┆ … ┆ Haste\\nWh ┆ Legendary ┆ Creature  ┆ [\"LTR\",   │\n",
       "│ Fearless   ┆           ┆         ┆           ┆   ┆ en Éowyn, ┆ Creature  ┆           ┆ \"LTR\",    │\n",
       "│ Knight     ┆           ┆         ┆           ┆   ┆ Fearless  ┆ — Human   ┆           ┆ \"LTR\"]    │\n",
       "│            ┆           ┆         ┆           ┆   ┆ Knig…     ┆ Knigh…    ┆           ┆           │\n",
       "│ Éowyn,     ┆ W         ┆ W       ┆ null      ┆ … ┆ At the    ┆ Legendary ┆ Creature  ┆ [\"LTR\",   │\n",
       "│ Lady of    ┆           ┆         ┆           ┆   ┆ beginning ┆ Creature  ┆           ┆ \"LTR\"]    │\n",
       "│ Rohan      ┆           ┆         ┆           ┆   ┆ of combat ┆ — Human   ┆           ┆           │\n",
       "│            ┆           ┆         ┆           ┆   ┆ on yo…    ┆ Noble     ┆           ┆           │\n",
       "│ Éowyn, Shi ┆ R, U, W   ┆ R, U, W ┆ null      ┆ … ┆ First str ┆ Legendary ┆ Creature  ┆ [\"LTC\",   │\n",
       "│ eldmaiden  ┆           ┆         ┆           ┆   ┆ ike\\nAt   ┆ Creature  ┆           ┆ \"LTC\", …  │\n",
       "│            ┆           ┆         ┆           ┆   ┆ the       ┆ — Human   ┆           ┆ \"LTC\"]    │\n",
       "│            ┆           ┆         ┆           ┆   ┆ beginning ┆ Knigh…    ┆           ┆           │\n",
       "│            ┆           ┆         ┆           ┆   ┆ o…        ┆           ┆           ┆           │\n",
       "└────────────┴───────────┴─────────┴───────────┴───┴───────────┴───────────┴───────────┴───────────┘"
      ]
     },
     "execution_count": 18,
     "metadata": {},
     "output_type": "execute_result"
    }
   ],
   "source": [
    "\n",
    "collapsed_df = collapse_sets(main_sets_cards)\n",
    "\n",
    "# filter rows where length of setCodes list > 1\n",
    "collapsed_df.filter(pl.col(\"setCodes\").map_elements(lambda s: len(s) != 1))"
   ]
  },
  {
   "cell_type": "code",
   "execution_count": 19,
   "metadata": {},
   "outputs": [
    {
     "data": {
      "text/html": [
       "<div><style>\n",
       ".dataframe > thead > tr,\n",
       ".dataframe > tbody > tr {\n",
       "  text-align: right;\n",
       "  white-space: pre-wrap;\n",
       "}\n",
       "</style>\n",
       "<small>shape: (9_664, 16)</small><table border=\"1\" class=\"dataframe\"><thead><tr><th>name</th><th>colorIdentity</th><th>colors</th><th>faceConvertedManaCost</th><th>keywords</th><th>loyalty</th><th>manaCost</th><th>manaValue</th><th>power</th><th>subtypes</th><th>supertypes</th><th>toughness</th><th>text</th><th>type</th><th>types</th><th>setCodes</th></tr><tr><td>str</td><td>str</td><td>str</td><td>f64</td><td>str</td><td>str</td><td>str</td><td>f64</td><td>str</td><td>str</td><td>str</td><td>str</td><td>str</td><td>str</td><td>str</td><td>list[str]</td></tr></thead><tbody><tr><td>&quot;&quot;Brims&quot; Barone…</td><td>&quot;B, W&quot;</td><td>&quot;B, W&quot;</td><td>null</td><td>null</td><td>null</td><td>&quot;{3}{W}{B}&quot;</td><td>5.0</td><td>&quot;5&quot;</td><td>&quot;Human, Rogue&quot;</td><td>&quot;Legendary&quot;</td><td>&quot;4&quot;</td><td>&quot;When &quot;Brims&quot; B…</td><td>&quot;Legendary Crea…</td><td>&quot;Creature&quot;</td><td>[&quot;UNF&quot;, &quot;UNF&quot;, … &quot;UNF&quot;]</td></tr><tr><td>&quot;&quot;Lifetime&quot; Pas…</td><td>&quot;B&quot;</td><td>&quot;B&quot;</td><td>null</td><td>&quot;Open an Attrac…</td><td>null</td><td>&quot;{B}&quot;</td><td>1.0</td><td>&quot;2&quot;</td><td>&quot;Zombie, Guest&quot;</td><td>&quot;&quot;</td><td>&quot;1&quot;</td><td>&quot;&quot;Lifetime&quot; Pas…</td><td>&quot;Creature — Zom…</td><td>&quot;Creature&quot;</td><td>[&quot;UNF&quot;, &quot;UNF&quot;]</td></tr><tr><td>&quot;&quot;Name Sticker&quot;…</td><td>&quot;R&quot;</td><td>&quot;R&quot;</td><td>null</td><td>null</td><td>null</td><td>&quot;{2}{R}&quot;</td><td>3.0</td><td>&quot;2&quot;</td><td>&quot;Goblin, Guest&quot;</td><td>&quot;&quot;</td><td>&quot;2&quot;</td><td>&quot;When this crea…</td><td>&quot;Creature — Gob…</td><td>&quot;Creature&quot;</td><td>[&quot;UNF&quot;]</td></tr><tr><td>&quot;+2 Mace&quot;</td><td>&quot;W&quot;</td><td>&quot;W&quot;</td><td>null</td><td>&quot;Equip&quot;</td><td>null</td><td>&quot;{1}{W}&quot;</td><td>2.0</td><td>null</td><td>&quot;Equipment&quot;</td><td>&quot;&quot;</td><td>null</td><td>&quot;Equipped creat…</td><td>&quot;Artifact — Equ…</td><td>&quot;Artifact&quot;</td><td>[&quot;AFR&quot;]</td></tr><tr><td>&quot;A Good Day to …</td><td>&quot;W&quot;</td><td>&quot;W&quot;</td><td>null</td><td>null</td><td>null</td><td>&quot;{1}{W}&quot;</td><td>2.0</td><td>null</td><td>&quot;&quot;</td><td>&quot;&quot;</td><td>null</td><td>&quot;Tap up to two …</td><td>&quot;Instant&quot;</td><td>&quot;Instant&quot;</td><td>[&quot;UNF&quot;, &quot;UNF&quot;]</td></tr><tr><td>&hellip;</td><td>&hellip;</td><td>&hellip;</td><td>&hellip;</td><td>&hellip;</td><td>&hellip;</td><td>&hellip;</td><td>&hellip;</td><td>&hellip;</td><td>&hellip;</td><td>&hellip;</td><td>&hellip;</td><td>&hellip;</td><td>&hellip;</td><td>&hellip;</td><td>&hellip;</td></tr><tr><td>&quot;Éomer, King of…</td><td>&quot;R, W&quot;</td><td>&quot;R, W&quot;</td><td>null</td><td>&quot;Double strike&quot;</td><td>null</td><td>&quot;{3}{R}{W}&quot;</td><td>5.0</td><td>&quot;2&quot;</td><td>&quot;Human, Noble&quot;</td><td>&quot;Legendary&quot;</td><td>&quot;2&quot;</td><td>&quot;Double strike\\…</td><td>&quot;Legendary Crea…</td><td>&quot;Creature&quot;</td><td>[&quot;LTC&quot;, &quot;LTC&quot;, &quot;LTC&quot;]</td></tr><tr><td>&quot;Éomer, Marshal…</td><td>&quot;R&quot;</td><td>&quot;R&quot;</td><td>null</td><td>&quot;Haste&quot;</td><td>null</td><td>&quot;{2}{R}{R}&quot;</td><td>4.0</td><td>&quot;4&quot;</td><td>&quot;Human, Knight&quot;</td><td>&quot;Legendary&quot;</td><td>&quot;4&quot;</td><td>&quot;Haste\\nWheneve…</td><td>&quot;Legendary Crea…</td><td>&quot;Creature&quot;</td><td>[&quot;LTR&quot;, &quot;LTR&quot;, &quot;LTR&quot;]</td></tr><tr><td>&quot;Éowyn, Fearles…</td><td>&quot;R, W&quot;</td><td>&quot;R, W&quot;</td><td>null</td><td>&quot;Haste&quot;</td><td>null</td><td>&quot;{2}{R}{W}&quot;</td><td>4.0</td><td>&quot;3&quot;</td><td>&quot;Human, Knight&quot;</td><td>&quot;Legendary&quot;</td><td>&quot;4&quot;</td><td>&quot;Haste\\nWhen Éo…</td><td>&quot;Legendary Crea…</td><td>&quot;Creature&quot;</td><td>[&quot;LTR&quot;, &quot;LTR&quot;, &quot;LTR&quot;]</td></tr><tr><td>&quot;Éowyn, Lady of…</td><td>&quot;W&quot;</td><td>&quot;W&quot;</td><td>null</td><td>null</td><td>null</td><td>&quot;{2}{W}&quot;</td><td>3.0</td><td>&quot;2&quot;</td><td>&quot;Human, Noble&quot;</td><td>&quot;Legendary&quot;</td><td>&quot;4&quot;</td><td>&quot;At the beginni…</td><td>&quot;Legendary Crea…</td><td>&quot;Creature&quot;</td><td>[&quot;LTR&quot;, &quot;LTR&quot;]</td></tr><tr><td>&quot;Éowyn, Shieldm…</td><td>&quot;R, U, W&quot;</td><td>&quot;R, U, W&quot;</td><td>null</td><td>&quot;First strike&quot;</td><td>null</td><td>&quot;{2}{U}{R}{W}&quot;</td><td>5.0</td><td>&quot;5&quot;</td><td>&quot;Human, Knight&quot;</td><td>&quot;Legendary&quot;</td><td>&quot;4&quot;</td><td>&quot;First strike\\n…</td><td>&quot;Legendary Crea…</td><td>&quot;Creature&quot;</td><td>[&quot;LTC&quot;, &quot;LTC&quot;, … &quot;LTC&quot;]</td></tr></tbody></table></div>"
      ],
      "text/plain": [
       "shape: (9_664, 16)\n",
       "┌────────────┬────────────┬─────────┬───────────┬───┬───────────┬───────────┬──────────┬───────────┐\n",
       "│ name       ┆ colorIdent ┆ colors  ┆ faceConve ┆ … ┆ text      ┆ type      ┆ types    ┆ setCodes  │\n",
       "│ ---        ┆ ity        ┆ ---     ┆ rtedManaC ┆   ┆ ---       ┆ ---       ┆ ---      ┆ ---       │\n",
       "│ str        ┆ ---        ┆ str     ┆ ost       ┆   ┆ str       ┆ str       ┆ str      ┆ list[str] │\n",
       "│            ┆ str        ┆         ┆ ---       ┆   ┆           ┆           ┆          ┆           │\n",
       "│            ┆            ┆         ┆ f64       ┆   ┆           ┆           ┆          ┆           │\n",
       "╞════════════╪════════════╪═════════╪═══════════╪═══╪═══════════╪═══════════╪══════════╪═══════════╡\n",
       "│ \"Brims\"    ┆ B, W       ┆ B, W    ┆ null      ┆ … ┆ When      ┆ Legendary ┆ Creature ┆ [\"UNF\",   │\n",
       "│ Barone,    ┆            ┆         ┆           ┆   ┆ \"Brims\"   ┆ Creature  ┆          ┆ \"UNF\", …  │\n",
       "│ Midway     ┆            ┆         ┆           ┆   ┆ Barone,   ┆ — Human   ┆          ┆ \"UNF\"]    │\n",
       "│ Mobster    ┆            ┆         ┆           ┆   ┆ Midway    ┆ Rogue     ┆          ┆           │\n",
       "│            ┆            ┆         ┆           ┆   ┆ Mobs…     ┆           ┆          ┆           │\n",
       "│ \"Lifetime\" ┆ B          ┆ B       ┆ null      ┆ … ┆ \"Lifetime ┆ Creature  ┆ Creature ┆ [\"UNF\",   │\n",
       "│ Pass       ┆            ┆         ┆           ┆   ┆ \" Pass    ┆ — Zombie  ┆          ┆ \"UNF\"]    │\n",
       "│ Holder     ┆            ┆         ┆           ┆   ┆ Holder    ┆ Guest     ┆          ┆           │\n",
       "│            ┆            ┆         ┆           ┆   ┆ enters    ┆           ┆          ┆           │\n",
       "│            ┆            ┆         ┆           ┆   ┆ th…       ┆           ┆          ┆           │\n",
       "│ \"Name      ┆ R          ┆ R       ┆ null      ┆ … ┆ When this ┆ Creature  ┆ Creature ┆ [\"UNF\"]   │\n",
       "│ Sticker\"   ┆            ┆         ┆           ┆   ┆ creature  ┆ — Goblin  ┆          ┆           │\n",
       "│ Goblin     ┆            ┆         ┆           ┆   ┆ enters    ┆ Guest     ┆          ┆           │\n",
       "│            ┆            ┆         ┆           ┆   ┆ the ba…   ┆           ┆          ┆           │\n",
       "│ +2 Mace    ┆ W          ┆ W       ┆ null      ┆ … ┆ Equipped  ┆ Artifact  ┆ Artifact ┆ [\"AFR\"]   │\n",
       "│            ┆            ┆         ┆           ┆   ┆ creature  ┆ —         ┆          ┆           │\n",
       "│            ┆            ┆         ┆           ┆   ┆ gets +2/+ ┆ Equipment ┆          ┆           │\n",
       "│            ┆            ┆         ┆           ┆   ┆ 2.\\nE…    ┆           ┆          ┆           │\n",
       "│ A Good Day ┆ W          ┆ W       ┆ null      ┆ … ┆ Tap up to ┆ Instant   ┆ Instant  ┆ [\"UNF\",   │\n",
       "│ to Pie     ┆            ┆         ┆           ┆   ┆ two       ┆           ┆          ┆ \"UNF\"]    │\n",
       "│            ┆            ┆         ┆           ┆   ┆ target    ┆           ┆          ┆           │\n",
       "│            ┆            ┆         ┆           ┆   ┆ creatures ┆           ┆          ┆           │\n",
       "│            ┆            ┆         ┆           ┆   ┆ .\\…       ┆           ┆          ┆           │\n",
       "│ …          ┆ …          ┆ …       ┆ …         ┆ … ┆ …         ┆ …         ┆ …        ┆ …         │\n",
       "│ Éomer,     ┆ R, W       ┆ R, W    ┆ null      ┆ … ┆ Double    ┆ Legendary ┆ Creature ┆ [\"LTC\",   │\n",
       "│ King of    ┆            ┆         ┆           ┆   ┆ strike\\nÉ ┆ Creature  ┆          ┆ \"LTC\",    │\n",
       "│ Rohan      ┆            ┆         ┆           ┆   ┆ omer,     ┆ — Human   ┆          ┆ \"LTC\"]    │\n",
       "│            ┆            ┆         ┆           ┆   ┆ King of   ┆ Noble     ┆          ┆           │\n",
       "│            ┆            ┆         ┆           ┆   ┆ Ro…       ┆           ┆          ┆           │\n",
       "│ Éomer,     ┆ R          ┆ R       ┆ null      ┆ … ┆ Haste\\nWh ┆ Legendary ┆ Creature ┆ [\"LTR\",   │\n",
       "│ Marshal of ┆            ┆         ┆           ┆   ┆ enever    ┆ Creature  ┆          ┆ \"LTR\",    │\n",
       "│ Rohan      ┆            ┆         ┆           ┆   ┆ one or    ┆ — Human   ┆          ┆ \"LTR\"]    │\n",
       "│            ┆            ┆         ┆           ┆   ┆ more      ┆ Knigh…    ┆          ┆           │\n",
       "│            ┆            ┆         ┆           ┆   ┆ othe…     ┆           ┆          ┆           │\n",
       "│ Éowyn,     ┆ R, W       ┆ R, W    ┆ null      ┆ … ┆ Haste\\nWh ┆ Legendary ┆ Creature ┆ [\"LTR\",   │\n",
       "│ Fearless   ┆            ┆         ┆           ┆   ┆ en Éowyn, ┆ Creature  ┆          ┆ \"LTR\",    │\n",
       "│ Knight     ┆            ┆         ┆           ┆   ┆ Fearless  ┆ — Human   ┆          ┆ \"LTR\"]    │\n",
       "│            ┆            ┆         ┆           ┆   ┆ Knig…     ┆ Knigh…    ┆          ┆           │\n",
       "│ Éowyn,     ┆ W          ┆ W       ┆ null      ┆ … ┆ At the    ┆ Legendary ┆ Creature ┆ [\"LTR\",   │\n",
       "│ Lady of    ┆            ┆         ┆           ┆   ┆ beginning ┆ Creature  ┆          ┆ \"LTR\"]    │\n",
       "│ Rohan      ┆            ┆         ┆           ┆   ┆ of combat ┆ — Human   ┆          ┆           │\n",
       "│            ┆            ┆         ┆           ┆   ┆ on yo…    ┆ Noble     ┆          ┆           │\n",
       "│ Éowyn, Shi ┆ R, U, W    ┆ R, U, W ┆ null      ┆ … ┆ First str ┆ Legendary ┆ Creature ┆ [\"LTC\",   │\n",
       "│ eldmaiden  ┆            ┆         ┆           ┆   ┆ ike\\nAt   ┆ Creature  ┆          ┆ \"LTC\", …  │\n",
       "│            ┆            ┆         ┆           ┆   ┆ the       ┆ — Human   ┆          ┆ \"LTC\"]    │\n",
       "│            ┆            ┆         ┆           ┆   ┆ beginning ┆ Knigh…    ┆          ┆           │\n",
       "│            ┆            ┆         ┆           ┆   ┆ o…        ┆           ┆          ┆           │\n",
       "└────────────┴────────────┴─────────┴───────────┴───┴───────────┴───────────┴──────────┴───────────┘"
      ]
     },
     "execution_count": 19,
     "metadata": {},
     "output_type": "execute_result"
    }
   ],
   "source": [
    "#  print cards with multiple setCodes\n",
    "collapsed_df"
   ]
  },
  {
   "cell_type": "code",
   "execution_count": 20,
   "metadata": {},
   "outputs": [
    {
     "data": {
      "text/html": [
       "<div><style>\n",
       ".dataframe > thead > tr,\n",
       ".dataframe > tbody > tr {\n",
       "  text-align: right;\n",
       "  white-space: pre-wrap;\n",
       "}\n",
       "</style>\n",
       "<small>shape: (8_794, 2)</small><table border=\"1\" class=\"dataframe\"><thead><tr><th>name</th><th>len</th></tr><tr><td>str</td><td>u32</td></tr></thead><tbody><tr><td>&quot;Armored Skyhun…</td><td>1</td></tr><tr><td>&quot;Asinine Antics…</td><td>1</td></tr><tr><td>&quot;Hallowed Spiri…</td><td>1</td></tr><tr><td>&quot;Necron Overlor…</td><td>1</td></tr><tr><td>&quot;Overgrown Tomb…</td><td>1</td></tr><tr><td>&hellip;</td><td>&hellip;</td></tr><tr><td>&quot;Wort, the Raid…</td><td>1</td></tr><tr><td>&quot;Out of Air&quot;</td><td>1</td></tr><tr><td>&quot;Ancient Animus…</td><td>1</td></tr><tr><td>&quot;Relentless Ass…</td><td>1</td></tr><tr><td>&quot;Sea Gate Banne…</td><td>1</td></tr></tbody></table></div>"
      ],
      "text/plain": [
       "shape: (8_794, 2)\n",
       "┌───────────────────────┬─────┐\n",
       "│ name                  ┆ len │\n",
       "│ ---                   ┆ --- │\n",
       "│ str                   ┆ u32 │\n",
       "╞═══════════════════════╪═════╡\n",
       "│ Armored Skyhunter     ┆ 1   │\n",
       "│ Asinine Antics        ┆ 1   │\n",
       "│ Hallowed Spiritkeeper ┆ 1   │\n",
       "│ Necron Overlord       ┆ 1   │\n",
       "│ Overgrown Tomb        ┆ 1   │\n",
       "│ …                     ┆ …   │\n",
       "│ Wort, the Raidmother  ┆ 1   │\n",
       "│ Out of Air            ┆ 1   │\n",
       "│ Ancient Animus        ┆ 1   │\n",
       "│ Relentless Assault    ┆ 1   │\n",
       "│ Sea Gate Banneret     ┆ 1   │\n",
       "└───────────────────────┴─────┘"
      ]
     },
     "execution_count": 20,
     "metadata": {},
     "output_type": "execute_result"
    }
   ],
   "source": [
    "# count cards by name and filter above 1\n",
    "collapsed_df.group_by(\"name\").len().filter(pl.col(\"len\") == 1)"
   ]
  },
  {
   "cell_type": "code",
   "execution_count": 21,
   "metadata": {},
   "outputs": [
    {
     "data": {
      "text/html": [
       "<div><style>\n",
       ".dataframe > thead > tr,\n",
       ".dataframe > tbody > tr {\n",
       "  text-align: right;\n",
       "  white-space: pre-wrap;\n",
       "}\n",
       "</style>\n",
       "<small>shape: (9, 17)</small><table border=\"1\" class=\"dataframe\"><thead><tr><th>statistic</th><th>name</th><th>colorIdentity</th><th>colors</th><th>faceConvertedManaCost</th><th>keywords</th><th>loyalty</th><th>manaCost</th><th>manaValue</th><th>power</th><th>subtypes</th><th>supertypes</th><th>toughness</th><th>text</th><th>type</th><th>types</th><th>setCodes</th></tr><tr><td>str</td><td>str</td><td>str</td><td>str</td><td>f64</td><td>str</td><td>str</td><td>str</td><td>f64</td><td>str</td><td>str</td><td>str</td><td>str</td><td>str</td><td>str</td><td>str</td><td>f64</td></tr></thead><tbody><tr><td>&quot;count&quot;</td><td>&quot;9664&quot;</td><td>&quot;9664&quot;</td><td>&quot;9664&quot;</td><td>861.0</td><td>&quot;5151&quot;</td><td>&quot;116&quot;</td><td>&quot;8776&quot;</td><td>9664.0</td><td>&quot;5202&quot;</td><td>&quot;9664&quot;</td><td>&quot;9664&quot;</td><td>&quot;5202&quot;</td><td>&quot;9626&quot;</td><td>&quot;9664&quot;</td><td>&quot;9664&quot;</td><td>9664.0</td></tr><tr><td>&quot;null_count&quot;</td><td>&quot;0&quot;</td><td>&quot;0&quot;</td><td>&quot;0&quot;</td><td>8803.0</td><td>&quot;4513&quot;</td><td>&quot;9548&quot;</td><td>&quot;888&quot;</td><td>0.0</td><td>&quot;4462&quot;</td><td>&quot;0&quot;</td><td>&quot;0&quot;</td><td>&quot;4462&quot;</td><td>&quot;38&quot;</td><td>&quot;0&quot;</td><td>&quot;0&quot;</td><td>0.0</td></tr><tr><td>&quot;mean&quot;</td><td>null</td><td>null</td><td>null</td><td>2.154472</td><td>null</td><td>null</td><td>null</td><td>3.21844</td><td>null</td><td>null</td><td>null</td><td>null</td><td>null</td><td>null</td><td>null</td><td>null</td></tr><tr><td>&quot;std&quot;</td><td>null</td><td>null</td><td>null</td><td>1.99256</td><td>null</td><td>null</td><td>null</td><td>1.813454</td><td>null</td><td>null</td><td>null</td><td>null</td><td>null</td><td>null</td><td>null</td><td>null</td></tr><tr><td>&quot;min&quot;</td><td>&quot;&quot;Brims&quot; Barone…</td><td>&quot;&quot;</td><td>&quot;&quot;</td><td>0.0</td><td>&quot;A Thousand Sou…</td><td>&quot;0&quot;</td><td>&quot;{0}&quot;</td><td>0.0</td><td>&quot;*&quot;</td><td>&quot;&quot;</td><td>&quot;&quot;</td><td>&quot;*&quot;</td><td>&quot;&quot;Lifetime&quot; Pas…</td><td>&quot;Artifact&quot;</td><td>&quot;Artifact&quot;</td><td>null</td></tr><tr><td>&quot;25%&quot;</td><td>null</td><td>null</td><td>null</td><td>0.0</td><td>null</td><td>null</td><td>null</td><td>2.0</td><td>null</td><td>null</td><td>null</td><td>null</td><td>null</td><td>null</td><td>null</td><td>null</td></tr><tr><td>&quot;50%&quot;</td><td>null</td><td>null</td><td>null</td><td>2.0</td><td>null</td><td>null</td><td>null</td><td>3.0</td><td>null</td><td>null</td><td>null</td><td>null</td><td>null</td><td>null</td><td>null</td><td>null</td></tr><tr><td>&quot;75%&quot;</td><td>null</td><td>null</td><td>null</td><td>3.0</td><td>null</td><td>null</td><td>null</td><td>4.0</td><td>null</td><td>null</td><td>null</td><td>null</td><td>null</td><td>null</td><td>null</td><td>null</td></tr><tr><td>&quot;max&quot;</td><td>&quot;Éowyn, Shieldm…</td><td>&quot;W&quot;</td><td>&quot;W, U&quot;</td><td>10.0</td><td>&quot;Wind Walk&quot;</td><td>&quot;X&quot;</td><td>&quot;{X}{X}{X}{R}{R…</td><td>15.0</td><td>&quot;9&quot;</td><td>&quot;Zombie, Wizard…</td><td>&quot;Snow&quot;</td><td>&quot;9&quot;</td><td>&quot;{X}{X}{G}: Mon…</td><td>&quot;Tribal Sorcery…</td><td>&quot;Tribal, Sorcer…</td><td>null</td></tr></tbody></table></div>"
      ],
      "text/plain": [
       "shape: (9, 17)\n",
       "┌────────────┬────────────┬────────────┬────────┬───┬───────────┬───────────┬───────────┬──────────┐\n",
       "│ statistic  ┆ name       ┆ colorIdent ┆ colors ┆ … ┆ text      ┆ type      ┆ types     ┆ setCodes │\n",
       "│ ---        ┆ ---        ┆ ity        ┆ ---    ┆   ┆ ---       ┆ ---       ┆ ---       ┆ ---      │\n",
       "│ str        ┆ str        ┆ ---        ┆ str    ┆   ┆ str       ┆ str       ┆ str       ┆ f64      │\n",
       "│            ┆            ┆ str        ┆        ┆   ┆           ┆           ┆           ┆          │\n",
       "╞════════════╪════════════╪════════════╪════════╪═══╪═══════════╪═══════════╪═══════════╪══════════╡\n",
       "│ count      ┆ 9664       ┆ 9664       ┆ 9664   ┆ … ┆ 9626      ┆ 9664      ┆ 9664      ┆ 9664.0   │\n",
       "│ null_count ┆ 0          ┆ 0          ┆ 0      ┆ … ┆ 38        ┆ 0         ┆ 0         ┆ 0.0      │\n",
       "│ mean       ┆ null       ┆ null       ┆ null   ┆ … ┆ null      ┆ null      ┆ null      ┆ null     │\n",
       "│ std        ┆ null       ┆ null       ┆ null   ┆ … ┆ null      ┆ null      ┆ null      ┆ null     │\n",
       "│ min        ┆ \"Brims\"    ┆            ┆        ┆ … ┆ \"Lifetime ┆ Artifact  ┆ Artifact  ┆ null     │\n",
       "│            ┆ Barone,    ┆            ┆        ┆   ┆ \" Pass    ┆           ┆           ┆          │\n",
       "│            ┆ Midway     ┆            ┆        ┆   ┆ Holder    ┆           ┆           ┆          │\n",
       "│            ┆ Mobster    ┆            ┆        ┆   ┆ enters    ┆           ┆           ┆          │\n",
       "│            ┆            ┆            ┆        ┆   ┆ th…       ┆           ┆           ┆          │\n",
       "│ 25%        ┆ null       ┆ null       ┆ null   ┆ … ┆ null      ┆ null      ┆ null      ┆ null     │\n",
       "│ 50%        ┆ null       ┆ null       ┆ null   ┆ … ┆ null      ┆ null      ┆ null      ┆ null     │\n",
       "│ 75%        ┆ null       ┆ null       ┆ null   ┆ … ┆ null      ┆ null      ┆ null      ┆ null     │\n",
       "│ max        ┆ Éowyn, Shi ┆ W          ┆ W, U   ┆ … ┆ {X}{X}{G} ┆ Tribal    ┆ Tribal,   ┆ null     │\n",
       "│            ┆ eldmaiden  ┆            ┆        ┆   ┆ : Monstro ┆ Sorcery — ┆ Sorcery   ┆          │\n",
       "│            ┆            ┆            ┆        ┆   ┆ sity X.   ┆ Rogue     ┆           ┆          │\n",
       "│            ┆            ┆            ┆        ┆   ┆ (If th…   ┆           ┆           ┆          │\n",
       "└────────────┴────────────┴────────────┴────────┴───┴───────────┴───────────┴───────────┴──────────┘"
      ]
     },
     "execution_count": 21,
     "metadata": {},
     "output_type": "execute_result"
    }
   ],
   "source": [
    "# order by length of setCodes list, largest first\n",
    "collapsed_df.sort(pl.col(\"setCodes\").map_elements(lambda s: len(s)), descending=True).describe()"
   ]
  },
  {
   "cell_type": "code",
   "execution_count": 51,
   "metadata": {},
   "outputs": [
    {
     "data": {
      "text/plain": [
       "10"
      ]
     },
     "execution_count": 51,
     "metadata": {},
     "output_type": "execute_result"
    }
   ],
   "source": [
    "cleaned_collapsed_df = collapsed_df.with_columns(\n",
    "    page_content=pl.col(\"type\")\n",
    "    + pl.col(\"text\").fill_null(\"\")\n",
    "    + pl.col(\"keywords\").fill_null(\"\"),\n",
    ").slice(0, 10)\n",
    "\n",
    "len(cleaned_collapsed_df)"
   ]
  },
  {
   "cell_type": "code",
   "execution_count": 52,
   "metadata": {},
   "outputs": [
    {
     "data": {
      "text/plain": [
       "10"
      ]
     },
     "execution_count": 52,
     "metadata": {},
     "output_type": "execute_result"
    }
   ],
   "source": [
    "loader = PolarsDataFrameLoader(cleaned_collapsed_df, page_content_column=\"page_content\")\n",
    "\n",
    "documents = loader.load()\n",
    "\n",
    "len(documents)"
   ]
  },
  {
   "cell_type": "code",
   "execution_count": 77,
   "metadata": {},
   "outputs": [
    {
     "data": {
      "text/plain": [
       "Document(page_content='Legendary Creature — Human RogueWhen \"Brims\" Barone, Midway Mobster enters the battlefield, put a +1/+1 counter on each other creature you control that has a hat.\\\\n\"Brims\" Barone, Midway Mobster has menace as long as you\\'re wearing a hat.', metadata={'name': '\"Brims\" Barone, Midway Mobster', 'colorIdentity': 'B, W', 'colors': 'B, W', 'faceConvertedManaCost': None, 'keywords': None, 'loyalty': None, 'manaCost': '{3}{W}{B}', 'manaValue': 5.0, 'power': '5', 'subtypes': 'Human, Rogue', 'supertypes': 'Legendary', 'toughness': '4', 'text': 'When \"Brims\" Barone, Midway Mobster enters the battlefield, put a +1/+1 counter on each other creature you control that has a hat.\\\\n\"Brims\" Barone, Midway Mobster has menace as long as you\\'re wearing a hat.', 'type': 'Legendary Creature — Human Rogue', 'types': 'Creature', 'setCodes': ['UNF', 'UNF', 'UNF', 'UNF']})"
      ]
     },
     "execution_count": 77,
     "metadata": {},
     "output_type": "execute_result"
    }
   ],
   "source": [
    "documents[0]"
   ]
  },
  {
   "cell_type": "code",
   "execution_count": 76,
   "metadata": {},
   "outputs": [
    {
     "data": {
      "text/plain": [
       "True"
      ]
     },
     "execution_count": 76,
     "metadata": {},
     "output_type": "execute_result"
    }
   ],
   "source": [
    "import dotenv\n",
    "\n",
    "dotenv.load_dotenv()\n"
   ]
  },
  {
   "cell_type": "code",
   "execution_count": 68,
   "metadata": {},
   "outputs": [],
   "source": [
    "from langchain.embeddings import OpenAIEmbeddings\n",
    "from langchain.vectorstores import LanceDB\n",
    "\n",
    "embeddings = OpenAIEmbeddings(model=\"text-embedding-3-large\")"
   ]
  },
  {
   "cell_type": "code",
   "execution_count": 69,
   "metadata": {},
   "outputs": [
    {
     "name": "stderr",
     "output_type": "stream",
     "text": [
      "[2024-03-13T17:47:59Z WARN  lance::dataset] No existing dataset at /tmp/lancedb/vectorstore.lance, it will be created\n"
     ]
    }
   ],
   "source": [
    "docsearch = LanceDB.from_documents(documents, embeddings) \n"
   ]
  },
  {
   "cell_type": "code",
   "execution_count": 80,
   "metadata": {},
   "outputs": [
    {
     "name": "stdout",
     "output_type": "stream",
     "text": [
      "Casualty 1 (As you cast this spell, you may sacrifice a creature with power 1 or greater. When you do, copy this spell.)\\nLook at the top two cards of your library. Put one of them into your hand and the other on the bottom of your library.\n",
      "<class 'langchain_core.documents.base.Document'>\n",
      "When Acererak the Archlich enters the battlefield, if you haven't completed Tomb of Annihilation, return Acererak the Archlich to its owner's hand and venture into the dungeon.\\nWhenever Acererak the Archlich attacks, create a number of 2/2 black Zombie creature tokens equal to the number of opponents you have.\n",
      "<class 'langchain_core.documents.base.Document'>\n",
      "When this creature enters the battlefield from anywhere other than a graveyard or exile, if it's on the battlefield and you control 9 or fewer creatures named \"Name Sticker\" Goblin, roll a 20-sided die.\\n1-6 | Add {R}{R}{R}{R}.\\n7-14 | Add {R}{R}{R}{R}{R}.\\n15-20 | Add {R}{R}{R}{R}{R}{R}.\n",
      "<class 'langchain_core.documents.base.Document'>\n",
      "\"Lifetime\" Pass Holder enters the battlefield tapped.\\nWhen \"Lifetime\" Pass Holder dies, open an Attraction.\\nWhenever you roll to visit your Attractions, if you roll a 6, you may return \"Lifetime\" Pass Holder from your graveyard to the battlefield.\n",
      "<class 'langchain_core.documents.base.Document'>\n"
     ]
    }
   ],
   "source": [
    "\n",
    "query = \"Exile permenant. Draw a card.\"\n",
    "docs = docsearch.similarity_search(query) #FIXME: Documents have metadata, but table doesn't?\n",
    "\n",
    "#print docs page content\n",
    "for doc in docs:\n",
    "    print(doc.page_content)\n",
    "    # print keys in doc\n",
    "    print(type(doc))"
   ]
  }
 ],
 "metadata": {
  "kernelspec": {
   "display_name": "Python 3",
   "language": "python",
   "name": "python3"
  },
  "language_info": {
   "codemirror_mode": {
    "name": "ipython",
    "version": 3
   },
   "file_extension": ".py",
   "mimetype": "text/x-python",
   "name": "python",
   "nbconvert_exporter": "python",
   "pygments_lexer": "ipython3",
   "version": "3.12.0"
  }
 },
 "nbformat": 4,
 "nbformat_minor": 2
}
