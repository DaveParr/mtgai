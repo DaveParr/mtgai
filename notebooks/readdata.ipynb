{
 "cells": [
  {
   "cell_type": "markdown",
   "metadata": {},
   "source": [
    "## Data Loading and Initial Exploration"
   ]
  },
  {
   "cell_type": "code",
   "execution_count": 1,
   "metadata": {},
   "outputs": [],
   "source": [
    "import polars as pl"
   ]
  },
  {
   "cell_type": "code",
   "execution_count": 2,
   "metadata": {},
   "outputs": [
    {
     "name": "stdout",
     "output_type": "stream",
     "text": [
      "shape: (90_857, 78)\n",
      "┌───────────┬───────────┬───────────┬───────────┬───┬──────────┬───────────┬───────────┬───────────┐\n",
      "│ artist    ┆ artistIds ┆ asciiName ┆ attractio ┆ … ┆ types    ┆ uuid      ┆ variation ┆ watermark │\n",
      "│ ---       ┆ ---       ┆ ---       ┆ nLights   ┆   ┆ ---      ┆ ---       ┆ s         ┆ ---       │\n",
      "│ str       ┆ str       ┆ str       ┆ ---       ┆   ┆ str      ┆ str       ┆ ---       ┆ str       │\n",
      "│           ┆           ┆           ┆ str       ┆   ┆          ┆           ┆ str       ┆           │\n",
      "╞═══════════╪═══════════╪═══════════╪═══════════╪═══╪══════════╪═══════════╪═══════════╪═══════════╡\n",
      "│ Pete      ┆ d54c4a1a- ┆ null      ┆ null      ┆ … ┆ Creature ┆ 5f8287b1- ┆ b7c19924- ┆ null      │\n",
      "│ Venters   ┆ c0c5-4834 ┆           ┆           ┆   ┆          ┆ 5bb6-5f4c ┆ b4bf-56fc ┆           │\n",
      "│           ┆ -84db-125 ┆           ┆           ┆   ┆          ┆ -ad17-316 ┆ -aa73-f58 ┆           │\n",
      "│           ┆ d341f…    ┆           ┆           ┆   ┆          ┆ a40d5…    ┆ 6e940…    ┆           │\n",
      "│ Pete      ┆ d54c4a1a- ┆ null      ┆ null      ┆ … ┆ Creature ┆ b7c19924- ┆ 5f8287b1- ┆ null      │\n",
      "│ Venters   ┆ c0c5-4834 ┆           ┆           ┆   ┆          ┆ b4bf-56fc ┆ 5bb6-5f4c ┆           │\n",
      "│           ┆ -84db-125 ┆           ┆           ┆   ┆          ┆ -aa73-f58 ┆ -ad17-316 ┆           │\n",
      "│           ┆ d341f…    ┆           ┆           ┆   ┆          ┆ 6e940…    ┆ a40d5…    ┆           │\n",
      "│ Volkan    ┆ 93bec3c0- ┆ null      ┆ null      ┆ … ┆ Creature ┆ 57aaebc1- ┆ 8fd4e2eb- ┆ null      │\n",
      "│ Baǵa      ┆ 0260-4d31 ┆           ┆           ┆   ┆          ┆ 850c-503d ┆ 3eb4-50ea ┆           │\n",
      "│           ┆ -8064-5d0 ┆           ┆           ┆   ┆          ┆ -9f6e-bb8 ┆ -856b-ef6 ┆           │\n",
      "│           ┆ 1efb4…    ┆           ┆           ┆   ┆          ┆ d00d8…    ┆ 38fa4…    ┆           │\n",
      "│ Volkan    ┆ 93bec3c0- ┆ null      ┆ null      ┆ … ┆ Creature ┆ 8fd4e2eb- ┆ 57aaebc1- ┆ null      │\n",
      "│ Baǵa      ┆ 0260-4d31 ┆           ┆           ┆   ┆          ┆ 3eb4-50ea ┆ 850c-503d ┆           │\n",
      "│           ┆ -8064-5d0 ┆           ┆           ┆   ┆          ┆ -856b-ef6 ┆ -9f6e-bb8 ┆           │\n",
      "│           ┆ 1efb4…    ┆           ┆           ┆   ┆          ┆ 38fa4…    ┆ d00d8…    ┆           │\n",
      "│ Mark Zug  ┆ 48e2b98c- ┆ null      ┆ null      ┆ … ┆ Sorcery  ┆ 55bd38ca- ┆ c5655330- ┆ null      │\n",
      "│           ┆ 5467-4671 ┆           ┆           ┆   ┆          ┆ dc73-5c06 ┆ 5131-5f40 ┆           │\n",
      "│           ┆ -bd42-4c3 ┆           ┆           ┆   ┆          ┆ -8f80-a6d ┆ -9d3e-054 ┆           │\n",
      "│           ┆ 74611…    ┆           ┆           ┆   ┆          ┆ dd2f4…    ┆ 9d88c…    ┆           │\n",
      "│ …         ┆ …         ┆ …         ┆ …         ┆ … ┆ …        ┆ …         ┆ …         ┆ …         │\n",
      "│ Campbell  ┆ d281eab4- ┆ null      ┆ null      ┆ … ┆ Instant  ┆ 3f492516- ┆ dd604910- ┆ planeswal │\n",
      "│ White     ┆ 463a-4ba8 ┆           ┆           ┆   ┆          ┆ 7767-5ed7 ┆ 0e81-5d56 ┆ ker       │\n",
      "│           ┆ -9039-894 ┆           ┆           ┆   ┆          ┆ -a1d4-e3f ┆ -b022-e08 ┆           │\n",
      "│           ┆ 37379…    ┆           ┆           ┆   ┆          ┆ 7c06a…    ┆ f21de…    ┆           │\n",
      "│ Jason     ┆ 6ed7e669- ┆ null      ┆ null      ┆ … ┆ Sorcery  ┆ 3f9a0369- ┆ d947d9cd- ┆ planeswal │\n",
      "│ Rainville ┆ 579b-443d ┆           ┆           ┆   ┆          ┆ 5fe7-5aee ┆ f855-5496 ┆ ker       │\n",
      "│           ┆ -b223-e5c ┆           ┆           ┆   ┆          ┆ -85fe-3cf ┆ -b5de-880 ┆           │\n",
      "│           ┆ bcb2a…    ┆           ┆           ┆   ┆          ┆ aacd2…    ┆ 06b49…    ┆           │\n",
      "│ Campbell  ┆ d281eab4- ┆ null      ┆ null      ┆ … ┆ Sorcery  ┆ 97577e9e- ┆ dbd65728- ┆ planeswal │\n",
      "│ White     ┆ 463a-4ba8 ┆           ┆           ┆   ┆          ┆ 69a9-5a8b ┆ bba8-536e ┆ ker       │\n",
      "│           ┆ -9039-894 ┆           ┆           ┆   ┆          ┆ -9c24-a72 ┆ -a908-5df ┆           │\n",
      "│           ┆ 37379…    ┆           ┆           ┆   ┆          ┆ 70379…    ┆ a5606…    ┆           │\n",
      "│ Jonas De  ┆ 561ebf9e- ┆ null      ┆ null      ┆ … ┆ Instant  ┆ deb51cbd- ┆ 7ef6cffb- ┆ planeswal │\n",
      "│ Ro        ┆ 8d93-4b57 ┆           ┆           ┆   ┆          ┆ b890-5b2d ┆ 335a-5831 ┆ ker       │\n",
      "│           ┆ -8156-882 ┆           ┆           ┆   ┆          ┆ -9d6f-7b8 ┆ -8319-20b ┆           │\n",
      "│           ┆ 6d0c1…    ┆           ┆           ┆   ┆          ┆ 96e16…    ┆ 6a020…    ┆           │\n",
      "│ Colin     ┆ 9c201dbe- ┆ null      ┆ null      ┆ … ┆ Creature ┆ 46407d93- ┆ f3434acf- ┆ planeswal │\n",
      "│ Boyer     ┆ db56-429a ┆           ┆           ┆   ┆          ┆ df48-5161 ┆ 7796-572c ┆ ker       │\n",
      "│           ┆ -87e6-189 ┆           ┆           ┆   ┆          ┆ -95fe-f24 ┆ -a889-487 ┆           │\n",
      "│           ┆ ea70c…    ┆           ┆           ┆   ┆          ┆ 08674…    ┆ c84cf…    ┆           │\n",
      "└───────────┴───────────┴───────────┴───────────┴───┴──────────┴───────────┴───────────┴───────────┘\n"
     ]
    }
   ],
   "source": [
    "# Read the parquet file\n",
    "df = pl.read_parquet('../data/raw/cards.parquet')\n",
    "\n",
    "# Display the dataframe\n",
    "print(df)\n"
   ]
  },
  {
   "cell_type": "code",
   "execution_count": 3,
   "metadata": {},
   "outputs": [
    {
     "name": "stdout",
     "output_type": "stream",
     "text": [
      "['artist', 'artistIds', 'asciiName', 'attractionLights', 'availability', 'boosterTypes', 'borderColor', 'cardParts', 'colorIdentity', 'colorIndicator', 'colors', 'defense', 'duelDeck', 'edhrecRank', 'edhrecSaltiness', 'faceConvertedManaCost', 'faceFlavorName', 'faceManaValue', 'faceName', 'finishes', 'flavorName', 'flavorText', 'frameEffects', 'frameVersion', 'hand', 'hasAlternativeDeckLimit', 'hasContentWarning', 'hasFoil', 'hasNonFoil', 'isAlternative', 'isFullArt', 'isFunny', 'isOnlineOnly', 'isOversized', 'isPromo', 'isRebalanced', 'isReprint', 'isReserved', 'isStarter', 'isStorySpotlight', 'isTextless', 'isTimeshifted', 'keywords', 'language', 'layout', 'leadershipSkills', 'life', 'loyalty', 'manaCost', 'manaValue', 'name', 'number', 'originalPrintings', 'originalReleaseDate', 'originalText', 'originalType', 'otherFaceIds', 'power', 'printings', 'promoTypes', 'rarity', 'rebalancedPrintings', 'relatedCards', 'securityStamp', 'setCode', 'side', 'signature', 'sourceProducts', 'subsets', 'subtypes', 'supertypes', 'text', 'toughness', 'type', 'types', 'uuid', 'variations', 'watermark']\n"
     ]
    }
   ],
   "source": [
    "print(df.columns)"
   ]
  },
  {
   "cell_type": "code",
   "execution_count": 4,
   "metadata": {},
   "outputs": [
    {
     "data": {
      "text/html": [
       "<div><style>\n",
       ".dataframe > thead > tr,\n",
       ".dataframe > tbody > tr {\n",
       "  text-align: right;\n",
       "  white-space: pre-wrap;\n",
       "}\n",
       "</style>\n",
       "<small>shape: (9, 79)</small><table border=\"1\" class=\"dataframe\"><thead><tr><th>statistic</th><th>artist</th><th>artistIds</th><th>asciiName</th><th>attractionLights</th><th>availability</th><th>boosterTypes</th><th>borderColor</th><th>cardParts</th><th>colorIdentity</th><th>colorIndicator</th><th>colors</th><th>defense</th><th>duelDeck</th><th>edhrecRank</th><th>edhrecSaltiness</th><th>faceConvertedManaCost</th><th>faceFlavorName</th><th>faceManaValue</th><th>faceName</th><th>finishes</th><th>flavorName</th><th>flavorText</th><th>frameEffects</th><th>frameVersion</th><th>hand</th><th>hasAlternativeDeckLimit</th><th>hasContentWarning</th><th>hasFoil</th><th>hasNonFoil</th><th>isAlternative</th><th>isFullArt</th><th>isFunny</th><th>isOnlineOnly</th><th>isOversized</th><th>isPromo</th><th>isRebalanced</th><th>&hellip;</th><th>isTimeshifted</th><th>keywords</th><th>language</th><th>layout</th><th>leadershipSkills</th><th>life</th><th>loyalty</th><th>manaCost</th><th>manaValue</th><th>name</th><th>number</th><th>originalPrintings</th><th>originalReleaseDate</th><th>originalText</th><th>originalType</th><th>otherFaceIds</th><th>power</th><th>printings</th><th>promoTypes</th><th>rarity</th><th>rebalancedPrintings</th><th>relatedCards</th><th>securityStamp</th><th>setCode</th><th>side</th><th>signature</th><th>sourceProducts</th><th>subsets</th><th>subtypes</th><th>supertypes</th><th>text</th><th>toughness</th><th>type</th><th>types</th><th>uuid</th><th>variations</th><th>watermark</th></tr><tr><td>str</td><td>str</td><td>str</td><td>str</td><td>str</td><td>str</td><td>str</td><td>str</td><td>str</td><td>str</td><td>str</td><td>str</td><td>str</td><td>str</td><td>f64</td><td>f64</td><td>f64</td><td>str</td><td>f64</td><td>str</td><td>str</td><td>str</td><td>str</td><td>str</td><td>str</td><td>str</td><td>f64</td><td>f64</td><td>f64</td><td>f64</td><td>f64</td><td>f64</td><td>f64</td><td>f64</td><td>f64</td><td>f64</td><td>f64</td><td>&hellip;</td><td>f64</td><td>str</td><td>str</td><td>str</td><td>str</td><td>str</td><td>str</td><td>str</td><td>f64</td><td>str</td><td>str</td><td>str</td><td>str</td><td>str</td><td>str</td><td>str</td><td>str</td><td>str</td><td>str</td><td>str</td><td>str</td><td>str</td><td>str</td><td>str</td><td>str</td><td>str</td><td>str</td><td>str</td><td>str</td><td>str</td><td>str</td><td>str</td><td>str</td><td>str</td><td>str</td><td>str</td><td>str</td></tr></thead><tbody><tr><td>&quot;count&quot;</td><td>&quot;90849&quot;</td><td>&quot;90849&quot;</td><td>&quot;221&quot;</td><td>&quot;135&quot;</td><td>&quot;90857&quot;</td><td>&quot;48415&quot;</td><td>&quot;90857&quot;</td><td>&quot;18&quot;</td><td>&quot;90857&quot;</td><td>&quot;796&quot;</td><td>&quot;90857&quot;</td><td>&quot;52&quot;</td><td>&quot;1594&quot;</td><td>83844.0</td><td>67820.0</td><td>3395.0</td><td>&quot;20&quot;</td><td>3395.0</td><td>&quot;3573&quot;</td><td>&quot;90857&quot;</td><td>&quot;272&quot;</td><td>&quot;45385&quot;</td><td>&quot;14065&quot;</td><td>&quot;90857&quot;</td><td>&quot;119&quot;</td><td>61.0</td><td>29.0</td><td>90857.0</td><td>90857.0</td><td>6054.0</td><td>1745.0</td><td>1332.0</td><td>8531.0</td><td>619.0</td><td>10424.0</td><td>228.0</td><td>&hellip;</td><td>223.0</td><td>&quot;37117&quot;</td><td>&quot;90857&quot;</td><td>&quot;90857&quot;</td><td>&quot;9988&quot;</td><td>&quot;119&quot;</td><td>&quot;1451&quot;</td><td>&quot;78802&quot;</td><td>90857.0</td><td>&quot;90857&quot;</td><td>&quot;90857&quot;</td><td>&quot;228&quot;</td><td>&quot;9457&quot;</td><td>&quot;53658&quot;</td><td>&quot;54787&quot;</td><td>&quot;3573&quot;</td><td>&quot;43144&quot;</td><td>&quot;90857&quot;</td><td>&quot;17606&quot;</td><td>&quot;90857&quot;</td><td>&quot;347&quot;</td><td>&quot;46&quot;</td><td>&quot;31015&quot;</td><td>&quot;90857&quot;</td><td>&quot;3573&quot;</td><td>&quot;1244&quot;</td><td>&quot;69480&quot;</td><td>&quot;1016&quot;</td><td>&quot;90857&quot;</td><td>&quot;90857&quot;</td><td>&quot;89769&quot;</td><td>&quot;43144&quot;</td><td>&quot;90857&quot;</td><td>&quot;90857&quot;</td><td>&quot;90857&quot;</td><td>&quot;27837&quot;</td><td>&quot;6491&quot;</td></tr><tr><td>&quot;null_count&quot;</td><td>&quot;8&quot;</td><td>&quot;8&quot;</td><td>&quot;90636&quot;</td><td>&quot;90722&quot;</td><td>&quot;0&quot;</td><td>&quot;42442&quot;</td><td>&quot;0&quot;</td><td>&quot;90839&quot;</td><td>&quot;0&quot;</td><td>&quot;90061&quot;</td><td>&quot;0&quot;</td><td>&quot;90805&quot;</td><td>&quot;89263&quot;</td><td>7013.0</td><td>23037.0</td><td>87462.0</td><td>&quot;90837&quot;</td><td>87462.0</td><td>&quot;87284&quot;</td><td>&quot;0&quot;</td><td>&quot;90585&quot;</td><td>&quot;45472&quot;</td><td>&quot;76792&quot;</td><td>&quot;0&quot;</td><td>&quot;90738&quot;</td><td>90796.0</td><td>90828.0</td><td>0.0</td><td>0.0</td><td>84803.0</td><td>89112.0</td><td>89525.0</td><td>82326.0</td><td>90238.0</td><td>80433.0</td><td>90629.0</td><td>&hellip;</td><td>90634.0</td><td>&quot;53740&quot;</td><td>&quot;0&quot;</td><td>&quot;0&quot;</td><td>&quot;80869&quot;</td><td>&quot;90738&quot;</td><td>&quot;89406&quot;</td><td>&quot;12055&quot;</td><td>0.0</td><td>&quot;0&quot;</td><td>&quot;0&quot;</td><td>&quot;90629&quot;</td><td>&quot;81400&quot;</td><td>&quot;37199&quot;</td><td>&quot;36070&quot;</td><td>&quot;87284&quot;</td><td>&quot;47713&quot;</td><td>&quot;0&quot;</td><td>&quot;73251&quot;</td><td>&quot;0&quot;</td><td>&quot;90510&quot;</td><td>&quot;90811&quot;</td><td>&quot;59842&quot;</td><td>&quot;0&quot;</td><td>&quot;87284&quot;</td><td>&quot;89613&quot;</td><td>&quot;21377&quot;</td><td>&quot;89841&quot;</td><td>&quot;0&quot;</td><td>&quot;0&quot;</td><td>&quot;1088&quot;</td><td>&quot;47713&quot;</td><td>&quot;0&quot;</td><td>&quot;0&quot;</td><td>&quot;0&quot;</td><td>&quot;63020&quot;</td><td>&quot;84366&quot;</td></tr><tr><td>&quot;mean&quot;</td><td>null</td><td>null</td><td>null</td><td>null</td><td>null</td><td>null</td><td>null</td><td>null</td><td>null</td><td>null</td><td>null</td><td>null</td><td>null</td><td>10055.72382</td><td>0.332868</td><td>2.233873</td><td>null</td><td>2.233873</td><td>null</td><td>null</td><td>null</td><td>null</td><td>null</td><td>null</td><td>null</td><td>1.0</td><td>1.0</td><td>0.602606</td><td>0.866791</td><td>1.0</td><td>1.0</td><td>1.0</td><td>1.0</td><td>1.0</td><td>1.0</td><td>1.0</td><td>&hellip;</td><td>1.0</td><td>null</td><td>null</td><td>null</td><td>null</td><td>null</td><td>null</td><td>null</td><td>25.0076</td><td>null</td><td>null</td><td>null</td><td>null</td><td>null</td><td>null</td><td>null</td><td>null</td><td>null</td><td>null</td><td>null</td><td>null</td><td>null</td><td>null</td><td>null</td><td>null</td><td>null</td><td>null</td><td>null</td><td>null</td><td>null</td><td>null</td><td>null</td><td>null</td><td>null</td><td>null</td><td>null</td><td>null</td></tr><tr><td>&quot;std&quot;</td><td>null</td><td>null</td><td>null</td><td>null</td><td>null</td><td>null</td><td>null</td><td>null</td><td>null</td><td>null</td><td>null</td><td>null</td><td>null</td><td>7925.170815</td><td>0.328432</td><td>1.997959</td><td>null</td><td>1.997959</td><td>null</td><td>null</td><td>null</td><td>null</td><td>null</td><td>null</td><td>null</td><td>null</td><td>null</td><td>null</td><td>null</td><td>null</td><td>null</td><td>null</td><td>null</td><td>null</td><td>null</td><td>null</td><td>&hellip;</td><td>null</td><td>null</td><td>null</td><td>null</td><td>null</td><td>null</td><td>null</td><td>null</td><td>4691.72069</td><td>null</td><td>null</td><td>null</td><td>null</td><td>null</td><td>null</td><td>null</td><td>null</td><td>null</td><td>null</td><td>null</td><td>null</td><td>null</td><td>null</td><td>null</td><td>null</td><td>null</td><td>null</td><td>null</td><td>null</td><td>null</td><td>null</td><td>null</td><td>null</td><td>null</td><td>null</td><td>null</td><td>null</td></tr><tr><td>&quot;min&quot;</td><td>&quot;A. M. Sartor&quot;</td><td>&quot;00018b26-29e7-…</td><td>&quot;Altair Ibn-La&#x27;…</td><td>&quot;2, 3, 4, 6&quot;</td><td>&quot;arena&quot;</td><td>&quot;deck&quot;</td><td>&quot;black&quot;</td><td>&quot;Gisela, the Br…</td><td>&quot;&quot;</td><td>&quot;B&quot;</td><td>&quot;&quot;</td><td>&quot;3&quot;</td><td>&quot;a&quot;</td><td>1.0</td><td>0.01</td><td>0.0</td><td>&quot;Casket of Nati…</td><td>0.0</td><td>&quot;A-Alrund, God …</td><td>&quot;etched&quot;</td><td>&quot;Abraham Van He…</td><td>&quot;&quot; . . . And th…</td><td>&quot;borderless&quot;</td><td>&quot;1993&quot;</td><td>&quot;+0&quot;</td><td>1.0</td><td>1.0</td><td>0.0</td><td>0.0</td><td>1.0</td><td>1.0</td><td>1.0</td><td>1.0</td><td>1.0</td><td>1.0</td><td>1.0</td><td>&hellip;</td><td>1.0</td><td>&quot;A Thousand Sou…</td><td>&quot;Ancient Greek&quot;</td><td>&quot;adventure&quot;</td><td>&quot;{&quot;brawl&quot;: fals…</td><td>&quot;+0&quot;</td><td>&quot;*&quot;</td><td>&quot;{0}&quot;</td><td>0.0</td><td>&quot;&quot;Ach! Hans, Ru…</td><td>&quot;0&quot;</td><td>&quot;00819278-741b-…</td><td>&quot;1993-11-01&quot;</td><td>&quot;&quot;Until end of …</td><td>&quot;(none)&quot;</td><td>&quot;000a85b2-d96c-…</td><td>&quot;*&quot;</td><td>&quot;10E, 2ED, 2XM,…</td><td>&quot;alchemy&quot;</td><td>&quot;bonus&quot;</td><td>&quot;003dd554-bc55-…</td><td>&quot;{&quot;spellbook&quot;: …</td><td>&quot;acorn&quot;</td><td>&quot;10E&quot;</td><td>&quot;a&quot;</td><td>&quot;Aeo Paquette&quot;</td><td>&quot;{&quot;etched&quot;: [&quot;0…</td><td>&quot;&lt;explosion sou…</td><td>&quot;&quot;</td><td>&quot;&quot;</td><td>&quot;&quot;Lifetime&quot; Pas…</td><td>&quot;*&quot;</td><td>&quot;Artifact&quot;</td><td>&quot;Artifact&quot;</td><td>&quot;00010d56-fe38-…</td><td>&quot;0005fe8b-170d-…</td><td>&quot;abzan&quot;</td></tr><tr><td>&quot;25%&quot;</td><td>null</td><td>null</td><td>null</td><td>null</td><td>null</td><td>null</td><td>null</td><td>null</td><td>null</td><td>null</td><td>null</td><td>null</td><td>null</td><td>2837.0</td><td>0.12</td><td>0.0</td><td>null</td><td>0.0</td><td>null</td><td>null</td><td>null</td><td>null</td><td>null</td><td>null</td><td>null</td><td>null</td><td>null</td><td>null</td><td>null</td><td>null</td><td>null</td><td>null</td><td>null</td><td>null</td><td>null</td><td>null</td><td>&hellip;</td><td>null</td><td>null</td><td>null</td><td>null</td><td>null</td><td>null</td><td>null</td><td>null</td><td>2.0</td><td>null</td><td>null</td><td>null</td><td>null</td><td>null</td><td>null</td><td>null</td><td>null</td><td>null</td><td>null</td><td>null</td><td>null</td><td>null</td><td>null</td><td>null</td><td>null</td><td>null</td><td>null</td><td>null</td><td>null</td><td>null</td><td>null</td><td>null</td><td>null</td><td>null</td><td>null</td><td>null</td><td>null</td></tr><tr><td>&quot;50%&quot;</td><td>null</td><td>null</td><td>null</td><td>null</td><td>null</td><td>null</td><td>null</td><td>null</td><td>null</td><td>null</td><td>null</td><td>null</td><td>null</td><td>8530.0</td><td>0.24</td><td>2.0</td><td>null</td><td>2.0</td><td>null</td><td>null</td><td>null</td><td>null</td><td>null</td><td>null</td><td>null</td><td>null</td><td>null</td><td>null</td><td>null</td><td>null</td><td>null</td><td>null</td><td>null</td><td>null</td><td>null</td><td>null</td><td>&hellip;</td><td>null</td><td>null</td><td>null</td><td>null</td><td>null</td><td>null</td><td>null</td><td>null</td><td>3.0</td><td>null</td><td>null</td><td>null</td><td>null</td><td>null</td><td>null</td><td>null</td><td>null</td><td>null</td><td>null</td><td>null</td><td>null</td><td>null</td><td>null</td><td>null</td><td>null</td><td>null</td><td>null</td><td>null</td><td>null</td><td>null</td><td>null</td><td>null</td><td>null</td><td>null</td><td>null</td><td>null</td><td>null</td></tr><tr><td>&quot;75%&quot;</td><td>null</td><td>null</td><td>null</td><td>null</td><td>null</td><td>null</td><td>null</td><td>null</td><td>null</td><td>null</td><td>null</td><td>null</td><td>null</td><td>16510.0</td><td>0.41</td><td>3.0</td><td>null</td><td>3.0</td><td>null</td><td>null</td><td>null</td><td>null</td><td>null</td><td>null</td><td>null</td><td>null</td><td>null</td><td>null</td><td>null</td><td>null</td><td>null</td><td>null</td><td>null</td><td>null</td><td>null</td><td>null</td><td>&hellip;</td><td>null</td><td>null</td><td>null</td><td>null</td><td>null</td><td>null</td><td>null</td><td>null</td><td>4.0</td><td>null</td><td>null</td><td>null</td><td>null</td><td>null</td><td>null</td><td>null</td><td>null</td><td>null</td><td>null</td><td>null</td><td>null</td><td>null</td><td>null</td><td>null</td><td>null</td><td>null</td><td>null</td><td>null</td><td>null</td><td>null</td><td>null</td><td>null</td><td>null</td><td>null</td><td>null</td><td>null</td><td>null</td></tr><tr><td>&quot;max&quot;</td><td>&quot;王玉群&quot;</td><td>&quot;ffd063ae-c097-…</td><td>&quot;Ugluk of the W…</td><td>&quot;5, 6&quot;</td><td>&quot;shandalar&quot;</td><td>&quot;default&quot;</td><td>&quot;white&quot;</td><td>&quot;Urza, Lord Pro…</td><td>&quot;W&quot;</td><td>&quot;W&quot;</td><td>&quot;W, U&quot;</td><td>&quot;7&quot;</td><td>&quot;b&quot;</td><td>26737.0</td><td>2.99</td><td>11.0</td><td>&quot;The Upside Dow…</td><td>11.0</td><td>&quot;Zoological Stu…</td><td>&quot;nonfoil, signe…</td><td>&quot;Zangief, the R…</td><td>&quot;𓍹𓈎𓃭𓍢𓊪𓂧𓂋𓏏𓆇𓊹𓏏𓆇𓌰𓏏…</td><td>&quot;tombstone&quot;</td><td>&quot;future&quot;</td><td>&quot;-4&quot;</td><td>1.0</td><td>1.0</td><td>1.0</td><td>1.0</td><td>1.0</td><td>1.0</td><td>1.0</td><td>1.0</td><td>1.0</td><td>1.0</td><td>1.0</td><td>&hellip;</td><td>1.0</td><td>&quot;Wither&quot;</td><td>&quot;Spanish&quot;</td><td>&quot;vanguard&quot;</td><td>&quot;{&quot;brawl&quot;: true…</td><td>&quot;-8&quot;</td><td>&quot;X&quot;</td><td>&quot;{X}{Y}{Z}{R}{R…</td><td>1e6</td><td>&quot;Éowyn, Shieldm…</td><td>&quot;we97&quot;</td><td>&quot;ffa1ae56-535f-…</td><td>&quot;2024-10-01&quot;</td><td>&quot;−1: Up to two …</td><td>&quot;o3oB&quot;</td><td>&quot;ffa4a87d-f2e4-…</td><td>&quot;∞&quot;</td><td>&quot;ZNR&quot;</td><td>&quot;wizardsplaynet…</td><td>&quot;uncommon&quot;</td><td>&quot;fdbabaf0-9197-…</td><td>&quot;{&quot;spellbook&quot;: …</td><td>&quot;triangle&quot;</td><td>&quot;ZNR&quot;</td><td>&quot;e&quot;</td><td>&quot;Wolfgang Eder&quot;</td><td>&quot;{&quot;nonfoil&quot;: [&quot;…</td><td>&quot;Year of the Ra…</td><td>&quot;Zubera, Spirit…</td><td>&quot;World&quot;</td><td>&quot;{X}{X}{R}, {T}…</td><td>&quot;?&quot;</td><td>&quot;instant&quot;</td><td>&quot;instant&quot;</td><td>&quot;fffe10ca-d43b-…</td><td>&quot;fffe10ca-d43b-…</td><td>&quot;wpn&quot;</td></tr></tbody></table></div>"
      ],
      "text/plain": [
       "shape: (9, 79)\n",
       "┌────────────┬────────┬────────────┬────────────┬───┬──────────┬───────────┬───────────┬───────────┐\n",
       "│ statistic  ┆ artist ┆ artistIds  ┆ asciiName  ┆ … ┆ types    ┆ uuid      ┆ variation ┆ watermark │\n",
       "│ ---        ┆ ---    ┆ ---        ┆ ---        ┆   ┆ ---      ┆ ---       ┆ s         ┆ ---       │\n",
       "│ str        ┆ str    ┆ str        ┆ str        ┆   ┆ str      ┆ str       ┆ ---       ┆ str       │\n",
       "│            ┆        ┆            ┆            ┆   ┆          ┆           ┆ str       ┆           │\n",
       "╞════════════╪════════╪════════════╪════════════╪═══╪══════════╪═══════════╪═══════════╪═══════════╡\n",
       "│ count      ┆ 90849  ┆ 90849      ┆ 221        ┆ … ┆ 90857    ┆ 90857     ┆ 27837     ┆ 6491      │\n",
       "│ null_count ┆ 8      ┆ 8          ┆ 90636      ┆ … ┆ 0        ┆ 0         ┆ 63020     ┆ 84366     │\n",
       "│ mean       ┆ null   ┆ null       ┆ null       ┆ … ┆ null     ┆ null      ┆ null      ┆ null      │\n",
       "│ std        ┆ null   ┆ null       ┆ null       ┆ … ┆ null     ┆ null      ┆ null      ┆ null      │\n",
       "│ min        ┆ A. M.  ┆ 00018b26-2 ┆ Altair Ibn ┆ … ┆ Artifact ┆ 00010d56- ┆ 0005fe8b- ┆ abzan     │\n",
       "│            ┆ Sartor ┆ 9e7-4545-9 ┆ -La'Ahad   ┆   ┆          ┆ fe38-5e35 ┆ 170d-5381 ┆           │\n",
       "│            ┆        ┆ 15b-382d9c ┆            ┆   ┆          ┆ -8aed-518 ┆ -baaf-3d6 ┆           │\n",
       "│            ┆        ┆ bc…        ┆            ┆   ┆          ┆ 019aa…    ┆ bd580…    ┆           │\n",
       "│ 25%        ┆ null   ┆ null       ┆ null       ┆ … ┆ null     ┆ null      ┆ null      ┆ null      │\n",
       "│ 50%        ┆ null   ┆ null       ┆ null       ┆ … ┆ null     ┆ null      ┆ null      ┆ null      │\n",
       "│ 75%        ┆ null   ┆ null       ┆ null       ┆ … ┆ null     ┆ null      ┆ null      ┆ null      │\n",
       "│ max        ┆ 王玉群 ┆ ffd063ae-c ┆ Ugluk of   ┆ … ┆ instant  ┆ fffe10ca- ┆ fffe10ca- ┆ wpn       │\n",
       "│            ┆        ┆ 097-4f26-b ┆ the White  ┆   ┆          ┆ d43b-5234 ┆ d43b-5234 ┆           │\n",
       "│            ┆        ┆ 2e6-b1e213 ┆ Hand       ┆   ┆          ┆ -b768-201 ┆ -b768-201 ┆           │\n",
       "│            ┆        ┆ 77…        ┆            ┆   ┆          ┆ cc5c2…    ┆ cc5c2…    ┆           │\n",
       "└────────────┴────────┴────────────┴────────────┴───┴──────────┴───────────┴───────────┴───────────┘"
      ]
     },
     "execution_count": 4,
     "metadata": {},
     "output_type": "execute_result"
    }
   ],
   "source": [
    "df.describe()\n"
   ]
  },
  {
   "cell_type": "code",
   "execution_count": 5,
   "metadata": {},
   "outputs": [
    {
     "data": {
      "text/html": [
       "<div><style>\n",
       ".dataframe > thead > tr,\n",
       ".dataframe > tbody > tr {\n",
       "  text-align: right;\n",
       "  white-space: pre-wrap;\n",
       "}\n",
       "</style>\n",
       "<small>shape: (90_857, 3)</small><table border=\"1\" class=\"dataframe\"><thead><tr><th>name</th><th>power</th><th>toughness</th></tr><tr><td>str</td><td>str</td><td>str</td></tr></thead><tbody><tr><td>&quot;Ancestor&#x27;s Cho…</td><td>&quot;4&quot;</td><td>&quot;4&quot;</td></tr><tr><td>&quot;Ancestor&#x27;s Cho…</td><td>&quot;4&quot;</td><td>&quot;4&quot;</td></tr><tr><td>&quot;Angel of Mercy…</td><td>&quot;3&quot;</td><td>&quot;3&quot;</td></tr><tr><td>&quot;Angel of Mercy…</td><td>&quot;3&quot;</td><td>&quot;3&quot;</td></tr><tr><td>&quot;Angelic Blessi…</td><td>null</td><td>null</td></tr><tr><td>&hellip;</td><td>&hellip;</td><td>&hellip;</td></tr><tr><td>&quot;Into the Roil&quot;</td><td>null</td><td>null</td></tr><tr><td>&quot;Bloodchief&#x27;s T…</td><td>null</td><td>null</td></tr><tr><td>&quot;Roil Eruption&quot;</td><td>null</td><td>null</td></tr><tr><td>&quot;Roiling Regrow…</td><td>null</td><td>null</td></tr><tr><td>&quot;Kargan Warlead…</td><td>&quot;3&quot;</td><td>&quot;3&quot;</td></tr></tbody></table></div>"
      ],
      "text/plain": [
       "shape: (90_857, 3)\n",
       "┌─────────────────────┬───────┬───────────┐\n",
       "│ name                ┆ power ┆ toughness │\n",
       "│ ---                 ┆ ---   ┆ ---       │\n",
       "│ str                 ┆ str   ┆ str       │\n",
       "╞═════════════════════╪═══════╪═══════════╡\n",
       "│ Ancestor's Chosen   ┆ 4     ┆ 4         │\n",
       "│ Ancestor's Chosen   ┆ 4     ┆ 4         │\n",
       "│ Angel of Mercy      ┆ 3     ┆ 3         │\n",
       "│ Angel of Mercy      ┆ 3     ┆ 3         │\n",
       "│ Angelic Blessing    ┆ null  ┆ null      │\n",
       "│ …                   ┆ …     ┆ …         │\n",
       "│ Into the Roil       ┆ null  ┆ null      │\n",
       "│ Bloodchief's Thirst ┆ null  ┆ null      │\n",
       "│ Roil Eruption       ┆ null  ┆ null      │\n",
       "│ Roiling Regrowth    ┆ null  ┆ null      │\n",
       "│ Kargan Warleader    ┆ 3     ┆ 3         │\n",
       "└─────────────────────┴───────┴───────────┘"
      ]
     },
     "execution_count": 5,
     "metadata": {},
     "output_type": "execute_result"
    }
   ],
   "source": [
    "df.select([\"name\", \"power\", \"toughness\"])"
   ]
  },
  {
   "cell_type": "code",
   "execution_count": 6,
   "metadata": {},
   "outputs": [
    {
     "data": {
      "text/html": [
       "<div><style>\n",
       ".dataframe > thead > tr,\n",
       ".dataframe > tbody > tr {\n",
       "  text-align: right;\n",
       "  white-space: pre-wrap;\n",
       "}\n",
       "</style>\n",
       "<small>shape: (28_672, 2)</small><table border=\"1\" class=\"dataframe\"><thead><tr><th>name</th><th>len</th></tr><tr><td>str</td><td>u32</td></tr></thead><tbody><tr><td>&quot;Contractual Sa…</td><td>3</td></tr><tr><td>&quot;Primalcrux&quot;</td><td>1</td></tr><tr><td>&quot;Justice Strike…</td><td>1</td></tr><tr><td>&quot;Feral Incarnat…</td><td>1</td></tr><tr><td>&quot;Knight of New …</td><td>4</td></tr><tr><td>&hellip;</td><td>&hellip;</td></tr><tr><td>&quot;Revered Dead&quot;</td><td>1</td></tr><tr><td>&quot;Starfield of N…</td><td>2</td></tr><tr><td>&quot;Tuktuk the Exp…</td><td>5</td></tr><tr><td>&quot;Trendy Circus …</td><td>1</td></tr><tr><td>&quot;Zodiac Rat&quot;</td><td>2</td></tr></tbody></table></div>"
      ],
      "text/plain": [
       "shape: (28_672, 2)\n",
       "┌───────────────────────┬─────┐\n",
       "│ name                  ┆ len │\n",
       "│ ---                   ┆ --- │\n",
       "│ str                   ┆ u32 │\n",
       "╞═══════════════════════╪═════╡\n",
       "│ Contractual Safeguard ┆ 3   │\n",
       "│ Primalcrux            ┆ 1   │\n",
       "│ Justice Strike        ┆ 1   │\n",
       "│ Feral Incarnation     ┆ 1   │\n",
       "│ Knight of New Alara   ┆ 4   │\n",
       "│ …                     ┆ …   │\n",
       "│ Revered Dead          ┆ 1   │\n",
       "│ Starfield of Nyx      ┆ 2   │\n",
       "│ Tuktuk the Explorer   ┆ 5   │\n",
       "│ Trendy Circus Pirate  ┆ 1   │\n",
       "│ Zodiac Rat            ┆ 2   │\n",
       "└───────────────────────┴─────┘"
      ]
     },
     "execution_count": 6,
     "metadata": {},
     "output_type": "execute_result"
    }
   ],
   "source": [
    "df.group_by([\"name\"]).len()\n"
   ]
  },
  {
   "cell_type": "code",
   "execution_count": 7,
   "metadata": {},
   "outputs": [
    {
     "data": {
      "text/html": [
       "<div><style>\n",
       ".dataframe > thead > tr,\n",
       ".dataframe > tbody > tr {\n",
       "  text-align: right;\n",
       "  white-space: pre-wrap;\n",
       "}\n",
       "</style>\n",
       "<small>shape: (9, 1)</small><table border=\"1\" class=\"dataframe\"><thead><tr><th>setCode</th></tr><tr><td>str</td></tr></thead><tbody><tr><td>&quot;5ED&quot;</td></tr><tr><td>&quot;6ED&quot;</td></tr><tr><td>&quot;BCHR&quot;</td></tr><tr><td>&quot;CHR&quot;</td></tr><tr><td>&quot;LEG&quot;</td></tr><tr><td>&quot;ME3&quot;</td></tr><tr><td>&quot;OLEP&quot;</td></tr><tr><td>&quot;PTC&quot;</td></tr><tr><td>&quot;PTC&quot;</td></tr></tbody></table></div>"
      ],
      "text/plain": [
       "shape: (9, 1)\n",
       "┌─────────┐\n",
       "│ setCode │\n",
       "│ ---     │\n",
       "│ str     │\n",
       "╞═════════╡\n",
       "│ 5ED     │\n",
       "│ 6ED     │\n",
       "│ BCHR    │\n",
       "│ CHR     │\n",
       "│ LEG     │\n",
       "│ ME3     │\n",
       "│ OLEP    │\n",
       "│ PTC     │\n",
       "│ PTC     │\n",
       "└─────────┘"
      ]
     },
     "execution_count": 7,
     "metadata": {},
     "output_type": "execute_result"
    }
   ],
   "source": [
    "df.filter(pl.col(\"name\") == \"Recall\").select(\"setCode\")"
   ]
  },
  {
   "cell_type": "code",
   "execution_count": 8,
   "metadata": {},
   "outputs": [
    {
     "data": {
      "text/html": [
       "<div><style>\n",
       ".dataframe > thead > tr,\n",
       ".dataframe > tbody > tr {\n",
       "  text-align: right;\n",
       "  white-space: pre-wrap;\n",
       "}\n",
       "</style>\n",
       "<small>shape: (268, 78)</small><table border=\"1\" class=\"dataframe\"><thead><tr><th>artist</th><th>artistIds</th><th>asciiName</th><th>attractionLights</th><th>availability</th><th>boosterTypes</th><th>borderColor</th><th>cardParts</th><th>colorIdentity</th><th>colorIndicator</th><th>colors</th><th>defense</th><th>duelDeck</th><th>edhrecRank</th><th>edhrecSaltiness</th><th>faceConvertedManaCost</th><th>faceFlavorName</th><th>faceManaValue</th><th>faceName</th><th>finishes</th><th>flavorName</th><th>flavorText</th><th>frameEffects</th><th>frameVersion</th><th>hand</th><th>hasAlternativeDeckLimit</th><th>hasContentWarning</th><th>hasFoil</th><th>hasNonFoil</th><th>isAlternative</th><th>isFullArt</th><th>isFunny</th><th>isOnlineOnly</th><th>isOversized</th><th>isPromo</th><th>isRebalanced</th><th>isReprint</th><th>&hellip;</th><th>isTimeshifted</th><th>keywords</th><th>language</th><th>layout</th><th>leadershipSkills</th><th>life</th><th>loyalty</th><th>manaCost</th><th>manaValue</th><th>name</th><th>number</th><th>originalPrintings</th><th>originalReleaseDate</th><th>originalText</th><th>originalType</th><th>otherFaceIds</th><th>power</th><th>printings</th><th>promoTypes</th><th>rarity</th><th>rebalancedPrintings</th><th>relatedCards</th><th>securityStamp</th><th>setCode</th><th>side</th><th>signature</th><th>sourceProducts</th><th>subsets</th><th>subtypes</th><th>supertypes</th><th>text</th><th>toughness</th><th>type</th><th>types</th><th>uuid</th><th>variations</th><th>watermark</th></tr><tr><td>str</td><td>str</td><td>str</td><td>str</td><td>str</td><td>str</td><td>str</td><td>str</td><td>str</td><td>str</td><td>str</td><td>str</td><td>str</td><td>f64</td><td>f64</td><td>f64</td><td>str</td><td>f64</td><td>str</td><td>str</td><td>str</td><td>str</td><td>str</td><td>str</td><td>str</td><td>bool</td><td>bool</td><td>bool</td><td>bool</td><td>bool</td><td>bool</td><td>bool</td><td>bool</td><td>bool</td><td>bool</td><td>bool</td><td>bool</td><td>&hellip;</td><td>bool</td><td>str</td><td>str</td><td>str</td><td>str</td><td>str</td><td>str</td><td>str</td><td>f64</td><td>str</td><td>str</td><td>str</td><td>str</td><td>str</td><td>str</td><td>str</td><td>str</td><td>str</td><td>str</td><td>str</td><td>str</td><td>str</td><td>str</td><td>str</td><td>str</td><td>str</td><td>str</td><td>str</td><td>str</td><td>str</td><td>str</td><td>str</td><td>str</td><td>str</td><td>str</td><td>str</td><td>str</td></tr></thead><tbody><tr><td>&quot;Kekai Kotaki&quot;</td><td>&quot;4b771085-c049-…</td><td>null</td><td>null</td><td>&quot;arena, mtgo, p…</td><td>&quot;default&quot;</td><td>&quot;black&quot;</td><td>null</td><td>&quot;U&quot;</td><td>null</td><td>&quot;&quot;</td><td>null</td><td>null</td><td>10705.0</td><td>0.43</td><td>null</td><td>null</td><td>null</td><td>null</td><td>&quot;nonfoil, foil&quot;</td><td>null</td><td>null</td><td>null</td><td>&quot;2015&quot;</td><td>null</td><td>null</td><td>null</td><td>true</td><td>true</td><td>null</td><td>null</td><td>null</td><td>null</td><td>null</td><td>null</td><td>null</td><td>null</td><td>&hellip;</td><td>null</td><td>&quot;Prototype&quot;</td><td>&quot;English&quot;</td><td>&quot;prototype&quot;</td><td>null</td><td>null</td><td>null</td><td>&quot;{7}&quot;</td><td>7.0</td><td>&quot;Arcane Proxy&quot;</td><td>&quot;75&quot;</td><td>null</td><td>null</td><td>null</td><td>null</td><td>null</td><td>&quot;4&quot;</td><td>&quot;BRO, PBRO, PRM…</td><td>null</td><td>&quot;mythic&quot;</td><td>null</td><td>null</td><td>&quot;oval&quot;</td><td>&quot;BRO&quot;</td><td>null</td><td>null</td><td>&quot;{&quot;foil&quot;: [&quot;104…</td><td>null</td><td>&quot;Wizard&quot;</td><td>&quot;&quot;</td><td>&quot;Prototype {1}{…</td><td>&quot;3&quot;</td><td>&quot;Artifact Creat…</td><td>&quot;Artifact, Crea…</td><td>&quot;7047d44f-0eb7-…</td><td>&quot;7a16b020-5aef-…</td><td>null</td></tr><tr><td>&quot;Kekai Kotaki&quot;</td><td>&quot;4b771085-c049-…</td><td>null</td><td>null</td><td>&quot;arena, mtgo, p…</td><td>null</td><td>&quot;black&quot;</td><td>null</td><td>&quot;U&quot;</td><td>null</td><td>&quot;&quot;</td><td>null</td><td>null</td><td>10705.0</td><td>0.43</td><td>null</td><td>null</td><td>null</td><td>null</td><td>&quot;nonfoil, foil&quot;</td><td>null</td><td>null</td><td>&quot;extendedart&quot;</td><td>&quot;2015&quot;</td><td>null</td><td>null</td><td>null</td><td>true</td><td>true</td><td>null</td><td>null</td><td>null</td><td>null</td><td>null</td><td>null</td><td>null</td><td>null</td><td>&hellip;</td><td>null</td><td>&quot;Prototype&quot;</td><td>&quot;English&quot;</td><td>&quot;prototype&quot;</td><td>null</td><td>null</td><td>null</td><td>&quot;{7}&quot;</td><td>7.0</td><td>&quot;Arcane Proxy&quot;</td><td>&quot;319&quot;</td><td>null</td><td>null</td><td>null</td><td>null</td><td>null</td><td>&quot;4&quot;</td><td>&quot;BRO, PBRO, PRM…</td><td>&quot;boosterfun&quot;</td><td>&quot;mythic&quot;</td><td>null</td><td>null</td><td>&quot;oval&quot;</td><td>&quot;BRO&quot;</td><td>null</td><td>null</td><td>&quot;{&quot;foil&quot;: [&quot;5d7…</td><td>null</td><td>&quot;Wizard&quot;</td><td>&quot;&quot;</td><td>&quot;Prototype {1}{…</td><td>&quot;3&quot;</td><td>&quot;Artifact Creat…</td><td>&quot;Artifact, Crea…</td><td>&quot;7a16b020-5aef-…</td><td>&quot;7047d44f-0eb7-…</td><td>null</td></tr><tr><td>&quot;Leon Tukker&quot;</td><td>&quot;669b8b90-758d-…</td><td>null</td><td>null</td><td>&quot;arena, mtgo, p…</td><td>null</td><td>&quot;black&quot;</td><td>null</td><td>&quot;R&quot;</td><td>null</td><td>&quot;&quot;</td><td>null</td><td>null</td><td>14008.0</td><td>0.05</td><td>null</td><td>null</td><td>null</td><td>null</td><td>&quot;nonfoil, foil&quot;</td><td>null</td><td>null</td><td>null</td><td>&quot;2015&quot;</td><td>null</td><td>null</td><td>null</td><td>true</td><td>true</td><td>null</td><td>null</td><td>null</td><td>null</td><td>null</td><td>null</td><td>null</td><td>null</td><td>&hellip;</td><td>null</td><td>&quot;Flying, Uneart…</td><td>&quot;English&quot;</td><td>&quot;normal&quot;</td><td>null</td><td>null</td><td>null</td><td>&quot;{6}&quot;</td><td>6.0</td><td>&quot;Artificer&#x27;s Dr…</td><td>&quot;291&quot;</td><td>null</td><td>null</td><td>null</td><td>null</td><td>null</td><td>&quot;4&quot;</td><td>&quot;BRO, PRM&quot;</td><td>null</td><td>&quot;rare&quot;</td><td>null</td><td>null</td><td>&quot;oval&quot;</td><td>&quot;BRO&quot;</td><td>null</td><td>null</td><td>&quot;{&quot;nonfoil&quot;: [&quot;…</td><td>null</td><td>&quot;Dragon&quot;</td><td>&quot;&quot;</td><td>&quot;Flying\\n{R}: A…</td><td>&quot;4&quot;</td><td>&quot;Artifact Creat…</td><td>&quot;Artifact, Crea…</td><td>&quot;5228982e-997d-…</td><td>&quot;c4a8e16e-d4cc-…</td><td>null</td></tr><tr><td>&quot;Leon Tukker&quot;</td><td>&quot;669b8b90-758d-…</td><td>null</td><td>null</td><td>&quot;arena, mtgo, p…</td><td>null</td><td>&quot;black&quot;</td><td>null</td><td>&quot;R&quot;</td><td>null</td><td>&quot;&quot;</td><td>null</td><td>null</td><td>14008.0</td><td>0.05</td><td>null</td><td>null</td><td>null</td><td>null</td><td>&quot;nonfoil, foil&quot;</td><td>null</td><td>null</td><td>&quot;extendedart&quot;</td><td>&quot;2015&quot;</td><td>null</td><td>null</td><td>null</td><td>true</td><td>true</td><td>null</td><td>null</td><td>null</td><td>null</td><td>null</td><td>null</td><td>null</td><td>null</td><td>&hellip;</td><td>null</td><td>&quot;Flying, Uneart…</td><td>&quot;English&quot;</td><td>&quot;normal&quot;</td><td>null</td><td>null</td><td>null</td><td>&quot;{6}&quot;</td><td>6.0</td><td>&quot;Artificer&#x27;s Dr…</td><td>&quot;376&quot;</td><td>null</td><td>null</td><td>null</td><td>null</td><td>null</td><td>&quot;4&quot;</td><td>&quot;BRO, PRM&quot;</td><td>&quot;boosterfun&quot;</td><td>&quot;rare&quot;</td><td>null</td><td>null</td><td>&quot;oval&quot;</td><td>&quot;BRO&quot;</td><td>null</td><td>null</td><td>&quot;{&quot;foil&quot;: [&quot;5d7…</td><td>null</td><td>&quot;Dragon&quot;</td><td>&quot;&quot;</td><td>&quot;Flying\\n{R}: A…</td><td>&quot;4&quot;</td><td>&quot;Artifact Creat…</td><td>&quot;Artifact, Crea…</td><td>&quot;c4a8e16e-d4cc-…</td><td>&quot;5228982e-997d-…</td><td>null</td></tr><tr><td>&quot;Kieran Yanner&quot;</td><td>&quot;aa7e89ed-d294-…</td><td>null</td><td>null</td><td>&quot;mtgo, paper&quot;</td><td>null</td><td>&quot;black&quot;</td><td>null</td><td>&quot;B, R, U&quot;</td><td>null</td><td>&quot;B, R, U&quot;</td><td>null</td><td>null</td><td>8449.0</td><td>0.33</td><td>null</td><td>null</td><td>null</td><td>null</td><td>&quot;nonfoil, foil&quot;</td><td>null</td><td>null</td><td>null</td><td>&quot;1997&quot;</td><td>null</td><td>null</td><td>null</td><td>true</td><td>true</td><td>null</td><td>null</td><td>null</td><td>null</td><td>null</td><td>null</td><td>null</td><td>null</td><td>&hellip;</td><td>null</td><td>&quot;Deathtouch&quot;</td><td>&quot;English&quot;</td><td>&quot;normal&quot;</td><td>&quot;{&quot;brawl&quot;: fals…</td><td>null</td><td>null</td><td>&quot;{2}{U}{B}{R}&quot;</td><td>5.0</td><td>&quot;Ashnod the Unc…</td><td>&quot;4&quot;</td><td>null</td><td>null</td><td>&quot;Deathtouch\\nWh…</td><td>&quot;Legendary Crea…</td><td>null</td><td>&quot;1&quot;</td><td>&quot;BRC, PRM&quot;</td><td>null</td><td>&quot;mythic&quot;</td><td>null</td><td>null</td><td>null</td><td>&quot;BRC&quot;</td><td>null</td><td>null</td><td>&quot;{&quot;foil&quot;: [&quot;6ed…</td><td>null</td><td>&quot;Human, Artific…</td><td>&quot;Legendary&quot;</td><td>&quot;Deathtouch\\nWh…</td><td>&quot;4&quot;</td><td>&quot;Legendary Crea…</td><td>&quot;Creature&quot;</td><td>&quot;cf08de10-eeba-…</td><td>&quot;40d68e84-5538-…</td><td>&quot;wotc&quot;</td></tr><tr><td>&hellip;</td><td>&hellip;</td><td>&hellip;</td><td>&hellip;</td><td>&hellip;</td><td>&hellip;</td><td>&hellip;</td><td>&hellip;</td><td>&hellip;</td><td>&hellip;</td><td>&hellip;</td><td>&hellip;</td><td>&hellip;</td><td>&hellip;</td><td>&hellip;</td><td>&hellip;</td><td>&hellip;</td><td>&hellip;</td><td>&hellip;</td><td>&hellip;</td><td>&hellip;</td><td>&hellip;</td><td>&hellip;</td><td>&hellip;</td><td>&hellip;</td><td>&hellip;</td><td>&hellip;</td><td>&hellip;</td><td>&hellip;</td><td>&hellip;</td><td>&hellip;</td><td>&hellip;</td><td>&hellip;</td><td>&hellip;</td><td>&hellip;</td><td>&hellip;</td><td>&hellip;</td><td>&hellip;</td><td>&hellip;</td><td>&hellip;</td><td>&hellip;</td><td>&hellip;</td><td>&hellip;</td><td>&hellip;</td><td>&hellip;</td><td>&hellip;</td><td>&hellip;</td><td>&hellip;</td><td>&hellip;</td><td>&hellip;</td><td>&hellip;</td><td>&hellip;</td><td>&hellip;</td><td>&hellip;</td><td>&hellip;</td><td>&hellip;</td><td>&hellip;</td><td>&hellip;</td><td>&hellip;</td><td>&hellip;</td><td>&hellip;</td><td>&hellip;</td><td>&hellip;</td><td>&hellip;</td><td>&hellip;</td><td>&hellip;</td><td>&hellip;</td><td>&hellip;</td><td>&hellip;</td><td>&hellip;</td><td>&hellip;</td><td>&hellip;</td><td>&hellip;</td><td>&hellip;</td><td>&hellip;</td></tr><tr><td>&quot;Evan Shipard&quot;</td><td>&quot;eea284ce-9377-…</td><td>null</td><td>null</td><td>&quot;paper&quot;</td><td>null</td><td>&quot;black&quot;</td><td>null</td><td>&quot;&quot;</td><td>null</td><td>&quot;&quot;</td><td>null</td><td>null</td><td>4829.0</td><td>0.5</td><td>null</td><td>null</td><td>null</td><td>null</td><td>&quot;nonfoil&quot;</td><td>null</td><td>null</td><td>&quot;extendedart&quot;</td><td>&quot;2015&quot;</td><td>null</td><td>null</td><td>null</td><td>false</td><td>true</td><td>null</td><td>null</td><td>null</td><td>null</td><td>null</td><td>null</td><td>null</td><td>null</td><td>&hellip;</td><td>null</td><td>&quot;Mill&quot;</td><td>&quot;English&quot;</td><td>&quot;normal&quot;</td><td>null</td><td>null</td><td>null</td><td>&quot;{7}&quot;</td><td>7.0</td><td>&quot;Wondrous Cruci…</td><td>&quot;67&quot;</td><td>null</td><td>null</td><td>&quot;Permanents you…</td><td>&quot;Artifact&quot;</td><td>null</td><td>null</td><td>&quot;BRC, PRM&quot;</td><td>&quot;boosterfun&quot;</td><td>&quot;rare&quot;</td><td>null</td><td>null</td><td>&quot;oval&quot;</td><td>&quot;BRC&quot;</td><td>null</td><td>null</td><td>&quot;{&quot;nonfoil&quot;: [&quot;…</td><td>null</td><td>&quot;&quot;</td><td>&quot;&quot;</td><td>&quot;Permanents you…</td><td>null</td><td>&quot;Artifact&quot;</td><td>&quot;Artifact&quot;</td><td>&quot;78bfcb1a-4379-…</td><td>&quot;1c283607-16fc-…</td><td>null</td></tr><tr><td>&quot;Ryan Pancoast&quot;</td><td>&quot;89cc9475-dda2-…</td><td>null</td><td>null</td><td>&quot;arena, mtgo, p…</td><td>null</td><td>&quot;black&quot;</td><td>null</td><td>&quot;G&quot;</td><td>null</td><td>&quot;&quot;</td><td>null</td><td>null</td><td>15438.0</td><td>null</td><td>null</td><td>null</td><td>null</td><td>null</td><td>&quot;nonfoil, foil&quot;</td><td>null</td><td>null</td><td>null</td><td>&quot;2015&quot;</td><td>null</td><td>null</td><td>null</td><td>true</td><td>true</td><td>null</td><td>null</td><td>null</td><td>null</td><td>null</td><td>null</td><td>null</td><td>null</td><td>&hellip;</td><td>null</td><td>&quot;Prototype&quot;</td><td>&quot;English&quot;</td><td>&quot;prototype&quot;</td><td>null</td><td>null</td><td>null</td><td>&quot;{10}&quot;</td><td>10.0</td><td>&quot;Woodcaller Aut…</td><td>&quot;292&quot;</td><td>null</td><td>null</td><td>null</td><td>null</td><td>null</td><td>&quot;8&quot;</td><td>&quot;BRO, PRM&quot;</td><td>null</td><td>&quot;rare&quot;</td><td>null</td><td>null</td><td>&quot;oval&quot;</td><td>&quot;BRO&quot;</td><td>null</td><td>null</td><td>&quot;{&quot;nonfoil&quot;: [&quot;…</td><td>null</td><td>&quot;Construct&quot;</td><td>&quot;&quot;</td><td>&quot;Prototype {2}{…</td><td>&quot;8&quot;</td><td>&quot;Artifact Creat…</td><td>&quot;Artifact, Crea…</td><td>&quot;a89e0ffd-5b3b-…</td><td>&quot;135aeec4-f811-…</td><td>null</td></tr><tr><td>&quot;Ryan Pancoast&quot;</td><td>&quot;89cc9475-dda2-…</td><td>null</td><td>null</td><td>&quot;arena, mtgo, p…</td><td>null</td><td>&quot;black&quot;</td><td>null</td><td>&quot;G&quot;</td><td>null</td><td>&quot;&quot;</td><td>null</td><td>null</td><td>15438.0</td><td>null</td><td>null</td><td>null</td><td>null</td><td>null</td><td>&quot;nonfoil, foil&quot;</td><td>null</td><td>null</td><td>&quot;extendedart&quot;</td><td>&quot;2015&quot;</td><td>null</td><td>null</td><td>null</td><td>true</td><td>true</td><td>null</td><td>null</td><td>null</td><td>null</td><td>null</td><td>null</td><td>null</td><td>null</td><td>&hellip;</td><td>null</td><td>&quot;Prototype&quot;</td><td>&quot;English&quot;</td><td>&quot;prototype&quot;</td><td>null</td><td>null</td><td>null</td><td>&quot;{10}&quot;</td><td>10.0</td><td>&quot;Woodcaller Aut…</td><td>&quot;377&quot;</td><td>null</td><td>null</td><td>null</td><td>null</td><td>null</td><td>&quot;8&quot;</td><td>&quot;BRO, PRM&quot;</td><td>&quot;boosterfun&quot;</td><td>&quot;rare&quot;</td><td>null</td><td>null</td><td>&quot;oval&quot;</td><td>&quot;BRO&quot;</td><td>null</td><td>null</td><td>&quot;{&quot;foil&quot;: [&quot;5d7…</td><td>null</td><td>&quot;Construct&quot;</td><td>&quot;&quot;</td><td>&quot;Prototype {2}{…</td><td>&quot;8&quot;</td><td>&quot;Artifact Creat…</td><td>&quot;Artifact, Crea…</td><td>&quot;135aeec4-f811-…</td><td>&quot;a89e0ffd-5b3b-…</td><td>null</td></tr><tr><td>&quot;Josu Hernaiz&quot;</td><td>&quot;74246024-92b4-…</td><td>null</td><td>null</td><td>&quot;mtgo, paper&quot;</td><td>null</td><td>&quot;black&quot;</td><td>null</td><td>&quot;B&quot;</td><td>null</td><td>&quot;B&quot;</td><td>null</td><td>null</td><td>11358.0</td><td>0.11</td><td>null</td><td>null</td><td>null</td><td>null</td><td>&quot;nonfoil&quot;</td><td>null</td><td>null</td><td>null</td><td>&quot;1997&quot;</td><td>null</td><td>null</td><td>null</td><td>false</td><td>true</td><td>null</td><td>null</td><td>null</td><td>null</td><td>null</td><td>null</td><td>null</td><td>null</td><td>&hellip;</td><td>null</td><td>&quot;Flash&quot;</td><td>&quot;English&quot;</td><td>&quot;normal&quot;</td><td>null</td><td>null</td><td>null</td><td>&quot;{B}{B}&quot;</td><td>2.0</td><td>&quot;Wreck Hunter&quot;</td><td>&quot;11&quot;</td><td>null</td><td>null</td><td>&quot;Flash\\nWhen Wr…</td><td>&quot;Creature — Hum…</td><td>null</td><td>&quot;2&quot;</td><td>&quot;BRC, PRM&quot;</td><td>null</td><td>&quot;rare&quot;</td><td>null</td><td>null</td><td>null</td><td>&quot;BRC&quot;</td><td>null</td><td>null</td><td>&quot;{&quot;nonfoil&quot;: [&quot;…</td><td>null</td><td>&quot;Human, Artific…</td><td>&quot;&quot;</td><td>&quot;Flash\\nWhen Wr…</td><td>&quot;2&quot;</td><td>&quot;Creature — Hum…</td><td>&quot;Creature&quot;</td><td>&quot;7f1f230b-9036-…</td><td>&quot;45ac6c4c-907e-…</td><td>null</td></tr><tr><td>&quot;Josu Hernaiz&quot;</td><td>&quot;74246024-92b4-…</td><td>null</td><td>null</td><td>&quot;paper&quot;</td><td>null</td><td>&quot;black&quot;</td><td>null</td><td>&quot;B&quot;</td><td>null</td><td>&quot;B&quot;</td><td>null</td><td>null</td><td>11358.0</td><td>0.11</td><td>null</td><td>null</td><td>null</td><td>null</td><td>&quot;nonfoil&quot;</td><td>null</td><td>null</td><td>&quot;extendedart&quot;</td><td>&quot;2015&quot;</td><td>null</td><td>null</td><td>null</td><td>false</td><td>true</td><td>null</td><td>null</td><td>null</td><td>null</td><td>null</td><td>null</td><td>null</td><td>null</td><td>&hellip;</td><td>null</td><td>&quot;Flash&quot;</td><td>&quot;English&quot;</td><td>&quot;normal&quot;</td><td>null</td><td>null</td><td>null</td><td>&quot;{B}{B}&quot;</td><td>2.0</td><td>&quot;Wreck Hunter&quot;</td><td>&quot;58&quot;</td><td>null</td><td>null</td><td>&quot;Flash\\nWhen Wr…</td><td>&quot;Creature — Hum…</td><td>null</td><td>&quot;2&quot;</td><td>&quot;BRC, PRM&quot;</td><td>&quot;boosterfun&quot;</td><td>&quot;rare&quot;</td><td>null</td><td>null</td><td>&quot;oval&quot;</td><td>&quot;BRC&quot;</td><td>null</td><td>null</td><td>&quot;{&quot;nonfoil&quot;: [&quot;…</td><td>null</td><td>&quot;Human, Artific…</td><td>&quot;&quot;</td><td>&quot;Flash\\nWhen Wr…</td><td>&quot;2&quot;</td><td>&quot;Creature — Hum…</td><td>&quot;Creature&quot;</td><td>&quot;45ac6c4c-907e-…</td><td>&quot;7f1f230b-9036-…</td><td>null</td></tr></tbody></table></div>"
      ],
      "text/plain": [
       "shape: (268, 78)\n",
       "┌───────────┬───────────┬───────────┬───────────┬───┬───────────┬───────────┬───────────┬──────────┐\n",
       "│ artist    ┆ artistIds ┆ asciiName ┆ attractio ┆ … ┆ types     ┆ uuid      ┆ variation ┆ watermar │\n",
       "│ ---       ┆ ---       ┆ ---       ┆ nLights   ┆   ┆ ---       ┆ ---       ┆ s         ┆ k        │\n",
       "│ str       ┆ str       ┆ str       ┆ ---       ┆   ┆ str       ┆ str       ┆ ---       ┆ ---      │\n",
       "│           ┆           ┆           ┆ str       ┆   ┆           ┆           ┆ str       ┆ str      │\n",
       "╞═══════════╪═══════════╪═══════════╪═══════════╪═══╪═══════════╪═══════════╪═══════════╪══════════╡\n",
       "│ Kekai     ┆ 4b771085- ┆ null      ┆ null      ┆ … ┆ Artifact, ┆ 7047d44f- ┆ 7a16b020- ┆ null     │\n",
       "│ Kotaki    ┆ c049-4308 ┆           ┆           ┆   ┆ Creature  ┆ 0eb7-5a0b ┆ 5aef-5d65 ┆          │\n",
       "│           ┆ -930d-ec9 ┆           ┆           ┆   ┆           ┆ -9a2b-7ef ┆ -bcae-69d ┆          │\n",
       "│           ┆ 665f8…    ┆           ┆           ┆   ┆           ┆ 51448…    ┆ e0509…    ┆          │\n",
       "│ Kekai     ┆ 4b771085- ┆ null      ┆ null      ┆ … ┆ Artifact, ┆ 7a16b020- ┆ 7047d44f- ┆ null     │\n",
       "│ Kotaki    ┆ c049-4308 ┆           ┆           ┆   ┆ Creature  ┆ 5aef-5d65 ┆ 0eb7-5a0b ┆          │\n",
       "│           ┆ -930d-ec9 ┆           ┆           ┆   ┆           ┆ -bcae-69d ┆ -9a2b-7ef ┆          │\n",
       "│           ┆ 665f8…    ┆           ┆           ┆   ┆           ┆ e0509…    ┆ 51448…    ┆          │\n",
       "│ Leon      ┆ 669b8b90- ┆ null      ┆ null      ┆ … ┆ Artifact, ┆ 5228982e- ┆ c4a8e16e- ┆ null     │\n",
       "│ Tukker    ┆ 758d-4f9e ┆           ┆           ┆   ┆ Creature  ┆ 997d-5edc ┆ d4cc-5e46 ┆          │\n",
       "│           ┆ -b4f7-98c ┆           ┆           ┆   ┆           ┆ -9d3d-a29 ┆ -945e-771 ┆          │\n",
       "│           ┆ d6742…    ┆           ┆           ┆   ┆           ┆ 25250…    ┆ 7007d…    ┆          │\n",
       "│ Leon      ┆ 669b8b90- ┆ null      ┆ null      ┆ … ┆ Artifact, ┆ c4a8e16e- ┆ 5228982e- ┆ null     │\n",
       "│ Tukker    ┆ 758d-4f9e ┆           ┆           ┆   ┆ Creature  ┆ d4cc-5e46 ┆ 997d-5edc ┆          │\n",
       "│           ┆ -b4f7-98c ┆           ┆           ┆   ┆           ┆ -945e-771 ┆ -9d3d-a29 ┆          │\n",
       "│           ┆ d6742…    ┆           ┆           ┆   ┆           ┆ 7007d…    ┆ 25250…    ┆          │\n",
       "│ Kieran    ┆ aa7e89ed- ┆ null      ┆ null      ┆ … ┆ Creature  ┆ cf08de10- ┆ 40d68e84- ┆ wotc     │\n",
       "│ Yanner    ┆ d294-4633 ┆           ┆           ┆   ┆           ┆ eeba-542e ┆ 5538-599e ┆          │\n",
       "│           ┆ -9057-ce0 ┆           ┆           ┆   ┆           ┆ -ad88-21f ┆ -a47b-595 ┆          │\n",
       "│           ┆ 4dacf…    ┆           ┆           ┆   ┆           ┆ 3b1ff…    ┆ a0815…    ┆          │\n",
       "│ …         ┆ …         ┆ …         ┆ …         ┆ … ┆ …         ┆ …         ┆ …         ┆ …        │\n",
       "│ Evan      ┆ eea284ce- ┆ null      ┆ null      ┆ … ┆ Artifact  ┆ 78bfcb1a- ┆ 1c283607- ┆ null     │\n",
       "│ Shipard   ┆ 9377-49c1 ┆           ┆           ┆   ┆           ┆ 4379-5731 ┆ 16fc-51e1 ┆          │\n",
       "│           ┆ -9d96-f34 ┆           ┆           ┆   ┆           ┆ -a4cb-7b3 ┆ -8d57-212 ┆          │\n",
       "│           ┆ b7d48…    ┆           ┆           ┆   ┆           ┆ b81ec…    ┆ 442be…    ┆          │\n",
       "│ Ryan      ┆ 89cc9475- ┆ null      ┆ null      ┆ … ┆ Artifact, ┆ a89e0ffd- ┆ 135aeec4- ┆ null     │\n",
       "│ Pancoast  ┆ dda2-4d13 ┆           ┆           ┆   ┆ Creature  ┆ 5b3b-5227 ┆ f811-5944 ┆          │\n",
       "│           ┆ -bf88-54b ┆           ┆           ┆   ┆           ┆ -8818-e42 ┆ -afca-a45 ┆          │\n",
       "│           ┆ 92867…    ┆           ┆           ┆   ┆           ┆ 70e8f…    ┆ f163c…    ┆          │\n",
       "│ Ryan      ┆ 89cc9475- ┆ null      ┆ null      ┆ … ┆ Artifact, ┆ 135aeec4- ┆ a89e0ffd- ┆ null     │\n",
       "│ Pancoast  ┆ dda2-4d13 ┆           ┆           ┆   ┆ Creature  ┆ f811-5944 ┆ 5b3b-5227 ┆          │\n",
       "│           ┆ -bf88-54b ┆           ┆           ┆   ┆           ┆ -afca-a45 ┆ -8818-e42 ┆          │\n",
       "│           ┆ 92867…    ┆           ┆           ┆   ┆           ┆ f163c…    ┆ 70e8f…    ┆          │\n",
       "│ Josu      ┆ 74246024- ┆ null      ┆ null      ┆ … ┆ Creature  ┆ 7f1f230b- ┆ 45ac6c4c- ┆ null     │\n",
       "│ Hernaiz   ┆ 92b4-43d0 ┆           ┆           ┆   ┆           ┆ 9036-5672 ┆ 907e-57b2 ┆          │\n",
       "│           ┆ -a5af-a3f ┆           ┆           ┆   ┆           ┆ -926f-4d8 ┆ -8564-15e ┆          │\n",
       "│           ┆ 9f2a3…    ┆           ┆           ┆   ┆           ┆ 1da7c…    ┆ 516fe…    ┆          │\n",
       "│ Josu      ┆ 74246024- ┆ null      ┆ null      ┆ … ┆ Creature  ┆ 45ac6c4c- ┆ 7f1f230b- ┆ null     │\n",
       "│ Hernaiz   ┆ 92b4-43d0 ┆           ┆           ┆   ┆           ┆ 907e-57b2 ┆ 9036-5672 ┆          │\n",
       "│           ┆ -a5af-a3f ┆           ┆           ┆   ┆           ┆ -8564-15e ┆ -926f-4d8 ┆          │\n",
       "│           ┆ 9f2a3…    ┆           ┆           ┆   ┆           ┆ 516fe…    ┆ 1da7c…    ┆          │\n",
       "└───────────┴───────────┴───────────┴───────────┴───┴───────────┴───────────┴───────────┴──────────┘"
      ]
     },
     "execution_count": 8,
     "metadata": {},
     "output_type": "execute_result"
    }
   ],
   "source": [
    "brothers_war_cards = df.filter(pl.col(\"setCode\").is_in([\"BRO\", \"BRC\"]))\n",
    "\n",
    "duplicated_brothers_war_cards = brothers_war_cards.filter(pl.col(\"setCode\").is_in([\"BRO\", \"BRC\"])).group_by(\"name\").len().filter(pl.col(\"len\") > 1)\n",
    "\n",
    "brothers_war_cards.filter(pl.col(\"name\").is_in(duplicated_brothers_war_cards[\"name\"])).sort(\"name\")"
   ]
  },
  {
   "cell_type": "code",
   "execution_count": 9,
   "metadata": {},
   "outputs": [
    {
     "data": {
      "text/html": [
       "<div><style>\n",
       ".dataframe > thead > tr,\n",
       ".dataframe > tbody > tr {\n",
       "  text-align: right;\n",
       "  white-space: pre-wrap;\n",
       "}\n",
       "</style>\n",
       "<small>shape: (12, 78)</small><table border=\"1\" class=\"dataframe\"><thead><tr><th>artist</th><th>artistIds</th><th>asciiName</th><th>attractionLights</th><th>availability</th><th>boosterTypes</th><th>borderColor</th><th>cardParts</th><th>colorIdentity</th><th>colorIndicator</th><th>colors</th><th>defense</th><th>duelDeck</th><th>edhrecRank</th><th>edhrecSaltiness</th><th>faceConvertedManaCost</th><th>faceFlavorName</th><th>faceManaValue</th><th>faceName</th><th>finishes</th><th>flavorName</th><th>flavorText</th><th>frameEffects</th><th>frameVersion</th><th>hand</th><th>hasAlternativeDeckLimit</th><th>hasContentWarning</th><th>hasFoil</th><th>hasNonFoil</th><th>isAlternative</th><th>isFullArt</th><th>isFunny</th><th>isOnlineOnly</th><th>isOversized</th><th>isPromo</th><th>isRebalanced</th><th>isReprint</th><th>&hellip;</th><th>isTimeshifted</th><th>keywords</th><th>language</th><th>layout</th><th>leadershipSkills</th><th>life</th><th>loyalty</th><th>manaCost</th><th>manaValue</th><th>name</th><th>number</th><th>originalPrintings</th><th>originalReleaseDate</th><th>originalText</th><th>originalType</th><th>otherFaceIds</th><th>power</th><th>printings</th><th>promoTypes</th><th>rarity</th><th>rebalancedPrintings</th><th>relatedCards</th><th>securityStamp</th><th>setCode</th><th>side</th><th>signature</th><th>sourceProducts</th><th>subsets</th><th>subtypes</th><th>supertypes</th><th>text</th><th>toughness</th><th>type</th><th>types</th><th>uuid</th><th>variations</th><th>watermark</th></tr><tr><td>str</td><td>str</td><td>str</td><td>str</td><td>str</td><td>str</td><td>str</td><td>str</td><td>str</td><td>str</td><td>str</td><td>str</td><td>str</td><td>f64</td><td>f64</td><td>f64</td><td>str</td><td>f64</td><td>str</td><td>str</td><td>str</td><td>str</td><td>str</td><td>str</td><td>str</td><td>bool</td><td>bool</td><td>bool</td><td>bool</td><td>bool</td><td>bool</td><td>bool</td><td>bool</td><td>bool</td><td>bool</td><td>bool</td><td>bool</td><td>&hellip;</td><td>bool</td><td>str</td><td>str</td><td>str</td><td>str</td><td>str</td><td>str</td><td>str</td><td>f64</td><td>str</td><td>str</td><td>str</td><td>str</td><td>str</td><td>str</td><td>str</td><td>str</td><td>str</td><td>str</td><td>str</td><td>str</td><td>str</td><td>str</td><td>str</td><td>str</td><td>str</td><td>str</td><td>str</td><td>str</td><td>str</td><td>str</td><td>str</td><td>str</td><td>str</td><td>str</td><td>str</td><td>str</td></tr></thead><tbody><tr><td>&quot;Campbell White…</td><td>&quot;d281eab4-463a-…</td><td>null</td><td>null</td><td>&quot;arena&quot;</td><td>null</td><td>&quot;black&quot;</td><td>null</td><td>&quot;R&quot;</td><td>null</td><td>&quot;R&quot;</td><td>null</td><td>null</td><td>null</td><td>null</td><td>null</td><td>null</td><td>null</td><td>null</td><td>&quot;nonfoil&quot;</td><td>null</td><td>null</td><td>null</td><td>&quot;2015&quot;</td><td>null</td><td>null</td><td>null</td><td>false</td><td>true</td><td>true</td><td>null</td><td>null</td><td>true</td><td>null</td><td>null</td><td>true</td><td>null</td><td>&hellip;</td><td>null</td><td>null</td><td>&quot;English&quot;</td><td>&quot;normal&quot;</td><td>null</td><td>null</td><td>null</td><td>&quot;{2}{R}&quot;</td><td>3.0</td><td>&quot;A-Excavation E…</td><td>&quot;A-132&quot;</td><td>&quot;5831d344-544b-…</td><td>null</td><td>null</td><td>null</td><td>null</td><td>null</td><td>&quot;BRO&quot;</td><td>&quot;rebalanced, al…</td><td>&quot;common&quot;</td><td>null</td><td>null</td><td>&quot;arena&quot;</td><td>&quot;BRO&quot;</td><td>null</td><td>null</td><td>null</td><td>null</td><td>&quot;&quot;</td><td>&quot;&quot;</td><td>&quot;Excavation Exp…</td><td>null</td><td>&quot;Instant&quot;</td><td>&quot;Instant&quot;</td><td>&quot;9152dd72-2eb9-…</td><td>null</td><td>null</td></tr><tr><td>&quot;Fajareka Setia…</td><td>&quot;0cc534e0-be18-…</td><td>null</td><td>null</td><td>&quot;arena&quot;</td><td>null</td><td>&quot;black&quot;</td><td>null</td><td>&quot;U&quot;</td><td>null</td><td>&quot;U&quot;</td><td>null</td><td>null</td><td>null</td><td>null</td><td>null</td><td>null</td><td>null</td><td>null</td><td>&quot;nonfoil&quot;</td><td>null</td><td>null</td><td>null</td><td>&quot;2015&quot;</td><td>null</td><td>null</td><td>null</td><td>false</td><td>true</td><td>true</td><td>null</td><td>null</td><td>true</td><td>null</td><td>null</td><td>true</td><td>null</td><td>&hellip;</td><td>null</td><td>&quot;Vigilance&quot;</td><td>&quot;English&quot;</td><td>&quot;normal&quot;</td><td>null</td><td>null</td><td>null</td><td>&quot;{2}{U}{U}&quot;</td><td>4.0</td><td>&quot;A-Geology Enth…</td><td>&quot;A-289&quot;</td><td>&quot;00a2b46d-8f74-…</td><td>null</td><td>null</td><td>null</td><td>null</td><td>&quot;3&quot;</td><td>&quot;BRO&quot;</td><td>&quot;rebalanced, al…</td><td>&quot;rare&quot;</td><td>null</td><td>null</td><td>&quot;arena&quot;</td><td>&quot;BRO&quot;</td><td>null</td><td>null</td><td>null</td><td>null</td><td>&quot;Human, Artific…</td><td>&quot;&quot;</td><td>&quot;Vigilance\\nAt …</td><td>&quot;4&quot;</td><td>&quot;Creature — Hum…</td><td>&quot;Creature&quot;</td><td>&quot;7c6bb20e-7c85-…</td><td>null</td><td>null</td></tr><tr><td>&quot;Christian Dimi…</td><td>&quot;c4c9b5ea-4b31-…</td><td>null</td><td>null</td><td>&quot;arena&quot;</td><td>null</td><td>&quot;black&quot;</td><td>null</td><td>&quot;&quot;</td><td>null</td><td>&quot;&quot;</td><td>null</td><td>null</td><td>null</td><td>null</td><td>null</td><td>null</td><td>null</td><td>null</td><td>&quot;nonfoil&quot;</td><td>null</td><td>null</td><td>null</td><td>&quot;2015&quot;</td><td>null</td><td>null</td><td>null</td><td>false</td><td>true</td><td>true</td><td>null</td><td>null</td><td>true</td><td>null</td><td>null</td><td>true</td><td>null</td><td>&hellip;</td><td>null</td><td>null</td><td>&quot;English&quot;</td><td>&quot;normal&quot;</td><td>null</td><td>null</td><td>null</td><td>null</td><td>0.0</td><td>&quot;A-Hall of Tags…</td><td>&quot;A-263&quot;</td><td>&quot;88ca67b5-006e-…</td><td>null</td><td>null</td><td>null</td><td>null</td><td>null</td><td>&quot;BRO&quot;</td><td>&quot;rebalanced, al…</td><td>&quot;rare&quot;</td><td>null</td><td>null</td><td>&quot;arena&quot;</td><td>&quot;BRO&quot;</td><td>null</td><td>null</td><td>null</td><td>null</td><td>&quot;&quot;</td><td>&quot;&quot;</td><td>&quot;{T}: Add {C}.\\…</td><td>null</td><td>&quot;Land&quot;</td><td>&quot;Land&quot;</td><td>&quot;328cbb1d-14b3-…</td><td>null</td><td>null</td></tr><tr><td>&quot;Izzy&quot;</td><td>&quot;2c3d2473-ff5d-…</td><td>null</td><td>null</td><td>&quot;arena&quot;</td><td>null</td><td>&quot;black&quot;</td><td>null</td><td>&quot;G&quot;</td><td>null</td><td>&quot;&quot;</td><td>null</td><td>null</td><td>null</td><td>null</td><td>null</td><td>null</td><td>null</td><td>null</td><td>&quot;nonfoil&quot;</td><td>null</td><td>null</td><td>null</td><td>&quot;2015&quot;</td><td>null</td><td>null</td><td>null</td><td>false</td><td>true</td><td>true</td><td>null</td><td>null</td><td>true</td><td>null</td><td>null</td><td>true</td><td>null</td><td>&hellip;</td><td>null</td><td>null</td><td>&quot;English&quot;</td><td>&quot;normal&quot;</td><td>null</td><td>null</td><td>null</td><td>&quot;{1}&quot;</td><td>1.0</td><td>&quot;A-Haywire Mite…</td><td>&quot;A-199&quot;</td><td>&quot;4cc2e974-bd0c-…</td><td>null</td><td>null</td><td>null</td><td>null</td><td>&quot;1&quot;</td><td>&quot;BRO&quot;</td><td>&quot;rebalanced, al…</td><td>&quot;uncommon&quot;</td><td>null</td><td>null</td><td>&quot;arena&quot;</td><td>&quot;BRO&quot;</td><td>null</td><td>null</td><td>null</td><td>null</td><td>&quot;Insect&quot;</td><td>&quot;&quot;</td><td>&quot;When Haywire M…</td><td>&quot;2&quot;</td><td>&quot;Artifact Creat…</td><td>&quot;Artifact, Crea…</td><td>&quot;f0737feb-71aa-…</td><td>null</td><td>null</td></tr><tr><td>&quot;Igor Kieryluk&quot;</td><td>&quot;9c3e9d17-509f-…</td><td>null</td><td>null</td><td>&quot;arena&quot;</td><td>null</td><td>&quot;black&quot;</td><td>null</td><td>&quot;U&quot;</td><td>null</td><td>&quot;U&quot;</td><td>null</td><td>null</td><td>null</td><td>null</td><td>null</td><td>null</td><td>null</td><td>null</td><td>&quot;nonfoil&quot;</td><td>null</td><td>null</td><td>null</td><td>&quot;2015&quot;</td><td>null</td><td>null</td><td>null</td><td>false</td><td>true</td><td>true</td><td>null</td><td>null</td><td>true</td><td>null</td><td>null</td><td>true</td><td>null</td><td>&hellip;</td><td>null</td><td>&quot;Enchant&quot;</td><td>&quot;English&quot;</td><td>&quot;normal&quot;</td><td>null</td><td>null</td><td>null</td><td>&quot;{2}{U}&quot;</td><td>3.0</td><td>&quot;A-Mightstone&#x27;s…</td><td>&quot;A-58&quot;</td><td>&quot;1d8cbd80-5292-…</td><td>null</td><td>null</td><td>null</td><td>null</td><td>null</td><td>&quot;BRO&quot;</td><td>&quot;rebalanced, al…</td><td>&quot;common&quot;</td><td>null</td><td>null</td><td>&quot;arena&quot;</td><td>&quot;BRO&quot;</td><td>null</td><td>null</td><td>null</td><td>null</td><td>&quot;Aura&quot;</td><td>&quot;&quot;</td><td>&quot;Enchant artifa…</td><td>null</td><td>&quot;Enchantment — …</td><td>&quot;Enchantment&quot;</td><td>&quot;30b7cd74-4998-…</td><td>null</td><td>null</td></tr><tr><td>&hellip;</td><td>&hellip;</td><td>&hellip;</td><td>&hellip;</td><td>&hellip;</td><td>&hellip;</td><td>&hellip;</td><td>&hellip;</td><td>&hellip;</td><td>&hellip;</td><td>&hellip;</td><td>&hellip;</td><td>&hellip;</td><td>&hellip;</td><td>&hellip;</td><td>&hellip;</td><td>&hellip;</td><td>&hellip;</td><td>&hellip;</td><td>&hellip;</td><td>&hellip;</td><td>&hellip;</td><td>&hellip;</td><td>&hellip;</td><td>&hellip;</td><td>&hellip;</td><td>&hellip;</td><td>&hellip;</td><td>&hellip;</td><td>&hellip;</td><td>&hellip;</td><td>&hellip;</td><td>&hellip;</td><td>&hellip;</td><td>&hellip;</td><td>&hellip;</td><td>&hellip;</td><td>&hellip;</td><td>&hellip;</td><td>&hellip;</td><td>&hellip;</td><td>&hellip;</td><td>&hellip;</td><td>&hellip;</td><td>&hellip;</td><td>&hellip;</td><td>&hellip;</td><td>&hellip;</td><td>&hellip;</td><td>&hellip;</td><td>&hellip;</td><td>&hellip;</td><td>&hellip;</td><td>&hellip;</td><td>&hellip;</td><td>&hellip;</td><td>&hellip;</td><td>&hellip;</td><td>&hellip;</td><td>&hellip;</td><td>&hellip;</td><td>&hellip;</td><td>&hellip;</td><td>&hellip;</td><td>&hellip;</td><td>&hellip;</td><td>&hellip;</td><td>&hellip;</td><td>&hellip;</td><td>&hellip;</td><td>&hellip;</td><td>&hellip;</td><td>&hellip;</td><td>&hellip;</td><td>&hellip;</td></tr><tr><td>&quot;Campbell White…</td><td>&quot;d281eab4-463a-…</td><td>null</td><td>null</td><td>&quot;arena&quot;</td><td>null</td><td>&quot;black&quot;</td><td>null</td><td>&quot;U&quot;</td><td>null</td><td>&quot;U&quot;</td><td>null</td><td>null</td><td>null</td><td>null</td><td>null</td><td>null</td><td>null</td><td>null</td><td>&quot;nonfoil&quot;</td><td>null</td><td>null</td><td>null</td><td>&quot;2015&quot;</td><td>null</td><td>null</td><td>null</td><td>false</td><td>true</td><td>true</td><td>null</td><td>null</td><td>true</td><td>null</td><td>null</td><td>true</td><td>null</td><td>&hellip;</td><td>null</td><td>null</td><td>&quot;English&quot;</td><td>&quot;normal&quot;</td><td>null</td><td>null</td><td>null</td><td>&quot;{2}{U}&quot;</td><td>3.0</td><td>&quot;A-Splitting th…</td><td>&quot;A-63&quot;</td><td>&quot;9ae558eb-5fc1-…</td><td>null</td><td>null</td><td>null</td><td>null</td><td>null</td><td>&quot;BRO&quot;</td><td>&quot;rebalanced, al…</td><td>&quot;uncommon&quot;</td><td>null</td><td>null</td><td>&quot;arena&quot;</td><td>&quot;BRO&quot;</td><td>null</td><td>null</td><td>null</td><td>null</td><td>&quot;&quot;</td><td>&quot;&quot;</td><td>&quot;As an addition…</td><td>null</td><td>&quot;Instant&quot;</td><td>&quot;Instant&quot;</td><td>&quot;ed0f04ca-afa3-…</td><td>null</td><td>null</td></tr><tr><td>&quot;Joshua Cairos&quot;</td><td>&quot;2b8abf3a-262e-…</td><td>null</td><td>null</td><td>&quot;arena&quot;</td><td>null</td><td>&quot;black&quot;</td><td>null</td><td>&quot;&quot;</td><td>null</td><td>&quot;&quot;</td><td>null</td><td>null</td><td>null</td><td>null</td><td>null</td><td>null</td><td>null</td><td>null</td><td>&quot;nonfoil&quot;</td><td>null</td><td>null</td><td>null</td><td>&quot;2015&quot;</td><td>null</td><td>null</td><td>null</td><td>false</td><td>true</td><td>true</td><td>null</td><td>null</td><td>true</td><td>null</td><td>null</td><td>true</td><td>null</td><td>&hellip;</td><td>null</td><td>&quot;Reach&quot;</td><td>&quot;English&quot;</td><td>&quot;normal&quot;</td><td>null</td><td>null</td><td>null</td><td>&quot;{3}&quot;</td><td>3.0</td><td>&quot;A-Thran Spider…</td><td>&quot;A-254&quot;</td><td>&quot;372e83af-fdcf-…</td><td>null</td><td>null</td><td>null</td><td>null</td><td>&quot;2&quot;</td><td>&quot;BRO&quot;</td><td>&quot;rebalanced, al…</td><td>&quot;rare&quot;</td><td>null</td><td>null</td><td>&quot;arena&quot;</td><td>&quot;BRO&quot;</td><td>null</td><td>null</td><td>null</td><td>null</td><td>&quot;Spider&quot;</td><td>&quot;&quot;</td><td>&quot;Reach\\nWhen Th…</td><td>&quot;4&quot;</td><td>&quot;Artifact Creat…</td><td>&quot;Artifact, Crea…</td><td>&quot;19a8cbcb-c954-…</td><td>null</td><td>null</td></tr><tr><td>&quot;Dominik Mayer&quot;</td><td>&quot;c3439c4a-1fee-…</td><td>null</td><td>null</td><td>&quot;arena&quot;</td><td>null</td><td>&quot;black&quot;</td><td>null</td><td>&quot;U&quot;</td><td>null</td><td>&quot;U&quot;</td><td>null</td><td>null</td><td>null</td><td>null</td><td>null</td><td>null</td><td>null</td><td>null</td><td>&quot;nonfoil&quot;</td><td>null</td><td>null</td><td>null</td><td>&quot;2015&quot;</td><td>null</td><td>null</td><td>null</td><td>false</td><td>true</td><td>true</td><td>null</td><td>null</td><td>true</td><td>null</td><td>null</td><td>true</td><td>null</td><td>&hellip;</td><td>null</td><td>&quot;Scry&quot;</td><td>&quot;English&quot;</td><td>&quot;normal&quot;</td><td>null</td><td>null</td><td>null</td><td>&quot;{2}{U}{U}&quot;</td><td>4.0</td><td>&quot;A-Urza&#x27;s Comma…</td><td>&quot;A-70&quot;</td><td>&quot;0f4988ce-d720-…</td><td>null</td><td>null</td><td>null</td><td>null</td><td>null</td><td>&quot;BRO&quot;</td><td>&quot;rebalanced, al…</td><td>&quot;rare&quot;</td><td>null</td><td>null</td><td>&quot;arena&quot;</td><td>&quot;BRO&quot;</td><td>null</td><td>null</td><td>null</td><td>null</td><td>&quot;&quot;</td><td>&quot;&quot;</td><td>&quot;Choose two —\\n…</td><td>null</td><td>&quot;Instant&quot;</td><td>&quot;Instant&quot;</td><td>&quot;60ab7bf9-5870-…</td><td>null</td><td>null</td></tr><tr><td>&quot;Donato Giancol…</td><td>&quot;90332db2-aecb-…</td><td>null</td><td>null</td><td>&quot;arena&quot;</td><td>null</td><td>&quot;black&quot;</td><td>null</td><td>&quot;U&quot;</td><td>null</td><td>&quot;U&quot;</td><td>null</td><td>null</td><td>null</td><td>null</td><td>null</td><td>null</td><td>null</td><td>null</td><td>&quot;nonfoil&quot;</td><td>null</td><td>null</td><td>null</td><td>&quot;2015&quot;</td><td>null</td><td>null</td><td>null</td><td>false</td><td>true</td><td>true</td><td>null</td><td>null</td><td>true</td><td>null</td><td>null</td><td>true</td><td>null</td><td>&hellip;</td><td>null</td><td>null</td><td>&quot;English&quot;</td><td>&quot;normal&quot;</td><td>&quot;{&quot;brawl&quot;: true…</td><td>null</td><td>null</td><td>&quot;{1}{U}&quot;</td><td>2.0</td><td>&quot;A-Urza, Powers…</td><td>&quot;A-69&quot;</td><td>&quot;8bae54a4-9288-…</td><td>null</td><td>null</td><td>null</td><td>null</td><td>&quot;1&quot;</td><td>&quot;BRO&quot;</td><td>&quot;rebalanced, al…</td><td>&quot;uncommon&quot;</td><td>null</td><td>null</td><td>&quot;arena&quot;</td><td>&quot;BRO&quot;</td><td>null</td><td>null</td><td>null</td><td>null</td><td>&quot;Human, Artific…</td><td>&quot;Legendary&quot;</td><td>&quot;{1}, {T}: Draw…</td><td>&quot;3&quot;</td><td>&quot;Legendary Crea…</td><td>&quot;Creature&quot;</td><td>&quot;d8241e4f-dd2f-…</td><td>null</td><td>null</td></tr><tr><td>&quot;Dominik Mayer&quot;</td><td>&quot;c3439c4a-1fee-…</td><td>null</td><td>null</td><td>&quot;arena&quot;</td><td>null</td><td>&quot;black&quot;</td><td>null</td><td>&quot;R&quot;</td><td>null</td><td>&quot;R&quot;</td><td>null</td><td>null</td><td>null</td><td>null</td><td>null</td><td>null</td><td>null</td><td>null</td><td>&quot;nonfoil&quot;</td><td>null</td><td>null</td><td>null</td><td>&quot;2015&quot;</td><td>null</td><td>null</td><td>null</td><td>false</td><td>true</td><td>true</td><td>null</td><td>null</td><td>true</td><td>null</td><td>null</td><td>true</td><td>null</td><td>&hellip;</td><td>null</td><td>null</td><td>&quot;English&quot;</td><td>&quot;normal&quot;</td><td>null</td><td>null</td><td>null</td><td>&quot;{2}{R}{R}&quot;</td><td>4.0</td><td>&quot;A-Visions of P…</td><td>&quot;A-156&quot;</td><td>&quot;7fb9f9e3-df5d-…</td><td>null</td><td>null</td><td>null</td><td>null</td><td>null</td><td>&quot;BRO&quot;</td><td>&quot;rebalanced, al…</td><td>&quot;rare&quot;</td><td>null</td><td>null</td><td>&quot;arena&quot;</td><td>&quot;BRO&quot;</td><td>null</td><td>null</td><td>null</td><td>null</td><td>&quot;&quot;</td><td>&quot;&quot;</td><td>&quot;At the beginni…</td><td>null</td><td>&quot;Enchantment&quot;</td><td>&quot;Enchantment&quot;</td><td>&quot;aced4594-ef5d-…</td><td>null</td><td>null</td></tr></tbody></table></div>"
      ],
      "text/plain": [
       "shape: (12, 78)\n",
       "┌───────────┬───────────┬───────────┬───────────┬───┬───────────┬───────────┬───────────┬──────────┐\n",
       "│ artist    ┆ artistIds ┆ asciiName ┆ attractio ┆ … ┆ types     ┆ uuid      ┆ variation ┆ watermar │\n",
       "│ ---       ┆ ---       ┆ ---       ┆ nLights   ┆   ┆ ---       ┆ ---       ┆ s         ┆ k        │\n",
       "│ str       ┆ str       ┆ str       ┆ ---       ┆   ┆ str       ┆ str       ┆ ---       ┆ ---      │\n",
       "│           ┆           ┆           ┆ str       ┆   ┆           ┆           ┆ str       ┆ str      │\n",
       "╞═══════════╪═══════════╪═══════════╪═══════════╪═══╪═══════════╪═══════════╪═══════════╪══════════╡\n",
       "│ Campbell  ┆ d281eab4- ┆ null      ┆ null      ┆ … ┆ Instant   ┆ 9152dd72- ┆ null      ┆ null     │\n",
       "│ White     ┆ 463a-4ba8 ┆           ┆           ┆   ┆           ┆ 2eb9-586c ┆           ┆          │\n",
       "│           ┆ -9039-894 ┆           ┆           ┆   ┆           ┆ -9abb-4e6 ┆           ┆          │\n",
       "│           ┆ 37379…    ┆           ┆           ┆   ┆           ┆ 8056d…    ┆           ┆          │\n",
       "│ Fajareka  ┆ 0cc534e0- ┆ null      ┆ null      ┆ … ┆ Creature  ┆ 7c6bb20e- ┆ null      ┆ null     │\n",
       "│ Setiawan  ┆ be18-4cb1 ┆           ┆           ┆   ┆           ┆ 7c85-5dae ┆           ┆          │\n",
       "│           ┆ -8521-50f ┆           ┆           ┆   ┆           ┆ -bf32-a5e ┆           ┆          │\n",
       "│           ┆ abd0d…    ┆           ┆           ┆   ┆           ┆ 6dffb…    ┆           ┆          │\n",
       "│ Christian ┆ c4c9b5ea- ┆ null      ┆ null      ┆ … ┆ Land      ┆ 328cbb1d- ┆ null      ┆ null     │\n",
       "│ Dimitrov  ┆ 4b31-40a0 ┆           ┆           ┆   ┆           ┆ 14b3-54ef ┆           ┆          │\n",
       "│           ┆ -8e40-d7d ┆           ┆           ┆   ┆           ┆ -9b09-32f ┆           ┆          │\n",
       "│           ┆ feae4…    ┆           ┆           ┆   ┆           ┆ 81451…    ┆           ┆          │\n",
       "│ Izzy      ┆ 2c3d2473- ┆ null      ┆ null      ┆ … ┆ Artifact, ┆ f0737feb- ┆ null      ┆ null     │\n",
       "│           ┆ ff5d-4309 ┆           ┆           ┆   ┆ Creature  ┆ 71aa-5803 ┆           ┆          │\n",
       "│           ┆ -8194-e0b ┆           ┆           ┆   ┆           ┆ -abcc-b04 ┆           ┆          │\n",
       "│           ┆ 2def2…    ┆           ┆           ┆   ┆           ┆ 85b46…    ┆           ┆          │\n",
       "│ Igor      ┆ 9c3e9d17- ┆ null      ┆ null      ┆ … ┆ Enchantme ┆ 30b7cd74- ┆ null      ┆ null     │\n",
       "│ Kieryluk  ┆ 509f-485c ┆           ┆           ┆   ┆ nt        ┆ 4998-5723 ┆           ┆          │\n",
       "│           ┆ -9360-46d ┆           ┆           ┆   ┆           ┆ -88c3-10e ┆           ┆          │\n",
       "│           ┆ 897ce…    ┆           ┆           ┆   ┆           ┆ d2889…    ┆           ┆          │\n",
       "│ …         ┆ …         ┆ …         ┆ …         ┆ … ┆ …         ┆ …         ┆ …         ┆ …        │\n",
       "│ Campbell  ┆ d281eab4- ┆ null      ┆ null      ┆ … ┆ Instant   ┆ ed0f04ca- ┆ null      ┆ null     │\n",
       "│ White     ┆ 463a-4ba8 ┆           ┆           ┆   ┆           ┆ afa3-5a09 ┆           ┆          │\n",
       "│           ┆ -9039-894 ┆           ┆           ┆   ┆           ┆ -a8c1-e9b ┆           ┆          │\n",
       "│           ┆ 37379…    ┆           ┆           ┆   ┆           ┆ fefb9…    ┆           ┆          │\n",
       "│ Joshua    ┆ 2b8abf3a- ┆ null      ┆ null      ┆ … ┆ Artifact, ┆ 19a8cbcb- ┆ null      ┆ null     │\n",
       "│ Cairos    ┆ 262e-492d ┆           ┆           ┆   ┆ Creature  ┆ c954-534f ┆           ┆          │\n",
       "│           ┆ -8ee5-5f3 ┆           ┆           ┆   ┆           ┆ -aa9e-385 ┆           ┆          │\n",
       "│           ┆ 3e09c…    ┆           ┆           ┆   ┆           ┆ 40bb6…    ┆           ┆          │\n",
       "│ Dominik   ┆ c3439c4a- ┆ null      ┆ null      ┆ … ┆ Instant   ┆ 60ab7bf9- ┆ null      ┆ null     │\n",
       "│ Mayer     ┆ 1fee-4e33 ┆           ┆           ┆   ┆           ┆ 5870-506a ┆           ┆          │\n",
       "│           ┆ -9b89-18d ┆           ┆           ┆   ┆           ┆ -b230-d0b ┆           ┆          │\n",
       "│           ┆ ac27a…    ┆           ┆           ┆   ┆           ┆ 614a6…    ┆           ┆          │\n",
       "│ Donato    ┆ 90332db2- ┆ null      ┆ null      ┆ … ┆ Creature  ┆ d8241e4f- ┆ null      ┆ null     │\n",
       "│ Giancola  ┆ aecb-4d79 ┆           ┆           ┆   ┆           ┆ dd2f-5edc ┆           ┆          │\n",
       "│           ┆ -917b-95c ┆           ┆           ┆   ┆           ┆ -a195-ac3 ┆           ┆          │\n",
       "│           ┆ beb8d…    ┆           ┆           ┆   ┆           ┆ b0fd4…    ┆           ┆          │\n",
       "│ Dominik   ┆ c3439c4a- ┆ null      ┆ null      ┆ … ┆ Enchantme ┆ aced4594- ┆ null      ┆ null     │\n",
       "│ Mayer     ┆ 1fee-4e33 ┆           ┆           ┆   ┆ nt        ┆ ef5d-5598 ┆           ┆          │\n",
       "│           ┆ -9b89-18d ┆           ┆           ┆   ┆           ┆ -924a-af4 ┆           ┆          │\n",
       "│           ┆ ac27a…    ┆           ┆           ┆   ┆           ┆ 268df…    ┆           ┆          │\n",
       "└───────────┴───────────┴───────────┴───────────┴───┴───────────┴───────────┴───────────┴──────────┘"
      ]
     },
     "execution_count": 9,
     "metadata": {},
     "output_type": "execute_result"
    }
   ],
   "source": [
    "brothers_war_alchemy_cards = brothers_war_cards.filter(pl.col(\"number\").str.contains(\"A-\")).sort(\"name\")\n",
    "\n",
    "brothers_war_alchemy_cards"
   ]
  },
  {
   "cell_type": "markdown",
   "metadata": {},
   "source": [
    "['artist', 'artistIds', 'asciiName', 'attractionLights', 'availability', 'boosterTypes', 'borderColor', 'cardParts', 'colorIdentity', 'colorIndicator', 'colors', 'defense', 'duelDeck', 'edhrecRank', 'edhrecSaltiness', 'faceConvertedManaCost', 'faceFlavorName', 'faceManaValue', 'faceName', 'finishes', 'flavorName', 'flavorText', 'frameEffects', 'frameVersion', 'hand', 'hasAlternativeDeckLimit', 'hasContentWarning', 'hasFoil', 'hasNonFoil', 'isAlternative', 'isFullArt', 'isFunny', 'isOnlineOnly', 'isOversized', 'isPromo', 'isRebalanced', 'isReprint', 'isReserved', 'isStarter', 'isStorySpotlight', 'isTextless', 'isTimeshifted', 'keywords', 'language', 'layout', 'leadershipSkills', 'life', 'loyalty', 'manaCost', 'manaValue', 'name', 'number', 'originalPrintings', 'originalReleaseDate', 'originalText', 'originalType', 'otherFaceIds', 'power', 'printings', 'promoTypes', 'rarity', 'rebalancedPrintings', 'relatedCards', 'securityStamp', 'setCode', 'side', 'signature', 'sourceProducts', 'subsets', 'subtypes', 'supertypes', 'text', 'toughness', 'type', 'types', 'uuid', 'variations', 'watermark']\n"
   ]
  },
  {
   "cell_type": "code",
   "execution_count": 10,
   "metadata": {},
   "outputs": [
    {
     "name": "stdout",
     "output_type": "stream",
     "text": [
      "attractionLights: [None, '2, 6', '2, 3, 4, 6', '2, 4, 6', '4, 6', '3, 4, 6', '3, 4, 5, 6', '3, 5, 6', '2, 3, 5, 6', '3, 6', '2, 4, 5, 6', '2, 5, 6', '5, 6', '2, 3, 6', '4, 5, 6']\n",
      "availability: ['paper', 'shandalar', 'arena, mtgo, paper', 'mtgo, paper', 'arena, paper', 'arena', 'mtgo', 'dreamcast']\n",
      "frameEffects: ['showcase, sunmoondfc', 'sunmoondfc', 'legendary, showcase', 'convertdfc, legendary', 'nyxtouched', 'inverted, fullart', 'nyxtouched, legendary', 'extendedart, snow', 'legendary, inverted, companion', 'snow', 'originpwdfc, legendary', 'inverted, snow', 'compasslanddfc', 'compasslanddfc, legendary', 'inverted, showcase, legendary', 'legendary, inverted, fullart', 'inverted, sunmoondfc', 'showcase, inverted', 'nyxtouched, inverted', 'legendary, showcase, inverted', 'extendedart', 'extendedart, lesson', 'legendary, etched, inverted', 'borderless', 'companion, legendary', 'legendary, fullart', 'legendary, inverted, etched', 'fullart, inverted', 'showcase, legendary, sunmoondfc, inverted', 'tombstone', 'devoid', 'colorshifted', 'inverted, showcase', 'nyxtouched, showcase, legendary, inverted', 'stamped, promo', 'inverted, etched, legendary', 'mooneldrazidfc', 'showcase', 'legendary, companion, inverted', 'showcase, legendary, inverted', 'legendary, inverted', 'showcase, inverted, legendary', 'showcase, inverted, nyxtouched', 'legendary, compasslanddfc', 'legendary, convertdfc', 'lesson', 'borderless, inverted', 'originpwdfc', 'convertdfc, shatteredglass, legendary, inverted', 'legendary, inverted, showcase', 'legendary, inverted, etched, nyxtouched', 'etched, inverted', 'inverted', None, 'legendary, extendedart, nyxtouched', 'legendary, inverted, nyxtouched', 'extendedart, sunmoondfc', 'legendary, showcase, inverted, nyxtouched', 'extendedart, nyxtouched', 'nyxtouched, legendary, showcase, inverted', 'stamped', 'showcase, legendary, sunmoondfc', 'extendedart, fandfc', 'nyxtouched, legendary, extendedart', 'legendary, nyxtouched', 'fandfc', 'inverted, legendary', 'legendary, snow', 'fullart, inverted, showcase', 'legendary, upsidedowndfc', 'inverted, convertdfc', 'inverted, etched, legendary, nyxtouched', 'legendary, sunmoondfc', 'legendary, extendedart', 'showcase, legendary', 'extendedart, legendary', 'legendary, shatteredglass, inverted, convertdfc', 'companion, legendary, extendedart', 'inverted, etched', 'legendary, waxingandwaningmoondfc', 'showcase, legendary, inverted, sunmoondfc', 'miracle', 'showcase, fandfc, inverted', 'legendary, companion', 'draft', 'showcase, legendary, inverted, nyxtouched', 'legendary, inverted, sunmoondfc', 'fullart', 'legendary']\n",
      "frameVersion: ['1993', 'future', '1997', '2003', '2015']\n",
      "layout: ['flip', 'adventure', 'aftermath', 'augment', 'split', 'modal_dfc', 'transform', 'case', 'vanguard', 'host', 'normal', 'reversible_card', 'saga', 'meld', 'mutate', 'leveler', 'scheme', 'prototype', 'class', 'planar']\n",
      "isAlternative: [None, True]\n",
      "isFullArt: [None, True]\n",
      "isFunny: [None, True]\n",
      "isOnlineOnly: [None, True]\n",
      "isOversized: [None, True]\n",
      "isPromo: [None, True]\n",
      "isRebalanced: [None, True]\n",
      "isReprint: [True, None]\n",
      "isReserved: [None, True]\n",
      "isStarter: [None, True]\n",
      "isStorySpotlight: [None, True]\n",
      "isTextless: [None, True]\n",
      "isTimeshifted: [None, True]\n",
      "layout: ['planar', 'vanguard', 'leveler', 'aftermath', 'mutate', 'split', 'adventure', 'host', 'meld', 'flip', 'modal_dfc', 'scheme', 'transform', 'saga', 'prototype', 'class', 'augment', 'reversible_card', 'normal', 'case']\n",
      "side: ['d', 'e', 'c', 'b', 'a', None]\n"
     ]
    }
   ],
   "source": [
    "\n",
    "def print_unique_values(df: pl.DataFrame, column_lanes: list[str]):\n",
    "    for column_name in column_lanes:\n",
    "        print(f\"{column_name}: {df[column_name].unique().to_list()}\")\n",
    "\n",
    "print_unique_values(df, [\"attractionLights\", \"availability\", \"frameEffects\", \"frameVersion\", \"layout\", 'isAlternative', 'isFullArt', 'isFunny', 'isOnlineOnly', 'isOversized', 'isPromo', 'isRebalanced', 'isReprint', 'isReserved', 'isStarter', 'isStorySpotlight', 'isTextless', 'isTimeshifted', 'layout', 'side', ])"
   ]
  },
  {
   "cell_type": "code",
   "execution_count": 11,
   "metadata": {},
   "outputs": [
    {
     "data": {
      "text/html": [
       "<div><style>\n",
       ".dataframe > thead > tr,\n",
       ".dataframe > tbody > tr {\n",
       "  text-align: right;\n",
       "  white-space: pre-wrap;\n",
       "}\n",
       "</style>\n",
       "<small>shape: (3_573, 78)</small><table border=\"1\" class=\"dataframe\"><thead><tr><th>artist</th><th>artistIds</th><th>asciiName</th><th>attractionLights</th><th>availability</th><th>boosterTypes</th><th>borderColor</th><th>cardParts</th><th>colorIdentity</th><th>colorIndicator</th><th>colors</th><th>defense</th><th>duelDeck</th><th>edhrecRank</th><th>edhrecSaltiness</th><th>faceConvertedManaCost</th><th>faceFlavorName</th><th>faceManaValue</th><th>faceName</th><th>finishes</th><th>flavorName</th><th>flavorText</th><th>frameEffects</th><th>frameVersion</th><th>hand</th><th>hasAlternativeDeckLimit</th><th>hasContentWarning</th><th>hasFoil</th><th>hasNonFoil</th><th>isAlternative</th><th>isFullArt</th><th>isFunny</th><th>isOnlineOnly</th><th>isOversized</th><th>isPromo</th><th>isRebalanced</th><th>isReprint</th><th>&hellip;</th><th>isTimeshifted</th><th>keywords</th><th>language</th><th>layout</th><th>leadershipSkills</th><th>life</th><th>loyalty</th><th>manaCost</th><th>manaValue</th><th>name</th><th>number</th><th>originalPrintings</th><th>originalReleaseDate</th><th>originalText</th><th>originalType</th><th>otherFaceIds</th><th>power</th><th>printings</th><th>promoTypes</th><th>rarity</th><th>rebalancedPrintings</th><th>relatedCards</th><th>securityStamp</th><th>setCode</th><th>side</th><th>signature</th><th>sourceProducts</th><th>subsets</th><th>subtypes</th><th>supertypes</th><th>text</th><th>toughness</th><th>type</th><th>types</th><th>uuid</th><th>variations</th><th>watermark</th></tr><tr><td>str</td><td>str</td><td>str</td><td>str</td><td>str</td><td>str</td><td>str</td><td>str</td><td>str</td><td>str</td><td>str</td><td>str</td><td>str</td><td>f64</td><td>f64</td><td>f64</td><td>str</td><td>f64</td><td>str</td><td>str</td><td>str</td><td>str</td><td>str</td><td>str</td><td>str</td><td>bool</td><td>bool</td><td>bool</td><td>bool</td><td>bool</td><td>bool</td><td>bool</td><td>bool</td><td>bool</td><td>bool</td><td>bool</td><td>bool</td><td>&hellip;</td><td>bool</td><td>str</td><td>str</td><td>str</td><td>str</td><td>str</td><td>str</td><td>str</td><td>f64</td><td>str</td><td>str</td><td>str</td><td>str</td><td>str</td><td>str</td><td>str</td><td>str</td><td>str</td><td>str</td><td>str</td><td>str</td><td>str</td><td>str</td><td>str</td><td>str</td><td>str</td><td>str</td><td>str</td><td>str</td><td>str</td><td>str</td><td>str</td><td>str</td><td>str</td><td>str</td><td>str</td><td>str</td></tr></thead><tbody><tr><td>&quot;Kieran Yanner&quot;</td><td>&quot;aa7e89ed-d294-…</td><td>null</td><td>null</td><td>&quot;arena&quot;</td><td>null</td><td>&quot;black&quot;</td><td>null</td><td>&quot;U&quot;</td><td>null</td><td>&quot;U&quot;</td><td>null</td><td>null</td><td>null</td><td>null</td><td>5.0</td><td>null</td><td>5.0</td><td>&quot;A-Alrund, God …</td><td>&quot;nonfoil&quot;</td><td>null</td><td>null</td><td>null</td><td>&quot;2015&quot;</td><td>null</td><td>null</td><td>null</td><td>false</td><td>true</td><td>true</td><td>null</td><td>null</td><td>true</td><td>null</td><td>null</td><td>true</td><td>null</td><td>&hellip;</td><td>null</td><td>null</td><td>&quot;English&quot;</td><td>&quot;modal_dfc&quot;</td><td>&quot;{&quot;brawl&quot;: fals…</td><td>null</td><td>null</td><td>&quot;{3}{U}{U}&quot;</td><td>5.0</td><td>&quot;A-Alrund, God …</td><td>&quot;A-40&quot;</td><td>&quot;45a682a9-a941-…</td><td>null</td><td>null</td><td>null</td><td>&quot;27a2189a-fe39-…</td><td>&quot;1&quot;</td><td>&quot;KHM&quot;</td><td>&quot;rebalanced, al…</td><td>&quot;mythic&quot;</td><td>null</td><td>null</td><td>null</td><td>&quot;KHM&quot;</td><td>&quot;a&quot;</td><td>null</td><td>null</td><td>null</td><td>&quot;God&quot;</td><td>&quot;Legendary&quot;</td><td>&quot;Alrund gets +1…</td><td>&quot;1&quot;</td><td>&quot;Legendary Crea…</td><td>&quot;Creature&quot;</td><td>&quot;ec1f62d3-ec77-…</td><td>null</td><td>null</td></tr><tr><td>&quot;Kieran Yanner&quot;</td><td>&quot;aa7e89ed-d294-…</td><td>null</td><td>null</td><td>&quot;arena&quot;</td><td>null</td><td>&quot;black&quot;</td><td>null</td><td>&quot;U&quot;</td><td>null</td><td>&quot;U&quot;</td><td>null</td><td>null</td><td>null</td><td>null</td><td>2.0</td><td>null</td><td>2.0</td><td>&quot;A-Hakka, Whisp…</td><td>&quot;nonfoil&quot;</td><td>null</td><td>null</td><td>null</td><td>&quot;2015&quot;</td><td>null</td><td>null</td><td>null</td><td>false</td><td>true</td><td>true</td><td>null</td><td>null</td><td>true</td><td>null</td><td>null</td><td>true</td><td>null</td><td>&hellip;</td><td>null</td><td>&quot;Flying, Scry&quot;</td><td>&quot;English&quot;</td><td>&quot;modal_dfc&quot;</td><td>null</td><td>null</td><td>null</td><td>&quot;{1}{U}&quot;</td><td>2.0</td><td>&quot;A-Alrund, God …</td><td>&quot;A-40&quot;</td><td>&quot;45a682a9-a941-…</td><td>null</td><td>null</td><td>null</td><td>&quot;ec1f62d3-ec77-…</td><td>&quot;3&quot;</td><td>&quot;KHM&quot;</td><td>&quot;rebalanced, al…</td><td>&quot;mythic&quot;</td><td>null</td><td>null</td><td>null</td><td>&quot;KHM&quot;</td><td>&quot;b&quot;</td><td>null</td><td>null</td><td>null</td><td>&quot;Bird&quot;</td><td>&quot;Legendary&quot;</td><td>&quot;Flying\\nWhenev…</td><td>&quot;3&quot;</td><td>&quot;Legendary Crea…</td><td>&quot;Creature&quot;</td><td>&quot;27a2189a-fe39-…</td><td>null</td><td>null</td></tr><tr><td>&quot;Campbell White…</td><td>&quot;d281eab4-463a-…</td><td>null</td><td>null</td><td>&quot;arena&quot;</td><td>null</td><td>&quot;black&quot;</td><td>null</td><td>&quot;U&quot;</td><td>null</td><td>&quot;U&quot;</td><td>null</td><td>null</td><td>null</td><td>null</td><td>2.0</td><td>null</td><td>2.0</td><td>&quot;A-Binding Geis…</td><td>&quot;nonfoil&quot;</td><td>null</td><td>null</td><td>&quot;sunmoondfc&quot;</td><td>&quot;2015&quot;</td><td>null</td><td>null</td><td>null</td><td>false</td><td>true</td><td>true</td><td>null</td><td>null</td><td>true</td><td>null</td><td>null</td><td>true</td><td>null</td><td>&hellip;</td><td>null</td><td>&quot;Disturb, Trans…</td><td>&quot;English&quot;</td><td>&quot;transform&quot;</td><td>null</td><td>null</td><td>null</td><td>&quot;{1}{U}&quot;</td><td>2.0</td><td>&quot;A-Binding Geis…</td><td>&quot;A-48&quot;</td><td>&quot;cec10798-3fdb-…</td><td>null</td><td>null</td><td>null</td><td>&quot;f389f93b-6ccb-…</td><td>&quot;2&quot;</td><td>&quot;VOW&quot;</td><td>&quot;rebalanced, al…</td><td>&quot;common&quot;</td><td>null</td><td>null</td><td>&quot;arena&quot;</td><td>&quot;VOW&quot;</td><td>&quot;a&quot;</td><td>null</td><td>null</td><td>null</td><td>&quot;Spirit&quot;</td><td>&quot;&quot;</td><td>&quot;Whenever Bindi…</td><td>&quot;1&quot;</td><td>&quot;Creature — Spi…</td><td>&quot;Creature&quot;</td><td>&quot;c8389e50-b89b-…</td><td>null</td><td>null</td></tr><tr><td>&quot;Campbell White…</td><td>&quot;d281eab4-463a-…</td><td>null</td><td>null</td><td>&quot;arena&quot;</td><td>null</td><td>&quot;black&quot;</td><td>null</td><td>&quot;U&quot;</td><td>&quot;U&quot;</td><td>&quot;U&quot;</td><td>null</td><td>null</td><td>null</td><td>null</td><td>0.0</td><td>null</td><td>0.0</td><td>&quot;A-Spectral Bin…</td><td>&quot;nonfoil&quot;</td><td>null</td><td>null</td><td>&quot;sunmoondfc&quot;</td><td>&quot;2015&quot;</td><td>null</td><td>null</td><td>null</td><td>false</td><td>true</td><td>true</td><td>null</td><td>null</td><td>true</td><td>null</td><td>null</td><td>true</td><td>null</td><td>&hellip;</td><td>null</td><td>&quot;Enchant&quot;</td><td>&quot;English&quot;</td><td>&quot;transform&quot;</td><td>null</td><td>null</td><td>null</td><td>null</td><td>2.0</td><td>&quot;A-Binding Geis…</td><td>&quot;A-48&quot;</td><td>&quot;cec10798-3fdb-…</td><td>null</td><td>null</td><td>null</td><td>&quot;c8389e50-b89b-…</td><td>null</td><td>&quot;VOW&quot;</td><td>&quot;rebalanced, al…</td><td>&quot;common&quot;</td><td>null</td><td>null</td><td>&quot;arena&quot;</td><td>&quot;VOW&quot;</td><td>&quot;b&quot;</td><td>null</td><td>null</td><td>null</td><td>&quot;Aura&quot;</td><td>&quot;&quot;</td><td>&quot;Enchant creatu…</td><td>null</td><td>&quot;Enchantment — …</td><td>&quot;Enchantment&quot;</td><td>&quot;f389f93b-6ccb-…</td><td>null</td><td>null</td></tr><tr><td>&quot;Leanna Crossan…</td><td>&quot;976cfe82-042e-…</td><td>null</td><td>null</td><td>&quot;arena&quot;</td><td>null</td><td>&quot;black&quot;</td><td>null</td><td>&quot;W&quot;</td><td>null</td><td>&quot;W&quot;</td><td>null</td><td>null</td><td>null</td><td>null</td><td>4.0</td><td>null</td><td>4.0</td><td>&quot;A-Blessed Hipp…</td><td>&quot;nonfoil&quot;</td><td>null</td><td>null</td><td>null</td><td>&quot;2015&quot;</td><td>null</td><td>null</td><td>null</td><td>false</td><td>true</td><td>true</td><td>null</td><td>null</td><td>true</td><td>null</td><td>null</td><td>true</td><td>null</td><td>&hellip;</td><td>null</td><td>&quot;Flying&quot;</td><td>&quot;English&quot;</td><td>&quot;adventure&quot;</td><td>null</td><td>null</td><td>null</td><td>&quot;{3}{W}&quot;</td><td>4.0</td><td>&quot;A-Blessed Hipp…</td><td>&quot;A-85&quot;</td><td>&quot;fd2c9e79-044e-…</td><td>null</td><td>null</td><td>null</td><td>&quot;dc2f7f21-c148-…</td><td>&quot;2&quot;</td><td>&quot;HBG&quot;</td><td>&quot;rebalanced, al…</td><td>&quot;common&quot;</td><td>null</td><td>null</td><td>&quot;arena&quot;</td><td>&quot;HBG&quot;</td><td>&quot;a&quot;</td><td>null</td><td>null</td><td>null</td><td>&quot;Hippogriff&quot;</td><td>&quot;&quot;</td><td>&quot;Flying\\nWhenev…</td><td>&quot;3&quot;</td><td>&quot;Creature — Hip…</td><td>&quot;Creature&quot;</td><td>&quot;9d1802ec-4c98-…</td><td>null</td><td>null</td></tr><tr><td>&hellip;</td><td>&hellip;</td><td>&hellip;</td><td>&hellip;</td><td>&hellip;</td><td>&hellip;</td><td>&hellip;</td><td>&hellip;</td><td>&hellip;</td><td>&hellip;</td><td>&hellip;</td><td>&hellip;</td><td>&hellip;</td><td>&hellip;</td><td>&hellip;</td><td>&hellip;</td><td>&hellip;</td><td>&hellip;</td><td>&hellip;</td><td>&hellip;</td><td>&hellip;</td><td>&hellip;</td><td>&hellip;</td><td>&hellip;</td><td>&hellip;</td><td>&hellip;</td><td>&hellip;</td><td>&hellip;</td><td>&hellip;</td><td>&hellip;</td><td>&hellip;</td><td>&hellip;</td><td>&hellip;</td><td>&hellip;</td><td>&hellip;</td><td>&hellip;</td><td>&hellip;</td><td>&hellip;</td><td>&hellip;</td><td>&hellip;</td><td>&hellip;</td><td>&hellip;</td><td>&hellip;</td><td>&hellip;</td><td>&hellip;</td><td>&hellip;</td><td>&hellip;</td><td>&hellip;</td><td>&hellip;</td><td>&hellip;</td><td>&hellip;</td><td>&hellip;</td><td>&hellip;</td><td>&hellip;</td><td>&hellip;</td><td>&hellip;</td><td>&hellip;</td><td>&hellip;</td><td>&hellip;</td><td>&hellip;</td><td>&hellip;</td><td>&hellip;</td><td>&hellip;</td><td>&hellip;</td><td>&hellip;</td><td>&hellip;</td><td>&hellip;</td><td>&hellip;</td><td>&hellip;</td><td>&hellip;</td><td>&hellip;</td><td>&hellip;</td><td>&hellip;</td><td>&hellip;</td><td>&hellip;</td></tr><tr><td>&quot;Alexis Ziritt&quot;</td><td>&quot;add4cc84-9254-…</td><td>null</td><td>null</td><td>&quot;paper&quot;</td><td>null</td><td>&quot;borderless&quot;</td><td>null</td><td>&quot;U&quot;</td><td>null</td><td>&quot;U&quot;</td><td>null</td><td>null</td><td>9353.0</td><td>0.47</td><td>null</td><td>null</td><td>null</td><td>&quot;Zndrsplt, Eye …</td><td>&quot;nonfoil&quot;</td><td>null</td><td>null</td><td>&quot;legendary&quot;</td><td>&quot;2015&quot;</td><td>null</td><td>null</td><td>null</td><td>false</td><td>true</td><td>null</td><td>true</td><td>null</td><td>null</td><td>null</td><td>null</td><td>null</td><td>true</td><td>&hellip;</td><td>null</td><td>&quot;Partner, Partn…</td><td>&quot;English&quot;</td><td>&quot;reversible_car…</td><td>null</td><td>null</td><td>null</td><td>&quot;{4}{U}&quot;</td><td>5.0</td><td>&quot;Zndrsplt, Eye …</td><td>&quot;379★&quot;</td><td>null</td><td>&quot;2022-04-22&quot;</td><td>null</td><td>null</td><td>&quot;2ef3715f-fcb9-…</td><td>&quot;1&quot;</td><td>&quot;BBD, PBBD, SLD…</td><td>&quot;thick&quot;</td><td>&quot;rare&quot;</td><td>null</td><td>null</td><td>&quot;oval&quot;</td><td>&quot;SLD&quot;</td><td>&quot;b&quot;</td><td>null</td><td>null</td><td>null</td><td>&quot;Homunculus&quot;</td><td>&quot;Legendary&quot;</td><td>&quot;Partner with O…</td><td>&quot;4&quot;</td><td>&quot;Legendary Crea…</td><td>&quot;Creature&quot;</td><td>&quot;2f7b07c3-fc95-…</td><td>&quot;9f9c49af-02d5-…</td><td>null</td></tr><tr><td>&quot;Izzy&quot;</td><td>&quot;2c3d2473-ff5d-…</td><td>null</td><td>null</td><td>&quot;arena, mtgo, p…</td><td>&quot;default&quot;</td><td>&quot;black&quot;</td><td>null</td><td>&quot;B&quot;</td><td>null</td><td>&quot;B&quot;</td><td>null</td><td>null</td><td>8002.0</td><td>0.09</td><td>6.0</td><td>null</td><td>6.0</td><td>&quot;Zof Consumptio…</td><td>&quot;nonfoil, foil&quot;</td><td>null</td><td>&quot;&quot;Annihilation …</td><td>null</td><td>&quot;2015&quot;</td><td>null</td><td>null</td><td>null</td><td>true</td><td>true</td><td>null</td><td>null</td><td>null</td><td>null</td><td>null</td><td>null</td><td>null</td><td>null</td><td>&hellip;</td><td>null</td><td>null</td><td>&quot;English&quot;</td><td>&quot;modal_dfc&quot;</td><td>null</td><td>null</td><td>null</td><td>&quot;{4}{B}{B}&quot;</td><td>6.0</td><td>&quot;Zof Consumptio…</td><td>&quot;132&quot;</td><td>null</td><td>null</td><td>null</td><td>null</td><td>&quot;ca78ebc5-2b25-…</td><td>null</td><td>&quot;ZNR&quot;</td><td>null</td><td>&quot;uncommon&quot;</td><td>null</td><td>null</td><td>null</td><td>&quot;ZNR&quot;</td><td>&quot;a&quot;</td><td>null</td><td>&quot;{&quot;foil&quot;: [&quot;2b7…</td><td>null</td><td>&quot;&quot;</td><td>&quot;&quot;</td><td>&quot;Each opponent …</td><td>null</td><td>&quot;Sorcery&quot;</td><td>&quot;Sorcery&quot;</td><td>&quot;c097250b-2e07-…</td><td>null</td><td>null</td></tr><tr><td>&quot;Izzy&quot;</td><td>&quot;2c3d2473-ff5d-…</td><td>null</td><td>null</td><td>&quot;arena, mtgo, p…</td><td>&quot;default&quot;</td><td>&quot;black&quot;</td><td>null</td><td>&quot;B&quot;</td><td>null</td><td>&quot;&quot;</td><td>null</td><td>null</td><td>8002.0</td><td>0.09</td><td>0.0</td><td>null</td><td>0.0</td><td>&quot;Zof Bloodbog&quot;</td><td>&quot;nonfoil, foil&quot;</td><td>null</td><td>&quot;&quot;Look at this …</td><td>null</td><td>&quot;2015&quot;</td><td>null</td><td>null</td><td>null</td><td>true</td><td>true</td><td>null</td><td>null</td><td>null</td><td>null</td><td>null</td><td>null</td><td>null</td><td>null</td><td>&hellip;</td><td>null</td><td>null</td><td>&quot;English&quot;</td><td>&quot;modal_dfc&quot;</td><td>null</td><td>null</td><td>null</td><td>null</td><td>0.0</td><td>&quot;Zof Consumptio…</td><td>&quot;132&quot;</td><td>null</td><td>null</td><td>null</td><td>null</td><td>&quot;c097250b-2e07-…</td><td>null</td><td>&quot;ZNR&quot;</td><td>null</td><td>&quot;uncommon&quot;</td><td>null</td><td>null</td><td>null</td><td>&quot;ZNR&quot;</td><td>&quot;b&quot;</td><td>null</td><td>null</td><td>null</td><td>&quot;&quot;</td><td>&quot;&quot;</td><td>&quot;Zof Bloodbog e…</td><td>null</td><td>&quot;Land&quot;</td><td>&quot;Land&quot;</td><td>&quot;ca78ebc5-2b25-…</td><td>null</td><td>null</td></tr><tr><td>&quot;Andrea De Domi…</td><td>&quot;d0f5310c-acb8-…</td><td>null</td><td>null</td><td>&quot;paper&quot;</td><td>null</td><td>&quot;borderless&quot;</td><td>null</td><td>&quot;B&quot;</td><td>null</td><td>&quot;B&quot;</td><td>null</td><td>null</td><td>4008.0</td><td>0.53</td><td>null</td><td>null</td><td>null</td><td>&quot;Zombie Master&quot;</td><td>&quot;nonfoil, foil&quot;</td><td>null</td><td>null</td><td>&quot;fullart&quot;</td><td>&quot;2015&quot;</td><td>null</td><td>null</td><td>null</td><td>true</td><td>true</td><td>null</td><td>true</td><td>null</td><td>null</td><td>null</td><td>null</td><td>null</td><td>true</td><td>&hellip;</td><td>null</td><td>null</td><td>&quot;English&quot;</td><td>&quot;reversible_car…</td><td>null</td><td>null</td><td>null</td><td>&quot;{1}{B}{B}&quot;</td><td>3.0</td><td>&quot;Zombie Master …</td><td>&quot;1460&quot;</td><td>null</td><td>&quot;2023-10-02&quot;</td><td>null</td><td>null</td><td>&quot;19047b90-bde7-…</td><td>&quot;2&quot;</td><td>&quot;2ED, 30A, 3ED,…</td><td>null</td><td>&quot;rare&quot;</td><td>null</td><td>null</td><td>&quot;triangle&quot;</td><td>&quot;SLD&quot;</td><td>&quot;a&quot;</td><td>null</td><td>null</td><td>&quot;Creepshow&quot;</td><td>&quot;Zombie&quot;</td><td>&quot;&quot;</td><td>&quot;Other Zombie c…</td><td>&quot;3&quot;</td><td>&quot;Creature — Zom…</td><td>&quot;Creature&quot;</td><td>&quot;ce665ebb-3003-…</td><td>null</td><td>null</td></tr><tr><td>&quot;Scott Okumura&quot;</td><td>&quot;d0f5310c-acb8-…</td><td>null</td><td>null</td><td>&quot;paper&quot;</td><td>null</td><td>&quot;borderless&quot;</td><td>null</td><td>&quot;B&quot;</td><td>null</td><td>&quot;B&quot;</td><td>null</td><td>null</td><td>4008.0</td><td>0.53</td><td>null</td><td>null</td><td>null</td><td>&quot;Zombie Master&quot;</td><td>&quot;nonfoil, foil&quot;</td><td>null</td><td>null</td><td>&quot;fullart&quot;</td><td>&quot;2015&quot;</td><td>null</td><td>null</td><td>null</td><td>true</td><td>true</td><td>null</td><td>true</td><td>null</td><td>null</td><td>null</td><td>null</td><td>null</td><td>true</td><td>&hellip;</td><td>null</td><td>null</td><td>&quot;English&quot;</td><td>&quot;reversible_car…</td><td>null</td><td>null</td><td>null</td><td>&quot;{1}{B}{B}&quot;</td><td>3.0</td><td>&quot;Zombie Master …</td><td>&quot;1460&quot;</td><td>null</td><td>&quot;2023-10-02&quot;</td><td>null</td><td>null</td><td>&quot;ce665ebb-3003-…</td><td>&quot;2&quot;</td><td>&quot;2ED, 30A, 3ED,…</td><td>null</td><td>&quot;rare&quot;</td><td>null</td><td>null</td><td>&quot;triangle&quot;</td><td>&quot;SLD&quot;</td><td>&quot;b&quot;</td><td>null</td><td>null</td><td>&quot;Creepshow&quot;</td><td>&quot;Zombie&quot;</td><td>&quot;&quot;</td><td>&quot;Other Zombie c…</td><td>&quot;3&quot;</td><td>&quot;Creature — Zom…</td><td>&quot;Creature&quot;</td><td>&quot;19047b90-bde7-…</td><td>null</td><td>null</td></tr></tbody></table></div>"
      ],
      "text/plain": [
       "shape: (3_573, 78)\n",
       "┌───────────┬───────────┬───────────┬───────────┬───┬───────────┬───────────┬───────────┬──────────┐\n",
       "│ artist    ┆ artistIds ┆ asciiName ┆ attractio ┆ … ┆ types     ┆ uuid      ┆ variation ┆ watermar │\n",
       "│ ---       ┆ ---       ┆ ---       ┆ nLights   ┆   ┆ ---       ┆ ---       ┆ s         ┆ k        │\n",
       "│ str       ┆ str       ┆ str       ┆ ---       ┆   ┆ str       ┆ str       ┆ ---       ┆ ---      │\n",
       "│           ┆           ┆           ┆ str       ┆   ┆           ┆           ┆ str       ┆ str      │\n",
       "╞═══════════╪═══════════╪═══════════╪═══════════╪═══╪═══════════╪═══════════╪═══════════╪══════════╡\n",
       "│ Kieran    ┆ aa7e89ed- ┆ null      ┆ null      ┆ … ┆ Creature  ┆ ec1f62d3- ┆ null      ┆ null     │\n",
       "│ Yanner    ┆ d294-4633 ┆           ┆           ┆   ┆           ┆ ec77-5fa9 ┆           ┆          │\n",
       "│           ┆ -9057-ce0 ┆           ┆           ┆   ┆           ┆ -925b-e03 ┆           ┆          │\n",
       "│           ┆ 4dacf…    ┆           ┆           ┆   ┆           ┆ 6225b…    ┆           ┆          │\n",
       "│ Kieran    ┆ aa7e89ed- ┆ null      ┆ null      ┆ … ┆ Creature  ┆ 27a2189a- ┆ null      ┆ null     │\n",
       "│ Yanner    ┆ d294-4633 ┆           ┆           ┆   ┆           ┆ fe39-5e71 ┆           ┆          │\n",
       "│           ┆ -9057-ce0 ┆           ┆           ┆   ┆           ┆ -8b33-2d2 ┆           ┆          │\n",
       "│           ┆ 4dacf…    ┆           ┆           ┆   ┆           ┆ ca13b…    ┆           ┆          │\n",
       "│ Campbell  ┆ d281eab4- ┆ null      ┆ null      ┆ … ┆ Creature  ┆ c8389e50- ┆ null      ┆ null     │\n",
       "│ White     ┆ 463a-4ba8 ┆           ┆           ┆   ┆           ┆ b89b-518d ┆           ┆          │\n",
       "│           ┆ -9039-894 ┆           ┆           ┆   ┆           ┆ -9935-b73 ┆           ┆          │\n",
       "│           ┆ 37379…    ┆           ┆           ┆   ┆           ┆ 5b83d…    ┆           ┆          │\n",
       "│ Campbell  ┆ d281eab4- ┆ null      ┆ null      ┆ … ┆ Enchantme ┆ f389f93b- ┆ null      ┆ null     │\n",
       "│ White     ┆ 463a-4ba8 ┆           ┆           ┆   ┆ nt        ┆ 6ccb-51ab ┆           ┆          │\n",
       "│           ┆ -9039-894 ┆           ┆           ┆   ┆           ┆ -948d-3f2 ┆           ┆          │\n",
       "│           ┆ 37379…    ┆           ┆           ┆   ┆           ┆ b6e31…    ┆           ┆          │\n",
       "│ Leanna    ┆ 976cfe82- ┆ null      ┆ null      ┆ … ┆ Creature  ┆ 9d1802ec- ┆ null      ┆ null     │\n",
       "│ Crossan   ┆ 042e-4c2a ┆           ┆           ┆   ┆           ┆ 4c98-5b17 ┆           ┆          │\n",
       "│           ┆ -b762-2bc ┆           ┆           ┆   ┆           ┆ -8ab9-b1b ┆           ┆          │\n",
       "│           ┆ 3e86c…    ┆           ┆           ┆   ┆           ┆ 08ecc…    ┆           ┆          │\n",
       "│ …         ┆ …         ┆ …         ┆ …         ┆ … ┆ …         ┆ …         ┆ …         ┆ …        │\n",
       "│ Alexis    ┆ add4cc84- ┆ null      ┆ null      ┆ … ┆ Creature  ┆ 2f7b07c3- ┆ 9f9c49af- ┆ null     │\n",
       "│ Ziritt    ┆ 9254-4c0b ┆           ┆           ┆   ┆           ┆ fc95-5e5e ┆ 02d5-5219 ┆          │\n",
       "│           ┆ -8fcd-af4 ┆           ┆           ┆   ┆           ┆ -a63e-393 ┆ -8827-98b ┆          │\n",
       "│           ┆ a238b…    ┆           ┆           ┆   ┆           ┆ d685b…    ┆ 857cf…    ┆          │\n",
       "│ Izzy      ┆ 2c3d2473- ┆ null      ┆ null      ┆ … ┆ Sorcery   ┆ c097250b- ┆ null      ┆ null     │\n",
       "│           ┆ ff5d-4309 ┆           ┆           ┆   ┆           ┆ 2e07-5484 ┆           ┆          │\n",
       "│           ┆ -8194-e0b ┆           ┆           ┆   ┆           ┆ -8507-5e9 ┆           ┆          │\n",
       "│           ┆ 2def2…    ┆           ┆           ┆   ┆           ┆ f075b…    ┆           ┆          │\n",
       "│ Izzy      ┆ 2c3d2473- ┆ null      ┆ null      ┆ … ┆ Land      ┆ ca78ebc5- ┆ null      ┆ null     │\n",
       "│           ┆ ff5d-4309 ┆           ┆           ┆   ┆           ┆ 2b25-5141 ┆           ┆          │\n",
       "│           ┆ -8194-e0b ┆           ┆           ┆   ┆           ┆ -8fcf-efb ┆           ┆          │\n",
       "│           ┆ 2def2…    ┆           ┆           ┆   ┆           ┆ c71fb…    ┆           ┆          │\n",
       "│ Andrea De ┆ d0f5310c- ┆ null      ┆ null      ┆ … ┆ Creature  ┆ ce665ebb- ┆ null      ┆ null     │\n",
       "│ Dominicis ┆ acb8-4df7 ┆           ┆           ┆   ┆           ┆ 3003-543a ┆           ┆          │\n",
       "│           ┆ -b78d-84a ┆           ┆           ┆   ┆           ┆ -bae6-a70 ┆           ┆          │\n",
       "│           ┆ 4e5fb…    ┆           ┆           ┆   ┆           ┆ 957ff…    ┆           ┆          │\n",
       "│ Scott     ┆ d0f5310c- ┆ null      ┆ null      ┆ … ┆ Creature  ┆ 19047b90- ┆ null      ┆ null     │\n",
       "│ Okumura   ┆ acb8-4df7 ┆           ┆           ┆   ┆           ┆ bde7-5649 ┆           ┆          │\n",
       "│           ┆ -b78d-84a ┆           ┆           ┆   ┆           ┆ -aeec-117 ┆           ┆          │\n",
       "│           ┆ 4e5fb…    ┆           ┆           ┆   ┆           ┆ 8f2ed…    ┆           ┆          │\n",
       "└───────────┴───────────┴───────────┴───────────┴───┴───────────┴───────────┴───────────┴──────────┘"
      ]
     },
     "execution_count": 11,
     "metadata": {},
     "output_type": "execute_result"
    }
   ],
   "source": [
    "df.filter(pl.col(\"side\").is_not_null()).sort(\"name\")"
   ]
  },
  {
   "cell_type": "code",
   "execution_count": 12,
   "metadata": {},
   "outputs": [],
   "source": [
    "# drop cards with number format \"A- \"\n",
    "\n",
    "useful_gameplay_columns = [\n",
    "        \"name\",\n",
    "        \"colorIdentity\",\n",
    "        \"colors\",\n",
    "        \"edhrecRank\",\n",
    "        \"edhrecSaltiness\",\n",
    "        \"faceConvertedManaCost\",\n",
    "        \"keywords\",\n",
    "        \"loyalty\",\n",
    "        \"manaCost\",\n",
    "        \"manaValue\",\n",
    "        \"number\",\n",
    "        \"power\",\n",
    "        \"rarity\",\n",
    "        \"setCode\",\n",
    "        \"side\",\n",
    "        \"subtypes\",\n",
    "        \"supertypes\",\n",
    "        \"toughness\",\n",
    "        \"text\",\n",
    "        \"type\",\n",
    "        \"types\",\n",
    "        \"uuid\",\n",
    "        \"variations\",\n",
    "        \"relatedCards\",\n",
    "    ]\n",
    "\n",
    "\n",
    "likely_unique_columns = [\n",
    "        \"name\",\n",
    "        # \"colorIdentity\",\n",
    "        # \"colors\",\n",
    "        # \"edhrecRank\",\n",
    "        # \"edhrecSaltiness\",\n",
    "        # \"faceConvertedManaCost\",\n",
    "        # \"keywords\",\n",
    "        # \"loyalty\",\n",
    "        # \"manaCost\",\n",
    "        # \"manaValue\",\n",
    "        # \"power\",\n",
    "        # \"subtypes\",\n",
    "        # \"supertypes\",\n",
    "        # \"toughness\",\n",
    "        # \"text\",\n",
    "        # \"type\",\n",
    "        # \"types\",\n",
    "    ]\n",
    "\n",
    "unique_brothers_war_cards = brothers_war_cards.select(\n",
    "    useful_gameplay_columns\n",
    ").filter(~pl.col(\"number\").str.contains(\"A-\")).sort(\"number\").unique(\n",
    "    likely_unique_columns\n",
    ").sort(\"name\")"
   ]
  },
  {
   "cell_type": "code",
   "execution_count": 13,
   "metadata": {},
   "outputs": [
    {
     "data": {
      "text/html": [
       "<div><style>\n",
       ".dataframe > thead > tr,\n",
       ".dataframe > tbody > tr {\n",
       "  text-align: right;\n",
       "  white-space: pre-wrap;\n",
       "}\n",
       "</style>\n",
       "<small>shape: (0, 2)</small><table border=\"1\" class=\"dataframe\"><thead><tr><th>name</th><th>len</th></tr><tr><td>str</td><td>u32</td></tr></thead><tbody></tbody></table></div>"
      ],
      "text/plain": [
       "shape: (0, 2)\n",
       "┌──────┬─────┐\n",
       "│ name ┆ len │\n",
       "│ ---  ┆ --- │\n",
       "│ str  ┆ u32 │\n",
       "╞══════╪═════╡\n",
       "└──────┴─────┘"
      ]
     },
     "execution_count": 13,
     "metadata": {},
     "output_type": "execute_result"
    }
   ],
   "source": [
    "unique_brothers_war_cards.group_by(\"name\").len().filter(pl.col(\"len\") > 1)"
   ]
  },
  {
   "cell_type": "code",
   "execution_count": 14,
   "metadata": {},
   "outputs": [
    {
     "data": {
      "text/html": [
       "<div><style>\n",
       ".dataframe > thead > tr,\n",
       ".dataframe > tbody > tr {\n",
       "  text-align: right;\n",
       "  white-space: pre-wrap;\n",
       "}\n",
       "</style>\n",
       "<small>shape: (0, 2)</small><table border=\"1\" class=\"dataframe\"><thead><tr><th>name</th><th>len</th></tr><tr><td>str</td><td>u32</td></tr></thead><tbody></tbody></table></div>"
      ],
      "text/plain": [
       "shape: (0, 2)\n",
       "┌──────┬─────┐\n",
       "│ name ┆ len │\n",
       "│ ---  ┆ --- │\n",
       "│ str  ┆ u32 │\n",
       "╞══════╪═════╡\n",
       "└──────┴─────┘"
      ]
     },
     "execution_count": 14,
     "metadata": {},
     "output_type": "execute_result"
    }
   ],
   "source": [
    "def filter_gameplay_unique_cards(df) -> pl.DataFrame:\n",
    "    useful_gameplay_columns = [\n",
    "        \"name\",\n",
    "        \"colorIdentity\",\n",
    "        \"colors\",\n",
    "        \"edhrecRank\",\n",
    "        \"edhrecSaltiness\",\n",
    "        \"faceConvertedManaCost\",\n",
    "        \"keywords\",\n",
    "        \"loyalty\",\n",
    "        \"manaCost\",\n",
    "        \"manaValue\",\n",
    "        \"number\",\n",
    "        \"power\",\n",
    "        \"rarity\",\n",
    "        \"setCode\",\n",
    "        \"subtypes\",\n",
    "        \"supertypes\",\n",
    "        \"toughness\",\n",
    "        \"text\",\n",
    "        \"type\",\n",
    "        \"types\",\n",
    "        \"uuid\",\n",
    "        \"variations\",\n",
    "        \"relatedCards\",\n",
    "    ]\n",
    "\n",
    "    likely_unique_columns = [\n",
    "        \"name\",\n",
    "        # \"colorIdentity\",\n",
    "        # \"colors\",\n",
    "        # \"faceConvertedManaCost\",\n",
    "        # \"keywords\",\n",
    "        # \"loyalty\",\n",
    "        # \"manaCost\",\n",
    "        # \"manaValue\",\n",
    "        # \"power\",\n",
    "        # \"subtypes\",\n",
    "        # \"supertypes\",\n",
    "        # \"toughness\",\n",
    "        # \"text\",\n",
    "        # \"type\",\n",
    "        # \"types\",\n",
    "    ]\n",
    "\n",
    "    return df.select(\n",
    "        useful_gameplay_columns\n",
    "    ).filter(~pl.col(\"number\").str.contains(\"A-\")).sort(\"number\").unique(\n",
    "        likely_unique_columns\n",
    "    ).sort(\"name\")\n",
    "\n",
    "def filter_main_sets(df) -> pl.DataFrame:\n",
    "    recent_main_sets = {\n",
    "    'ELD': 'Throne of Eldraine',\n",
    "    'THB': 'Theros Beyond Death',\n",
    "    'IKO': 'Ikoria: Lair of Behemoths',\n",
    "    'C20': 'Commander 2020',\n",
    "    'M21': 'Core Set 2021',\n",
    "    'ZNR': 'Zendikar Rising',\n",
    "    'ZNC': 'Zendikar Rising Commander Decks',\n",
    "    'CMR': 'Commander Legends',\n",
    "    'KHM': 'Kaldheim',\n",
    "    'KHC': 'Kaldheim Commander Decks',\n",
    "    'STX': 'Strixhaven: School of Mages',\n",
    "    'C21': 'Commander 2021',\n",
    "    'AFR': 'Dungeons & Dragons: Adventures in the Forgotten Realms',\n",
    "    'AFC': 'Dungeons & Dragons: Adventures in the Forgotten Realms Commander Decks',\n",
    "    'MID': 'Innistrad: Midnight Hunt',\n",
    "    'MIC': 'Innistrad: Midnight Hunt Commander Decks',\n",
    "    'VOW': 'Innistrad: Crimson Vow',\n",
    "    'VOC': 'Innistrad: Crimson Vow Commander Decks',\n",
    "    'NEO': 'Kamigawa: Neon Dynasty',\n",
    "    'NEC': 'Kamigawa: Neon Dynasty Commander Decks',\n",
    "    'SNC': 'Streets of New Capenna',\n",
    "    'NCC': 'Streets of New Capenna Commander Decks',\n",
    "    'CLB': 'Commander Legends: Battle for Baldur\\'s Gate',\n",
    "    'DMU': 'Dominaria United',\n",
    "    'DMC': 'Dominaria United Commander Decks',\n",
    "    'UNF': 'Unfinity',\n",
    "    '40K': 'Warhammer 40,000 Commander Decks',\n",
    "    'BRO': 'The Brothers\\' War',\n",
    "    'BRC': 'The Brothers\\' War Commander Decks',\n",
    "    'ONE': 'Phyrexia: All Will Be One',\n",
    "    'ONC': 'Phyrexia: All Will Be One Commander Decks',\n",
    "    'MOM': 'March of the Machine',\n",
    "    'MOC': 'March of the Machine/Commander decks',\n",
    "    'LTR': 'The Lord of the Rings: Tales of Middle-Earth',\n",
    "    'LTC': 'The Lord of the Rings: Tales of Middle-Earth Commander Decks',\n",
    "    'WOE': 'Wilds of Eldraine',\n",
    "    'WOC': 'Wilds of Eldraine/Commander decks',\n",
    "    'LCI': 'The Lost Caverns of Ixalan',\n",
    "    'LCC': 'The Lost Caverns of Ixalan/Commander decks',\n",
    "    'MKM': 'Murders at Karlov Manor',\n",
    "    'MKC': 'Murders at Karlov Manor/Commander decks'\n",
    "}\n",
    "    return df.filter(pl.col(\"setCode\").is_in(list(recent_main_sets.keys())))\n",
    "\n",
    "main_sets_cards = filter_main_sets(df)\n",
    "unique_main_sets_cards = filter_gameplay_unique_cards(main_sets_cards)\n",
    "\n",
    "duplicated_main_set_cards = unique_main_sets_cards.group_by(\"name\").len().filter(pl.col(\"len\") > 1)\n",
    "duplicated_main_set_cards\n"
   ]
  },
  {
   "cell_type": "code",
   "execution_count": 15,
   "metadata": {},
   "outputs": [
    {
     "data": {
      "text/html": [
       "<div><style>\n",
       ".dataframe > thead > tr,\n",
       ".dataframe > tbody > tr {\n",
       "  text-align: right;\n",
       "  white-space: pre-wrap;\n",
       "}\n",
       "</style>\n",
       "<small>shape: (0, 78)</small><table border=\"1\" class=\"dataframe\"><thead><tr><th>artist</th><th>artistIds</th><th>asciiName</th><th>attractionLights</th><th>availability</th><th>boosterTypes</th><th>borderColor</th><th>cardParts</th><th>colorIdentity</th><th>colorIndicator</th><th>colors</th><th>defense</th><th>duelDeck</th><th>edhrecRank</th><th>edhrecSaltiness</th><th>faceConvertedManaCost</th><th>faceFlavorName</th><th>faceManaValue</th><th>faceName</th><th>finishes</th><th>flavorName</th><th>flavorText</th><th>frameEffects</th><th>frameVersion</th><th>hand</th><th>hasAlternativeDeckLimit</th><th>hasContentWarning</th><th>hasFoil</th><th>hasNonFoil</th><th>isAlternative</th><th>isFullArt</th><th>isFunny</th><th>isOnlineOnly</th><th>isOversized</th><th>isPromo</th><th>isRebalanced</th><th>isReprint</th><th>&hellip;</th><th>isTimeshifted</th><th>keywords</th><th>language</th><th>layout</th><th>leadershipSkills</th><th>life</th><th>loyalty</th><th>manaCost</th><th>manaValue</th><th>name</th><th>number</th><th>originalPrintings</th><th>originalReleaseDate</th><th>originalText</th><th>originalType</th><th>otherFaceIds</th><th>power</th><th>printings</th><th>promoTypes</th><th>rarity</th><th>rebalancedPrintings</th><th>relatedCards</th><th>securityStamp</th><th>setCode</th><th>side</th><th>signature</th><th>sourceProducts</th><th>subsets</th><th>subtypes</th><th>supertypes</th><th>text</th><th>toughness</th><th>type</th><th>types</th><th>uuid</th><th>variations</th><th>watermark</th></tr><tr><td>str</td><td>str</td><td>str</td><td>str</td><td>str</td><td>str</td><td>str</td><td>str</td><td>str</td><td>str</td><td>str</td><td>str</td><td>str</td><td>f64</td><td>f64</td><td>f64</td><td>str</td><td>f64</td><td>str</td><td>str</td><td>str</td><td>str</td><td>str</td><td>str</td><td>str</td><td>bool</td><td>bool</td><td>bool</td><td>bool</td><td>bool</td><td>bool</td><td>bool</td><td>bool</td><td>bool</td><td>bool</td><td>bool</td><td>bool</td><td>&hellip;</td><td>bool</td><td>str</td><td>str</td><td>str</td><td>str</td><td>str</td><td>str</td><td>str</td><td>f64</td><td>str</td><td>str</td><td>str</td><td>str</td><td>str</td><td>str</td><td>str</td><td>str</td><td>str</td><td>str</td><td>str</td><td>str</td><td>str</td><td>str</td><td>str</td><td>str</td><td>str</td><td>str</td><td>str</td><td>str</td><td>str</td><td>str</td><td>str</td><td>str</td><td>str</td><td>str</td><td>str</td><td>str</td></tr></thead><tbody></tbody></table></div>"
      ],
      "text/plain": [
       "shape: (0, 78)\n",
       "┌────────┬───────────┬───────────┬──────────────────┬───┬───────┬──────┬────────────┬───────────┐\n",
       "│ artist ┆ artistIds ┆ asciiName ┆ attractionLights ┆ … ┆ types ┆ uuid ┆ variations ┆ watermark │\n",
       "│ ---    ┆ ---       ┆ ---       ┆ ---              ┆   ┆ ---   ┆ ---  ┆ ---        ┆ ---       │\n",
       "│ str    ┆ str       ┆ str       ┆ str              ┆   ┆ str   ┆ str  ┆ str        ┆ str       │\n",
       "╞════════╪═══════════╪═══════════╪══════════════════╪═══╪═══════╪══════╪════════════╪═══════════╡\n",
       "└────────┴───────────┴───────────┴──────────────────┴───┴───────┴──────┴────────────┴───────────┘"
      ]
     },
     "execution_count": 15,
     "metadata": {},
     "output_type": "execute_result"
    }
   ],
   "source": [
    "main_sets_cards.filter(pl.col(\"name\").is_in(duplicated_main_set_cards[\"name\"])).sort(\"name\")"
   ]
  },
  {
   "cell_type": "code",
   "execution_count": 16,
   "metadata": {},
   "outputs": [],
   "source": [
    "def collapse_sets(df) -> pl.DataFrame:\n",
    "    return df.group_by(\"name\",\n",
    "        \"colorIdentity\",\n",
    "        \"colors\",\n",
    "        \"faceConvertedManaCost\",\n",
    "        \"keywords\",\n",
    "        \"loyalty\",\n",
    "        \"manaCost\",\n",
    "        \"manaValue\",\n",
    "        \"power\",\n",
    "        \"subtypes\",\n",
    "        \"supertypes\",\n",
    "        \"toughness\",\n",
    "        \"text\",\n",
    "        \"type\",\n",
    "        \"types\",).agg(\n",
    "        pl.col(\"setCode\").map_elements(list).alias(\"setCodes\")\n",
    "    ).sort(\"name\")\n"
   ]
  },
  {
   "cell_type": "markdown",
   "metadata": {},
   "source": [
    "## Data Filtering and Transformation"
   ]
  },
  {
   "cell_type": "code",
   "execution_count": 17,
   "metadata": {},
   "outputs": [
    {
     "data": {
      "text/html": [
       "<div><style>\n",
       ".dataframe > thead > tr,\n",
       ".dataframe > tbody > tr {\n",
       "  text-align: right;\n",
       "  white-space: pre-wrap;\n",
       "}\n",
       "</style>\n",
       "<small>shape: (4_657, 16)</small><table border=\"1\" class=\"dataframe\"><thead><tr><th>name</th><th>colorIdentity</th><th>colors</th><th>faceConvertedManaCost</th><th>keywords</th><th>loyalty</th><th>manaCost</th><th>manaValue</th><th>power</th><th>subtypes</th><th>supertypes</th><th>toughness</th><th>text</th><th>type</th><th>types</th><th>setCodes</th></tr><tr><td>str</td><td>str</td><td>str</td><td>f64</td><td>str</td><td>str</td><td>str</td><td>f64</td><td>str</td><td>str</td><td>str</td><td>str</td><td>str</td><td>str</td><td>str</td><td>list[str]</td></tr></thead><tbody><tr><td>&quot;&quot;Brims&quot; Barone…</td><td>&quot;B, W&quot;</td><td>&quot;B, W&quot;</td><td>null</td><td>null</td><td>null</td><td>&quot;{3}{W}{B}&quot;</td><td>5.0</td><td>&quot;5&quot;</td><td>&quot;Human, Rogue&quot;</td><td>&quot;Legendary&quot;</td><td>&quot;4&quot;</td><td>&quot;When &quot;Brims&quot; B…</td><td>&quot;Legendary Crea…</td><td>&quot;Creature&quot;</td><td>[&quot;UNF&quot;, &quot;UNF&quot;, … &quot;UNF&quot;]</td></tr><tr><td>&quot;&quot;Lifetime&quot; Pas…</td><td>&quot;B&quot;</td><td>&quot;B&quot;</td><td>null</td><td>&quot;Open an Attrac…</td><td>null</td><td>&quot;{B}&quot;</td><td>1.0</td><td>&quot;2&quot;</td><td>&quot;Zombie, Guest&quot;</td><td>&quot;&quot;</td><td>&quot;1&quot;</td><td>&quot;&quot;Lifetime&quot; Pas…</td><td>&quot;Creature — Zom…</td><td>&quot;Creature&quot;</td><td>[&quot;UNF&quot;, &quot;UNF&quot;]</td></tr><tr><td>&quot;A Good Day to …</td><td>&quot;W&quot;</td><td>&quot;W&quot;</td><td>null</td><td>null</td><td>null</td><td>&quot;{1}{W}&quot;</td><td>2.0</td><td>null</td><td>&quot;&quot;</td><td>&quot;&quot;</td><td>null</td><td>&quot;Tap up to two …</td><td>&quot;Instant&quot;</td><td>&quot;Instant&quot;</td><td>[&quot;UNF&quot;, &quot;UNF&quot;]</td></tr><tr><td>&quot;A Real Handful…</td><td>&quot;B&quot;</td><td>&quot;B&quot;</td><td>null</td><td>null</td><td>null</td><td>&quot;{3}{B}&quot;</td><td>4.0</td><td>&quot;1&quot;</td><td>&quot;Alien, Child, …</td><td>&quot;&quot;</td><td>&quot;1&quot;</td><td>&quot;As long as one…</td><td>&quot;Creature — Ali…</td><td>&quot;Creature&quot;</td><td>[&quot;UNF&quot;, &quot;UNF&quot;]</td></tr><tr><td>&quot;A Tale for the…</td><td>&quot;W&quot;</td><td>&quot;W&quot;</td><td>null</td><td>null</td><td>null</td><td>&quot;{1}{W}&quot;</td><td>2.0</td><td>null</td><td>&quot;&quot;</td><td>&quot;&quot;</td><td>null</td><td>&quot;Enchanted crea…</td><td>&quot;Enchantment&quot;</td><td>&quot;Enchantment&quot;</td><td>[&quot;WOE&quot;, &quot;WOE&quot;]</td></tr><tr><td>&hellip;</td><td>&hellip;</td><td>&hellip;</td><td>&hellip;</td><td>&hellip;</td><td>&hellip;</td><td>&hellip;</td><td>&hellip;</td><td>&hellip;</td><td>&hellip;</td><td>&hellip;</td><td>&hellip;</td><td>&hellip;</td><td>&hellip;</td><td>&hellip;</td><td>&hellip;</td></tr><tr><td>&quot;Éomer, King of…</td><td>&quot;R, W&quot;</td><td>&quot;R, W&quot;</td><td>null</td><td>&quot;Double strike&quot;</td><td>null</td><td>&quot;{3}{R}{W}&quot;</td><td>5.0</td><td>&quot;2&quot;</td><td>&quot;Human, Noble&quot;</td><td>&quot;Legendary&quot;</td><td>&quot;2&quot;</td><td>&quot;Double strike\\…</td><td>&quot;Legendary Crea…</td><td>&quot;Creature&quot;</td><td>[&quot;LTC&quot;, &quot;LTC&quot;, &quot;LTC&quot;]</td></tr><tr><td>&quot;Éomer, Marshal…</td><td>&quot;R&quot;</td><td>&quot;R&quot;</td><td>null</td><td>&quot;Haste&quot;</td><td>null</td><td>&quot;{2}{R}{R}&quot;</td><td>4.0</td><td>&quot;4&quot;</td><td>&quot;Human, Knight&quot;</td><td>&quot;Legendary&quot;</td><td>&quot;4&quot;</td><td>&quot;Haste\\nWheneve…</td><td>&quot;Legendary Crea…</td><td>&quot;Creature&quot;</td><td>[&quot;LTR&quot;, &quot;LTR&quot;, &quot;LTR&quot;]</td></tr><tr><td>&quot;Éowyn, Fearles…</td><td>&quot;R, W&quot;</td><td>&quot;R, W&quot;</td><td>null</td><td>&quot;Haste&quot;</td><td>null</td><td>&quot;{2}{R}{W}&quot;</td><td>4.0</td><td>&quot;3&quot;</td><td>&quot;Human, Knight&quot;</td><td>&quot;Legendary&quot;</td><td>&quot;4&quot;</td><td>&quot;Haste\\nWhen Éo…</td><td>&quot;Legendary Crea…</td><td>&quot;Creature&quot;</td><td>[&quot;LTR&quot;, &quot;LTR&quot;, &quot;LTR&quot;]</td></tr><tr><td>&quot;Éowyn, Lady of…</td><td>&quot;W&quot;</td><td>&quot;W&quot;</td><td>null</td><td>null</td><td>null</td><td>&quot;{2}{W}&quot;</td><td>3.0</td><td>&quot;2&quot;</td><td>&quot;Human, Noble&quot;</td><td>&quot;Legendary&quot;</td><td>&quot;4&quot;</td><td>&quot;At the beginni…</td><td>&quot;Legendary Crea…</td><td>&quot;Creature&quot;</td><td>[&quot;LTR&quot;, &quot;LTR&quot;]</td></tr><tr><td>&quot;Éowyn, Shieldm…</td><td>&quot;R, U, W&quot;</td><td>&quot;R, U, W&quot;</td><td>null</td><td>&quot;First strike&quot;</td><td>null</td><td>&quot;{2}{U}{R}{W}&quot;</td><td>5.0</td><td>&quot;5&quot;</td><td>&quot;Human, Knight&quot;</td><td>&quot;Legendary&quot;</td><td>&quot;4&quot;</td><td>&quot;First strike\\n…</td><td>&quot;Legendary Crea…</td><td>&quot;Creature&quot;</td><td>[&quot;LTC&quot;, &quot;LTC&quot;, … &quot;LTC&quot;]</td></tr></tbody></table></div>"
      ],
      "text/plain": [
       "shape: (4_657, 16)\n",
       "┌────────────┬───────────┬─────────┬───────────┬───┬───────────┬───────────┬───────────┬───────────┐\n",
       "│ name       ┆ colorIden ┆ colors  ┆ faceConve ┆ … ┆ text      ┆ type      ┆ types     ┆ setCodes  │\n",
       "│ ---        ┆ tity      ┆ ---     ┆ rtedManaC ┆   ┆ ---       ┆ ---       ┆ ---       ┆ ---       │\n",
       "│ str        ┆ ---       ┆ str     ┆ ost       ┆   ┆ str       ┆ str       ┆ str       ┆ list[str] │\n",
       "│            ┆ str       ┆         ┆ ---       ┆   ┆           ┆           ┆           ┆           │\n",
       "│            ┆           ┆         ┆ f64       ┆   ┆           ┆           ┆           ┆           │\n",
       "╞════════════╪═══════════╪═════════╪═══════════╪═══╪═══════════╪═══════════╪═══════════╪═══════════╡\n",
       "│ \"Brims\"    ┆ B, W      ┆ B, W    ┆ null      ┆ … ┆ When      ┆ Legendary ┆ Creature  ┆ [\"UNF\",   │\n",
       "│ Barone,    ┆           ┆         ┆           ┆   ┆ \"Brims\"   ┆ Creature  ┆           ┆ \"UNF\", …  │\n",
       "│ Midway     ┆           ┆         ┆           ┆   ┆ Barone,   ┆ — Human   ┆           ┆ \"UNF\"]    │\n",
       "│ Mobster    ┆           ┆         ┆           ┆   ┆ Midway    ┆ Rogue     ┆           ┆           │\n",
       "│            ┆           ┆         ┆           ┆   ┆ Mobs…     ┆           ┆           ┆           │\n",
       "│ \"Lifetime\" ┆ B         ┆ B       ┆ null      ┆ … ┆ \"Lifetime ┆ Creature  ┆ Creature  ┆ [\"UNF\",   │\n",
       "│ Pass       ┆           ┆         ┆           ┆   ┆ \" Pass    ┆ — Zombie  ┆           ┆ \"UNF\"]    │\n",
       "│ Holder     ┆           ┆         ┆           ┆   ┆ Holder    ┆ Guest     ┆           ┆           │\n",
       "│            ┆           ┆         ┆           ┆   ┆ enters    ┆           ┆           ┆           │\n",
       "│            ┆           ┆         ┆           ┆   ┆ th…       ┆           ┆           ┆           │\n",
       "│ A Good Day ┆ W         ┆ W       ┆ null      ┆ … ┆ Tap up to ┆ Instant   ┆ Instant   ┆ [\"UNF\",   │\n",
       "│ to Pie     ┆           ┆         ┆           ┆   ┆ two       ┆           ┆           ┆ \"UNF\"]    │\n",
       "│            ┆           ┆         ┆           ┆   ┆ target    ┆           ┆           ┆           │\n",
       "│            ┆           ┆         ┆           ┆   ┆ creatures ┆           ┆           ┆           │\n",
       "│            ┆           ┆         ┆           ┆   ┆ .\\…       ┆           ┆           ┆           │\n",
       "│ A Real     ┆ B         ┆ B       ┆ null      ┆ … ┆ As long   ┆ Creature  ┆ Creature  ┆ [\"UNF\",   │\n",
       "│ Handful    ┆           ┆         ┆           ┆   ┆ as one or ┆ — Alien   ┆           ┆ \"UNF\"]    │\n",
       "│            ┆           ┆         ┆           ┆   ┆ more      ┆ Child     ┆           ┆           │\n",
       "│            ┆           ┆         ┆           ┆   ┆ hands     ┆ Guest     ┆           ┆           │\n",
       "│            ┆           ┆         ┆           ┆   ┆ are…      ┆           ┆           ┆           │\n",
       "│ A Tale for ┆ W         ┆ W       ┆ null      ┆ … ┆ Enchanted ┆ Enchantme ┆ Enchantme ┆ [\"WOE\",   │\n",
       "│ the Ages   ┆           ┆         ┆           ┆   ┆ creatures ┆ nt        ┆ nt        ┆ \"WOE\"]    │\n",
       "│            ┆           ┆         ┆           ┆   ┆ you       ┆           ┆           ┆           │\n",
       "│            ┆           ┆         ┆           ┆   ┆ control … ┆           ┆           ┆           │\n",
       "│ …          ┆ …         ┆ …       ┆ …         ┆ … ┆ …         ┆ …         ┆ …         ┆ …         │\n",
       "│ Éomer,     ┆ R, W      ┆ R, W    ┆ null      ┆ … ┆ Double    ┆ Legendary ┆ Creature  ┆ [\"LTC\",   │\n",
       "│ King of    ┆           ┆         ┆           ┆   ┆ strike\\nÉ ┆ Creature  ┆           ┆ \"LTC\",    │\n",
       "│ Rohan      ┆           ┆         ┆           ┆   ┆ omer,     ┆ — Human   ┆           ┆ \"LTC\"]    │\n",
       "│            ┆           ┆         ┆           ┆   ┆ King of   ┆ Noble     ┆           ┆           │\n",
       "│            ┆           ┆         ┆           ┆   ┆ Ro…       ┆           ┆           ┆           │\n",
       "│ Éomer,     ┆ R         ┆ R       ┆ null      ┆ … ┆ Haste\\nWh ┆ Legendary ┆ Creature  ┆ [\"LTR\",   │\n",
       "│ Marshal of ┆           ┆         ┆           ┆   ┆ enever    ┆ Creature  ┆           ┆ \"LTR\",    │\n",
       "│ Rohan      ┆           ┆         ┆           ┆   ┆ one or    ┆ — Human   ┆           ┆ \"LTR\"]    │\n",
       "│            ┆           ┆         ┆           ┆   ┆ more      ┆ Knigh…    ┆           ┆           │\n",
       "│            ┆           ┆         ┆           ┆   ┆ othe…     ┆           ┆           ┆           │\n",
       "│ Éowyn,     ┆ R, W      ┆ R, W    ┆ null      ┆ … ┆ Haste\\nWh ┆ Legendary ┆ Creature  ┆ [\"LTR\",   │\n",
       "│ Fearless   ┆           ┆         ┆           ┆   ┆ en Éowyn, ┆ Creature  ┆           ┆ \"LTR\",    │\n",
       "│ Knight     ┆           ┆         ┆           ┆   ┆ Fearless  ┆ — Human   ┆           ┆ \"LTR\"]    │\n",
       "│            ┆           ┆         ┆           ┆   ┆ Knig…     ┆ Knigh…    ┆           ┆           │\n",
       "│ Éowyn,     ┆ W         ┆ W       ┆ null      ┆ … ┆ At the    ┆ Legendary ┆ Creature  ┆ [\"LTR\",   │\n",
       "│ Lady of    ┆           ┆         ┆           ┆   ┆ beginning ┆ Creature  ┆           ┆ \"LTR\"]    │\n",
       "│ Rohan      ┆           ┆         ┆           ┆   ┆ of combat ┆ — Human   ┆           ┆           │\n",
       "│            ┆           ┆         ┆           ┆   ┆ on yo…    ┆ Noble     ┆           ┆           │\n",
       "│ Éowyn, Shi ┆ R, U, W   ┆ R, U, W ┆ null      ┆ … ┆ First str ┆ Legendary ┆ Creature  ┆ [\"LTC\",   │\n",
       "│ eldmaiden  ┆           ┆         ┆           ┆   ┆ ike\\nAt   ┆ Creature  ┆           ┆ \"LTC\", …  │\n",
       "│            ┆           ┆         ┆           ┆   ┆ the       ┆ — Human   ┆           ┆ \"LTC\"]    │\n",
       "│            ┆           ┆         ┆           ┆   ┆ beginning ┆ Knigh…    ┆           ┆           │\n",
       "│            ┆           ┆         ┆           ┆   ┆ o…        ┆           ┆           ┆           │\n",
       "└────────────┴───────────┴─────────┴───────────┴───┴───────────┴───────────┴───────────┴───────────┘"
      ]
     },
     "execution_count": 17,
     "metadata": {},
     "output_type": "execute_result"
    }
   ],
   "source": [
    "\n",
    "collapsed_df = collapse_sets(main_sets_cards)\n",
    "\n",
    "# filter rows where length of setCodes list > 1\n",
    "collapsed_df.filter(pl.col(\"setCodes\").map_elements(lambda s: len(s) != 1))"
   ]
  },
  {
   "cell_type": "code",
   "execution_count": 18,
   "metadata": {},
   "outputs": [
    {
     "data": {
      "text/html": [
       "<div><style>\n",
       ".dataframe > thead > tr,\n",
       ".dataframe > tbody > tr {\n",
       "  text-align: right;\n",
       "  white-space: pre-wrap;\n",
       "}\n",
       "</style>\n",
       "<small>shape: (9_664, 16)</small><table border=\"1\" class=\"dataframe\"><thead><tr><th>name</th><th>colorIdentity</th><th>colors</th><th>faceConvertedManaCost</th><th>keywords</th><th>loyalty</th><th>manaCost</th><th>manaValue</th><th>power</th><th>subtypes</th><th>supertypes</th><th>toughness</th><th>text</th><th>type</th><th>types</th><th>setCodes</th></tr><tr><td>str</td><td>str</td><td>str</td><td>f64</td><td>str</td><td>str</td><td>str</td><td>f64</td><td>str</td><td>str</td><td>str</td><td>str</td><td>str</td><td>str</td><td>str</td><td>list[str]</td></tr></thead><tbody><tr><td>&quot;&quot;Brims&quot; Barone…</td><td>&quot;B, W&quot;</td><td>&quot;B, W&quot;</td><td>null</td><td>null</td><td>null</td><td>&quot;{3}{W}{B}&quot;</td><td>5.0</td><td>&quot;5&quot;</td><td>&quot;Human, Rogue&quot;</td><td>&quot;Legendary&quot;</td><td>&quot;4&quot;</td><td>&quot;When &quot;Brims&quot; B…</td><td>&quot;Legendary Crea…</td><td>&quot;Creature&quot;</td><td>[&quot;UNF&quot;, &quot;UNF&quot;, … &quot;UNF&quot;]</td></tr><tr><td>&quot;&quot;Lifetime&quot; Pas…</td><td>&quot;B&quot;</td><td>&quot;B&quot;</td><td>null</td><td>&quot;Open an Attrac…</td><td>null</td><td>&quot;{B}&quot;</td><td>1.0</td><td>&quot;2&quot;</td><td>&quot;Zombie, Guest&quot;</td><td>&quot;&quot;</td><td>&quot;1&quot;</td><td>&quot;&quot;Lifetime&quot; Pas…</td><td>&quot;Creature — Zom…</td><td>&quot;Creature&quot;</td><td>[&quot;UNF&quot;, &quot;UNF&quot;]</td></tr><tr><td>&quot;&quot;Name Sticker&quot;…</td><td>&quot;R&quot;</td><td>&quot;R&quot;</td><td>null</td><td>null</td><td>null</td><td>&quot;{2}{R}&quot;</td><td>3.0</td><td>&quot;2&quot;</td><td>&quot;Goblin, Guest&quot;</td><td>&quot;&quot;</td><td>&quot;2&quot;</td><td>&quot;When this crea…</td><td>&quot;Creature — Gob…</td><td>&quot;Creature&quot;</td><td>[&quot;UNF&quot;]</td></tr><tr><td>&quot;+2 Mace&quot;</td><td>&quot;W&quot;</td><td>&quot;W&quot;</td><td>null</td><td>&quot;Equip&quot;</td><td>null</td><td>&quot;{1}{W}&quot;</td><td>2.0</td><td>null</td><td>&quot;Equipment&quot;</td><td>&quot;&quot;</td><td>null</td><td>&quot;Equipped creat…</td><td>&quot;Artifact — Equ…</td><td>&quot;Artifact&quot;</td><td>[&quot;AFR&quot;]</td></tr><tr><td>&quot;A Good Day to …</td><td>&quot;W&quot;</td><td>&quot;W&quot;</td><td>null</td><td>null</td><td>null</td><td>&quot;{1}{W}&quot;</td><td>2.0</td><td>null</td><td>&quot;&quot;</td><td>&quot;&quot;</td><td>null</td><td>&quot;Tap up to two …</td><td>&quot;Instant&quot;</td><td>&quot;Instant&quot;</td><td>[&quot;UNF&quot;, &quot;UNF&quot;]</td></tr><tr><td>&hellip;</td><td>&hellip;</td><td>&hellip;</td><td>&hellip;</td><td>&hellip;</td><td>&hellip;</td><td>&hellip;</td><td>&hellip;</td><td>&hellip;</td><td>&hellip;</td><td>&hellip;</td><td>&hellip;</td><td>&hellip;</td><td>&hellip;</td><td>&hellip;</td><td>&hellip;</td></tr><tr><td>&quot;Éomer, King of…</td><td>&quot;R, W&quot;</td><td>&quot;R, W&quot;</td><td>null</td><td>&quot;Double strike&quot;</td><td>null</td><td>&quot;{3}{R}{W}&quot;</td><td>5.0</td><td>&quot;2&quot;</td><td>&quot;Human, Noble&quot;</td><td>&quot;Legendary&quot;</td><td>&quot;2&quot;</td><td>&quot;Double strike\\…</td><td>&quot;Legendary Crea…</td><td>&quot;Creature&quot;</td><td>[&quot;LTC&quot;, &quot;LTC&quot;, &quot;LTC&quot;]</td></tr><tr><td>&quot;Éomer, Marshal…</td><td>&quot;R&quot;</td><td>&quot;R&quot;</td><td>null</td><td>&quot;Haste&quot;</td><td>null</td><td>&quot;{2}{R}{R}&quot;</td><td>4.0</td><td>&quot;4&quot;</td><td>&quot;Human, Knight&quot;</td><td>&quot;Legendary&quot;</td><td>&quot;4&quot;</td><td>&quot;Haste\\nWheneve…</td><td>&quot;Legendary Crea…</td><td>&quot;Creature&quot;</td><td>[&quot;LTR&quot;, &quot;LTR&quot;, &quot;LTR&quot;]</td></tr><tr><td>&quot;Éowyn, Fearles…</td><td>&quot;R, W&quot;</td><td>&quot;R, W&quot;</td><td>null</td><td>&quot;Haste&quot;</td><td>null</td><td>&quot;{2}{R}{W}&quot;</td><td>4.0</td><td>&quot;3&quot;</td><td>&quot;Human, Knight&quot;</td><td>&quot;Legendary&quot;</td><td>&quot;4&quot;</td><td>&quot;Haste\\nWhen Éo…</td><td>&quot;Legendary Crea…</td><td>&quot;Creature&quot;</td><td>[&quot;LTR&quot;, &quot;LTR&quot;, &quot;LTR&quot;]</td></tr><tr><td>&quot;Éowyn, Lady of…</td><td>&quot;W&quot;</td><td>&quot;W&quot;</td><td>null</td><td>null</td><td>null</td><td>&quot;{2}{W}&quot;</td><td>3.0</td><td>&quot;2&quot;</td><td>&quot;Human, Noble&quot;</td><td>&quot;Legendary&quot;</td><td>&quot;4&quot;</td><td>&quot;At the beginni…</td><td>&quot;Legendary Crea…</td><td>&quot;Creature&quot;</td><td>[&quot;LTR&quot;, &quot;LTR&quot;]</td></tr><tr><td>&quot;Éowyn, Shieldm…</td><td>&quot;R, U, W&quot;</td><td>&quot;R, U, W&quot;</td><td>null</td><td>&quot;First strike&quot;</td><td>null</td><td>&quot;{2}{U}{R}{W}&quot;</td><td>5.0</td><td>&quot;5&quot;</td><td>&quot;Human, Knight&quot;</td><td>&quot;Legendary&quot;</td><td>&quot;4&quot;</td><td>&quot;First strike\\n…</td><td>&quot;Legendary Crea…</td><td>&quot;Creature&quot;</td><td>[&quot;LTC&quot;, &quot;LTC&quot;, … &quot;LTC&quot;]</td></tr></tbody></table></div>"
      ],
      "text/plain": [
       "shape: (9_664, 16)\n",
       "┌────────────┬────────────┬─────────┬───────────┬───┬───────────┬───────────┬──────────┬───────────┐\n",
       "│ name       ┆ colorIdent ┆ colors  ┆ faceConve ┆ … ┆ text      ┆ type      ┆ types    ┆ setCodes  │\n",
       "│ ---        ┆ ity        ┆ ---     ┆ rtedManaC ┆   ┆ ---       ┆ ---       ┆ ---      ┆ ---       │\n",
       "│ str        ┆ ---        ┆ str     ┆ ost       ┆   ┆ str       ┆ str       ┆ str      ┆ list[str] │\n",
       "│            ┆ str        ┆         ┆ ---       ┆   ┆           ┆           ┆          ┆           │\n",
       "│            ┆            ┆         ┆ f64       ┆   ┆           ┆           ┆          ┆           │\n",
       "╞════════════╪════════════╪═════════╪═══════════╪═══╪═══════════╪═══════════╪══════════╪═══════════╡\n",
       "│ \"Brims\"    ┆ B, W       ┆ B, W    ┆ null      ┆ … ┆ When      ┆ Legendary ┆ Creature ┆ [\"UNF\",   │\n",
       "│ Barone,    ┆            ┆         ┆           ┆   ┆ \"Brims\"   ┆ Creature  ┆          ┆ \"UNF\", …  │\n",
       "│ Midway     ┆            ┆         ┆           ┆   ┆ Barone,   ┆ — Human   ┆          ┆ \"UNF\"]    │\n",
       "│ Mobster    ┆            ┆         ┆           ┆   ┆ Midway    ┆ Rogue     ┆          ┆           │\n",
       "│            ┆            ┆         ┆           ┆   ┆ Mobs…     ┆           ┆          ┆           │\n",
       "│ \"Lifetime\" ┆ B          ┆ B       ┆ null      ┆ … ┆ \"Lifetime ┆ Creature  ┆ Creature ┆ [\"UNF\",   │\n",
       "│ Pass       ┆            ┆         ┆           ┆   ┆ \" Pass    ┆ — Zombie  ┆          ┆ \"UNF\"]    │\n",
       "│ Holder     ┆            ┆         ┆           ┆   ┆ Holder    ┆ Guest     ┆          ┆           │\n",
       "│            ┆            ┆         ┆           ┆   ┆ enters    ┆           ┆          ┆           │\n",
       "│            ┆            ┆         ┆           ┆   ┆ th…       ┆           ┆          ┆           │\n",
       "│ \"Name      ┆ R          ┆ R       ┆ null      ┆ … ┆ When this ┆ Creature  ┆ Creature ┆ [\"UNF\"]   │\n",
       "│ Sticker\"   ┆            ┆         ┆           ┆   ┆ creature  ┆ — Goblin  ┆          ┆           │\n",
       "│ Goblin     ┆            ┆         ┆           ┆   ┆ enters    ┆ Guest     ┆          ┆           │\n",
       "│            ┆            ┆         ┆           ┆   ┆ the ba…   ┆           ┆          ┆           │\n",
       "│ +2 Mace    ┆ W          ┆ W       ┆ null      ┆ … ┆ Equipped  ┆ Artifact  ┆ Artifact ┆ [\"AFR\"]   │\n",
       "│            ┆            ┆         ┆           ┆   ┆ creature  ┆ —         ┆          ┆           │\n",
       "│            ┆            ┆         ┆           ┆   ┆ gets +2/+ ┆ Equipment ┆          ┆           │\n",
       "│            ┆            ┆         ┆           ┆   ┆ 2.\\nE…    ┆           ┆          ┆           │\n",
       "│ A Good Day ┆ W          ┆ W       ┆ null      ┆ … ┆ Tap up to ┆ Instant   ┆ Instant  ┆ [\"UNF\",   │\n",
       "│ to Pie     ┆            ┆         ┆           ┆   ┆ two       ┆           ┆          ┆ \"UNF\"]    │\n",
       "│            ┆            ┆         ┆           ┆   ┆ target    ┆           ┆          ┆           │\n",
       "│            ┆            ┆         ┆           ┆   ┆ creatures ┆           ┆          ┆           │\n",
       "│            ┆            ┆         ┆           ┆   ┆ .\\…       ┆           ┆          ┆           │\n",
       "│ …          ┆ …          ┆ …       ┆ …         ┆ … ┆ …         ┆ …         ┆ …        ┆ …         │\n",
       "│ Éomer,     ┆ R, W       ┆ R, W    ┆ null      ┆ … ┆ Double    ┆ Legendary ┆ Creature ┆ [\"LTC\",   │\n",
       "│ King of    ┆            ┆         ┆           ┆   ┆ strike\\nÉ ┆ Creature  ┆          ┆ \"LTC\",    │\n",
       "│ Rohan      ┆            ┆         ┆           ┆   ┆ omer,     ┆ — Human   ┆          ┆ \"LTC\"]    │\n",
       "│            ┆            ┆         ┆           ┆   ┆ King of   ┆ Noble     ┆          ┆           │\n",
       "│            ┆            ┆         ┆           ┆   ┆ Ro…       ┆           ┆          ┆           │\n",
       "│ Éomer,     ┆ R          ┆ R       ┆ null      ┆ … ┆ Haste\\nWh ┆ Legendary ┆ Creature ┆ [\"LTR\",   │\n",
       "│ Marshal of ┆            ┆         ┆           ┆   ┆ enever    ┆ Creature  ┆          ┆ \"LTR\",    │\n",
       "│ Rohan      ┆            ┆         ┆           ┆   ┆ one or    ┆ — Human   ┆          ┆ \"LTR\"]    │\n",
       "│            ┆            ┆         ┆           ┆   ┆ more      ┆ Knigh…    ┆          ┆           │\n",
       "│            ┆            ┆         ┆           ┆   ┆ othe…     ┆           ┆          ┆           │\n",
       "│ Éowyn,     ┆ R, W       ┆ R, W    ┆ null      ┆ … ┆ Haste\\nWh ┆ Legendary ┆ Creature ┆ [\"LTR\",   │\n",
       "│ Fearless   ┆            ┆         ┆           ┆   ┆ en Éowyn, ┆ Creature  ┆          ┆ \"LTR\",    │\n",
       "│ Knight     ┆            ┆         ┆           ┆   ┆ Fearless  ┆ — Human   ┆          ┆ \"LTR\"]    │\n",
       "│            ┆            ┆         ┆           ┆   ┆ Knig…     ┆ Knigh…    ┆          ┆           │\n",
       "│ Éowyn,     ┆ W          ┆ W       ┆ null      ┆ … ┆ At the    ┆ Legendary ┆ Creature ┆ [\"LTR\",   │\n",
       "│ Lady of    ┆            ┆         ┆           ┆   ┆ beginning ┆ Creature  ┆          ┆ \"LTR\"]    │\n",
       "│ Rohan      ┆            ┆         ┆           ┆   ┆ of combat ┆ — Human   ┆          ┆           │\n",
       "│            ┆            ┆         ┆           ┆   ┆ on yo…    ┆ Noble     ┆          ┆           │\n",
       "│ Éowyn, Shi ┆ R, U, W    ┆ R, U, W ┆ null      ┆ … ┆ First str ┆ Legendary ┆ Creature ┆ [\"LTC\",   │\n",
       "│ eldmaiden  ┆            ┆         ┆           ┆   ┆ ike\\nAt   ┆ Creature  ┆          ┆ \"LTC\", …  │\n",
       "│            ┆            ┆         ┆           ┆   ┆ the       ┆ — Human   ┆          ┆ \"LTC\"]    │\n",
       "│            ┆            ┆         ┆           ┆   ┆ beginning ┆ Knigh…    ┆          ┆           │\n",
       "│            ┆            ┆         ┆           ┆   ┆ o…        ┆           ┆          ┆           │\n",
       "└────────────┴────────────┴─────────┴───────────┴───┴───────────┴───────────┴──────────┴───────────┘"
      ]
     },
     "execution_count": 18,
     "metadata": {},
     "output_type": "execute_result"
    }
   ],
   "source": [
    "#  print cards with multiple setCodes\n",
    "collapsed_df"
   ]
  },
  {
   "cell_type": "markdown",
   "metadata": {},
   "source": [
    "## Set Analysis and Unique Card Identification"
   ]
  },
  {
   "cell_type": "code",
   "execution_count": 19,
   "metadata": {},
   "outputs": [
    {
     "data": {
      "text/html": [
       "<div><style>\n",
       ".dataframe > thead > tr,\n",
       ".dataframe > tbody > tr {\n",
       "  text-align: right;\n",
       "  white-space: pre-wrap;\n",
       "}\n",
       "</style>\n",
       "<small>shape: (8_794, 2)</small><table border=\"1\" class=\"dataframe\"><thead><tr><th>name</th><th>len</th></tr><tr><td>str</td><td>u32</td></tr></thead><tbody><tr><td>&quot;Cleaving Reape…</td><td>1</td></tr><tr><td>&quot;Aether Channel…</td><td>1</td></tr><tr><td>&quot;Campfire&quot;</td><td>1</td></tr><tr><td>&quot;Reinterpret&quot;</td><td>1</td></tr><tr><td>&quot;Shepherd of th…</td><td>1</td></tr><tr><td>&hellip;</td><td>&hellip;</td></tr><tr><td>&quot;Spring-Leaf Av…</td><td>1</td></tr><tr><td>&quot;Strength-Testi…</td><td>1</td></tr><tr><td>&quot;A-Mishra, Exca…</td><td>1</td></tr><tr><td>&quot;Restless Ancho…</td><td>1</td></tr><tr><td>&quot;Syr Alin, the …</td><td>1</td></tr></tbody></table></div>"
      ],
      "text/plain": [
       "shape: (8_794, 2)\n",
       "┌──────────────────────────────┬─────┐\n",
       "│ name                         ┆ len │\n",
       "│ ---                          ┆ --- │\n",
       "│ str                          ┆ u32 │\n",
       "╞══════════════════════════════╪═════╡\n",
       "│ Cleaving Reaper              ┆ 1   │\n",
       "│ Aether Channeler             ┆ 1   │\n",
       "│ Campfire                     ┆ 1   │\n",
       "│ Reinterpret                  ┆ 1   │\n",
       "│ Shepherd of the Cosmos       ┆ 1   │\n",
       "│ …                            ┆ …   │\n",
       "│ Spring-Leaf Avenger          ┆ 1   │\n",
       "│ Strength-Testing Hammer      ┆ 1   │\n",
       "│ A-Mishra, Excavation Prodigy ┆ 1   │\n",
       "│ Restless Anchorage           ┆ 1   │\n",
       "│ Syr Alin, the Lion's Claw    ┆ 1   │\n",
       "└──────────────────────────────┴─────┘"
      ]
     },
     "execution_count": 19,
     "metadata": {},
     "output_type": "execute_result"
    }
   ],
   "source": [
    "# count cards by name and filter above 1\n",
    "collapsed_df.group_by(\"name\").len().filter(pl.col(\"len\") == 1)"
   ]
  },
  {
   "cell_type": "code",
   "execution_count": 20,
   "metadata": {},
   "outputs": [
    {
     "data": {
      "text/html": [
       "<div><style>\n",
       ".dataframe > thead > tr,\n",
       ".dataframe > tbody > tr {\n",
       "  text-align: right;\n",
       "  white-space: pre-wrap;\n",
       "}\n",
       "</style>\n",
       "<small>shape: (9, 17)</small><table border=\"1\" class=\"dataframe\"><thead><tr><th>statistic</th><th>name</th><th>colorIdentity</th><th>colors</th><th>faceConvertedManaCost</th><th>keywords</th><th>loyalty</th><th>manaCost</th><th>manaValue</th><th>power</th><th>subtypes</th><th>supertypes</th><th>toughness</th><th>text</th><th>type</th><th>types</th><th>setCodes</th></tr><tr><td>str</td><td>str</td><td>str</td><td>str</td><td>f64</td><td>str</td><td>str</td><td>str</td><td>f64</td><td>str</td><td>str</td><td>str</td><td>str</td><td>str</td><td>str</td><td>str</td><td>f64</td></tr></thead><tbody><tr><td>&quot;count&quot;</td><td>&quot;9664&quot;</td><td>&quot;9664&quot;</td><td>&quot;9664&quot;</td><td>861.0</td><td>&quot;5151&quot;</td><td>&quot;116&quot;</td><td>&quot;8776&quot;</td><td>9664.0</td><td>&quot;5202&quot;</td><td>&quot;9664&quot;</td><td>&quot;9664&quot;</td><td>&quot;5202&quot;</td><td>&quot;9626&quot;</td><td>&quot;9664&quot;</td><td>&quot;9664&quot;</td><td>9664.0</td></tr><tr><td>&quot;null_count&quot;</td><td>&quot;0&quot;</td><td>&quot;0&quot;</td><td>&quot;0&quot;</td><td>8803.0</td><td>&quot;4513&quot;</td><td>&quot;9548&quot;</td><td>&quot;888&quot;</td><td>0.0</td><td>&quot;4462&quot;</td><td>&quot;0&quot;</td><td>&quot;0&quot;</td><td>&quot;4462&quot;</td><td>&quot;38&quot;</td><td>&quot;0&quot;</td><td>&quot;0&quot;</td><td>0.0</td></tr><tr><td>&quot;mean&quot;</td><td>null</td><td>null</td><td>null</td><td>2.154472</td><td>null</td><td>null</td><td>null</td><td>3.21844</td><td>null</td><td>null</td><td>null</td><td>null</td><td>null</td><td>null</td><td>null</td><td>null</td></tr><tr><td>&quot;std&quot;</td><td>null</td><td>null</td><td>null</td><td>1.99256</td><td>null</td><td>null</td><td>null</td><td>1.813454</td><td>null</td><td>null</td><td>null</td><td>null</td><td>null</td><td>null</td><td>null</td><td>null</td></tr><tr><td>&quot;min&quot;</td><td>&quot;&quot;Brims&quot; Barone…</td><td>&quot;&quot;</td><td>&quot;&quot;</td><td>0.0</td><td>&quot;A Thousand Sou…</td><td>&quot;0&quot;</td><td>&quot;{0}&quot;</td><td>0.0</td><td>&quot;*&quot;</td><td>&quot;&quot;</td><td>&quot;&quot;</td><td>&quot;*&quot;</td><td>&quot;&quot;Lifetime&quot; Pas…</td><td>&quot;Artifact&quot;</td><td>&quot;Artifact&quot;</td><td>null</td></tr><tr><td>&quot;25%&quot;</td><td>null</td><td>null</td><td>null</td><td>0.0</td><td>null</td><td>null</td><td>null</td><td>2.0</td><td>null</td><td>null</td><td>null</td><td>null</td><td>null</td><td>null</td><td>null</td><td>null</td></tr><tr><td>&quot;50%&quot;</td><td>null</td><td>null</td><td>null</td><td>2.0</td><td>null</td><td>null</td><td>null</td><td>3.0</td><td>null</td><td>null</td><td>null</td><td>null</td><td>null</td><td>null</td><td>null</td><td>null</td></tr><tr><td>&quot;75%&quot;</td><td>null</td><td>null</td><td>null</td><td>3.0</td><td>null</td><td>null</td><td>null</td><td>4.0</td><td>null</td><td>null</td><td>null</td><td>null</td><td>null</td><td>null</td><td>null</td><td>null</td></tr><tr><td>&quot;max&quot;</td><td>&quot;Éowyn, Shieldm…</td><td>&quot;W&quot;</td><td>&quot;W, U&quot;</td><td>10.0</td><td>&quot;Wind Walk&quot;</td><td>&quot;X&quot;</td><td>&quot;{X}{X}{X}{R}{R…</td><td>15.0</td><td>&quot;9&quot;</td><td>&quot;Zombie, Wizard…</td><td>&quot;Snow&quot;</td><td>&quot;9&quot;</td><td>&quot;{X}{X}{G}: Mon…</td><td>&quot;Tribal Sorcery…</td><td>&quot;Tribal, Sorcer…</td><td>null</td></tr></tbody></table></div>"
      ],
      "text/plain": [
       "shape: (9, 17)\n",
       "┌────────────┬────────────┬────────────┬────────┬───┬───────────┬───────────┬───────────┬──────────┐\n",
       "│ statistic  ┆ name       ┆ colorIdent ┆ colors ┆ … ┆ text      ┆ type      ┆ types     ┆ setCodes │\n",
       "│ ---        ┆ ---        ┆ ity        ┆ ---    ┆   ┆ ---       ┆ ---       ┆ ---       ┆ ---      │\n",
       "│ str        ┆ str        ┆ ---        ┆ str    ┆   ┆ str       ┆ str       ┆ str       ┆ f64      │\n",
       "│            ┆            ┆ str        ┆        ┆   ┆           ┆           ┆           ┆          │\n",
       "╞════════════╪════════════╪════════════╪════════╪═══╪═══════════╪═══════════╪═══════════╪══════════╡\n",
       "│ count      ┆ 9664       ┆ 9664       ┆ 9664   ┆ … ┆ 9626      ┆ 9664      ┆ 9664      ┆ 9664.0   │\n",
       "│ null_count ┆ 0          ┆ 0          ┆ 0      ┆ … ┆ 38        ┆ 0         ┆ 0         ┆ 0.0      │\n",
       "│ mean       ┆ null       ┆ null       ┆ null   ┆ … ┆ null      ┆ null      ┆ null      ┆ null     │\n",
       "│ std        ┆ null       ┆ null       ┆ null   ┆ … ┆ null      ┆ null      ┆ null      ┆ null     │\n",
       "│ min        ┆ \"Brims\"    ┆            ┆        ┆ … ┆ \"Lifetime ┆ Artifact  ┆ Artifact  ┆ null     │\n",
       "│            ┆ Barone,    ┆            ┆        ┆   ┆ \" Pass    ┆           ┆           ┆          │\n",
       "│            ┆ Midway     ┆            ┆        ┆   ┆ Holder    ┆           ┆           ┆          │\n",
       "│            ┆ Mobster    ┆            ┆        ┆   ┆ enters    ┆           ┆           ┆          │\n",
       "│            ┆            ┆            ┆        ┆   ┆ th…       ┆           ┆           ┆          │\n",
       "│ 25%        ┆ null       ┆ null       ┆ null   ┆ … ┆ null      ┆ null      ┆ null      ┆ null     │\n",
       "│ 50%        ┆ null       ┆ null       ┆ null   ┆ … ┆ null      ┆ null      ┆ null      ┆ null     │\n",
       "│ 75%        ┆ null       ┆ null       ┆ null   ┆ … ┆ null      ┆ null      ┆ null      ┆ null     │\n",
       "│ max        ┆ Éowyn, Shi ┆ W          ┆ W, U   ┆ … ┆ {X}{X}{G} ┆ Tribal    ┆ Tribal,   ┆ null     │\n",
       "│            ┆ eldmaiden  ┆            ┆        ┆   ┆ : Monstro ┆ Sorcery — ┆ Sorcery   ┆          │\n",
       "│            ┆            ┆            ┆        ┆   ┆ sity X.   ┆ Rogue     ┆           ┆          │\n",
       "│            ┆            ┆            ┆        ┆   ┆ (If th…   ┆           ┆           ┆          │\n",
       "└────────────┴────────────┴────────────┴────────┴───┴───────────┴───────────┴───────────┴──────────┘"
      ]
     },
     "execution_count": 20,
     "metadata": {},
     "output_type": "execute_result"
    }
   ],
   "source": [
    "# order by length of setCodes list, largest first\n",
    "collapsed_df.sort(pl.col(\"setCodes\").map_elements(lambda s: len(s)), descending=True).describe()"
   ]
  },
  {
   "cell_type": "code",
   "execution_count": 21,
   "metadata": {},
   "outputs": [
    {
     "data": {
      "text/html": [
       "<div><style>\n",
       ".dataframe > thead > tr,\n",
       ".dataframe > tbody > tr {\n",
       "  text-align: right;\n",
       "  white-space: pre-wrap;\n",
       "}\n",
       "</style>\n",
       "<small>shape: (9_664, 17)</small><table border=\"1\" class=\"dataframe\"><thead><tr><th>name</th><th>colorIdentity</th><th>colors</th><th>faceConvertedManaCost</th><th>keywords</th><th>loyalty</th><th>manaCost</th><th>manaValue</th><th>power</th><th>subtypes</th><th>supertypes</th><th>toughness</th><th>text</th><th>type</th><th>types</th><th>setCodes</th><th>page_content</th></tr><tr><td>str</td><td>str</td><td>str</td><td>f64</td><td>str</td><td>str</td><td>str</td><td>f64</td><td>str</td><td>str</td><td>str</td><td>str</td><td>str</td><td>str</td><td>str</td><td>list[str]</td><td>str</td></tr></thead><tbody><tr><td>&quot;&quot;Brims&quot; Barone…</td><td>&quot;B, W&quot;</td><td>&quot;B, W&quot;</td><td>null</td><td>null</td><td>null</td><td>&quot;{3}{W}{B}&quot;</td><td>5.0</td><td>&quot;5&quot;</td><td>&quot;Human, Rogue&quot;</td><td>&quot;Legendary&quot;</td><td>&quot;4&quot;</td><td>&quot;When &quot;Brims&quot; B…</td><td>&quot;Legendary Crea…</td><td>&quot;Creature&quot;</td><td>[&quot;UNF&quot;, &quot;UNF&quot;, … &quot;UNF&quot;]</td><td>&quot;Legendary Crea…</td></tr><tr><td>&quot;&quot;Lifetime&quot; Pas…</td><td>&quot;B&quot;</td><td>&quot;B&quot;</td><td>null</td><td>&quot;Open an Attrac…</td><td>null</td><td>&quot;{B}&quot;</td><td>1.0</td><td>&quot;2&quot;</td><td>&quot;Zombie, Guest&quot;</td><td>&quot;&quot;</td><td>&quot;1&quot;</td><td>&quot;&quot;Lifetime&quot; Pas…</td><td>&quot;Creature — Zom…</td><td>&quot;Creature&quot;</td><td>[&quot;UNF&quot;, &quot;UNF&quot;]</td><td>&quot;Creature — Zom…</td></tr><tr><td>&quot;&quot;Name Sticker&quot;…</td><td>&quot;R&quot;</td><td>&quot;R&quot;</td><td>null</td><td>null</td><td>null</td><td>&quot;{2}{R}&quot;</td><td>3.0</td><td>&quot;2&quot;</td><td>&quot;Goblin, Guest&quot;</td><td>&quot;&quot;</td><td>&quot;2&quot;</td><td>&quot;When this crea…</td><td>&quot;Creature — Gob…</td><td>&quot;Creature&quot;</td><td>[&quot;UNF&quot;]</td><td>&quot;Creature — Gob…</td></tr><tr><td>&quot;+2 Mace&quot;</td><td>&quot;W&quot;</td><td>&quot;W&quot;</td><td>null</td><td>&quot;Equip&quot;</td><td>null</td><td>&quot;{1}{W}&quot;</td><td>2.0</td><td>null</td><td>&quot;Equipment&quot;</td><td>&quot;&quot;</td><td>null</td><td>&quot;Equipped creat…</td><td>&quot;Artifact — Equ…</td><td>&quot;Artifact&quot;</td><td>[&quot;AFR&quot;]</td><td>&quot;Artifact — Equ…</td></tr><tr><td>&quot;A Good Day to …</td><td>&quot;W&quot;</td><td>&quot;W&quot;</td><td>null</td><td>null</td><td>null</td><td>&quot;{1}{W}&quot;</td><td>2.0</td><td>null</td><td>&quot;&quot;</td><td>&quot;&quot;</td><td>null</td><td>&quot;Tap up to two …</td><td>&quot;Instant&quot;</td><td>&quot;Instant&quot;</td><td>[&quot;UNF&quot;, &quot;UNF&quot;]</td><td>&quot;InstantTap up …</td></tr><tr><td>&hellip;</td><td>&hellip;</td><td>&hellip;</td><td>&hellip;</td><td>&hellip;</td><td>&hellip;</td><td>&hellip;</td><td>&hellip;</td><td>&hellip;</td><td>&hellip;</td><td>&hellip;</td><td>&hellip;</td><td>&hellip;</td><td>&hellip;</td><td>&hellip;</td><td>&hellip;</td><td>&hellip;</td></tr><tr><td>&quot;Éomer, King of…</td><td>&quot;R, W&quot;</td><td>&quot;R, W&quot;</td><td>null</td><td>&quot;Double strike&quot;</td><td>null</td><td>&quot;{3}{R}{W}&quot;</td><td>5.0</td><td>&quot;2&quot;</td><td>&quot;Human, Noble&quot;</td><td>&quot;Legendary&quot;</td><td>&quot;2&quot;</td><td>&quot;Double strike\\…</td><td>&quot;Legendary Crea…</td><td>&quot;Creature&quot;</td><td>[&quot;LTC&quot;, &quot;LTC&quot;, &quot;LTC&quot;]</td><td>&quot;Legendary Crea…</td></tr><tr><td>&quot;Éomer, Marshal…</td><td>&quot;R&quot;</td><td>&quot;R&quot;</td><td>null</td><td>&quot;Haste&quot;</td><td>null</td><td>&quot;{2}{R}{R}&quot;</td><td>4.0</td><td>&quot;4&quot;</td><td>&quot;Human, Knight&quot;</td><td>&quot;Legendary&quot;</td><td>&quot;4&quot;</td><td>&quot;Haste\\nWheneve…</td><td>&quot;Legendary Crea…</td><td>&quot;Creature&quot;</td><td>[&quot;LTR&quot;, &quot;LTR&quot;, &quot;LTR&quot;]</td><td>&quot;Legendary Crea…</td></tr><tr><td>&quot;Éowyn, Fearles…</td><td>&quot;R, W&quot;</td><td>&quot;R, W&quot;</td><td>null</td><td>&quot;Haste&quot;</td><td>null</td><td>&quot;{2}{R}{W}&quot;</td><td>4.0</td><td>&quot;3&quot;</td><td>&quot;Human, Knight&quot;</td><td>&quot;Legendary&quot;</td><td>&quot;4&quot;</td><td>&quot;Haste\\nWhen Éo…</td><td>&quot;Legendary Crea…</td><td>&quot;Creature&quot;</td><td>[&quot;LTR&quot;, &quot;LTR&quot;, &quot;LTR&quot;]</td><td>&quot;Legendary Crea…</td></tr><tr><td>&quot;Éowyn, Lady of…</td><td>&quot;W&quot;</td><td>&quot;W&quot;</td><td>null</td><td>null</td><td>null</td><td>&quot;{2}{W}&quot;</td><td>3.0</td><td>&quot;2&quot;</td><td>&quot;Human, Noble&quot;</td><td>&quot;Legendary&quot;</td><td>&quot;4&quot;</td><td>&quot;At the beginni…</td><td>&quot;Legendary Crea…</td><td>&quot;Creature&quot;</td><td>[&quot;LTR&quot;, &quot;LTR&quot;]</td><td>&quot;Legendary Crea…</td></tr><tr><td>&quot;Éowyn, Shieldm…</td><td>&quot;R, U, W&quot;</td><td>&quot;R, U, W&quot;</td><td>null</td><td>&quot;First strike&quot;</td><td>null</td><td>&quot;{2}{U}{R}{W}&quot;</td><td>5.0</td><td>&quot;5&quot;</td><td>&quot;Human, Knight&quot;</td><td>&quot;Legendary&quot;</td><td>&quot;4&quot;</td><td>&quot;First strike\\n…</td><td>&quot;Legendary Crea…</td><td>&quot;Creature&quot;</td><td>[&quot;LTC&quot;, &quot;LTC&quot;, … &quot;LTC&quot;]</td><td>&quot;Legendary Crea…</td></tr></tbody></table></div>"
      ],
      "text/plain": [
       "shape: (9_664, 17)\n",
       "┌────────────┬────────────┬─────────┬───────────┬───┬───────────┬──────────┬───────────┬───────────┐\n",
       "│ name       ┆ colorIdent ┆ colors  ┆ faceConve ┆ … ┆ type      ┆ types    ┆ setCodes  ┆ page_cont │\n",
       "│ ---        ┆ ity        ┆ ---     ┆ rtedManaC ┆   ┆ ---       ┆ ---      ┆ ---       ┆ ent       │\n",
       "│ str        ┆ ---        ┆ str     ┆ ost       ┆   ┆ str       ┆ str      ┆ list[str] ┆ ---       │\n",
       "│            ┆ str        ┆         ┆ ---       ┆   ┆           ┆          ┆           ┆ str       │\n",
       "│            ┆            ┆         ┆ f64       ┆   ┆           ┆          ┆           ┆           │\n",
       "╞════════════╪════════════╪═════════╪═══════════╪═══╪═══════════╪══════════╪═══════════╪═══════════╡\n",
       "│ \"Brims\"    ┆ B, W       ┆ B, W    ┆ null      ┆ … ┆ Legendary ┆ Creature ┆ [\"UNF\",   ┆ Legendary │\n",
       "│ Barone,    ┆            ┆         ┆           ┆   ┆ Creature  ┆          ┆ \"UNF\", …  ┆ Creature  │\n",
       "│ Midway     ┆            ┆         ┆           ┆   ┆ — Human   ┆          ┆ \"UNF\"]    ┆ — Human   │\n",
       "│ Mobster    ┆            ┆         ┆           ┆   ┆ Rogue     ┆          ┆           ┆ Rogue…    │\n",
       "│ \"Lifetime\" ┆ B          ┆ B       ┆ null      ┆ … ┆ Creature  ┆ Creature ┆ [\"UNF\",   ┆ Creature  │\n",
       "│ Pass       ┆            ┆         ┆           ┆   ┆ — Zombie  ┆          ┆ \"UNF\"]    ┆ — Zombie  │\n",
       "│ Holder     ┆            ┆         ┆           ┆   ┆ Guest     ┆          ┆           ┆ Guest\"Lif │\n",
       "│            ┆            ┆         ┆           ┆   ┆           ┆          ┆           ┆ etime…    │\n",
       "│ \"Name      ┆ R          ┆ R       ┆ null      ┆ … ┆ Creature  ┆ Creature ┆ [\"UNF\"]   ┆ Creature  │\n",
       "│ Sticker\"   ┆            ┆         ┆           ┆   ┆ — Goblin  ┆          ┆           ┆ — Goblin  │\n",
       "│ Goblin     ┆            ┆         ┆           ┆   ┆ Guest     ┆          ┆           ┆ GuestWhen │\n",
       "│            ┆            ┆         ┆           ┆   ┆           ┆          ┆           ┆ this…     │\n",
       "│ +2 Mace    ┆ W          ┆ W       ┆ null      ┆ … ┆ Artifact  ┆ Artifact ┆ [\"AFR\"]   ┆ Artifact  │\n",
       "│            ┆            ┆         ┆           ┆   ┆ —         ┆          ┆           ┆ — Equipme │\n",
       "│            ┆            ┆         ┆           ┆   ┆ Equipment ┆          ┆           ┆ ntEquippe │\n",
       "│            ┆            ┆         ┆           ┆   ┆           ┆          ┆           ┆ d cre…    │\n",
       "│ A Good Day ┆ W          ┆ W       ┆ null      ┆ … ┆ Instant   ┆ Instant  ┆ [\"UNF\",   ┆ InstantTa │\n",
       "│ to Pie     ┆            ┆         ┆           ┆   ┆           ┆          ┆ \"UNF\"]    ┆ p up to   │\n",
       "│            ┆            ┆         ┆           ┆   ┆           ┆          ┆           ┆ two       │\n",
       "│            ┆            ┆         ┆           ┆   ┆           ┆          ┆           ┆ target    │\n",
       "│            ┆            ┆         ┆           ┆   ┆           ┆          ┆           ┆ crea…     │\n",
       "│ …          ┆ …          ┆ …       ┆ …         ┆ … ┆ …         ┆ …        ┆ …         ┆ …         │\n",
       "│ Éomer,     ┆ R, W       ┆ R, W    ┆ null      ┆ … ┆ Legendary ┆ Creature ┆ [\"LTC\",   ┆ Legendary │\n",
       "│ King of    ┆            ┆         ┆           ┆   ┆ Creature  ┆          ┆ \"LTC\",    ┆ Creature  │\n",
       "│ Rohan      ┆            ┆         ┆           ┆   ┆ — Human   ┆          ┆ \"LTC\"]    ┆ — Human   │\n",
       "│            ┆            ┆         ┆           ┆   ┆ Noble     ┆          ┆           ┆ Noble…    │\n",
       "│ Éomer,     ┆ R          ┆ R       ┆ null      ┆ … ┆ Legendary ┆ Creature ┆ [\"LTR\",   ┆ Legendary │\n",
       "│ Marshal of ┆            ┆         ┆           ┆   ┆ Creature  ┆          ┆ \"LTR\",    ┆ Creature  │\n",
       "│ Rohan      ┆            ┆         ┆           ┆   ┆ — Human   ┆          ┆ \"LTR\"]    ┆ — Human   │\n",
       "│            ┆            ┆         ┆           ┆   ┆ Knigh…    ┆          ┆           ┆ Knigh…    │\n",
       "│ Éowyn,     ┆ R, W       ┆ R, W    ┆ null      ┆ … ┆ Legendary ┆ Creature ┆ [\"LTR\",   ┆ Legendary │\n",
       "│ Fearless   ┆            ┆         ┆           ┆   ┆ Creature  ┆          ┆ \"LTR\",    ┆ Creature  │\n",
       "│ Knight     ┆            ┆         ┆           ┆   ┆ — Human   ┆          ┆ \"LTR\"]    ┆ — Human   │\n",
       "│            ┆            ┆         ┆           ┆   ┆ Knigh…    ┆          ┆           ┆ Knigh…    │\n",
       "│ Éowyn,     ┆ W          ┆ W       ┆ null      ┆ … ┆ Legendary ┆ Creature ┆ [\"LTR\",   ┆ Legendary │\n",
       "│ Lady of    ┆            ┆         ┆           ┆   ┆ Creature  ┆          ┆ \"LTR\"]    ┆ Creature  │\n",
       "│ Rohan      ┆            ┆         ┆           ┆   ┆ — Human   ┆          ┆           ┆ — Human   │\n",
       "│            ┆            ┆         ┆           ┆   ┆ Noble     ┆          ┆           ┆ Noble…    │\n",
       "│ Éowyn, Shi ┆ R, U, W    ┆ R, U, W ┆ null      ┆ … ┆ Legendary ┆ Creature ┆ [\"LTC\",   ┆ Legendary │\n",
       "│ eldmaiden  ┆            ┆         ┆           ┆   ┆ Creature  ┆          ┆ \"LTC\", …  ┆ Creature  │\n",
       "│            ┆            ┆         ┆           ┆   ┆ — Human   ┆          ┆ \"LTC\"]    ┆ — Human   │\n",
       "│            ┆            ┆         ┆           ┆   ┆ Knigh…    ┆          ┆           ┆ Knigh…    │\n",
       "└────────────┴────────────┴─────────┴───────────┴───┴───────────┴──────────┴───────────┴───────────┘"
      ]
     },
     "execution_count": 21,
     "metadata": {},
     "output_type": "execute_result"
    }
   ],
   "source": [
    "cleaned_collapsed_df = collapsed_df.with_columns(\n",
    "    page_content=pl.col(\"type\")\n",
    "    + pl.col(\"text\").fill_null(\"\")\n",
    "    + pl.col(\"keywords\").fill_null(\"\"),\n",
    ")\n",
    "\n",
    "cleaned_collapsed_df"
   ]
  },
  {
   "cell_type": "markdown",
   "metadata": {},
   "source": [
    "## Data Loading"
   ]
  },
  {
   "cell_type": "code",
   "execution_count": 41,
   "metadata": {},
   "outputs": [],
   "source": [
    "from langchain.globals import set_debug\n",
    "\n",
    "set_debug(True)"
   ]
  },
  {
   "cell_type": "code",
   "execution_count": 23,
   "metadata": {},
   "outputs": [
    {
     "data": {
      "text/plain": [
       "463"
      ]
     },
     "execution_count": 23,
     "metadata": {},
     "output_type": "execute_result"
    }
   ],
   "source": [
    "filtered_df = cleaned_collapsed_df.filter(pl.col(\"setCodes\").list.contains(\"BRO\") | pl.col(\"setCodes\").list.contains(\"BRC\"))\n",
    "len(filtered_df)\n"
   ]
  },
  {
   "cell_type": "code",
   "execution_count": 24,
   "metadata": {},
   "outputs": [
    {
     "data": {
      "text/html": [
       "<div><style>\n",
       ".dataframe > thead > tr,\n",
       ".dataframe > tbody > tr {\n",
       "  text-align: right;\n",
       "  white-space: pre-wrap;\n",
       "}\n",
       "</style>\n",
       "<small>shape: (463, 17)</small><table border=\"1\" class=\"dataframe\"><thead><tr><th>name</th><th>colorIdentity</th><th>colors</th><th>faceConvertedManaCost</th><th>keywords</th><th>loyalty</th><th>manaCost</th><th>manaValue</th><th>power</th><th>subtypes</th><th>supertypes</th><th>toughness</th><th>text</th><th>type</th><th>types</th><th>setCodes</th><th>page_content</th></tr><tr><td>str</td><td>str</td><td>str</td><td>f64</td><td>str</td><td>str</td><td>str</td><td>f64</td><td>str</td><td>str</td><td>str</td><td>str</td><td>str</td><td>str</td><td>str</td><td>list[str]</td><td>str</td></tr></thead><tbody><tr><td>&quot;A-Excavation E…</td><td>&quot;R&quot;</td><td>&quot;R&quot;</td><td>null</td><td>null</td><td>null</td><td>&quot;{2}{R}&quot;</td><td>3.0</td><td>null</td><td>&quot;&quot;</td><td>&quot;&quot;</td><td>null</td><td>&quot;Excavation Exp…</td><td>&quot;Instant&quot;</td><td>&quot;Instant&quot;</td><td>[&quot;BRO&quot;]</td><td>&quot;InstantExcavat…</td></tr><tr><td>&quot;A-Geology Enth…</td><td>&quot;U&quot;</td><td>&quot;U&quot;</td><td>null</td><td>&quot;Vigilance&quot;</td><td>null</td><td>&quot;{2}{U}{U}&quot;</td><td>4.0</td><td>&quot;3&quot;</td><td>&quot;Human, Artific…</td><td>&quot;&quot;</td><td>&quot;4&quot;</td><td>&quot;Vigilance\\nAt …</td><td>&quot;Creature — Hum…</td><td>&quot;Creature&quot;</td><td>[&quot;BRO&quot;]</td><td>&quot;Creature — Hum…</td></tr><tr><td>&quot;A-Hall of Tags…</td><td>&quot;&quot;</td><td>&quot;&quot;</td><td>null</td><td>null</td><td>null</td><td>null</td><td>0.0</td><td>null</td><td>&quot;&quot;</td><td>&quot;&quot;</td><td>null</td><td>&quot;{T}: Add {C}.\\…</td><td>&quot;Land&quot;</td><td>&quot;Land&quot;</td><td>[&quot;BRO&quot;]</td><td>&quot;Land{T}: Add {…</td></tr><tr><td>&quot;A-Haywire Mite…</td><td>&quot;G&quot;</td><td>&quot;&quot;</td><td>null</td><td>null</td><td>null</td><td>&quot;{1}&quot;</td><td>1.0</td><td>&quot;1&quot;</td><td>&quot;Insect&quot;</td><td>&quot;&quot;</td><td>&quot;2&quot;</td><td>&quot;When Haywire M…</td><td>&quot;Artifact Creat…</td><td>&quot;Artifact, Crea…</td><td>[&quot;BRO&quot;]</td><td>&quot;Artifact Creat…</td></tr><tr><td>&quot;A-Mightstone&#x27;s…</td><td>&quot;U&quot;</td><td>&quot;U&quot;</td><td>null</td><td>&quot;Enchant&quot;</td><td>null</td><td>&quot;{2}{U}&quot;</td><td>3.0</td><td>null</td><td>&quot;Aura&quot;</td><td>&quot;&quot;</td><td>null</td><td>&quot;Enchant artifa…</td><td>&quot;Enchantment — …</td><td>&quot;Enchantment&quot;</td><td>[&quot;BRO&quot;]</td><td>&quot;Enchantment — …</td></tr><tr><td>&hellip;</td><td>&hellip;</td><td>&hellip;</td><td>&hellip;</td><td>&hellip;</td><td>&hellip;</td><td>&hellip;</td><td>&hellip;</td><td>&hellip;</td><td>&hellip;</td><td>&hellip;</td><td>&hellip;</td><td>&hellip;</td><td>&hellip;</td><td>&hellip;</td><td>&hellip;</td><td>&hellip;</td></tr><tr><td>&quot;Yotian Disside…</td><td>&quot;G, W&quot;</td><td>&quot;G, W&quot;</td><td>null</td><td>null</td><td>null</td><td>&quot;{G}{W}&quot;</td><td>2.0</td><td>&quot;1&quot;</td><td>&quot;Human, Artific…</td><td>&quot;&quot;</td><td>&quot;1&quot;</td><td>&quot;Whenever an ar…</td><td>&quot;Creature — Hum…</td><td>&quot;Creature&quot;</td><td>[&quot;BRO&quot;]</td><td>&quot;Creature — Hum…</td></tr><tr><td>&quot;Yotian Frontli…</td><td>&quot;W&quot;</td><td>&quot;&quot;</td><td>null</td><td>&quot;Unearth&quot;</td><td>null</td><td>&quot;{1}&quot;</td><td>1.0</td><td>&quot;1&quot;</td><td>&quot;Soldier&quot;</td><td>&quot;&quot;</td><td>&quot;1&quot;</td><td>&quot;Whenever Yotia…</td><td>&quot;Artifact Creat…</td><td>&quot;Artifact, Crea…</td><td>[&quot;BRO&quot;]</td><td>&quot;Artifact Creat…</td></tr><tr><td>&quot;Yotian Medic&quot;</td><td>&quot;W&quot;</td><td>&quot;W&quot;</td><td>null</td><td>&quot;Lifelink&quot;</td><td>null</td><td>&quot;{2}{W}&quot;</td><td>3.0</td><td>&quot;1&quot;</td><td>&quot;Human, Cleric,…</td><td>&quot;&quot;</td><td>&quot;4&quot;</td><td>&quot;Lifelink&quot;</td><td>&quot;Creature — Hum…</td><td>&quot;Creature&quot;</td><td>[&quot;BRO&quot;]</td><td>&quot;Creature — Hum…</td></tr><tr><td>&quot;Yotian Tactici…</td><td>&quot;U, W&quot;</td><td>&quot;U, W&quot;</td><td>null</td><td>null</td><td>null</td><td>&quot;{2}{W}{U}&quot;</td><td>4.0</td><td>&quot;3&quot;</td><td>&quot;Human, Soldier…</td><td>&quot;&quot;</td><td>&quot;4&quot;</td><td>&quot;Other Soldiers…</td><td>&quot;Creature — Hum…</td><td>&quot;Creature&quot;</td><td>[&quot;BRO&quot;]</td><td>&quot;Creature — Hum…</td></tr><tr><td>&quot;Zephyr Sentine…</td><td>&quot;U&quot;</td><td>&quot;U&quot;</td><td>null</td><td>&quot;Flash, Flying&quot;</td><td>null</td><td>&quot;{1}{U}&quot;</td><td>2.0</td><td>&quot;2&quot;</td><td>&quot;Human, Soldier…</td><td>&quot;&quot;</td><td>&quot;1&quot;</td><td>&quot;Flash\\nFlying\\…</td><td>&quot;Creature — Hum…</td><td>&quot;Creature&quot;</td><td>[&quot;BRO&quot;]</td><td>&quot;Creature — Hum…</td></tr></tbody></table></div>"
      ],
      "text/plain": [
       "shape: (463, 17)\n",
       "┌────────────┬────────────┬────────┬───────────┬───┬───────────┬───────────┬───────────┬───────────┐\n",
       "│ name       ┆ colorIdent ┆ colors ┆ faceConve ┆ … ┆ type      ┆ types     ┆ setCodes  ┆ page_cont │\n",
       "│ ---        ┆ ity        ┆ ---    ┆ rtedManaC ┆   ┆ ---       ┆ ---       ┆ ---       ┆ ent       │\n",
       "│ str        ┆ ---        ┆ str    ┆ ost       ┆   ┆ str       ┆ str       ┆ list[str] ┆ ---       │\n",
       "│            ┆ str        ┆        ┆ ---       ┆   ┆           ┆           ┆           ┆ str       │\n",
       "│            ┆            ┆        ┆ f64       ┆   ┆           ┆           ┆           ┆           │\n",
       "╞════════════╪════════════╪════════╪═══════════╪═══╪═══════════╪═══════════╪═══════════╪═══════════╡\n",
       "│ A-Excavati ┆ R          ┆ R      ┆ null      ┆ … ┆ Instant   ┆ Instant   ┆ [\"BRO\"]   ┆ InstantEx │\n",
       "│ on         ┆            ┆        ┆           ┆   ┆           ┆           ┆           ┆ cavation  │\n",
       "│ Explosion  ┆            ┆        ┆           ┆   ┆           ┆           ┆           ┆ Explosion │\n",
       "│            ┆            ┆        ┆           ┆   ┆           ┆           ┆           ┆ deal…     │\n",
       "│ A-Geology  ┆ U          ┆ U      ┆ null      ┆ … ┆ Creature  ┆ Creature  ┆ [\"BRO\"]   ┆ Creature  │\n",
       "│ Enthusiast ┆            ┆        ┆           ┆   ┆ — Human   ┆           ┆           ┆ — Human   │\n",
       "│            ┆            ┆        ┆           ┆   ┆ Artificer ┆           ┆           ┆ Artificer │\n",
       "│            ┆            ┆        ┆           ┆   ┆           ┆           ┆           ┆ Vigila…   │\n",
       "│ A-Hall of  ┆            ┆        ┆ null      ┆ … ┆ Land      ┆ Land      ┆ [\"BRO\"]   ┆ Land{T}:  │\n",
       "│ Tagsin     ┆            ┆        ┆           ┆   ┆           ┆           ┆           ┆ Add {C}.\\ │\n",
       "│            ┆            ┆        ┆           ┆   ┆           ┆           ┆           ┆ n{1},     │\n",
       "│            ┆            ┆        ┆           ┆   ┆           ┆           ┆           ┆ {T}: Add… │\n",
       "│ A-Haywire  ┆ G          ┆        ┆ null      ┆ … ┆ Artifact  ┆ Artifact, ┆ [\"BRO\"]   ┆ Artifact  │\n",
       "│ Mite       ┆            ┆        ┆           ┆   ┆ Creature  ┆ Creature  ┆           ┆ Creature  │\n",
       "│            ┆            ┆        ┆           ┆   ┆ — Insect  ┆           ┆           ┆ — InsectW │\n",
       "│            ┆            ┆        ┆           ┆   ┆           ┆           ┆           ┆ hen H…    │\n",
       "│ A-Mightsto ┆ U          ┆ U      ┆ null      ┆ … ┆ Enchantme ┆ Enchantme ┆ [\"BRO\"]   ┆ Enchantme │\n",
       "│ ne's       ┆            ┆        ┆           ┆   ┆ nt — Aura ┆ nt        ┆           ┆ nt — Aura │\n",
       "│ Animation  ┆            ┆        ┆           ┆   ┆           ┆           ┆           ┆ Enchant   │\n",
       "│            ┆            ┆        ┆           ┆   ┆           ┆           ┆           ┆ artifa…   │\n",
       "│ …          ┆ …          ┆ …      ┆ …         ┆ … ┆ …         ┆ …         ┆ …         ┆ …         │\n",
       "│ Yotian     ┆ G, W       ┆ G, W   ┆ null      ┆ … ┆ Creature  ┆ Creature  ┆ [\"BRO\"]   ┆ Creature  │\n",
       "│ Dissident  ┆            ┆        ┆           ┆   ┆ — Human   ┆           ┆           ┆ — Human   │\n",
       "│            ┆            ┆        ┆           ┆   ┆ Artificer ┆           ┆           ┆ Artificer │\n",
       "│            ┆            ┆        ┆           ┆   ┆           ┆           ┆           ┆ Whenev…   │\n",
       "│ Yotian     ┆ W          ┆        ┆ null      ┆ … ┆ Artifact  ┆ Artifact, ┆ [\"BRO\"]   ┆ Artifact  │\n",
       "│ Frontliner ┆            ┆        ┆           ┆   ┆ Creature  ┆ Creature  ┆           ┆ Creature  │\n",
       "│            ┆            ┆        ┆           ┆   ┆ — Soldier ┆           ┆           ┆ — Soldier │\n",
       "│            ┆            ┆        ┆           ┆   ┆           ┆           ┆           ┆ Whene…    │\n",
       "│ Yotian     ┆ W          ┆ W      ┆ null      ┆ … ┆ Creature  ┆ Creature  ┆ [\"BRO\"]   ┆ Creature  │\n",
       "│ Medic      ┆            ┆        ┆           ┆   ┆ — Human   ┆           ┆           ┆ — Human   │\n",
       "│            ┆            ┆        ┆           ┆   ┆ Cleric    ┆           ┆           ┆ Cleric    │\n",
       "│            ┆            ┆        ┆           ┆   ┆ Soldier   ┆           ┆           ┆ SoldierL… │\n",
       "│ Yotian     ┆ U, W       ┆ U, W   ┆ null      ┆ … ┆ Creature  ┆ Creature  ┆ [\"BRO\"]   ┆ Creature  │\n",
       "│ Tactician  ┆            ┆        ┆           ┆   ┆ — Human   ┆           ┆           ┆ — Human   │\n",
       "│            ┆            ┆        ┆           ┆   ┆ Soldier   ┆           ┆           ┆ SoldierOt │\n",
       "│            ┆            ┆        ┆           ┆   ┆           ┆           ┆           ┆ her So…   │\n",
       "│ Zephyr     ┆ U          ┆ U      ┆ null      ┆ … ┆ Creature  ┆ Creature  ┆ [\"BRO\"]   ┆ Creature  │\n",
       "│ Sentinel   ┆            ┆        ┆           ┆   ┆ — Human   ┆           ┆           ┆ — Human   │\n",
       "│            ┆            ┆        ┆           ┆   ┆ Soldier   ┆           ┆           ┆ SoldierFl │\n",
       "│            ┆            ┆        ┆           ┆   ┆           ┆           ┆           ┆ ash\\nF…   │\n",
       "└────────────┴────────────┴────────┴───────────┴───┴───────────┴───────────┴───────────┴───────────┘"
      ]
     },
     "execution_count": 24,
     "metadata": {},
     "output_type": "execute_result"
    }
   ],
   "source": [
    "filtered_df"
   ]
  },
  {
   "cell_type": "code",
   "execution_count": 25,
   "metadata": {},
   "outputs": [
    {
     "data": {
      "text/plain": [
       "463"
      ]
     },
     "execution_count": 25,
     "metadata": {},
     "output_type": "execute_result"
    }
   ],
   "source": [
    "from langchain_community.document_loaders import PolarsDataFrameLoader\n",
    "loader = PolarsDataFrameLoader(filtered_df, page_content_column=\"page_content\")\n",
    "\n",
    "documents = loader.load()\n",
    "\n",
    "len(documents)"
   ]
  },
  {
   "cell_type": "code",
   "execution_count": 26,
   "metadata": {},
   "outputs": [
    {
     "name": "stdout",
     "output_type": "stream",
     "text": [
      "page_content='InstantExcavation Explosion deals 4 damage to target creature or planeswalker. Create a tapped Powerstone token. (It\\'s an artifact with \"{T}: Add {C}. This mana can\\'t be spent to cast a nonartifact spell.\")' metadata={'name': 'A-Excavation Explosion', 'colorIdentity': 'R', 'colors': 'R', 'faceConvertedManaCost': None, 'keywords': None, 'loyalty': None, 'manaCost': '{2}{R}', 'manaValue': 3.0, 'power': None, 'subtypes': '', 'supertypes': '', 'toughness': None, 'text': 'Excavation Explosion deals 4 damage to target creature or planeswalker. Create a tapped Powerstone token. (It\\'s an artifact with \"{T}: Add {C}. This mana can\\'t be spent to cast a nonartifact spell.\")', 'type': 'Instant', 'types': 'Instant', 'setCodes': ['BRO']}\n",
      "page_content='Creature — Human ArtificerVigilance\\\\nAt the beginning of your end step, create a tapped Powerstone token. (It\\'s an artifact with \"{T}: Add {C}. This mana can\\'t be spent to cast a nonartifact spell.\")\\\\n{5}: Draw a card and put a +1/+1 counter on Geology Enthusiast.Vigilance' metadata={'name': 'A-Geology Enthusiast', 'colorIdentity': 'U', 'colors': 'U', 'faceConvertedManaCost': None, 'keywords': 'Vigilance', 'loyalty': None, 'manaCost': '{2}{U}{U}', 'manaValue': 4.0, 'power': '3', 'subtypes': 'Human, Artificer', 'supertypes': '', 'toughness': '4', 'text': 'Vigilance\\\\nAt the beginning of your end step, create a tapped Powerstone token. (It\\'s an artifact with \"{T}: Add {C}. This mana can\\'t be spent to cast a nonartifact spell.\")\\\\n{5}: Draw a card and put a +1/+1 counter on Geology Enthusiast.', 'type': 'Creature — Human Artificer', 'types': 'Creature', 'setCodes': ['BRO']}\n",
      "page_content='Land{T}: Add {C}.\\\\n{1}, {T}: Add one mana of any color.\\\\n{3}, {T}: Create a tapped Powerstone token. (It\\'s an artifact with \"{T}: Add {C}. This mana can\\'t be spent to cast a nonartifact spell.\")' metadata={'name': 'A-Hall of Tagsin', 'colorIdentity': '', 'colors': '', 'faceConvertedManaCost': None, 'keywords': None, 'loyalty': None, 'manaCost': None, 'manaValue': 0.0, 'power': None, 'subtypes': '', 'supertypes': '', 'toughness': None, 'text': '{T}: Add {C}.\\\\n{1}, {T}: Add one mana of any color.\\\\n{3}, {T}: Create a tapped Powerstone token. (It\\'s an artifact with \"{T}: Add {C}. This mana can\\'t be spent to cast a nonartifact spell.\")', 'type': 'Land', 'types': 'Land', 'setCodes': ['BRO']}\n",
      "page_content='Artifact Creature — InsectWhen Haywire Mite dies, you gain 3 life.\\\\n{G}, Sacrifice Haywire Mite: Exile target noncreature artifact or noncreature enchantment.' metadata={'name': 'A-Haywire Mite', 'colorIdentity': 'G', 'colors': '', 'faceConvertedManaCost': None, 'keywords': None, 'loyalty': None, 'manaCost': '{1}', 'manaValue': 1.0, 'power': '1', 'subtypes': 'Insect', 'supertypes': '', 'toughness': '2', 'text': 'When Haywire Mite dies, you gain 3 life.\\\\n{G}, Sacrifice Haywire Mite: Exile target noncreature artifact or noncreature enchantment.', 'type': 'Artifact Creature — Insect', 'types': 'Artifact, Creature', 'setCodes': ['BRO']}\n",
      "page_content=\"Enchantment — AuraEnchant artifact\\\\nWhen Mightstone's Animation enters the battlefield, draw two cards, then discard a card.\\\\nEnchanted artifact is a creature with base power and toughness 4/4 in addition to its other types.Enchant\" metadata={'name': \"A-Mightstone's Animation\", 'colorIdentity': 'U', 'colors': 'U', 'faceConvertedManaCost': None, 'keywords': 'Enchant', 'loyalty': None, 'manaCost': '{2}{U}', 'manaValue': 3.0, 'power': None, 'subtypes': 'Aura', 'supertypes': '', 'toughness': None, 'text': \"Enchant artifact\\\\nWhen Mightstone's Animation enters the battlefield, draw two cards, then discard a card.\\\\nEnchanted artifact is a creature with base power and toughness 4/4 in addition to its other types.\", 'type': 'Enchantment — Aura', 'types': 'Enchantment', 'setCodes': ['BRO']}\n",
      "page_content='Legendary Creature — Human Artificer{1}, {T}, Discard a card: Draw a card.\\\\nWhenever you discard one or more artifact cards, add {R}{R}. This ability triggers only once each turn.' metadata={'name': 'A-Mishra, Excavation Prodigy', 'colorIdentity': 'R', 'colors': 'R', 'faceConvertedManaCost': None, 'keywords': None, 'loyalty': None, 'manaCost': '{1}{R}', 'manaValue': 2.0, 'power': '2', 'subtypes': 'Human, Artificer', 'supertypes': 'Legendary', 'toughness': '1', 'text': '{1}, {T}, Discard a card: Draw a card.\\\\nWhenever you discard one or more artifact cards, add {R}{R}. This ability triggers only once each turn.', 'type': 'Legendary Creature — Human Artificer', 'types': 'Creature', 'setCodes': ['BRO']}\n",
      "page_content='Legendary Planeswalker — Saheeli[+1]: Scry 2. If you control an artifact, draw a card.\\\\n[−2]: Create two 1/1 colorless Thopter artifact creature tokens with flying. They gain haste until end of turn.\\\\n[−4]: You get an emblem with \"Artifact creatures you control get +1/+1\" and \"Artifact spells you cast cost {1} less to cast.\"Scry' metadata={'name': 'A-Saheeli, Filigree Master', 'colorIdentity': 'R, U', 'colors': 'R, U', 'faceConvertedManaCost': None, 'keywords': 'Scry', 'loyalty': '3', 'manaCost': '{2}{U}{R}', 'manaValue': 4.0, 'power': None, 'subtypes': 'Saheeli', 'supertypes': 'Legendary', 'toughness': None, 'text': '[+1]: Scry 2. If you control an artifact, draw a card.\\\\n[−2]: Create two 1/1 colorless Thopter artifact creature tokens with flying. They gain haste until end of turn.\\\\n[−4]: You get an emblem with \"Artifact creatures you control get +1/+1\" and \"Artifact spells you cast cost {1} less to cast.\"', 'type': 'Legendary Planeswalker — Saheeli', 'types': 'Planeswalker', 'setCodes': ['BRO']}\n",
      "page_content='InstantAs an additional cost to cast this spell, sacrifice an artifact.\\\\nCreate two tapped Powerstone tokens.\\\\nDraw a card.' metadata={'name': 'A-Splitting the Powerstone', 'colorIdentity': 'U', 'colors': 'U', 'faceConvertedManaCost': None, 'keywords': None, 'loyalty': None, 'manaCost': '{2}{U}', 'manaValue': 3.0, 'power': None, 'subtypes': '', 'supertypes': '', 'toughness': None, 'text': 'As an additional cost to cast this spell, sacrifice an artifact.\\\\nCreate two tapped Powerstone tokens.\\\\nDraw a card.', 'type': 'Instant', 'types': 'Instant', 'setCodes': ['BRO']}\n",
      "page_content='Artifact Creature — SpiderReach\\\\nWhen Thran Spider enters the battlefield, you and target opponent each create a tapped Powerstone token.\\\\n{7}: Look at the top four cards of your library. Put one of them into your hand and the rest on the bottom of your library in a random order.Reach' metadata={'name': 'A-Thran Spider', 'colorIdentity': '', 'colors': '', 'faceConvertedManaCost': None, 'keywords': 'Reach', 'loyalty': None, 'manaCost': '{3}', 'manaValue': 3.0, 'power': '2', 'subtypes': 'Spider', 'supertypes': '', 'toughness': '4', 'text': 'Reach\\\\nWhen Thran Spider enters the battlefield, you and target opponent each create a tapped Powerstone token.\\\\n{7}: Look at the top four cards of your library. Put one of them into your hand and the rest on the bottom of your library in a random order.', 'type': 'Artifact Creature — Spider', 'types': 'Artifact, Creature', 'setCodes': ['BRO']}\n",
      "page_content='InstantChoose two —\\\\n• Creatures you don\\'t control get -3/-0 until end of turn.\\\\n• Create two tapped Powerstone tokens.\\\\n• Create a tapped 0/0 colorless Construct artifact creature token with \"This creature gets +1/+1 for each artifact you control.\"\\\\n• Scry 2, then draw a card.Scry' metadata={'name': \"A-Urza's Command\", 'colorIdentity': 'U', 'colors': 'U', 'faceConvertedManaCost': None, 'keywords': 'Scry', 'loyalty': None, 'manaCost': '{2}{U}{U}', 'manaValue': 4.0, 'power': None, 'subtypes': '', 'supertypes': '', 'toughness': None, 'text': 'Choose two —\\\\n• Creatures you don\\'t control get -3/-0 until end of turn.\\\\n• Create two tapped Powerstone tokens.\\\\n• Create a tapped 0/0 colorless Construct artifact creature token with \"This creature gets +1/+1 for each artifact you control.\"\\\\n• Scry 2, then draw a card.', 'type': 'Instant', 'types': 'Instant', 'setCodes': ['BRO']}\n"
     ]
    }
   ],
   "source": [
    "for doc in documents[0:10]:\n",
    "    print(doc)\n"
   ]
  },
  {
   "cell_type": "markdown",
   "metadata": {},
   "source": [
    "## Textual Data Preparation and Embedding  "
   ]
  },
  {
   "cell_type": "code",
   "execution_count": 27,
   "metadata": {},
   "outputs": [
    {
     "data": {
      "text/plain": [
       "True"
      ]
     },
     "execution_count": 27,
     "metadata": {},
     "output_type": "execute_result"
    }
   ],
   "source": [
    "import dotenv\n",
    "\n",
    "dotenv.load_dotenv()\n"
   ]
  },
  {
   "cell_type": "code",
   "execution_count": 28,
   "metadata": {},
   "outputs": [
    {
     "name": "stderr",
     "output_type": "stream",
     "text": [
      "/home/dave/Development/mtgai/.venv/lib/python3.12/site-packages/langchain_core/_api/deprecation.py:117: LangChainDeprecationWarning: The class `langchain_community.embeddings.openai.OpenAIEmbeddings` was deprecated in langchain-community 0.0.9 and will be removed in 0.2.0. An updated version of the class exists in the langchain-openai package and should be used instead. To use it run `pip install -U langchain-openai` and import as `from langchain_openai import OpenAIEmbeddings`.\n",
      "  warn_deprecated(\n"
     ]
    }
   ],
   "source": [
    "from langchain.embeddings import OpenAIEmbeddings\n",
    "\n",
    "embeddings = OpenAIEmbeddings(model=\"text-embedding-3-large\")"
   ]
  },
  {
   "cell_type": "code",
   "execution_count": 29,
   "metadata": {},
   "outputs": [
    {
     "name": "stdout",
     "output_type": "stream",
     "text": [
      "page_content='InstantExcavation Explosion deals 4 damage to target creature or planeswalker. Create a tapped Powerstone token. (It\\'s an artifact with \"{T}: Add {C}. This mana can\\'t be spent to cast a nonartifact spell.\")' metadata={'name': 'A-Excavation Explosion', 'colorIdentity': 'R', 'colors': 'R', 'manaCost': '{2}{R}', 'manaValue': 3.0, 'subtypes': '', 'supertypes': '', 'text': 'Excavation Explosion deals 4 damage to target creature or planeswalker. Create a tapped Powerstone token. (It\\'s an artifact with \"{T}: Add {C}. This mana can\\'t be spent to cast a nonartifact spell.\")', 'type': 'Instant', 'types': 'Instant'}\n",
      "page_content='Creature — Human ArtificerVigilance\\\\nAt the beginning of your end step, create a tapped Powerstone token. (It\\'s an artifact with \"{T}: Add {C}. This mana can\\'t be spent to cast a nonartifact spell.\")\\\\n{5}: Draw a card and put a +1/+1 counter on Geology Enthusiast.Vigilance' metadata={'name': 'A-Geology Enthusiast', 'colorIdentity': 'U', 'colors': 'U', 'keywords': 'Vigilance', 'manaCost': '{2}{U}{U}', 'manaValue': 4.0, 'power': '3', 'subtypes': 'Human, Artificer', 'supertypes': '', 'toughness': '4', 'text': 'Vigilance\\\\nAt the beginning of your end step, create a tapped Powerstone token. (It\\'s an artifact with \"{T}: Add {C}. This mana can\\'t be spent to cast a nonartifact spell.\")\\\\n{5}: Draw a card and put a +1/+1 counter on Geology Enthusiast.', 'type': 'Creature — Human Artificer', 'types': 'Creature'}\n",
      "page_content='Land{T}: Add {C}.\\\\n{1}, {T}: Add one mana of any color.\\\\n{3}, {T}: Create a tapped Powerstone token. (It\\'s an artifact with \"{T}: Add {C}. This mana can\\'t be spent to cast a nonartifact spell.\")' metadata={'name': 'A-Hall of Tagsin', 'colorIdentity': '', 'colors': '', 'manaValue': 0.0, 'subtypes': '', 'supertypes': '', 'text': '{T}: Add {C}.\\\\n{1}, {T}: Add one mana of any color.\\\\n{3}, {T}: Create a tapped Powerstone token. (It\\'s an artifact with \"{T}: Add {C}. This mana can\\'t be spent to cast a nonartifact spell.\")', 'type': 'Land', 'types': 'Land'}\n",
      "page_content='Artifact Creature — InsectWhen Haywire Mite dies, you gain 3 life.\\\\n{G}, Sacrifice Haywire Mite: Exile target noncreature artifact or noncreature enchantment.' metadata={'name': 'A-Haywire Mite', 'colorIdentity': 'G', 'colors': '', 'manaCost': '{1}', 'manaValue': 1.0, 'power': '1', 'subtypes': 'Insect', 'supertypes': '', 'toughness': '2', 'text': 'When Haywire Mite dies, you gain 3 life.\\\\n{G}, Sacrifice Haywire Mite: Exile target noncreature artifact or noncreature enchantment.', 'type': 'Artifact Creature — Insect', 'types': 'Artifact, Creature'}\n",
      "page_content=\"Enchantment — AuraEnchant artifact\\\\nWhen Mightstone's Animation enters the battlefield, draw two cards, then discard a card.\\\\nEnchanted artifact is a creature with base power and toughness 4/4 in addition to its other types.Enchant\" metadata={'name': \"A-Mightstone's Animation\", 'colorIdentity': 'U', 'colors': 'U', 'keywords': 'Enchant', 'manaCost': '{2}{U}', 'manaValue': 3.0, 'subtypes': 'Aura', 'supertypes': '', 'text': \"Enchant artifact\\\\nWhen Mightstone's Animation enters the battlefield, draw two cards, then discard a card.\\\\nEnchanted artifact is a creature with base power and toughness 4/4 in addition to its other types.\", 'type': 'Enchantment — Aura', 'types': 'Enchantment'}\n",
      "page_content='Legendary Creature — Human Artificer{1}, {T}, Discard a card: Draw a card.\\\\nWhenever you discard one or more artifact cards, add {R}{R}. This ability triggers only once each turn.' metadata={'name': 'A-Mishra, Excavation Prodigy', 'colorIdentity': 'R', 'colors': 'R', 'manaCost': '{1}{R}', 'manaValue': 2.0, 'power': '2', 'subtypes': 'Human, Artificer', 'supertypes': 'Legendary', 'toughness': '1', 'text': '{1}, {T}, Discard a card: Draw a card.\\\\nWhenever you discard one or more artifact cards, add {R}{R}. This ability triggers only once each turn.', 'type': 'Legendary Creature — Human Artificer', 'types': 'Creature'}\n",
      "page_content='Legendary Planeswalker — Saheeli[+1]: Scry 2. If you control an artifact, draw a card.\\\\n[−2]: Create two 1/1 colorless Thopter artifact creature tokens with flying. They gain haste until end of turn.\\\\n[−4]: You get an emblem with \"Artifact creatures you control get +1/+1\" and \"Artifact spells you cast cost {1} less to cast.\"Scry' metadata={'name': 'A-Saheeli, Filigree Master', 'colorIdentity': 'R, U', 'colors': 'R, U', 'keywords': 'Scry', 'loyalty': '3', 'manaCost': '{2}{U}{R}', 'manaValue': 4.0, 'subtypes': 'Saheeli', 'supertypes': 'Legendary', 'text': '[+1]: Scry 2. If you control an artifact, draw a card.\\\\n[−2]: Create two 1/1 colorless Thopter artifact creature tokens with flying. They gain haste until end of turn.\\\\n[−4]: You get an emblem with \"Artifact creatures you control get +1/+1\" and \"Artifact spells you cast cost {1} less to cast.\"', 'type': 'Legendary Planeswalker — Saheeli', 'types': 'Planeswalker'}\n",
      "page_content='InstantAs an additional cost to cast this spell, sacrifice an artifact.\\\\nCreate two tapped Powerstone tokens.\\\\nDraw a card.' metadata={'name': 'A-Splitting the Powerstone', 'colorIdentity': 'U', 'colors': 'U', 'manaCost': '{2}{U}', 'manaValue': 3.0, 'subtypes': '', 'supertypes': '', 'text': 'As an additional cost to cast this spell, sacrifice an artifact.\\\\nCreate two tapped Powerstone tokens.\\\\nDraw a card.', 'type': 'Instant', 'types': 'Instant'}\n",
      "page_content='Artifact Creature — SpiderReach\\\\nWhen Thran Spider enters the battlefield, you and target opponent each create a tapped Powerstone token.\\\\n{7}: Look at the top four cards of your library. Put one of them into your hand and the rest on the bottom of your library in a random order.Reach' metadata={'name': 'A-Thran Spider', 'colorIdentity': '', 'colors': '', 'keywords': 'Reach', 'manaCost': '{3}', 'manaValue': 3.0, 'power': '2', 'subtypes': 'Spider', 'supertypes': '', 'toughness': '4', 'text': 'Reach\\\\nWhen Thran Spider enters the battlefield, you and target opponent each create a tapped Powerstone token.\\\\n{7}: Look at the top four cards of your library. Put one of them into your hand and the rest on the bottom of your library in a random order.', 'type': 'Artifact Creature — Spider', 'types': 'Artifact, Creature'}\n",
      "page_content='InstantChoose two —\\\\n• Creatures you don\\'t control get -3/-0 until end of turn.\\\\n• Create two tapped Powerstone tokens.\\\\n• Create a tapped 0/0 colorless Construct artifact creature token with \"This creature gets +1/+1 for each artifact you control.\"\\\\n• Scry 2, then draw a card.Scry' metadata={'name': \"A-Urza's Command\", 'colorIdentity': 'U', 'colors': 'U', 'keywords': 'Scry', 'manaCost': '{2}{U}{U}', 'manaValue': 4.0, 'subtypes': '', 'supertypes': '', 'text': 'Choose two —\\\\n• Creatures you don\\'t control get -3/-0 until end of turn.\\\\n• Create two tapped Powerstone tokens.\\\\n• Create a tapped 0/0 colorless Construct artifact creature token with \"This creature gets +1/+1 for each artifact you control.\"\\\\n• Scry 2, then draw a card.', 'type': 'Instant', 'types': 'Instant'}\n"
     ]
    }
   ],
   "source": [
    "from langchain.vectorstores import Chroma\n",
    "from langchain_community.vectorstores.utils import filter_complex_metadata\n",
    "\n",
    "\n",
    "\n",
    "# Filter complex metadata from documents before creating the Chroma database\n",
    "filtered_documents = filter_complex_metadata(documents)\n",
    "\n",
    "for doc in filtered_documents[0:10]:\n",
    "    print(doc)\n",
    "\n"
   ]
  },
  {
   "cell_type": "code",
   "execution_count": 30,
   "metadata": {},
   "outputs": [],
   "source": [
    "\n",
    "chroma_db = Chroma.from_documents(filtered_documents, embeddings)\n"
   ]
  },
  {
   "cell_type": "markdown",
   "metadata": {},
   "source": [
    "## Similarity Search"
   ]
  },
  {
   "cell_type": "code",
   "execution_count": 31,
   "metadata": {},
   "outputs": [
    {
     "name": "stdout",
     "output_type": "stream",
     "text": [
      "name: Despark\n",
      "type: Instant\n",
      "text: Exile target permanent with mana value 4 or greater.\n",
      "name: Soul Partition\n",
      "type: Instant\n",
      "text: Exile target nonland permanent. For as long as that card remains exiled, its owner may play it. A spell cast by an opponent this way costs {2} more to cast.\n",
      "name: Hostile Negotiations\n",
      "type: Instant\n",
      "text: Exile the top three cards of your library in a face-down pile, then exile the top three cards of your library in another face-down pile. Look at the cards in each pile, then turn a pile of your choice face up. An opponent chooses one of those piles. Put all cards in the chosen pile into your hand and the rest into your graveyard. You lose 3 life.\n",
      "name: Expressive Iteration\n",
      "type: Sorcery\n",
      "text: Look at the top three cards of your library. Put one of them into your hand, put one of them on the bottom of your library, and exile one of them. You may play the exiled card this turn.\n"
     ]
    }
   ],
   "source": [
    "from langchain_core.documents.base import Document\n",
    "\n",
    "similarity_prompt = \"Exile permenant. Draw a card.\"\n",
    "docs = chroma_db.similarity_search(similarity_prompt)\n",
    "\n",
    "def print_metadata(doc: Document, keys: list[str] = [\"name\", \"type\", \"text\"]):\n",
    "    if doc.metadata is None:\n",
    "        return\n",
    "    for key in keys:\n",
    "        print(f\"{key}: {doc.metadata.get(key)}\")\n",
    "\n",
    "for doc in docs:\n",
    "    print_metadata(doc)\n",
    "\n"
   ]
  },
  {
   "cell_type": "markdown",
   "metadata": {},
   "source": [
    "## Commander HyDE query\n",
    "\n",
    "Using Hypothetical Data Embeddings (HyDE) to find useful cards for a given commander card in Magic: The Gathering. For instance cards that help use go wide with artifacts for Urza, Chief Artificer, or cards that work with Queen Kayla bin-Kroog's ability that discards your hand then places those cards onto the battlefield."
   ]
  },
  {
   "cell_type": "markdown",
   "metadata": {},
   "source": [
    "### Simple websearch prompt"
   ]
  },
  {
   "cell_type": "code",
   "execution_count": 32,
   "metadata": {},
   "outputs": [
    {
     "name": "stdout",
     "output_type": "stream",
     "text": [
      "input_variables=['QUESTION'] template='Please write a passage to answer the question \\nQuestion: {QUESTION}\\nPassage:'\n",
      "\u001b[32;1m\u001b[1;3m[llm/start]\u001b[0m \u001b[1m[1:llm:OpenAI] Entering LLM run with input:\n",
      "\u001b[0m{\n",
      "  \"prompts\": [\n",
      "    \"Please write a passage to answer the question \\nQuestion: What is a good card to include in an Urza deck?\\nPassage:\"\n",
      "  ]\n",
      "}\n",
      "\u001b[36;1m\u001b[1;3m[llm/end]\u001b[0m \u001b[1m[1:llm:OpenAI] [1.91s] Exiting LLM run with output:\n",
      "\u001b[0m{\n",
      "  \"generations\": [\n",
      "    [\n",
      "      {\n",
      "        \"text\": \" A great card to include in an Urza deck is Urza's Incubator. This powerful artifact reduces the cost of all creature spells by two colorless mana, making it easier to cast and potentially allowing for more creatures to be played in a turn. Additionally, it also has the ability to choose a creature type and give all creatures of that type an additional +1/+1 counter when they enter the battlefield. This can be extremely beneficial in a tribal deck, such as an Urza artifact creature deck, as it helps to boost the power and toughness of all creatures of a certain type. Overall, Urza's Incubator is a versatile and powerful card that can greatly enhance the effectiveness of an Urza deck. \",\n",
      "        \"generation_info\": {\n",
      "          \"finish_reason\": \"stop\",\n",
      "          \"logprobs\": null\n",
      "        },\n",
      "        \"type\": \"Generation\"\n",
      "      }\n",
      "    ]\n",
      "  ],\n",
      "  \"llm_output\": {\n",
      "    \"token_usage\": {\n",
      "      \"prompt_tokens\": 27,\n",
      "      \"total_tokens\": 174,\n",
      "      \"completion_tokens\": 147\n",
      "    },\n",
      "    \"model_name\": \"gpt-3.5-turbo-instruct\"\n",
      "  },\n",
      "  \"run\": null\n",
      "}\n"
     ]
    }
   ],
   "source": [
    "from langchain.chains import HypotheticalDocumentEmbedder\n",
    "from langchain_openai import OpenAI\n",
    "\n",
    "llm = OpenAI()\n",
    "\n",
    "hyde_simple_embedder = HypotheticalDocumentEmbedder.from_llm(llm = llm, base_embeddings = embeddings, prompt_key=\"web_search\")\n",
    "\n",
    "print(hyde_simple_embedder.llm_chain.prompt)\n",
    "\n",
    "result = hyde_simple_embedder.embed_query(\"What is a good card to include in an Urza deck?\")"
   ]
  },
  {
   "cell_type": "code",
   "execution_count": 33,
   "metadata": {},
   "outputs": [
    {
     "name": "stdout",
     "output_type": "stream",
     "text": [
      "3072\n"
     ]
    }
   ],
   "source": [
    "print(len(result))"
   ]
  },
  {
   "cell_type": "markdown",
   "metadata": {},
   "source": [
    "### Custom prompt template"
   ]
  },
  {
   "cell_type": "code",
   "execution_count": 123,
   "metadata": {},
   "outputs": [],
   "source": [
    "from langchain_core.prompts import PromptTemplate\n",
    "\n",
    "mtg_card_prompt = PromptTemplate.from_template(\"Suggest a Magic the Gathering card that would fit in a commander deck with {commander} as the commander\")\n",
    "\n",
    "hyde_embeddings = HypotheticalDocumentEmbedder.from_llm(llm = llm, base_embeddings = embeddings, custom_prompt=mtg_card_prompt)"
   ]
  },
  {
   "cell_type": "code",
   "execution_count": 124,
   "metadata": {},
   "outputs": [
    {
     "name": "stdout",
     "output_type": "stream",
     "text": [
      "\u001b[32;1m\u001b[1;3m[llm/start]\u001b[0m \u001b[1m[1:llm:OpenAI] Entering LLM run with input:\n",
      "\u001b[0m{\n",
      "  \"prompts\": [\n",
      "    \"Suggest a Magic the Gathering card that would fit in a commander deck with Urza, Lord Artificier as the commander\"\n",
      "  ]\n",
      "}\n",
      "\u001b[36;1m\u001b[1;3m[llm/end]\u001b[0m \u001b[1m[1:llm:OpenAI] [1.56s] Exiting LLM run with output:\n",
      "\u001b[0m{\n",
      "  \"generations\": [\n",
      "    [\n",
      "      {\n",
      "        \"text\": \"\\n\\nArcane Adaptation - This enchantment allows you to choose a creature type and all creature spells you cast of that type have an additional cost of 1 colorless mana. This would be a great addition to a commander deck with Urza as it can help you create a diverse army of artifact creatures, all benefiting from Urza's abilities. It also opens up the possibility of using tribal support cards and synergies within the deck.\",\n",
      "        \"generation_info\": {\n",
      "          \"finish_reason\": \"stop\",\n",
      "          \"logprobs\": null\n",
      "        },\n",
      "        \"type\": \"Generation\"\n",
      "      }\n",
      "    ]\n",
      "  ],\n",
      "  \"llm_output\": {\n",
      "    \"token_usage\": {\n",
      "      \"prompt_tokens\": 25,\n",
      "      \"total_tokens\": 113,\n",
      "      \"completion_tokens\": 88\n",
      "    },\n",
      "    \"model_name\": \"gpt-3.5-turbo-instruct\"\n",
      "  },\n",
      "  \"run\": null\n",
      "}\n",
      "{'colorIdentity': 'U, W', 'colors': 'U, W', 'faceConvertedManaCost': 3.0, 'keywords': 'Meld', 'manaCost': '{1}{W}{U}', 'manaValue': 3.0, 'name': 'Urza, Lord Protector // Urza, Planeswalker', 'power': '2', 'subtypes': 'Human, Artificer', 'supertypes': 'Legendary', 'text': 'Artifact, instant, and sorcery spells you cast cost {1} less to cast.\\\\n{7}: If you both own and control Urza, Lord Protector and an artifact named The Mightstone and Weakstone, exile them, then meld them into Urza, Planeswalker. Activate only as a sorcery.', 'toughness': '4', 'type': 'Legendary Creature — Human Artificer', 'types': 'Creature'}\n",
      "Relevance: 0.951237142086029\n",
      "{'colorIdentity': 'W', 'colors': 'W', 'manaCost': '{1}{W}{W}', 'manaValue': 3.0, 'name': 'Tempered Steel', 'subtypes': '', 'supertypes': '', 'text': 'Artifact creatures you control get +2/+2.', 'type': 'Enchantment', 'types': 'Enchantment'}\n",
      "Relevance: 0.9557453393936157\n",
      "{'colorIdentity': '', 'colors': '', 'manaCost': '{2}', 'manaValue': 2.0, 'name': 'Arcane Signet', 'subtypes': '', 'supertypes': '', 'text': \"{T}: Add one mana of any color in your commander's color identity.\", 'type': 'Artifact', 'types': 'Artifact'}\n",
      "Relevance: 0.9769875407218933\n",
      "{'colorIdentity': 'U, W', 'colors': 'U, W', 'faceConvertedManaCost': 8.0, 'loyalty': '7', 'manaValue': 8.0, 'name': 'Urza, Planeswalker', 'subtypes': 'Urza', 'supertypes': 'Legendary', 'text': 'You may activate the loyalty abilities of Urza, Planeswalker twice each turn rather than only once.\\\\n[+2]: Artifact, instant, and sorcery spells you cast this turn cost {2} less to cast. You gain 2 life.\\\\n[+1]: Draw two cards, then discard a card.\\\\n[0]: Create two 1/1 colorless Soldier artifact creature tokens.\\\\n[−3]: Exile target nonland permanent.\\\\n[−10]: Artifacts and planeswalkers you control gain indestructible until end of turn. Destroy all nonland permanents.', 'type': 'Legendary Planeswalker — Urza', 'types': 'Planeswalker'}\n",
      "Relevance: 1.0149106979370117\n",
      "{'colorIdentity': 'U', 'colors': '', 'manaValue': 0.0, 'name': 'Seat of the Synod', 'subtypes': '', 'supertypes': '', 'text': '{T}: Add {U}.', 'type': 'Artifact Land', 'types': 'Artifact, Land'}\n",
      "Relevance: 1.0461931228637695\n",
      "{'colorIdentity': 'B', 'colors': 'B', 'manaCost': '{1}{B}', 'manaValue': 2.0, 'name': 'Thran Vigil', 'subtypes': '', 'supertypes': '', 'text': 'Whenever one or more artifact and/or creature cards leave your graveyard during your turn, put a +1/+1 counter on target creature you control.', 'type': 'Enchantment', 'types': 'Enchantment'}\n",
      "Relevance: 1.0541499853134155\n",
      "{'colorIdentity': '', 'colors': '', 'manaCost': '{2}', 'manaValue': 2.0, 'name': 'Fellwar Stone', 'subtypes': '', 'supertypes': '', 'text': '{T}: Add one mana of any color that a land an opponent controls could produce.', 'type': 'Artifact', 'types': 'Artifact'}\n",
      "Relevance: 1.0578644275665283\n",
      "{'colorIdentity': 'U', 'colors': 'U', 'keywords': 'Mill', 'manaCost': '{2}{U}', 'manaValue': 3.0, 'name': 'Emry, Lurker of the Loch', 'power': '1', 'subtypes': 'Merfolk, Wizard', 'supertypes': 'Legendary', 'text': 'This spell costs {1} less to cast for each artifact you control.\\\\nWhen Emry, Lurker of the Loch enters the battlefield, mill four cards.\\\\n{T}: Choose target artifact card in your graveyard. You may cast that card this turn. (You still pay its costs. Timing rules still apply.)', 'toughness': '2', 'type': 'Legendary Creature — Merfolk Wizard', 'types': 'Creature'}\n",
      "Relevance: 1.0793869495391846\n",
      "{'colorIdentity': 'W', 'colors': 'W', 'manaCost': '{2}{W}', 'manaValue': 3.0, 'name': \"Tocasia's Welcome\", 'subtypes': '', 'supertypes': '', 'text': 'Whenever one or more creatures with mana value 3 or less enter the battlefield under your control, draw a card. This ability triggers only once each turn.', 'type': 'Enchantment', 'types': 'Enchantment'}\n",
      "Relevance: 1.0801607370376587\n",
      "{'colorIdentity': 'U', 'colors': 'U', 'manaCost': '{6}{U}{U}', 'manaValue': 8.0, 'name': 'One with the Multiverse', 'subtypes': '', 'supertypes': '', 'text': 'You may look at the top card of your library any time.\\\\nYou may play lands and cast spells from the top of your library.\\\\nOnce during each of your turns, you may cast a spell from your hand or the top of your library without paying its mana cost.', 'type': 'Enchantment', 'types': 'Enchantment'}\n",
      "Relevance: 1.0813584327697754\n"
     ]
    }
   ],
   "source": [
    "\n",
    "hyde_result_urza = hyde_embeddings.embed_query(\"Urza, Lord Artificier\")\n",
    "\n",
    "hyde_search_urza = chroma_db.similarity_search_by_vector_with_relevance_scores(hyde_result_urza, k = 10)\n",
    "\n",
    "for doc in hyde_search_urza:\n",
    "    print(doc[0].metadata)\n",
    "    print(f\"Relevance: {doc[1]}\")"
   ]
  },
  {
   "cell_type": "code",
   "execution_count": 125,
   "metadata": {},
   "outputs": [
    {
     "name": "stdout",
     "output_type": "stream",
     "text": [
      "\u001b[32;1m\u001b[1;3m[llm/start]\u001b[0m \u001b[1m[1:llm:OpenAI] Entering LLM run with input:\n",
      "\u001b[0m{\n",
      "  \"prompts\": [\n",
      "    \"Suggest a Magic the Gathering card that would fit in a commander deck with Queen Kayla bin-Kroog as the commander\"\n",
      "  ]\n",
      "}\n",
      "\u001b[36;1m\u001b[1;3m[llm/end]\u001b[0m \u001b[1m[1:llm:OpenAI] [1.50s] Exiting LLM run with output:\n",
      "\u001b[0m{\n",
      "  \"generations\": [\n",
      "    [\n",
      "      {\n",
      "        \"text\": \"\\n\\n\\\"Royal Decree of the Kroog\\\" - This legendary enchantment costs 3 colorless and 2 white mana and has the ability \\\"Whenever a creature you control attacks, you may pay 1 colorless and 1 white mana. If you do, that creature gains double strike until end of turn.\\\" This card would fit well in a deck with Queen Kayla bin-Kroog, as it reinforces her role as a powerful leader and boosts the attack power of her creatures.\",\n",
      "        \"generation_info\": {\n",
      "          \"finish_reason\": \"stop\",\n",
      "          \"logprobs\": null\n",
      "        },\n",
      "        \"type\": \"Generation\"\n",
      "      }\n",
      "    ]\n",
      "  ],\n",
      "  \"llm_output\": {\n",
      "    \"token_usage\": {\n",
      "      \"prompt_tokens\": 25,\n",
      "      \"total_tokens\": 124,\n",
      "      \"completion_tokens\": 99\n",
      "    },\n",
      "    \"model_name\": \"gpt-3.5-turbo-instruct\"\n",
      "  },\n",
      "  \"run\": null\n",
      "}\n",
      "name: Bident of Thassa\n",
      "type: Legendary Enchantment Artifact\n",
      "text: Whenever a creature you control deals combat damage to a player, you may draw a card.\\n{1}{U}, {T}: Creatures your opponents control attack this turn if able.\n",
      "Relevance: 0.954778790473938\n",
      "name: Blast-Furnace Hellkite\n",
      "type: Creature — Dragon\n",
      "text: Artifact offering (You may cast this spell as though it had flash by sacrificing an artifact and paying the difference in mana costs between this and the sacrificed artifact. Mana cost includes color.)\\nFlying, double strike\\nCreatures attacking your opponents have double strike.\n",
      "Relevance: 1.0263713598251343\n",
      "name: Tempered Steel\n",
      "type: Enchantment\n",
      "text: Artifact creatures you control get +2/+2.\n",
      "Relevance: 1.0460628271102905\n",
      "name: Take Flight\n",
      "type: Enchantment — Aura\n",
      "text: Enchant creature\\nEnchanted creature gets +1/+0 and has flying and \"Whenever this creature attacks, draw a card.\"\n",
      "Relevance: 1.100069284439087\n",
      "name: Mishra's Domination\n",
      "type: Enchantment — Aura\n",
      "text: Enchant creature\\nAs long as you control enchanted creature, it gets +2/+2. Otherwise, it can't block.\n",
      "Relevance: 1.1241236925125122\n",
      "name: Mechanized Warfare\n",
      "type: Enchantment\n",
      "text: If a red or artifact source you control would deal damage to an opponent or a permanent an opponent controls, it deals that much damage plus 1 instead.\n",
      "Relevance: 1.127734661102295\n",
      "name: In the Trenches\n",
      "type: Enchantment\n",
      "text: Creatures you control get +1/+1.\\n{5}{W}: Exile target nonland permanent you don't control until In the Trenches leaves the battlefield. Activate only as a sorcery and only once.\n",
      "Relevance: 1.1362278461456299\n",
      "name: Mishra's Onslaught\n",
      "type: Instant\n",
      "text: Choose one —\\n• Create two 1/1 colorless Soldier artifact creature tokens.\\n• Creatures you control get +2/+0 until end of turn.\n",
      "Relevance: 1.1373276710510254\n",
      "name: Thran Power Suit\n",
      "type: Artifact — Equipment\n",
      "text: Equipped creature gets +1/+1 for each Aura and Equipment attached to it and has ward {2}. (Whenever equipped creature becomes the target of a spell or ability an opponent controls, counter it unless that player pays {2}.)\\nEquip {2} ({2}: Attach to target creature you control. Equip only as a sorcery.)\n",
      "Relevance: 1.1485930681228638\n",
      "name: Military Discipline\n",
      "type: Enchantment — Aura\n",
      "text: Flash\\nEnchant creature\\nWhen Military Discipline enters the battlefield, enchanted creature gains first strike until end of turn.\\nEnchanted creature gets +1/+0.\n",
      "Relevance: 1.150151014328003\n"
     ]
    }
   ],
   "source": [
    "hyde_result_kayla = hyde_embeddings.embed_query(\"Queen Kayla bin-Kroog\")\n",
    "\n",
    "\n",
    "hyde_search_kayla = chroma_db.similarity_search_by_vector_with_relevance_scores(hyde_result_kayla, k = 10)\n",
    "\n",
    "for doc in hyde_search_kayla:\n",
    "    print_metadata(doc[0])\n",
    "    print(f\"Relevance: {doc[1]}\")"
   ]
  },
  {
   "cell_type": "code",
   "execution_count": 138,
   "metadata": {},
   "outputs": [
    {
     "name": "stdout",
     "output_type": "stream",
     "text": [
      "\u001b[32;1m\u001b[1;3m[llm/start]\u001b[0m \u001b[1m[1:llm:OpenAI] Entering LLM run with input:\n",
      "\u001b[0m{\n",
      "  \"prompts\": [\n",
      "    \"Suggest a Magic the Gathering card that would fit in a commander deck with \\nCard Name:\\nThe Archimandrite\\nMana Cost:\\n2BlueRedWhite\\nMana Value:\\n5\\nTypes:\\nLegendary Creature — Human Advisor\\nCard Text:\\nAt the beginning of your upkeep, you gain X life, where X is the number of cards in your hand minus 4.\\nWhenever you gain life, each Advisor, Artificer, and Monk you control gains vigilance and gets +X/+0 until end of turn, where X is the amount of life you gained.\\nTap three untapped Advisors, Artificers, and/or Monks you control: Draw a card.\\n as the commander\"\n",
      "  ]\n",
      "}\n",
      "\u001b[36;1m\u001b[1;3m[llm/end]\u001b[0m \u001b[1m[1:llm:OpenAI] [2.71s] Exiting LLM run with output:\n",
      "\u001b[0m{\n",
      "  \"generations\": [\n",
      "    [\n",
      "      {\n",
      "        \"text\": \"\\n\\nCard Name:\\nThe Archimandrite's Council\\nMana Cost:\\n3WhiteBlue\\nMana Value:\\n6\\nTypes:\\nEnchantment\\nCard Text:\\nWhenever you cast a spell, you may pay X life, where X is that spell's converted mana cost. If you do, gain X life.\\nAt the beginning of your upkeep, if you have 40 or more life, you may return target creature card from your graveyard to the battlefield.\\nWhenever a creature you control dies, you may pay 1 life. If you do, return that creature to your hand instead of putting it into your graveyard.\\n\\nThis card would fit well in a commander deck with The Archimandrite as the commander, as it synergizes with the life gain theme and also provides a way to bring back creatures from the graveyard. It also encourages players to have a larger hand size, which would trigger The Archimandrite's ability. \",\n",
      "        \"generation_info\": {\n",
      "          \"finish_reason\": \"stop\",\n",
      "          \"logprobs\": null\n",
      "        },\n",
      "        \"type\": \"Generation\"\n",
      "      }\n",
      "    ]\n",
      "  ],\n",
      "  \"llm_output\": {\n",
      "    \"token_usage\": {\n",
      "      \"prompt_tokens\": 139,\n",
      "      \"total_tokens\": 327,\n",
      "      \"completion_tokens\": 188\n",
      "    },\n",
      "    \"model_name\": \"gpt-3.5-turbo-instruct\"\n",
      "  },\n",
      "  \"run\": null\n",
      "}\n",
      "<class 'tuple'>\n",
      "name: The Archimandrite\n",
      "type: Legendary Creature — Human Advisor\n",
      "text: At the beginning of your upkeep, you gain X life, where X is the number of cards in your hand minus 4.\\nWhenever you gain life, each Advisor, Artificer, and Monk you control gains vigilance and gets +X/+0 until end of turn, where X is the amount of life you gained.\\nTap three untapped Advisors, Artificers, and/or Monks you control: Draw a card.\n",
      "relevance: 0.8153972029685974\n",
      "name: Trading Post\n",
      "type: Artifact\n",
      "text: {1}, {T}, Discard a card: You gain 4 life.\\n{1}, {T}, Pay 1 life: Create a 0/1 white Goat creature token.\\n{1}, {T}, Sacrifice a creature: Return target artifact card from your graveyard to your hand.\\n{1}, {T}, Sacrifice an artifact: Draw a card.\n",
      "relevance: 0.9132032990455627\n",
      "name: Lay Down Arms\n",
      "type: Sorcery\n",
      "text: Exile target creature with mana value less than or equal to the number of Plains you control. Its controller gains 3 life.\n",
      "relevance: 0.9574754238128662\n",
      "name: Gix's Command\n",
      "type: Sorcery\n",
      "text: Choose two —\\n• Put two +1/+1 counters on up to one creature. It gains lifelink until end of turn.\\n• Destroy each creature with power 2 or less.\\n• Return up to two creature cards from your graveyard to your hand.\\n• Each opponent sacrifices a creature with the highest power among creatures they control.\n",
      "relevance: 0.9666746258735657\n",
      "name: No One Left Behind\n",
      "type: Sorcery\n",
      "text: This spell costs {3} less to cast if it targets a creature card with mana value 3 or less.\\nReturn target creature card from your graveyard to the battlefield.\n",
      "relevance: 0.968609631061554\n",
      "name: Thran Vigil\n",
      "type: Enchantment\n",
      "text: Whenever one or more artifact and/or creature cards leave your graveyard during your turn, put a +1/+1 counter on target creature you control.\n",
      "relevance: 0.9714871048927307\n",
      "name: Recommission\n",
      "type: Sorcery\n",
      "text: Return target artifact or creature card with mana value 3 or less from your graveyard to the battlefield. If a creature enters the battlefield this way, it enters with an additional +1/+1 counter on it.\n",
      "relevance: 0.9740645289421082\n",
      "name: Teshar, Ancestor's Apostle\n",
      "type: Legendary Creature — Bird Cleric\n",
      "text: Flying\\nWhenever you cast a historic spell, return target creature card with mana value 3 or less from your graveyard to the battlefield. (Artifacts, legendaries, and Sagas are historic.)\n",
      "relevance: 0.980253279209137\n",
      "name: Sphinx's Revelation\n",
      "type: Instant\n",
      "text: You gain X life and draw X cards.\n",
      "relevance: 1.0099221467971802\n",
      "name: Hurkyl, Master Wizard\n",
      "type: Legendary Creature — Human Wizard Advisor\n",
      "text: At the beginning of your end step, if you've cast a noncreature spell this turn, reveal the top five cards of your library. For each card type among noncreature spells you've cast this turn, you may put a card of that type from among the revealed cards into your hand. Put the rest on the bottom of your library in a random order.\n",
      "relevance: 1.0226471424102783\n"
     ]
    }
   ],
   "source": [
    "from typing import Tuple\n",
    "\n",
    "def suggest_useful_cards_based_on_commander(commander: str) -> list[Tuple[Document, float]]:\n",
    "    hyde_result = hyde_embeddings.embed_query(commander)\n",
    "    hyde_search = chroma_db.similarity_search_by_vector_with_relevance_scores(hyde_result, k = 10)\n",
    "    return hyde_search\n",
    "\n",
    "def print_suggestions(suggestions: list[Tuple[Document, float]]):\n",
    "    for doc in suggestions:\n",
    "        print_metadata(doc[0])\n",
    "        print(f\"relevance: {doc[1]}\")\n",
    "\n",
    "print_suggestions(suggest_useful_cards_based_on_commander(\"\"\"\n",
    "Card Name:\n",
    "The Archimandrite\n",
    "Mana Cost:\n",
    "2BlueRedWhite\n",
    "Mana Value:\n",
    "5\n",
    "Types:\n",
    "Legendary Creature — Human Advisor\n",
    "Card Text:\n",
    "At the beginning of your upkeep, you gain X life, where X is the number of cards in your hand minus 4.\n",
    "Whenever you gain life, each Advisor, Artificer, and Monk you control gains vigilance and gets +X/+0 until end of turn, where X is the amount of life you gained.\n",
    "Tap three untapped Advisors, Artificers, and/or Monks you control: Draw a card.\n",
    "\"\"\"))"
   ]
  },
  {
   "cell_type": "code",
   "execution_count": 143,
   "metadata": {},
   "outputs": [
    {
     "name": "stdout",
     "output_type": "stream",
     "text": [
      "\u001b[32;1m\u001b[1;3m[llm/start]\u001b[0m \u001b[1m[1:llm:OpenAI] Entering LLM run with input:\n",
      "\u001b[0m{\n",
      "  \"prompts\": [\n",
      "    \"Suggest a Magic the Gathering card that would fit in a commander deck with ['Legendary Creature — ElementalReach\\\\\\\\nWhenever one or more land cards are put into your graveyard from anywhere, you gain 2 life.\\\\\\\\nAt the beginning of your upkeep, if there are four or more land cards in your graveyard and you both own and control Titania, Voice of Gaea and a land named Argoth, Sanctum of Nature, exile them, then meld them into Titania, Gaea Incarnate.Meld, Reach'] as the commander\"\n",
      "  ]\n",
      "}\n",
      "\u001b[36;1m\u001b[1;3m[llm/end]\u001b[0m \u001b[1m[1:llm:OpenAI] [2.05s] Exiting LLM run with output:\n",
      "\u001b[0m{\n",
      "  \"generations\": [\n",
      "    [\n",
      "      {\n",
      "        \"text\": \"\\n\\nGaea's Reclamation\\nLegendary Enchantment\\nWhenever a land enters the battlefield under your control, you may put a land card from your graveyard onto the battlefield tapped.\\nAt the beginning of your upkeep, if there are four or more land cards in your graveyard and you control both Titania, Voice of Gaea and Argoth, Sanctum of Nature, you may exile them and transform Gaea's Reclamation.\\nTransformed Side:\\nGaea, Nature Incarnate\\nLegendary Creature — Elemental\\nReach\\nWhenever a land card is put into your graveyard from anywhere, you may put it onto the battlefield under your control.\\nAt the beginning of your end step, each player sacrifices a land. If they can't, they discard a card.\",\n",
      "        \"generation_info\": {\n",
      "          \"finish_reason\": \"stop\",\n",
      "          \"logprobs\": null\n",
      "        },\n",
      "        \"type\": \"Generation\"\n",
      "      }\n",
      "    ]\n",
      "  ],\n",
      "  \"llm_output\": {\n",
      "    \"token_usage\": {\n",
      "      \"prompt_tokens\": 112,\n",
      "      \"total_tokens\": 264,\n",
      "      \"completion_tokens\": 152\n",
      "    },\n",
      "    \"model_name\": \"gpt-3.5-turbo-instruct\"\n",
      "  },\n",
      "  \"run\": null\n",
      "}\n",
      "<class 'tuple'>\n"
     ]
    },
    {
     "data": {
      "text/plain": [
       "[(Document(page_content='Legendary Creature — ElementalReach\\\\nWhenever one or more land cards are put into your graveyard from anywhere, you gain 2 life.\\\\nAt the beginning of your upkeep, if there are four or more land cards in your graveyard and you both own and control Titania, Voice of Gaea and a land named Argoth, Sanctum of Nature, exile them, then meld them into Titania, Gaea Incarnate.Meld, Reach', metadata={'colorIdentity': 'G', 'colors': 'G', 'faceConvertedManaCost': 3.0, 'keywords': 'Meld, Reach', 'manaCost': '{1}{G}{G}', 'manaValue': 3.0, 'name': 'Titania, Voice of Gaea // Titania, Gaea Incarnate', 'power': '3', 'subtypes': 'Elemental', 'supertypes': 'Legendary', 'text': 'Reach\\\\nWhenever one or more land cards are put into your graveyard from anywhere, you gain 2 life.\\\\nAt the beginning of your upkeep, if there are four or more land cards in your graveyard and you both own and control Titania, Voice of Gaea and a land named Argoth, Sanctum of Nature, exile them, then meld them into Titania, Gaea Incarnate.', 'toughness': '4', 'type': 'Legendary Creature — Elemental', 'types': 'Creature'}),\n",
       "  0.51593017578125),\n",
       " (Document(page_content=\"Legendary Creature — Elemental AvatarVigilance, reach, trample, haste\\\\nTitania, Gaea Incarnate's power and toughness are each equal to the number of lands you control.\\\\nWhen Titania enters the battlefield, return all land cards from your graveyard to the battlefield tapped.\\\\n{3}{G}: Put four +1/+1 counters on target land you control. It becomes a 0/0 Elemental creature with haste. It's still a land.Haste, Reach, Trample, Vigilance\", metadata={'colorIdentity': 'G', 'colors': 'G', 'faceConvertedManaCost': 3.0, 'keywords': 'Haste, Reach, Trample, Vigilance', 'manaValue': 3.0, 'name': 'Titania, Gaea Incarnate', 'power': '*', 'subtypes': 'Elemental, Avatar', 'supertypes': 'Legendary', 'text': \"Vigilance, reach, trample, haste\\\\nTitania, Gaea Incarnate's power and toughness are each equal to the number of lands you control.\\\\nWhen Titania enters the battlefield, return all land cards from your graveyard to the battlefield tapped.\\\\n{3}{G}: Put four +1/+1 counters on target land you control. It becomes a 0/0 Elemental creature with haste. It's still a land.\", 'toughness': '*', 'type': 'Legendary Creature — Elemental Avatar', 'types': 'Creature'}),\n",
       "  0.5902670621871948),\n",
       " (Document(page_content='LandArgoth, Sanctum of Nature enters the battlefield tapped unless you control a legendary green creature.\\\\n{T}: Add {G}.\\\\n{2}{G}{G}, {T}: Create a 2/2 green Bear creature token, then mill three cards. Activate only as a sorcery.\\\\n(Melds with Titania, Voice of Gaea.)Mill', metadata={'colorIdentity': 'G', 'colors': '', 'faceConvertedManaCost': 0.0, 'keywords': 'Mill', 'manaValue': 0.0, 'name': 'Argoth, Sanctum of Nature // Titania, Gaea Incarnate', 'subtypes': '', 'supertypes': '', 'text': 'Argoth, Sanctum of Nature enters the battlefield tapped unless you control a legendary green creature.\\\\n{T}: Add {G}.\\\\n{2}{G}{G}, {T}: Create a 2/2 green Bear creature token, then mill three cards. Activate only as a sorcery.\\\\n(Melds with Titania, Voice of Gaea.)', 'type': 'Land', 'types': 'Land'}),\n",
       "  0.8601499199867249),\n",
       " (Document(page_content='Legendary Creature — ElementalYou may play Forests from your graveyard.\\\\nWhenever a Forest enters the battlefield under your control, create a 5/3 green Elemental creature token.\\\\nWhenever an Elemental you control dies, you may mill three cards.Mill', metadata={'colorIdentity': 'G', 'colors': 'G', 'keywords': 'Mill', 'manaCost': '{4}{G}{G}', 'manaValue': 6.0, 'name': \"Titania, Nature's Force\", 'power': '6', 'subtypes': 'Elemental', 'supertypes': 'Legendary', 'text': 'You may play Forests from your graveyard.\\\\nWhenever a Forest enters the battlefield under your control, create a 5/3 green Elemental creature token.\\\\nWhenever an Elemental you control dies, you may mill three cards.', 'toughness': '6', 'type': 'Legendary Creature — Elemental', 'types': 'Creature'}),\n",
       "  0.8656816482543945),\n",
       " (Document(page_content='Artifact Creature — BeastYou may play lands from your graveyard.\\\\nUnearth {G}{G} ({G}{G}: Return this card from your graveyard to the battlefield. It gains haste. Exile it at the beginning of the next end step or if it would leave the battlefield. Unearth only as a sorcery.)Unearth', metadata={'colorIdentity': 'G', 'colors': '', 'keywords': 'Unearth', 'manaCost': '{5}', 'manaValue': 5.0, 'name': 'Perennial Behemoth', 'power': '2', 'subtypes': 'Beast', 'supertypes': '', 'text': 'You may play lands from your graveyard.\\\\nUnearth {G}{G} ({G}{G}: Return this card from your graveyard to the battlefield. It gains haste. Exile it at the beginning of the next end step or if it would leave the battlefield. Unearth only as a sorcery.)', 'toughness': '7', 'type': 'Artifact Creature — Beast', 'types': 'Artifact, Creature'}),\n",
       "  0.9042384028434753),\n",
       " (Document(page_content='Legendary Creature — Elf Druid Scout{T}: Add two mana in any combination of colors. Spend this mana only to cast creature spells or activate abilities of a creature or creature card.\\\\nWhenever you cast a creature spell with power 5 or greater, put a +1/+1 counter on Gwenna, Eyes of Gaea and untap it.', metadata={'colorIdentity': 'G', 'colors': 'G', 'manaCost': '{2}{G}', 'manaValue': 3.0, 'name': 'Gwenna, Eyes of Gaea', 'power': '2', 'subtypes': 'Elf, Druid, Scout', 'supertypes': 'Legendary', 'text': '{T}: Add two mana in any combination of colors. Spend this mana only to cast creature spells or activate abilities of a creature or creature card.\\\\nWhenever you cast a creature spell with power 5 or greater, put a +1/+1 counter on Gwenna, Eyes of Gaea and untap it.', 'toughness': '3', 'type': 'Legendary Creature — Elf Druid Scout', 'types': 'Creature'}),\n",
       "  0.9868442416191101),\n",
       " (Document(page_content=\"SorceryCreate X 1/1 green Forest Dryad land creature tokens. (They're affected by summoning sickness.)\", metadata={'colorIdentity': 'G', 'colors': 'G', 'manaCost': '{X}{G}{G}', 'manaValue': 2.0, 'name': 'Awaken the Woods', 'subtypes': '', 'supertypes': '', 'text': \"Create X 1/1 green Forest Dryad land creature tokens. (They're affected by summoning sickness.)\", 'type': 'Sorcery', 'types': 'Sorcery'}),\n",
       "  1.003296971321106),\n",
       " (Document(page_content=\"Artifact Creature — ConstructPrototype {2}{G}{G} — 3/3 (You may cast this spell with different mana cost, color, and size. It keeps its abilities and types.)\\\\nWhen Woodcaller Automaton enters the battlefield, if you cast it, untap target land you control. It becomes a Treefolk creature with haste and base power and toughness equal to Woodcaller Automaton's power and toughness. It's still a land.Prototype\", metadata={'colorIdentity': 'G', 'colors': '', 'keywords': 'Prototype', 'manaCost': '{10}', 'manaValue': 10.0, 'name': 'Woodcaller Automaton', 'power': '8', 'subtypes': 'Construct', 'supertypes': '', 'text': \"Prototype {2}{G}{G} — 3/3 (You may cast this spell with different mana cost, color, and size. It keeps its abilities and types.)\\\\nWhen Woodcaller Automaton enters the battlefield, if you cast it, untap target land you control. It becomes a Treefolk creature with haste and base power and toughness equal to Woodcaller Automaton's power and toughness. It's still a land.\", 'toughness': '8', 'type': 'Artifact Creature — Construct', 'types': 'Artifact, Creature'}),\n",
       "  1.0170798301696777),\n",
       " (Document(page_content='Creature — Elf DruidLands you control and land cards in your library are basic.', metadata={'colorIdentity': 'G', 'colors': 'G', 'manaCost': '{3}{G}', 'manaValue': 4.0, 'name': 'Rootpath Purifier', 'power': '3', 'subtypes': 'Elf, Druid', 'supertypes': '', 'text': 'Lands you control and land cards in your library are basic.', 'toughness': '4', 'type': 'Creature — Elf Druid', 'types': 'Creature'}),\n",
       "  1.0179131031036377),\n",
       " (Document(page_content='EnchantmentWhenever one or more artifact and/or creature cards leave your graveyard during your turn, put a +1/+1 counter on target creature you control.', metadata={'colorIdentity': 'B', 'colors': 'B', 'manaCost': '{1}{B}', 'manaValue': 2.0, 'name': 'Thran Vigil', 'subtypes': '', 'supertypes': '', 'text': 'Whenever one or more artifact and/or creature cards leave your graveyard during your turn, put a +1/+1 counter on target creature you control.', 'type': 'Enchantment', 'types': 'Enchantment'}),\n",
       "  1.0336449146270752)]"
      ]
     },
     "execution_count": 143,
     "metadata": {},
     "output_type": "execute_result"
    }
   ],
   "source": [
    "from typing import Dict, Union\n",
    "\n",
    "def query_by_card_name(name: str, df: pl.DataFrame) -> Dict:\n",
    "    card_row = cleaned_collapsed_df.filter(pl.col(\"name\") == name).slice(0, 1)\n",
    "    if len(card_row) == 0:\n",
    "        raise ValueError(f\"Card with name {name} not found in the dataframe.\")\n",
    "\n",
    "    card_dict = card_row.to_dict(as_series=False)\n",
    "\n",
    "    return card_dict\n",
    "\n",
    "titania_card = query_by_card_name(\"Titania, Voice of Gaea // Titania, Gaea Incarnate\", df=cleaned_collapsed_df)\n",
    "\n",
    "suggest_useful_cards_based_on_commander(titania_card.get(\"page_content\"))"
   ]
  },
  {
   "cell_type": "code",
   "execution_count": 141,
   "metadata": {},
   "outputs": [
    {
     "name": "stdout",
     "output_type": "stream",
     "text": [
      "\u001b[32;1m\u001b[1;3m[llm/start]\u001b[0m \u001b[1m[1:llm:OpenAI] Entering LLM run with input:\n",
      "\u001b[0m{\n",
      "  \"prompts\": [\n",
      "    \"Suggest a Magic the Gathering card that would fit in a commander deck with [\\\"Legendary Creature — Phyrexian PraetorWhenever a creature deals combat damage to one of your opponents, its controller may pay 1 life. If they do, they draw a card.\\\\\\\\n{4}{B}{B}{B}, Discard X cards: Exile the top X cards of target opponent's library. You may play lands and cast spells from among cards exiled this way without paying their mana costs.\\\"] as the commander\"\n",
      "  ]\n",
      "}\n",
      "\u001b[36;1m\u001b[1;3m[llm/end]\u001b[0m \u001b[1m[1:llm:OpenAI] [2.48s] Exiting LLM run with output:\n",
      "\u001b[0m{\n",
      "  \"generations\": [\n",
      "    [\n",
      "      {\n",
      "        \"text\": \"\\n\\n\\\"Phyrexian Purgebringer\\\"\\n\\nCreature - Phyrexian Praetor\\n\\nWhenever a creature deals combat damage to one of your opponents, its controller may pay 1 life. If they do, they draw a card.\\n\\n{4}{B}{B}{B}, Discard X cards: Exile the top X cards of target opponent's library. You may play lands and cast spells from among cards exiled this way without paying their mana costs.\\n\\nWhenever a player exiles a card from their library, Phyrexian Purgebringer gets +1/+1 until end of turn.\\n\\n3/4\",\n",
      "        \"generation_info\": {\n",
      "          \"finish_reason\": \"stop\",\n",
      "          \"logprobs\": null\n",
      "        },\n",
      "        \"type\": \"Generation\"\n",
      "      }\n",
      "    ]\n",
      "  ],\n",
      "  \"llm_output\": {\n",
      "    \"token_usage\": {\n",
      "      \"prompt_tokens\": 105,\n",
      "      \"total_tokens\": 231,\n",
      "      \"completion_tokens\": 126\n",
      "    },\n",
      "    \"model_name\": \"gpt-3.5-turbo-instruct\"\n",
      "  },\n",
      "  \"run\": null\n",
      "}\n",
      "<class 'tuple'>\n",
      "name: Gix, Yawgmoth Praetor\n",
      "type: Legendary Creature — Phyrexian Praetor\n",
      "text: Whenever a creature deals combat damage to one of your opponents, its controller may pay 1 life. If they do, they draw a card.\\n{4}{B}{B}{B}, Discard X cards: Exile the top X cards of target opponent's library. You may play lands and cast spells from among cards exiled this way without paying their mana costs.\n",
      "relevance: 0.3715248107910156\n",
      "name: Geth, Lord of the Vault\n",
      "type: Legendary Creature — Phyrexian Zombie\n",
      "text: Intimidate (This creature can't be blocked except by artifact creatures and/or creatures that share a color with it.)\\n{X}{B}: Put target artifact or creature card with mana value X from an opponent's graveyard onto the battlefield under your control tapped. Then that player mills X cards.\n",
      "relevance: 0.7977703213691711\n",
      "name: Scrapwork Rager\n",
      "type: Artifact Creature — Phyrexian Horror\n",
      "text: When Scrapwork Rager enters the battlefield, you draw a card and you lose 1 life.\\nUnearth {3}{B} ({3}{B}: Return this card from your graveyard to the battlefield. It gains haste. Exile it at the beginning of the next end step or if it would leave the battlefield. Unearth only as a sorcery.)\n",
      "relevance: 0.8395336866378784\n",
      "name: Phyrexian Fleshgorger\n",
      "type: Artifact Creature — Phyrexian Wurm\n",
      "text: Prototype {1}{B}{B} — 3/3 (You may cast this spell with different mana cost, color, and size. It keeps its abilities and types.)\\nMenace, lifelink\\nWard—Pay life equal to Phyrexian Fleshgorger's power.\n",
      "relevance: 0.8406158685684204\n",
      "name: Phyrexian Rebirth\n",
      "type: Sorcery\n",
      "text: Destroy all creatures, then create an X/X colorless Phyrexian Horror artifact creature token, where X is the number of creatures destroyed this way.\n",
      "relevance: 0.8406174778938293\n",
      "name: Phyrexian Dragon Engine // Mishra, Lost to Phyrexia\n",
      "type: Artifact Creature — Phyrexian Dragon\n",
      "text: Double strike\\nWhen Phyrexian Dragon Engine enters the battlefield from your graveyard, you may discard your hand. If you do, draw three cards.\\nUnearth {3}{R}{R}\\n(Melds with Mishra, Claimed by Gix.)\n",
      "relevance: 0.8628901839256287\n",
      "name: Mishra, Lost to Phyrexia\n",
      "type: Legendary Artifact Creature — Phyrexian Artificer\n",
      "text: Whenever Mishra, Lost to Phyrexia enters the battlefield or attacks, choose three —\\n• Target opponent discards two cards.\\n• Mishra deals 3 damage to any target.\\n• Destroy target artifact or planeswalker.\\n• Creatures you control gain menace and trample until end of turn.\\n• Creatures you don't control get -1/-1 until end of turn.\\n• Create two tapped Powerstone tokens.\n",
      "relevance: 0.8671847581863403\n",
      "name: Mishra, Claimed by Gix // Mishra, Lost to Phyrexia\n",
      "type: Legendary Creature — Phyrexian Human Artificer\n",
      "text: Whenever you attack, each opponent loses X life and you gain X life, where X is the number of attacking creatures. If Mishra, Claimed by Gix and a creature named Phyrexian Dragon Engine are attacking, and you both own and control them, exile them, then meld them into Mishra, Lost to Phyrexia. It enters the battlefield tapped and attacking.\n",
      "relevance: 0.8691179752349854\n",
      "name: Gixian Puppeteer\n",
      "type: Creature — Phyrexian Warlock\n",
      "text: Whenever you draw your second card each turn, each opponent loses 2 life and you gain 2 life.\\nWhen Gixian Puppeteer dies, return another target creature card with mana value 3 or less from your graveyard to the battlefield.\n",
      "relevance: 0.8699308633804321\n",
      "name: Mishra, Tamer of Mak Fawa\n",
      "type: Legendary Creature — Human Artificer\n",
      "text: Permanents you control have \"Ward—Sacrifice a permanent.\"\\nEach artifact card in your graveyard has unearth {1}{B}{R}. ({1}{B}{R}: Return the card from your graveyard to the battlefield. It gains haste. Exile it at the beginning of the next end step or if it would leave the battlefield. Unearth only as a sorcery.)\n",
      "relevance: 0.8806812167167664\n"
     ]
    }
   ],
   "source": [
    "gix_card = query_by_card_name(\"Gix, Yawgmoth Praetor\", df=cleaned_collapsed_df)\n",
    "\n",
    "print_suggestions(suggest_useful_cards_based_on_commander(gix_card.get(\"page_content\")))\n",
    "\n"
   ]
  },
  {
   "cell_type": "code",
   "execution_count": 142,
   "metadata": {},
   "outputs": [
    {
     "name": "stdout",
     "output_type": "stream",
     "text": [
      "\u001b[32;1m\u001b[1;3m[llm/start]\u001b[0m \u001b[1m[1:llm:OpenAI] Entering LLM run with input:\n",
      "\u001b[0m{\n",
      "  \"prompts\": [\n",
      "    \"Suggest a Magic the Gathering card that would fit in a commander deck with [\\\"Legendary Creature — Human ArtificerHaste\\\\\\\\nFeldon, Ronom Excavator can't block.\\\\\\\\nWhenever Feldon is dealt damage, exile that many cards from the top of your library. Choose one of them. Until the end of your next turn, you may play that card.Haste\\\"] as the commander\"\n",
      "  ]\n",
      "}\n",
      "\u001b[36;1m\u001b[1;3m[llm/end]\u001b[0m \u001b[1m[1:llm:OpenAI] [1.72s] Exiting LLM run with output:\n",
      "\u001b[0m{\n",
      "  \"generations\": [\n",
      "    [\n",
      "      {\n",
      "        \"text\": \"\\n\\nPrototype Replicator - 3\\nArtifact Creature - Construct\\nWhen Prototype Replicator enters the battlefield, create a token that's a copy of target artifact you control.\\nSacrifice Prototype Replicator: Create a token that's a copy of target artifact you control.\\n\\nThis card would fit well in a commander deck with Feldon as the commander because it can create multiple copies of artifacts, which can then be used by Feldon's ability to play them from exile. It also has haste, making it a quick and efficient way to set up a strong board presence. Additionally, it fits the theme of the deck as an artificer, and can be used as a sacrifice option if needed. \",\n",
      "        \"generation_info\": {\n",
      "          \"finish_reason\": \"stop\",\n",
      "          \"logprobs\": null\n",
      "        },\n",
      "        \"type\": \"Generation\"\n",
      "      }\n",
      "    ]\n",
      "  ],\n",
      "  \"llm_output\": {\n",
      "    \"token_usage\": {\n",
      "      \"prompt_tokens\": 83,\n",
      "      \"total_tokens\": 227,\n",
      "      \"completion_tokens\": 144\n",
      "    },\n",
      "    \"model_name\": \"gpt-3.5-turbo-instruct\"\n",
      "  },\n",
      "  \"run\": null\n",
      "}\n",
      "<class 'tuple'>\n",
      "name: Blitz Automaton\n",
      "type: Artifact Creature — Construct\n",
      "text: Prototype {2}{R} — 3/2 (You may cast this spell with different mana cost, color, and size. It keeps its abilities and types.)\\nHaste\n",
      "relevance: 0.6653531193733215\n",
      "name: Tawnos, Solemn Survivor\n",
      "type: Legendary Creature — Human Artificer\n",
      "text: {2}, {T}: Create a token that's a copy of up to one target artifact token you control. Mill two cards.\\n{1}{W}{U}{B}, {T}, Sacrifice two artifact tokens, Exile an artifact or creature card from your graveyard: Create a token that's a copy of the exiled card, except it's an artifact in addition to its other types. Activate only as a sorcery.\n",
      "relevance: 0.6898398995399475\n",
      "name: Urza, Prince of Kroog\n",
      "type: Legendary Creature — Human Artificer\n",
      "text: Artifact creatures you control get +2/+2.\\n{6}: Create a token that's a copy of target artifact you control, except it's a 1/1 Soldier creature in addition to its other types.\n",
      "relevance: 0.7145113945007324\n",
      "name: Brudiclad, Telchor Engineer\n",
      "type: Legendary Artifact Creature — Phyrexian Artificer\n",
      "text: Creature tokens you control have haste.\\nAt the beginning of combat on your turn, create a 2/1 blue Phyrexian Myr artifact creature token. Then you may choose a token you control. If you do, each other token you control becomes a copy of that token.\n",
      "relevance: 0.7389952540397644\n",
      "name: Tawnos, the Toymaker\n",
      "type: Legendary Creature — Human Artificer\n",
      "text: Whenever you cast a Beast or Bird creature spell, you may copy it, except the copy is an artifact in addition to its other types. (The copy becomes a token.)\n",
      "relevance: 0.7462085485458374\n",
      "name: Skitterbeam Battalion\n",
      "type: Artifact Creature — Construct\n",
      "text: Prototype {3}{R}{R} — 2/2 (You may cast this spell with different mana cost, color, and size. It keeps its abilities and types.)\\nTrample, haste\\nWhen Skitterbeam Battalion enters the battlefield, if you cast it, create two tokens that are copies of it.\n",
      "relevance: 0.7636016607284546\n",
      "name: Rust Goliath\n",
      "type: Artifact Creature — Construct\n",
      "text: Prototype {3}{G}{G} — 3/5 (You may cast this spell with different mana cost, color, and size. It keeps its abilities and types.)\\nReach, trample\n",
      "relevance: 0.7750713229179382\n",
      "name: Feldon, Ronom Excavator\n",
      "type: Legendary Creature — Human Artificer\n",
      "text: Haste\\nFeldon, Ronom Excavator can't block.\\nWhenever Feldon is dealt damage, exile that many cards from the top of your library. Choose one of them. Until the end of your next turn, you may play that card.\n",
      "relevance: 0.7782888412475586\n",
      "name: Mishra, Eminent One\n",
      "type: Legendary Creature — Human Artificer\n",
      "text: At the beginning of combat on your turn, create a token that's a copy of target noncreature artifact you control, except its name is Mishra's Warform and it's a 4/4 Construct artifact creature in addition to its other types. It gains haste until end of turn. Sacrifice it at the beginning of the next end step.\n",
      "relevance: 0.7858667373657227\n",
      "name: Mirrorworks\n",
      "type: Artifact\n",
      "text: Whenever another nontoken artifact enters the battlefield under your control, you may pay {2}. If you do, create a token that's a copy of that artifact.\n",
      "relevance: 0.7886369228363037\n"
     ]
    }
   ],
   "source": [
    "def full_hyde_retrieval(card_name: str, df: pl.DataFrame) -> list[Tuple[Document, float]]:\n",
    "    card = query_by_card_name(card_name, df)\n",
    "    if card is None:\n",
    "        return []\n",
    "    return suggest_useful_cards_based_on_commander(card.get(\"page_content\"))\n",
    "\n",
    "print_suggestions(full_hyde_retrieval(\"Feldon, Ronom Excavator\", cleaned_collapsed_df))"
   ]
  }
 ],
 "metadata": {
  "kernelspec": {
   "display_name": "Python 3",
   "language": "python",
   "name": "python3"
  },
  "language_info": {
   "codemirror_mode": {
    "name": "ipython",
    "version": 3
   },
   "file_extension": ".py",
   "mimetype": "text/x-python",
   "name": "python",
   "nbconvert_exporter": "python",
   "pygments_lexer": "ipython3",
   "version": "3.12.0"
  }
 },
 "nbformat": 4,
 "nbformat_minor": 2
}
