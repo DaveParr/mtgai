{
 "cells": [
  {
   "cell_type": "code",
   "execution_count": 12,
   "metadata": {},
   "outputs": [],
   "source": [
    "import polars as pl"
   ]
  },
  {
   "cell_type": "code",
   "execution_count": 3,
   "metadata": {},
   "outputs": [
    {
     "name": "stdout",
     "output_type": "stream",
     "text": [
      "shape: (90_857, 78)\n",
      "┌───────────┬───────────┬───────────┬───────────┬───┬──────────┬───────────┬───────────┬───────────┐\n",
      "│ artist    ┆ artistIds ┆ asciiName ┆ attractio ┆ … ┆ types    ┆ uuid      ┆ variation ┆ watermark │\n",
      "│ ---       ┆ ---       ┆ ---       ┆ nLights   ┆   ┆ ---      ┆ ---       ┆ s         ┆ ---       │\n",
      "│ str       ┆ str       ┆ str       ┆ ---       ┆   ┆ str      ┆ str       ┆ ---       ┆ str       │\n",
      "│           ┆           ┆           ┆ str       ┆   ┆          ┆           ┆ str       ┆           │\n",
      "╞═══════════╪═══════════╪═══════════╪═══════════╪═══╪══════════╪═══════════╪═══════════╪═══════════╡\n",
      "│ Pete      ┆ d54c4a1a- ┆ null      ┆ null      ┆ … ┆ Creature ┆ 5f8287b1- ┆ b7c19924- ┆ null      │\n",
      "│ Venters   ┆ c0c5-4834 ┆           ┆           ┆   ┆          ┆ 5bb6-5f4c ┆ b4bf-56fc ┆           │\n",
      "│           ┆ -84db-125 ┆           ┆           ┆   ┆          ┆ -ad17-316 ┆ -aa73-f58 ┆           │\n",
      "│           ┆ d341f…    ┆           ┆           ┆   ┆          ┆ a40d5…    ┆ 6e940…    ┆           │\n",
      "│ Pete      ┆ d54c4a1a- ┆ null      ┆ null      ┆ … ┆ Creature ┆ b7c19924- ┆ 5f8287b1- ┆ null      │\n",
      "│ Venters   ┆ c0c5-4834 ┆           ┆           ┆   ┆          ┆ b4bf-56fc ┆ 5bb6-5f4c ┆           │\n",
      "│           ┆ -84db-125 ┆           ┆           ┆   ┆          ┆ -aa73-f58 ┆ -ad17-316 ┆           │\n",
      "│           ┆ d341f…    ┆           ┆           ┆   ┆          ┆ 6e940…    ┆ a40d5…    ┆           │\n",
      "│ Volkan    ┆ 93bec3c0- ┆ null      ┆ null      ┆ … ┆ Creature ┆ 57aaebc1- ┆ 8fd4e2eb- ┆ null      │\n",
      "│ Baǵa      ┆ 0260-4d31 ┆           ┆           ┆   ┆          ┆ 850c-503d ┆ 3eb4-50ea ┆           │\n",
      "│           ┆ -8064-5d0 ┆           ┆           ┆   ┆          ┆ -9f6e-bb8 ┆ -856b-ef6 ┆           │\n",
      "│           ┆ 1efb4…    ┆           ┆           ┆   ┆          ┆ d00d8…    ┆ 38fa4…    ┆           │\n",
      "│ Volkan    ┆ 93bec3c0- ┆ null      ┆ null      ┆ … ┆ Creature ┆ 8fd4e2eb- ┆ 57aaebc1- ┆ null      │\n",
      "│ Baǵa      ┆ 0260-4d31 ┆           ┆           ┆   ┆          ┆ 3eb4-50ea ┆ 850c-503d ┆           │\n",
      "│           ┆ -8064-5d0 ┆           ┆           ┆   ┆          ┆ -856b-ef6 ┆ -9f6e-bb8 ┆           │\n",
      "│           ┆ 1efb4…    ┆           ┆           ┆   ┆          ┆ 38fa4…    ┆ d00d8…    ┆           │\n",
      "│ Mark Zug  ┆ 48e2b98c- ┆ null      ┆ null      ┆ … ┆ Sorcery  ┆ 55bd38ca- ┆ c5655330- ┆ null      │\n",
      "│           ┆ 5467-4671 ┆           ┆           ┆   ┆          ┆ dc73-5c06 ┆ 5131-5f40 ┆           │\n",
      "│           ┆ -bd42-4c3 ┆           ┆           ┆   ┆          ┆ -8f80-a6d ┆ -9d3e-054 ┆           │\n",
      "│           ┆ 74611…    ┆           ┆           ┆   ┆          ┆ dd2f4…    ┆ 9d88c…    ┆           │\n",
      "│ …         ┆ …         ┆ …         ┆ …         ┆ … ┆ …        ┆ …         ┆ …         ┆ …         │\n",
      "│ Campbell  ┆ d281eab4- ┆ null      ┆ null      ┆ … ┆ Instant  ┆ 3f492516- ┆ dd604910- ┆ planeswal │\n",
      "│ White     ┆ 463a-4ba8 ┆           ┆           ┆   ┆          ┆ 7767-5ed7 ┆ 0e81-5d56 ┆ ker       │\n",
      "│           ┆ -9039-894 ┆           ┆           ┆   ┆          ┆ -a1d4-e3f ┆ -b022-e08 ┆           │\n",
      "│           ┆ 37379…    ┆           ┆           ┆   ┆          ┆ 7c06a…    ┆ f21de…    ┆           │\n",
      "│ Jason     ┆ 6ed7e669- ┆ null      ┆ null      ┆ … ┆ Sorcery  ┆ 3f9a0369- ┆ d947d9cd- ┆ planeswal │\n",
      "│ Rainville ┆ 579b-443d ┆           ┆           ┆   ┆          ┆ 5fe7-5aee ┆ f855-5496 ┆ ker       │\n",
      "│           ┆ -b223-e5c ┆           ┆           ┆   ┆          ┆ -85fe-3cf ┆ -b5de-880 ┆           │\n",
      "│           ┆ bcb2a…    ┆           ┆           ┆   ┆          ┆ aacd2…    ┆ 06b49…    ┆           │\n",
      "│ Campbell  ┆ d281eab4- ┆ null      ┆ null      ┆ … ┆ Sorcery  ┆ 97577e9e- ┆ dbd65728- ┆ planeswal │\n",
      "│ White     ┆ 463a-4ba8 ┆           ┆           ┆   ┆          ┆ 69a9-5a8b ┆ bba8-536e ┆ ker       │\n",
      "│           ┆ -9039-894 ┆           ┆           ┆   ┆          ┆ -9c24-a72 ┆ -a908-5df ┆           │\n",
      "│           ┆ 37379…    ┆           ┆           ┆   ┆          ┆ 70379…    ┆ a5606…    ┆           │\n",
      "│ Jonas De  ┆ 561ebf9e- ┆ null      ┆ null      ┆ … ┆ Instant  ┆ deb51cbd- ┆ 7ef6cffb- ┆ planeswal │\n",
      "│ Ro        ┆ 8d93-4b57 ┆           ┆           ┆   ┆          ┆ b890-5b2d ┆ 335a-5831 ┆ ker       │\n",
      "│           ┆ -8156-882 ┆           ┆           ┆   ┆          ┆ -9d6f-7b8 ┆ -8319-20b ┆           │\n",
      "│           ┆ 6d0c1…    ┆           ┆           ┆   ┆          ┆ 96e16…    ┆ 6a020…    ┆           │\n",
      "│ Colin     ┆ 9c201dbe- ┆ null      ┆ null      ┆ … ┆ Creature ┆ 46407d93- ┆ f3434acf- ┆ planeswal │\n",
      "│ Boyer     ┆ db56-429a ┆           ┆           ┆   ┆          ┆ df48-5161 ┆ 7796-572c ┆ ker       │\n",
      "│           ┆ -87e6-189 ┆           ┆           ┆   ┆          ┆ -95fe-f24 ┆ -a889-487 ┆           │\n",
      "│           ┆ ea70c…    ┆           ┆           ┆   ┆          ┆ 08674…    ┆ c84cf…    ┆           │\n",
      "└───────────┴───────────┴───────────┴───────────┴───┴──────────┴───────────┴───────────┴───────────┘\n"
     ]
    }
   ],
   "source": [
    "# Read the parquet file\n",
    "df = pl.read_parquet('../data/raw/cards.parquet')\n",
    "\n",
    "# Display the dataframe\n",
    "print(df)\n"
   ]
  },
  {
   "cell_type": "code",
   "execution_count": 4,
   "metadata": {},
   "outputs": [
    {
     "name": "stdout",
     "output_type": "stream",
     "text": [
      "['artist', 'artistIds', 'asciiName', 'attractionLights', 'availability', 'boosterTypes', 'borderColor', 'cardParts', 'colorIdentity', 'colorIndicator', 'colors', 'defense', 'duelDeck', 'edhrecRank', 'edhrecSaltiness', 'faceConvertedManaCost', 'faceFlavorName', 'faceManaValue', 'faceName', 'finishes', 'flavorName', 'flavorText', 'frameEffects', 'frameVersion', 'hand', 'hasAlternativeDeckLimit', 'hasContentWarning', 'hasFoil', 'hasNonFoil', 'isAlternative', 'isFullArt', 'isFunny', 'isOnlineOnly', 'isOversized', 'isPromo', 'isRebalanced', 'isReprint', 'isReserved', 'isStarter', 'isStorySpotlight', 'isTextless', 'isTimeshifted', 'keywords', 'language', 'layout', 'leadershipSkills', 'life', 'loyalty', 'manaCost', 'manaValue', 'name', 'number', 'originalPrintings', 'originalReleaseDate', 'originalText', 'originalType', 'otherFaceIds', 'power', 'printings', 'promoTypes', 'rarity', 'rebalancedPrintings', 'relatedCards', 'securityStamp', 'setCode', 'side', 'signature', 'sourceProducts', 'subsets', 'subtypes', 'supertypes', 'text', 'toughness', 'type', 'types', 'uuid', 'variations', 'watermark']\n"
     ]
    }
   ],
   "source": [
    "print(df.columns)"
   ]
  },
  {
   "cell_type": "code",
   "execution_count": 6,
   "metadata": {},
   "outputs": [
    {
     "data": {
      "text/html": [
       "<div><style>\n",
       ".dataframe > thead > tr,\n",
       ".dataframe > tbody > tr {\n",
       "  text-align: right;\n",
       "  white-space: pre-wrap;\n",
       "}\n",
       "</style>\n",
       "<small>shape: (9, 79)</small><table border=\"1\" class=\"dataframe\"><thead><tr><th>statistic</th><th>artist</th><th>artistIds</th><th>asciiName</th><th>attractionLights</th><th>availability</th><th>boosterTypes</th><th>borderColor</th><th>cardParts</th><th>colorIdentity</th><th>colorIndicator</th><th>colors</th><th>defense</th><th>duelDeck</th><th>edhrecRank</th><th>edhrecSaltiness</th><th>faceConvertedManaCost</th><th>faceFlavorName</th><th>faceManaValue</th><th>faceName</th><th>finishes</th><th>flavorName</th><th>flavorText</th><th>frameEffects</th><th>frameVersion</th><th>hand</th><th>hasAlternativeDeckLimit</th><th>hasContentWarning</th><th>hasFoil</th><th>hasNonFoil</th><th>isAlternative</th><th>isFullArt</th><th>isFunny</th><th>isOnlineOnly</th><th>isOversized</th><th>isPromo</th><th>isRebalanced</th><th>&hellip;</th><th>isTimeshifted</th><th>keywords</th><th>language</th><th>layout</th><th>leadershipSkills</th><th>life</th><th>loyalty</th><th>manaCost</th><th>manaValue</th><th>name</th><th>number</th><th>originalPrintings</th><th>originalReleaseDate</th><th>originalText</th><th>originalType</th><th>otherFaceIds</th><th>power</th><th>printings</th><th>promoTypes</th><th>rarity</th><th>rebalancedPrintings</th><th>relatedCards</th><th>securityStamp</th><th>setCode</th><th>side</th><th>signature</th><th>sourceProducts</th><th>subsets</th><th>subtypes</th><th>supertypes</th><th>text</th><th>toughness</th><th>type</th><th>types</th><th>uuid</th><th>variations</th><th>watermark</th></tr><tr><td>str</td><td>str</td><td>str</td><td>str</td><td>str</td><td>str</td><td>str</td><td>str</td><td>str</td><td>str</td><td>str</td><td>str</td><td>str</td><td>str</td><td>f64</td><td>f64</td><td>f64</td><td>str</td><td>f64</td><td>str</td><td>str</td><td>str</td><td>str</td><td>str</td><td>str</td><td>str</td><td>f64</td><td>f64</td><td>f64</td><td>f64</td><td>f64</td><td>f64</td><td>f64</td><td>f64</td><td>f64</td><td>f64</td><td>f64</td><td>&hellip;</td><td>f64</td><td>str</td><td>str</td><td>str</td><td>str</td><td>str</td><td>str</td><td>str</td><td>f64</td><td>str</td><td>str</td><td>str</td><td>str</td><td>str</td><td>str</td><td>str</td><td>str</td><td>str</td><td>str</td><td>str</td><td>str</td><td>str</td><td>str</td><td>str</td><td>str</td><td>str</td><td>str</td><td>str</td><td>str</td><td>str</td><td>str</td><td>str</td><td>str</td><td>str</td><td>str</td><td>str</td><td>str</td></tr></thead><tbody><tr><td>&quot;count&quot;</td><td>&quot;90849&quot;</td><td>&quot;90849&quot;</td><td>&quot;221&quot;</td><td>&quot;135&quot;</td><td>&quot;90857&quot;</td><td>&quot;48415&quot;</td><td>&quot;90857&quot;</td><td>&quot;18&quot;</td><td>&quot;90857&quot;</td><td>&quot;796&quot;</td><td>&quot;90857&quot;</td><td>&quot;52&quot;</td><td>&quot;1594&quot;</td><td>83844.0</td><td>67820.0</td><td>3395.0</td><td>&quot;20&quot;</td><td>3395.0</td><td>&quot;3573&quot;</td><td>&quot;90857&quot;</td><td>&quot;272&quot;</td><td>&quot;45385&quot;</td><td>&quot;14065&quot;</td><td>&quot;90857&quot;</td><td>&quot;119&quot;</td><td>61.0</td><td>29.0</td><td>90857.0</td><td>90857.0</td><td>6054.0</td><td>1745.0</td><td>1332.0</td><td>8531.0</td><td>619.0</td><td>10424.0</td><td>228.0</td><td>&hellip;</td><td>223.0</td><td>&quot;37117&quot;</td><td>&quot;90857&quot;</td><td>&quot;90857&quot;</td><td>&quot;9988&quot;</td><td>&quot;119&quot;</td><td>&quot;1451&quot;</td><td>&quot;78802&quot;</td><td>90857.0</td><td>&quot;90857&quot;</td><td>&quot;90857&quot;</td><td>&quot;228&quot;</td><td>&quot;9457&quot;</td><td>&quot;53658&quot;</td><td>&quot;54787&quot;</td><td>&quot;3573&quot;</td><td>&quot;43144&quot;</td><td>&quot;90857&quot;</td><td>&quot;17606&quot;</td><td>&quot;90857&quot;</td><td>&quot;347&quot;</td><td>&quot;46&quot;</td><td>&quot;31015&quot;</td><td>&quot;90857&quot;</td><td>&quot;3573&quot;</td><td>&quot;1244&quot;</td><td>&quot;69480&quot;</td><td>&quot;1016&quot;</td><td>&quot;90857&quot;</td><td>&quot;90857&quot;</td><td>&quot;89769&quot;</td><td>&quot;43144&quot;</td><td>&quot;90857&quot;</td><td>&quot;90857&quot;</td><td>&quot;90857&quot;</td><td>&quot;27837&quot;</td><td>&quot;6491&quot;</td></tr><tr><td>&quot;null_count&quot;</td><td>&quot;8&quot;</td><td>&quot;8&quot;</td><td>&quot;90636&quot;</td><td>&quot;90722&quot;</td><td>&quot;0&quot;</td><td>&quot;42442&quot;</td><td>&quot;0&quot;</td><td>&quot;90839&quot;</td><td>&quot;0&quot;</td><td>&quot;90061&quot;</td><td>&quot;0&quot;</td><td>&quot;90805&quot;</td><td>&quot;89263&quot;</td><td>7013.0</td><td>23037.0</td><td>87462.0</td><td>&quot;90837&quot;</td><td>87462.0</td><td>&quot;87284&quot;</td><td>&quot;0&quot;</td><td>&quot;90585&quot;</td><td>&quot;45472&quot;</td><td>&quot;76792&quot;</td><td>&quot;0&quot;</td><td>&quot;90738&quot;</td><td>90796.0</td><td>90828.0</td><td>0.0</td><td>0.0</td><td>84803.0</td><td>89112.0</td><td>89525.0</td><td>82326.0</td><td>90238.0</td><td>80433.0</td><td>90629.0</td><td>&hellip;</td><td>90634.0</td><td>&quot;53740&quot;</td><td>&quot;0&quot;</td><td>&quot;0&quot;</td><td>&quot;80869&quot;</td><td>&quot;90738&quot;</td><td>&quot;89406&quot;</td><td>&quot;12055&quot;</td><td>0.0</td><td>&quot;0&quot;</td><td>&quot;0&quot;</td><td>&quot;90629&quot;</td><td>&quot;81400&quot;</td><td>&quot;37199&quot;</td><td>&quot;36070&quot;</td><td>&quot;87284&quot;</td><td>&quot;47713&quot;</td><td>&quot;0&quot;</td><td>&quot;73251&quot;</td><td>&quot;0&quot;</td><td>&quot;90510&quot;</td><td>&quot;90811&quot;</td><td>&quot;59842&quot;</td><td>&quot;0&quot;</td><td>&quot;87284&quot;</td><td>&quot;89613&quot;</td><td>&quot;21377&quot;</td><td>&quot;89841&quot;</td><td>&quot;0&quot;</td><td>&quot;0&quot;</td><td>&quot;1088&quot;</td><td>&quot;47713&quot;</td><td>&quot;0&quot;</td><td>&quot;0&quot;</td><td>&quot;0&quot;</td><td>&quot;63020&quot;</td><td>&quot;84366&quot;</td></tr><tr><td>&quot;mean&quot;</td><td>null</td><td>null</td><td>null</td><td>null</td><td>null</td><td>null</td><td>null</td><td>null</td><td>null</td><td>null</td><td>null</td><td>null</td><td>null</td><td>10055.72382</td><td>0.332868</td><td>2.233873</td><td>null</td><td>2.233873</td><td>null</td><td>null</td><td>null</td><td>null</td><td>null</td><td>null</td><td>null</td><td>1.0</td><td>1.0</td><td>0.602606</td><td>0.866791</td><td>1.0</td><td>1.0</td><td>1.0</td><td>1.0</td><td>1.0</td><td>1.0</td><td>1.0</td><td>&hellip;</td><td>1.0</td><td>null</td><td>null</td><td>null</td><td>null</td><td>null</td><td>null</td><td>null</td><td>25.0076</td><td>null</td><td>null</td><td>null</td><td>null</td><td>null</td><td>null</td><td>null</td><td>null</td><td>null</td><td>null</td><td>null</td><td>null</td><td>null</td><td>null</td><td>null</td><td>null</td><td>null</td><td>null</td><td>null</td><td>null</td><td>null</td><td>null</td><td>null</td><td>null</td><td>null</td><td>null</td><td>null</td><td>null</td></tr><tr><td>&quot;std&quot;</td><td>null</td><td>null</td><td>null</td><td>null</td><td>null</td><td>null</td><td>null</td><td>null</td><td>null</td><td>null</td><td>null</td><td>null</td><td>null</td><td>7925.170815</td><td>0.328432</td><td>1.997959</td><td>null</td><td>1.997959</td><td>null</td><td>null</td><td>null</td><td>null</td><td>null</td><td>null</td><td>null</td><td>null</td><td>null</td><td>null</td><td>null</td><td>null</td><td>null</td><td>null</td><td>null</td><td>null</td><td>null</td><td>null</td><td>&hellip;</td><td>null</td><td>null</td><td>null</td><td>null</td><td>null</td><td>null</td><td>null</td><td>null</td><td>4691.72069</td><td>null</td><td>null</td><td>null</td><td>null</td><td>null</td><td>null</td><td>null</td><td>null</td><td>null</td><td>null</td><td>null</td><td>null</td><td>null</td><td>null</td><td>null</td><td>null</td><td>null</td><td>null</td><td>null</td><td>null</td><td>null</td><td>null</td><td>null</td><td>null</td><td>null</td><td>null</td><td>null</td><td>null</td></tr><tr><td>&quot;min&quot;</td><td>&quot;A. M. Sartor&quot;</td><td>&quot;00018b26-29e7-…</td><td>&quot;Altair Ibn-La&#x27;…</td><td>&quot;2, 3, 4, 6&quot;</td><td>&quot;arena&quot;</td><td>&quot;deck&quot;</td><td>&quot;black&quot;</td><td>&quot;Gisela, the Br…</td><td>&quot;&quot;</td><td>&quot;B&quot;</td><td>&quot;&quot;</td><td>&quot;3&quot;</td><td>&quot;a&quot;</td><td>1.0</td><td>0.01</td><td>0.0</td><td>&quot;Casket of Nati…</td><td>0.0</td><td>&quot;A-Alrund, God …</td><td>&quot;etched&quot;</td><td>&quot;Abraham Van He…</td><td>&quot;&quot; . . . And th…</td><td>&quot;borderless&quot;</td><td>&quot;1993&quot;</td><td>&quot;+0&quot;</td><td>1.0</td><td>1.0</td><td>0.0</td><td>0.0</td><td>1.0</td><td>1.0</td><td>1.0</td><td>1.0</td><td>1.0</td><td>1.0</td><td>1.0</td><td>&hellip;</td><td>1.0</td><td>&quot;A Thousand Sou…</td><td>&quot;Ancient Greek&quot;</td><td>&quot;adventure&quot;</td><td>&quot;{&quot;brawl&quot;: fals…</td><td>&quot;+0&quot;</td><td>&quot;*&quot;</td><td>&quot;{0}&quot;</td><td>0.0</td><td>&quot;&quot;Ach! Hans, Ru…</td><td>&quot;0&quot;</td><td>&quot;00819278-741b-…</td><td>&quot;1993-11-01&quot;</td><td>&quot;&quot;Until end of …</td><td>&quot;(none)&quot;</td><td>&quot;000a85b2-d96c-…</td><td>&quot;*&quot;</td><td>&quot;10E, 2ED, 2XM,…</td><td>&quot;alchemy&quot;</td><td>&quot;bonus&quot;</td><td>&quot;003dd554-bc55-…</td><td>&quot;{&quot;spellbook&quot;: …</td><td>&quot;acorn&quot;</td><td>&quot;10E&quot;</td><td>&quot;a&quot;</td><td>&quot;Aeo Paquette&quot;</td><td>&quot;{&quot;etched&quot;: [&quot;0…</td><td>&quot;&lt;explosion sou…</td><td>&quot;&quot;</td><td>&quot;&quot;</td><td>&quot;&quot;Lifetime&quot; Pas…</td><td>&quot;*&quot;</td><td>&quot;Artifact&quot;</td><td>&quot;Artifact&quot;</td><td>&quot;00010d56-fe38-…</td><td>&quot;0005fe8b-170d-…</td><td>&quot;abzan&quot;</td></tr><tr><td>&quot;25%&quot;</td><td>null</td><td>null</td><td>null</td><td>null</td><td>null</td><td>null</td><td>null</td><td>null</td><td>null</td><td>null</td><td>null</td><td>null</td><td>null</td><td>2837.0</td><td>0.12</td><td>0.0</td><td>null</td><td>0.0</td><td>null</td><td>null</td><td>null</td><td>null</td><td>null</td><td>null</td><td>null</td><td>null</td><td>null</td><td>null</td><td>null</td><td>null</td><td>null</td><td>null</td><td>null</td><td>null</td><td>null</td><td>null</td><td>&hellip;</td><td>null</td><td>null</td><td>null</td><td>null</td><td>null</td><td>null</td><td>null</td><td>null</td><td>2.0</td><td>null</td><td>null</td><td>null</td><td>null</td><td>null</td><td>null</td><td>null</td><td>null</td><td>null</td><td>null</td><td>null</td><td>null</td><td>null</td><td>null</td><td>null</td><td>null</td><td>null</td><td>null</td><td>null</td><td>null</td><td>null</td><td>null</td><td>null</td><td>null</td><td>null</td><td>null</td><td>null</td><td>null</td></tr><tr><td>&quot;50%&quot;</td><td>null</td><td>null</td><td>null</td><td>null</td><td>null</td><td>null</td><td>null</td><td>null</td><td>null</td><td>null</td><td>null</td><td>null</td><td>null</td><td>8530.0</td><td>0.24</td><td>2.0</td><td>null</td><td>2.0</td><td>null</td><td>null</td><td>null</td><td>null</td><td>null</td><td>null</td><td>null</td><td>null</td><td>null</td><td>null</td><td>null</td><td>null</td><td>null</td><td>null</td><td>null</td><td>null</td><td>null</td><td>null</td><td>&hellip;</td><td>null</td><td>null</td><td>null</td><td>null</td><td>null</td><td>null</td><td>null</td><td>null</td><td>3.0</td><td>null</td><td>null</td><td>null</td><td>null</td><td>null</td><td>null</td><td>null</td><td>null</td><td>null</td><td>null</td><td>null</td><td>null</td><td>null</td><td>null</td><td>null</td><td>null</td><td>null</td><td>null</td><td>null</td><td>null</td><td>null</td><td>null</td><td>null</td><td>null</td><td>null</td><td>null</td><td>null</td><td>null</td></tr><tr><td>&quot;75%&quot;</td><td>null</td><td>null</td><td>null</td><td>null</td><td>null</td><td>null</td><td>null</td><td>null</td><td>null</td><td>null</td><td>null</td><td>null</td><td>null</td><td>16510.0</td><td>0.41</td><td>3.0</td><td>null</td><td>3.0</td><td>null</td><td>null</td><td>null</td><td>null</td><td>null</td><td>null</td><td>null</td><td>null</td><td>null</td><td>null</td><td>null</td><td>null</td><td>null</td><td>null</td><td>null</td><td>null</td><td>null</td><td>null</td><td>&hellip;</td><td>null</td><td>null</td><td>null</td><td>null</td><td>null</td><td>null</td><td>null</td><td>null</td><td>4.0</td><td>null</td><td>null</td><td>null</td><td>null</td><td>null</td><td>null</td><td>null</td><td>null</td><td>null</td><td>null</td><td>null</td><td>null</td><td>null</td><td>null</td><td>null</td><td>null</td><td>null</td><td>null</td><td>null</td><td>null</td><td>null</td><td>null</td><td>null</td><td>null</td><td>null</td><td>null</td><td>null</td><td>null</td></tr><tr><td>&quot;max&quot;</td><td>&quot;王玉群&quot;</td><td>&quot;ffd063ae-c097-…</td><td>&quot;Ugluk of the W…</td><td>&quot;5, 6&quot;</td><td>&quot;shandalar&quot;</td><td>&quot;default&quot;</td><td>&quot;white&quot;</td><td>&quot;Urza, Lord Pro…</td><td>&quot;W&quot;</td><td>&quot;W&quot;</td><td>&quot;W, U&quot;</td><td>&quot;7&quot;</td><td>&quot;b&quot;</td><td>26737.0</td><td>2.99</td><td>11.0</td><td>&quot;The Upside Dow…</td><td>11.0</td><td>&quot;Zoological Stu…</td><td>&quot;nonfoil, signe…</td><td>&quot;Zangief, the R…</td><td>&quot;𓍹𓈎𓃭𓍢𓊪𓂧𓂋𓏏𓆇𓊹𓏏𓆇𓌰𓏏…</td><td>&quot;tombstone&quot;</td><td>&quot;future&quot;</td><td>&quot;-4&quot;</td><td>1.0</td><td>1.0</td><td>1.0</td><td>1.0</td><td>1.0</td><td>1.0</td><td>1.0</td><td>1.0</td><td>1.0</td><td>1.0</td><td>1.0</td><td>&hellip;</td><td>1.0</td><td>&quot;Wither&quot;</td><td>&quot;Spanish&quot;</td><td>&quot;vanguard&quot;</td><td>&quot;{&quot;brawl&quot;: true…</td><td>&quot;-8&quot;</td><td>&quot;X&quot;</td><td>&quot;{X}{Y}{Z}{R}{R…</td><td>1e6</td><td>&quot;Éowyn, Shieldm…</td><td>&quot;we97&quot;</td><td>&quot;ffa1ae56-535f-…</td><td>&quot;2024-10-01&quot;</td><td>&quot;−1: Up to two …</td><td>&quot;o3oB&quot;</td><td>&quot;ffa4a87d-f2e4-…</td><td>&quot;∞&quot;</td><td>&quot;ZNR&quot;</td><td>&quot;wizardsplaynet…</td><td>&quot;uncommon&quot;</td><td>&quot;fdbabaf0-9197-…</td><td>&quot;{&quot;spellbook&quot;: …</td><td>&quot;triangle&quot;</td><td>&quot;ZNR&quot;</td><td>&quot;e&quot;</td><td>&quot;Wolfgang Eder&quot;</td><td>&quot;{&quot;nonfoil&quot;: [&quot;…</td><td>&quot;Year of the Ra…</td><td>&quot;Zubera, Spirit…</td><td>&quot;World&quot;</td><td>&quot;{X}{X}{R}, {T}…</td><td>&quot;?&quot;</td><td>&quot;instant&quot;</td><td>&quot;instant&quot;</td><td>&quot;fffe10ca-d43b-…</td><td>&quot;fffe10ca-d43b-…</td><td>&quot;wpn&quot;</td></tr></tbody></table></div>"
      ],
      "text/plain": [
       "shape: (9, 79)\n",
       "┌────────────┬────────┬────────────┬────────────┬───┬──────────┬───────────┬───────────┬───────────┐\n",
       "│ statistic  ┆ artist ┆ artistIds  ┆ asciiName  ┆ … ┆ types    ┆ uuid      ┆ variation ┆ watermark │\n",
       "│ ---        ┆ ---    ┆ ---        ┆ ---        ┆   ┆ ---      ┆ ---       ┆ s         ┆ ---       │\n",
       "│ str        ┆ str    ┆ str        ┆ str        ┆   ┆ str      ┆ str       ┆ ---       ┆ str       │\n",
       "│            ┆        ┆            ┆            ┆   ┆          ┆           ┆ str       ┆           │\n",
       "╞════════════╪════════╪════════════╪════════════╪═══╪══════════╪═══════════╪═══════════╪═══════════╡\n",
       "│ count      ┆ 90849  ┆ 90849      ┆ 221        ┆ … ┆ 90857    ┆ 90857     ┆ 27837     ┆ 6491      │\n",
       "│ null_count ┆ 8      ┆ 8          ┆ 90636      ┆ … ┆ 0        ┆ 0         ┆ 63020     ┆ 84366     │\n",
       "│ mean       ┆ null   ┆ null       ┆ null       ┆ … ┆ null     ┆ null      ┆ null      ┆ null      │\n",
       "│ std        ┆ null   ┆ null       ┆ null       ┆ … ┆ null     ┆ null      ┆ null      ┆ null      │\n",
       "│ min        ┆ A. M.  ┆ 00018b26-2 ┆ Altair Ibn ┆ … ┆ Artifact ┆ 00010d56- ┆ 0005fe8b- ┆ abzan     │\n",
       "│            ┆ Sartor ┆ 9e7-4545-9 ┆ -La'Ahad   ┆   ┆          ┆ fe38-5e35 ┆ 170d-5381 ┆           │\n",
       "│            ┆        ┆ 15b-382d9c ┆            ┆   ┆          ┆ -8aed-518 ┆ -baaf-3d6 ┆           │\n",
       "│            ┆        ┆ bc…        ┆            ┆   ┆          ┆ 019aa…    ┆ bd580…    ┆           │\n",
       "│ 25%        ┆ null   ┆ null       ┆ null       ┆ … ┆ null     ┆ null      ┆ null      ┆ null      │\n",
       "│ 50%        ┆ null   ┆ null       ┆ null       ┆ … ┆ null     ┆ null      ┆ null      ┆ null      │\n",
       "│ 75%        ┆ null   ┆ null       ┆ null       ┆ … ┆ null     ┆ null      ┆ null      ┆ null      │\n",
       "│ max        ┆ 王玉群 ┆ ffd063ae-c ┆ Ugluk of   ┆ … ┆ instant  ┆ fffe10ca- ┆ fffe10ca- ┆ wpn       │\n",
       "│            ┆        ┆ 097-4f26-b ┆ the White  ┆   ┆          ┆ d43b-5234 ┆ d43b-5234 ┆           │\n",
       "│            ┆        ┆ 2e6-b1e213 ┆ Hand       ┆   ┆          ┆ -b768-201 ┆ -b768-201 ┆           │\n",
       "│            ┆        ┆ 77…        ┆            ┆   ┆          ┆ cc5c2…    ┆ cc5c2…    ┆           │\n",
       "└────────────┴────────┴────────────┴────────────┴───┴──────────┴───────────┴───────────┴───────────┘"
      ]
     },
     "execution_count": 6,
     "metadata": {},
     "output_type": "execute_result"
    }
   ],
   "source": [
    "df.describe()\n"
   ]
  },
  {
   "cell_type": "code",
   "execution_count": 16,
   "metadata": {},
   "outputs": [
    {
     "data": {
      "text/html": [
       "<div><style>\n",
       ".dataframe > thead > tr,\n",
       ".dataframe > tbody > tr {\n",
       "  text-align: right;\n",
       "  white-space: pre-wrap;\n",
       "}\n",
       "</style>\n",
       "<small>shape: (90_857, 3)</small><table border=\"1\" class=\"dataframe\"><thead><tr><th>name</th><th>power</th><th>toughness</th></tr><tr><td>str</td><td>str</td><td>str</td></tr></thead><tbody><tr><td>&quot;Ancestor&#x27;s Cho…</td><td>&quot;4&quot;</td><td>&quot;4&quot;</td></tr><tr><td>&quot;Ancestor&#x27;s Cho…</td><td>&quot;4&quot;</td><td>&quot;4&quot;</td></tr><tr><td>&quot;Angel of Mercy…</td><td>&quot;3&quot;</td><td>&quot;3&quot;</td></tr><tr><td>&quot;Angel of Mercy…</td><td>&quot;3&quot;</td><td>&quot;3&quot;</td></tr><tr><td>&quot;Angelic Blessi…</td><td>null</td><td>null</td></tr><tr><td>&hellip;</td><td>&hellip;</td><td>&hellip;</td></tr><tr><td>&quot;Into the Roil&quot;</td><td>null</td><td>null</td></tr><tr><td>&quot;Bloodchief&#x27;s T…</td><td>null</td><td>null</td></tr><tr><td>&quot;Roil Eruption&quot;</td><td>null</td><td>null</td></tr><tr><td>&quot;Roiling Regrow…</td><td>null</td><td>null</td></tr><tr><td>&quot;Kargan Warlead…</td><td>&quot;3&quot;</td><td>&quot;3&quot;</td></tr></tbody></table></div>"
      ],
      "text/plain": [
       "shape: (90_857, 3)\n",
       "┌─────────────────────┬───────┬───────────┐\n",
       "│ name                ┆ power ┆ toughness │\n",
       "│ ---                 ┆ ---   ┆ ---       │\n",
       "│ str                 ┆ str   ┆ str       │\n",
       "╞═════════════════════╪═══════╪═══════════╡\n",
       "│ Ancestor's Chosen   ┆ 4     ┆ 4         │\n",
       "│ Ancestor's Chosen   ┆ 4     ┆ 4         │\n",
       "│ Angel of Mercy      ┆ 3     ┆ 3         │\n",
       "│ Angel of Mercy      ┆ 3     ┆ 3         │\n",
       "│ Angelic Blessing    ┆ null  ┆ null      │\n",
       "│ …                   ┆ …     ┆ …         │\n",
       "│ Into the Roil       ┆ null  ┆ null      │\n",
       "│ Bloodchief's Thirst ┆ null  ┆ null      │\n",
       "│ Roil Eruption       ┆ null  ┆ null      │\n",
       "│ Roiling Regrowth    ┆ null  ┆ null      │\n",
       "│ Kargan Warleader    ┆ 3     ┆ 3         │\n",
       "└─────────────────────┴───────┴───────────┘"
      ]
     },
     "execution_count": 16,
     "metadata": {},
     "output_type": "execute_result"
    }
   ],
   "source": [
    "df.select([\"name\", \"power\", \"toughness\"])"
   ]
  },
  {
   "cell_type": "code",
   "execution_count": 36,
   "metadata": {},
   "outputs": [
    {
     "data": {
      "text/html": [
       "<div><style>\n",
       ".dataframe > thead > tr,\n",
       ".dataframe > tbody > tr {\n",
       "  text-align: right;\n",
       "  white-space: pre-wrap;\n",
       "}\n",
       "</style>\n",
       "<small>shape: (28_672, 2)</small><table border=\"1\" class=\"dataframe\"><thead><tr><th>name</th><th>len</th></tr><tr><td>str</td><td>u32</td></tr></thead><tbody><tr><td>&quot;Sigardian Pala…</td><td>2</td></tr><tr><td>&quot;Battle Cry&quot;</td><td>1</td></tr><tr><td>&quot;Rift Elemental…</td><td>3</td></tr><tr><td>&quot;Jaya Ballard A…</td><td>1</td></tr><tr><td>&quot;Tethered Skirg…</td><td>1</td></tr><tr><td>&hellip;</td><td>&hellip;</td></tr><tr><td>&quot;Discerning Tas…</td><td>2</td></tr><tr><td>&quot;Armored Wolf-R…</td><td>1</td></tr><tr><td>&quot;Vile Redeemer&quot;</td><td>2</td></tr><tr><td>&quot;Thirsting Shad…</td><td>1</td></tr><tr><td>&quot;Day of the Moo…</td><td>2</td></tr></tbody></table></div>"
      ],
      "text/plain": [
       "shape: (28_672, 2)\n",
       "┌─────────────────────┬─────┐\n",
       "│ name                ┆ len │\n",
       "│ ---                 ┆ --- │\n",
       "│ str                 ┆ u32 │\n",
       "╞═════════════════════╪═════╡\n",
       "│ Sigardian Paladin   ┆ 2   │\n",
       "│ Battle Cry          ┆ 1   │\n",
       "│ Rift Elemental      ┆ 3   │\n",
       "│ Jaya Ballard Avatar ┆ 1   │\n",
       "│ Tethered Skirge     ┆ 1   │\n",
       "│ …                   ┆ …   │\n",
       "│ Discerning Taste    ┆ 2   │\n",
       "│ Armored Wolf-Rider  ┆ 1   │\n",
       "│ Vile Redeemer       ┆ 2   │\n",
       "│ Thirsting Shade     ┆ 1   │\n",
       "│ Day of the Moon     ┆ 2   │\n",
       "└─────────────────────┴─────┘"
      ]
     },
     "execution_count": 36,
     "metadata": {},
     "output_type": "execute_result"
    }
   ],
   "source": [
    "df.group_by([\"name\"]).len()\n"
   ]
  },
  {
   "cell_type": "code",
   "execution_count": 27,
   "metadata": {},
   "outputs": [
    {
     "data": {
      "text/html": [
       "<div><style>\n",
       ".dataframe > thead > tr,\n",
       ".dataframe > tbody > tr {\n",
       "  text-align: right;\n",
       "  white-space: pre-wrap;\n",
       "}\n",
       "</style>\n",
       "<small>shape: (9, 1)</small><table border=\"1\" class=\"dataframe\"><thead><tr><th>setCode</th></tr><tr><td>str</td></tr></thead><tbody><tr><td>&quot;5ED&quot;</td></tr><tr><td>&quot;6ED&quot;</td></tr><tr><td>&quot;BCHR&quot;</td></tr><tr><td>&quot;CHR&quot;</td></tr><tr><td>&quot;LEG&quot;</td></tr><tr><td>&quot;ME3&quot;</td></tr><tr><td>&quot;OLEP&quot;</td></tr><tr><td>&quot;PTC&quot;</td></tr><tr><td>&quot;PTC&quot;</td></tr></tbody></table></div>"
      ],
      "text/plain": [
       "shape: (9, 1)\n",
       "┌─────────┐\n",
       "│ setCode │\n",
       "│ ---     │\n",
       "│ str     │\n",
       "╞═════════╡\n",
       "│ 5ED     │\n",
       "│ 6ED     │\n",
       "│ BCHR    │\n",
       "│ CHR     │\n",
       "│ LEG     │\n",
       "│ ME3     │\n",
       "│ OLEP    │\n",
       "│ PTC     │\n",
       "│ PTC     │\n",
       "└─────────┘"
      ]
     },
     "execution_count": 27,
     "metadata": {},
     "output_type": "execute_result"
    }
   ],
   "source": [
    "df.filter(pl.col(\"name\") == \"Recall\").select(\"setCode\")"
   ]
  },
  {
   "cell_type": "code",
   "execution_count": 49,
   "metadata": {},
   "outputs": [
    {
     "data": {
      "text/html": [
       "<div><style>\n",
       ".dataframe > thead > tr,\n",
       ".dataframe > tbody > tr {\n",
       "  text-align: right;\n",
       "  white-space: pre-wrap;\n",
       "}\n",
       "</style>\n",
       "<small>shape: (268, 78)</small><table border=\"1\" class=\"dataframe\"><thead><tr><th>artist</th><th>artistIds</th><th>asciiName</th><th>attractionLights</th><th>availability</th><th>boosterTypes</th><th>borderColor</th><th>cardParts</th><th>colorIdentity</th><th>colorIndicator</th><th>colors</th><th>defense</th><th>duelDeck</th><th>edhrecRank</th><th>edhrecSaltiness</th><th>faceConvertedManaCost</th><th>faceFlavorName</th><th>faceManaValue</th><th>faceName</th><th>finishes</th><th>flavorName</th><th>flavorText</th><th>frameEffects</th><th>frameVersion</th><th>hand</th><th>hasAlternativeDeckLimit</th><th>hasContentWarning</th><th>hasFoil</th><th>hasNonFoil</th><th>isAlternative</th><th>isFullArt</th><th>isFunny</th><th>isOnlineOnly</th><th>isOversized</th><th>isPromo</th><th>isRebalanced</th><th>isReprint</th><th>&hellip;</th><th>isTimeshifted</th><th>keywords</th><th>language</th><th>layout</th><th>leadershipSkills</th><th>life</th><th>loyalty</th><th>manaCost</th><th>manaValue</th><th>name</th><th>number</th><th>originalPrintings</th><th>originalReleaseDate</th><th>originalText</th><th>originalType</th><th>otherFaceIds</th><th>power</th><th>printings</th><th>promoTypes</th><th>rarity</th><th>rebalancedPrintings</th><th>relatedCards</th><th>securityStamp</th><th>setCode</th><th>side</th><th>signature</th><th>sourceProducts</th><th>subsets</th><th>subtypes</th><th>supertypes</th><th>text</th><th>toughness</th><th>type</th><th>types</th><th>uuid</th><th>variations</th><th>watermark</th></tr><tr><td>str</td><td>str</td><td>str</td><td>str</td><td>str</td><td>str</td><td>str</td><td>str</td><td>str</td><td>str</td><td>str</td><td>str</td><td>str</td><td>f64</td><td>f64</td><td>f64</td><td>str</td><td>f64</td><td>str</td><td>str</td><td>str</td><td>str</td><td>str</td><td>str</td><td>str</td><td>bool</td><td>bool</td><td>bool</td><td>bool</td><td>bool</td><td>bool</td><td>bool</td><td>bool</td><td>bool</td><td>bool</td><td>bool</td><td>bool</td><td>&hellip;</td><td>bool</td><td>str</td><td>str</td><td>str</td><td>str</td><td>str</td><td>str</td><td>str</td><td>f64</td><td>str</td><td>str</td><td>str</td><td>str</td><td>str</td><td>str</td><td>str</td><td>str</td><td>str</td><td>str</td><td>str</td><td>str</td><td>str</td><td>str</td><td>str</td><td>str</td><td>str</td><td>str</td><td>str</td><td>str</td><td>str</td><td>str</td><td>str</td><td>str</td><td>str</td><td>str</td><td>str</td><td>str</td></tr></thead><tbody><tr><td>&quot;Kekai Kotaki&quot;</td><td>&quot;4b771085-c049-…</td><td>null</td><td>null</td><td>&quot;arena, mtgo, p…</td><td>&quot;default&quot;</td><td>&quot;black&quot;</td><td>null</td><td>&quot;U&quot;</td><td>null</td><td>&quot;&quot;</td><td>null</td><td>null</td><td>10705.0</td><td>0.43</td><td>null</td><td>null</td><td>null</td><td>null</td><td>&quot;nonfoil, foil&quot;</td><td>null</td><td>null</td><td>null</td><td>&quot;2015&quot;</td><td>null</td><td>null</td><td>null</td><td>true</td><td>true</td><td>null</td><td>null</td><td>null</td><td>null</td><td>null</td><td>null</td><td>null</td><td>null</td><td>&hellip;</td><td>null</td><td>&quot;Prototype&quot;</td><td>&quot;English&quot;</td><td>&quot;prototype&quot;</td><td>null</td><td>null</td><td>null</td><td>&quot;{7}&quot;</td><td>7.0</td><td>&quot;Arcane Proxy&quot;</td><td>&quot;75&quot;</td><td>null</td><td>null</td><td>null</td><td>null</td><td>null</td><td>&quot;4&quot;</td><td>&quot;BRO, PBRO, PRM…</td><td>null</td><td>&quot;mythic&quot;</td><td>null</td><td>null</td><td>&quot;oval&quot;</td><td>&quot;BRO&quot;</td><td>null</td><td>null</td><td>&quot;{&quot;foil&quot;: [&quot;104…</td><td>null</td><td>&quot;Wizard&quot;</td><td>&quot;&quot;</td><td>&quot;Prototype {1}{…</td><td>&quot;3&quot;</td><td>&quot;Artifact Creat…</td><td>&quot;Artifact, Crea…</td><td>&quot;7047d44f-0eb7-…</td><td>&quot;7a16b020-5aef-…</td><td>null</td></tr><tr><td>&quot;Kekai Kotaki&quot;</td><td>&quot;4b771085-c049-…</td><td>null</td><td>null</td><td>&quot;arena, mtgo, p…</td><td>null</td><td>&quot;black&quot;</td><td>null</td><td>&quot;U&quot;</td><td>null</td><td>&quot;&quot;</td><td>null</td><td>null</td><td>10705.0</td><td>0.43</td><td>null</td><td>null</td><td>null</td><td>null</td><td>&quot;nonfoil, foil&quot;</td><td>null</td><td>null</td><td>&quot;extendedart&quot;</td><td>&quot;2015&quot;</td><td>null</td><td>null</td><td>null</td><td>true</td><td>true</td><td>null</td><td>null</td><td>null</td><td>null</td><td>null</td><td>null</td><td>null</td><td>null</td><td>&hellip;</td><td>null</td><td>&quot;Prototype&quot;</td><td>&quot;English&quot;</td><td>&quot;prototype&quot;</td><td>null</td><td>null</td><td>null</td><td>&quot;{7}&quot;</td><td>7.0</td><td>&quot;Arcane Proxy&quot;</td><td>&quot;319&quot;</td><td>null</td><td>null</td><td>null</td><td>null</td><td>null</td><td>&quot;4&quot;</td><td>&quot;BRO, PBRO, PRM…</td><td>&quot;boosterfun&quot;</td><td>&quot;mythic&quot;</td><td>null</td><td>null</td><td>&quot;oval&quot;</td><td>&quot;BRO&quot;</td><td>null</td><td>null</td><td>&quot;{&quot;foil&quot;: [&quot;5d7…</td><td>null</td><td>&quot;Wizard&quot;</td><td>&quot;&quot;</td><td>&quot;Prototype {1}{…</td><td>&quot;3&quot;</td><td>&quot;Artifact Creat…</td><td>&quot;Artifact, Crea…</td><td>&quot;7a16b020-5aef-…</td><td>&quot;7047d44f-0eb7-…</td><td>null</td></tr><tr><td>&quot;Leon Tukker&quot;</td><td>&quot;669b8b90-758d-…</td><td>null</td><td>null</td><td>&quot;arena, mtgo, p…</td><td>null</td><td>&quot;black&quot;</td><td>null</td><td>&quot;R&quot;</td><td>null</td><td>&quot;&quot;</td><td>null</td><td>null</td><td>14008.0</td><td>0.05</td><td>null</td><td>null</td><td>null</td><td>null</td><td>&quot;nonfoil, foil&quot;</td><td>null</td><td>null</td><td>null</td><td>&quot;2015&quot;</td><td>null</td><td>null</td><td>null</td><td>true</td><td>true</td><td>null</td><td>null</td><td>null</td><td>null</td><td>null</td><td>null</td><td>null</td><td>null</td><td>&hellip;</td><td>null</td><td>&quot;Flying, Uneart…</td><td>&quot;English&quot;</td><td>&quot;normal&quot;</td><td>null</td><td>null</td><td>null</td><td>&quot;{6}&quot;</td><td>6.0</td><td>&quot;Artificer&#x27;s Dr…</td><td>&quot;291&quot;</td><td>null</td><td>null</td><td>null</td><td>null</td><td>null</td><td>&quot;4&quot;</td><td>&quot;BRO, PRM&quot;</td><td>null</td><td>&quot;rare&quot;</td><td>null</td><td>null</td><td>&quot;oval&quot;</td><td>&quot;BRO&quot;</td><td>null</td><td>null</td><td>&quot;{&quot;nonfoil&quot;: [&quot;…</td><td>null</td><td>&quot;Dragon&quot;</td><td>&quot;&quot;</td><td>&quot;Flying\\n{R}: A…</td><td>&quot;4&quot;</td><td>&quot;Artifact Creat…</td><td>&quot;Artifact, Crea…</td><td>&quot;5228982e-997d-…</td><td>&quot;c4a8e16e-d4cc-…</td><td>null</td></tr><tr><td>&quot;Leon Tukker&quot;</td><td>&quot;669b8b90-758d-…</td><td>null</td><td>null</td><td>&quot;arena, mtgo, p…</td><td>null</td><td>&quot;black&quot;</td><td>null</td><td>&quot;R&quot;</td><td>null</td><td>&quot;&quot;</td><td>null</td><td>null</td><td>14008.0</td><td>0.05</td><td>null</td><td>null</td><td>null</td><td>null</td><td>&quot;nonfoil, foil&quot;</td><td>null</td><td>null</td><td>&quot;extendedart&quot;</td><td>&quot;2015&quot;</td><td>null</td><td>null</td><td>null</td><td>true</td><td>true</td><td>null</td><td>null</td><td>null</td><td>null</td><td>null</td><td>null</td><td>null</td><td>null</td><td>&hellip;</td><td>null</td><td>&quot;Flying, Uneart…</td><td>&quot;English&quot;</td><td>&quot;normal&quot;</td><td>null</td><td>null</td><td>null</td><td>&quot;{6}&quot;</td><td>6.0</td><td>&quot;Artificer&#x27;s Dr…</td><td>&quot;376&quot;</td><td>null</td><td>null</td><td>null</td><td>null</td><td>null</td><td>&quot;4&quot;</td><td>&quot;BRO, PRM&quot;</td><td>&quot;boosterfun&quot;</td><td>&quot;rare&quot;</td><td>null</td><td>null</td><td>&quot;oval&quot;</td><td>&quot;BRO&quot;</td><td>null</td><td>null</td><td>&quot;{&quot;foil&quot;: [&quot;5d7…</td><td>null</td><td>&quot;Dragon&quot;</td><td>&quot;&quot;</td><td>&quot;Flying\\n{R}: A…</td><td>&quot;4&quot;</td><td>&quot;Artifact Creat…</td><td>&quot;Artifact, Crea…</td><td>&quot;c4a8e16e-d4cc-…</td><td>&quot;5228982e-997d-…</td><td>null</td></tr><tr><td>&quot;Kieran Yanner&quot;</td><td>&quot;aa7e89ed-d294-…</td><td>null</td><td>null</td><td>&quot;mtgo, paper&quot;</td><td>null</td><td>&quot;black&quot;</td><td>null</td><td>&quot;B, R, U&quot;</td><td>null</td><td>&quot;B, R, U&quot;</td><td>null</td><td>null</td><td>8449.0</td><td>0.33</td><td>null</td><td>null</td><td>null</td><td>null</td><td>&quot;nonfoil, foil&quot;</td><td>null</td><td>null</td><td>null</td><td>&quot;1997&quot;</td><td>null</td><td>null</td><td>null</td><td>true</td><td>true</td><td>null</td><td>null</td><td>null</td><td>null</td><td>null</td><td>null</td><td>null</td><td>null</td><td>&hellip;</td><td>null</td><td>&quot;Deathtouch&quot;</td><td>&quot;English&quot;</td><td>&quot;normal&quot;</td><td>&quot;{&quot;brawl&quot;: fals…</td><td>null</td><td>null</td><td>&quot;{2}{U}{B}{R}&quot;</td><td>5.0</td><td>&quot;Ashnod the Unc…</td><td>&quot;4&quot;</td><td>null</td><td>null</td><td>&quot;Deathtouch\\nWh…</td><td>&quot;Legendary Crea…</td><td>null</td><td>&quot;1&quot;</td><td>&quot;BRC, PRM&quot;</td><td>null</td><td>&quot;mythic&quot;</td><td>null</td><td>null</td><td>null</td><td>&quot;BRC&quot;</td><td>null</td><td>null</td><td>&quot;{&quot;foil&quot;: [&quot;6ed…</td><td>null</td><td>&quot;Human, Artific…</td><td>&quot;Legendary&quot;</td><td>&quot;Deathtouch\\nWh…</td><td>&quot;4&quot;</td><td>&quot;Legendary Crea…</td><td>&quot;Creature&quot;</td><td>&quot;cf08de10-eeba-…</td><td>&quot;40d68e84-5538-…</td><td>&quot;wotc&quot;</td></tr><tr><td>&hellip;</td><td>&hellip;</td><td>&hellip;</td><td>&hellip;</td><td>&hellip;</td><td>&hellip;</td><td>&hellip;</td><td>&hellip;</td><td>&hellip;</td><td>&hellip;</td><td>&hellip;</td><td>&hellip;</td><td>&hellip;</td><td>&hellip;</td><td>&hellip;</td><td>&hellip;</td><td>&hellip;</td><td>&hellip;</td><td>&hellip;</td><td>&hellip;</td><td>&hellip;</td><td>&hellip;</td><td>&hellip;</td><td>&hellip;</td><td>&hellip;</td><td>&hellip;</td><td>&hellip;</td><td>&hellip;</td><td>&hellip;</td><td>&hellip;</td><td>&hellip;</td><td>&hellip;</td><td>&hellip;</td><td>&hellip;</td><td>&hellip;</td><td>&hellip;</td><td>&hellip;</td><td>&hellip;</td><td>&hellip;</td><td>&hellip;</td><td>&hellip;</td><td>&hellip;</td><td>&hellip;</td><td>&hellip;</td><td>&hellip;</td><td>&hellip;</td><td>&hellip;</td><td>&hellip;</td><td>&hellip;</td><td>&hellip;</td><td>&hellip;</td><td>&hellip;</td><td>&hellip;</td><td>&hellip;</td><td>&hellip;</td><td>&hellip;</td><td>&hellip;</td><td>&hellip;</td><td>&hellip;</td><td>&hellip;</td><td>&hellip;</td><td>&hellip;</td><td>&hellip;</td><td>&hellip;</td><td>&hellip;</td><td>&hellip;</td><td>&hellip;</td><td>&hellip;</td><td>&hellip;</td><td>&hellip;</td><td>&hellip;</td><td>&hellip;</td><td>&hellip;</td><td>&hellip;</td><td>&hellip;</td></tr><tr><td>&quot;Evan Shipard&quot;</td><td>&quot;eea284ce-9377-…</td><td>null</td><td>null</td><td>&quot;paper&quot;</td><td>null</td><td>&quot;black&quot;</td><td>null</td><td>&quot;&quot;</td><td>null</td><td>&quot;&quot;</td><td>null</td><td>null</td><td>4829.0</td><td>0.5</td><td>null</td><td>null</td><td>null</td><td>null</td><td>&quot;nonfoil&quot;</td><td>null</td><td>null</td><td>&quot;extendedart&quot;</td><td>&quot;2015&quot;</td><td>null</td><td>null</td><td>null</td><td>false</td><td>true</td><td>null</td><td>null</td><td>null</td><td>null</td><td>null</td><td>null</td><td>null</td><td>null</td><td>&hellip;</td><td>null</td><td>&quot;Mill&quot;</td><td>&quot;English&quot;</td><td>&quot;normal&quot;</td><td>null</td><td>null</td><td>null</td><td>&quot;{7}&quot;</td><td>7.0</td><td>&quot;Wondrous Cruci…</td><td>&quot;67&quot;</td><td>null</td><td>null</td><td>&quot;Permanents you…</td><td>&quot;Artifact&quot;</td><td>null</td><td>null</td><td>&quot;BRC, PRM&quot;</td><td>&quot;boosterfun&quot;</td><td>&quot;rare&quot;</td><td>null</td><td>null</td><td>&quot;oval&quot;</td><td>&quot;BRC&quot;</td><td>null</td><td>null</td><td>&quot;{&quot;nonfoil&quot;: [&quot;…</td><td>null</td><td>&quot;&quot;</td><td>&quot;&quot;</td><td>&quot;Permanents you…</td><td>null</td><td>&quot;Artifact&quot;</td><td>&quot;Artifact&quot;</td><td>&quot;78bfcb1a-4379-…</td><td>&quot;1c283607-16fc-…</td><td>null</td></tr><tr><td>&quot;Ryan Pancoast&quot;</td><td>&quot;89cc9475-dda2-…</td><td>null</td><td>null</td><td>&quot;arena, mtgo, p…</td><td>null</td><td>&quot;black&quot;</td><td>null</td><td>&quot;G&quot;</td><td>null</td><td>&quot;&quot;</td><td>null</td><td>null</td><td>15438.0</td><td>null</td><td>null</td><td>null</td><td>null</td><td>null</td><td>&quot;nonfoil, foil&quot;</td><td>null</td><td>null</td><td>null</td><td>&quot;2015&quot;</td><td>null</td><td>null</td><td>null</td><td>true</td><td>true</td><td>null</td><td>null</td><td>null</td><td>null</td><td>null</td><td>null</td><td>null</td><td>null</td><td>&hellip;</td><td>null</td><td>&quot;Prototype&quot;</td><td>&quot;English&quot;</td><td>&quot;prototype&quot;</td><td>null</td><td>null</td><td>null</td><td>&quot;{10}&quot;</td><td>10.0</td><td>&quot;Woodcaller Aut…</td><td>&quot;292&quot;</td><td>null</td><td>null</td><td>null</td><td>null</td><td>null</td><td>&quot;8&quot;</td><td>&quot;BRO, PRM&quot;</td><td>null</td><td>&quot;rare&quot;</td><td>null</td><td>null</td><td>&quot;oval&quot;</td><td>&quot;BRO&quot;</td><td>null</td><td>null</td><td>&quot;{&quot;nonfoil&quot;: [&quot;…</td><td>null</td><td>&quot;Construct&quot;</td><td>&quot;&quot;</td><td>&quot;Prototype {2}{…</td><td>&quot;8&quot;</td><td>&quot;Artifact Creat…</td><td>&quot;Artifact, Crea…</td><td>&quot;a89e0ffd-5b3b-…</td><td>&quot;135aeec4-f811-…</td><td>null</td></tr><tr><td>&quot;Ryan Pancoast&quot;</td><td>&quot;89cc9475-dda2-…</td><td>null</td><td>null</td><td>&quot;arena, mtgo, p…</td><td>null</td><td>&quot;black&quot;</td><td>null</td><td>&quot;G&quot;</td><td>null</td><td>&quot;&quot;</td><td>null</td><td>null</td><td>15438.0</td><td>null</td><td>null</td><td>null</td><td>null</td><td>null</td><td>&quot;nonfoil, foil&quot;</td><td>null</td><td>null</td><td>&quot;extendedart&quot;</td><td>&quot;2015&quot;</td><td>null</td><td>null</td><td>null</td><td>true</td><td>true</td><td>null</td><td>null</td><td>null</td><td>null</td><td>null</td><td>null</td><td>null</td><td>null</td><td>&hellip;</td><td>null</td><td>&quot;Prototype&quot;</td><td>&quot;English&quot;</td><td>&quot;prototype&quot;</td><td>null</td><td>null</td><td>null</td><td>&quot;{10}&quot;</td><td>10.0</td><td>&quot;Woodcaller Aut…</td><td>&quot;377&quot;</td><td>null</td><td>null</td><td>null</td><td>null</td><td>null</td><td>&quot;8&quot;</td><td>&quot;BRO, PRM&quot;</td><td>&quot;boosterfun&quot;</td><td>&quot;rare&quot;</td><td>null</td><td>null</td><td>&quot;oval&quot;</td><td>&quot;BRO&quot;</td><td>null</td><td>null</td><td>&quot;{&quot;foil&quot;: [&quot;5d7…</td><td>null</td><td>&quot;Construct&quot;</td><td>&quot;&quot;</td><td>&quot;Prototype {2}{…</td><td>&quot;8&quot;</td><td>&quot;Artifact Creat…</td><td>&quot;Artifact, Crea…</td><td>&quot;135aeec4-f811-…</td><td>&quot;a89e0ffd-5b3b-…</td><td>null</td></tr><tr><td>&quot;Josu Hernaiz&quot;</td><td>&quot;74246024-92b4-…</td><td>null</td><td>null</td><td>&quot;mtgo, paper&quot;</td><td>null</td><td>&quot;black&quot;</td><td>null</td><td>&quot;B&quot;</td><td>null</td><td>&quot;B&quot;</td><td>null</td><td>null</td><td>11358.0</td><td>0.11</td><td>null</td><td>null</td><td>null</td><td>null</td><td>&quot;nonfoil&quot;</td><td>null</td><td>null</td><td>null</td><td>&quot;1997&quot;</td><td>null</td><td>null</td><td>null</td><td>false</td><td>true</td><td>null</td><td>null</td><td>null</td><td>null</td><td>null</td><td>null</td><td>null</td><td>null</td><td>&hellip;</td><td>null</td><td>&quot;Flash&quot;</td><td>&quot;English&quot;</td><td>&quot;normal&quot;</td><td>null</td><td>null</td><td>null</td><td>&quot;{B}{B}&quot;</td><td>2.0</td><td>&quot;Wreck Hunter&quot;</td><td>&quot;11&quot;</td><td>null</td><td>null</td><td>&quot;Flash\\nWhen Wr…</td><td>&quot;Creature — Hum…</td><td>null</td><td>&quot;2&quot;</td><td>&quot;BRC, PRM&quot;</td><td>null</td><td>&quot;rare&quot;</td><td>null</td><td>null</td><td>null</td><td>&quot;BRC&quot;</td><td>null</td><td>null</td><td>&quot;{&quot;nonfoil&quot;: [&quot;…</td><td>null</td><td>&quot;Human, Artific…</td><td>&quot;&quot;</td><td>&quot;Flash\\nWhen Wr…</td><td>&quot;2&quot;</td><td>&quot;Creature — Hum…</td><td>&quot;Creature&quot;</td><td>&quot;7f1f230b-9036-…</td><td>&quot;45ac6c4c-907e-…</td><td>null</td></tr><tr><td>&quot;Josu Hernaiz&quot;</td><td>&quot;74246024-92b4-…</td><td>null</td><td>null</td><td>&quot;paper&quot;</td><td>null</td><td>&quot;black&quot;</td><td>null</td><td>&quot;B&quot;</td><td>null</td><td>&quot;B&quot;</td><td>null</td><td>null</td><td>11358.0</td><td>0.11</td><td>null</td><td>null</td><td>null</td><td>null</td><td>&quot;nonfoil&quot;</td><td>null</td><td>null</td><td>&quot;extendedart&quot;</td><td>&quot;2015&quot;</td><td>null</td><td>null</td><td>null</td><td>false</td><td>true</td><td>null</td><td>null</td><td>null</td><td>null</td><td>null</td><td>null</td><td>null</td><td>null</td><td>&hellip;</td><td>null</td><td>&quot;Flash&quot;</td><td>&quot;English&quot;</td><td>&quot;normal&quot;</td><td>null</td><td>null</td><td>null</td><td>&quot;{B}{B}&quot;</td><td>2.0</td><td>&quot;Wreck Hunter&quot;</td><td>&quot;58&quot;</td><td>null</td><td>null</td><td>&quot;Flash\\nWhen Wr…</td><td>&quot;Creature — Hum…</td><td>null</td><td>&quot;2&quot;</td><td>&quot;BRC, PRM&quot;</td><td>&quot;boosterfun&quot;</td><td>&quot;rare&quot;</td><td>null</td><td>null</td><td>&quot;oval&quot;</td><td>&quot;BRC&quot;</td><td>null</td><td>null</td><td>&quot;{&quot;nonfoil&quot;: [&quot;…</td><td>null</td><td>&quot;Human, Artific…</td><td>&quot;&quot;</td><td>&quot;Flash\\nWhen Wr…</td><td>&quot;2&quot;</td><td>&quot;Creature — Hum…</td><td>&quot;Creature&quot;</td><td>&quot;45ac6c4c-907e-…</td><td>&quot;7f1f230b-9036-…</td><td>null</td></tr></tbody></table></div>"
      ],
      "text/plain": [
       "shape: (268, 78)\n",
       "┌───────────┬───────────┬───────────┬───────────┬───┬───────────┬───────────┬───────────┬──────────┐\n",
       "│ artist    ┆ artistIds ┆ asciiName ┆ attractio ┆ … ┆ types     ┆ uuid      ┆ variation ┆ watermar │\n",
       "│ ---       ┆ ---       ┆ ---       ┆ nLights   ┆   ┆ ---       ┆ ---       ┆ s         ┆ k        │\n",
       "│ str       ┆ str       ┆ str       ┆ ---       ┆   ┆ str       ┆ str       ┆ ---       ┆ ---      │\n",
       "│           ┆           ┆           ┆ str       ┆   ┆           ┆           ┆ str       ┆ str      │\n",
       "╞═══════════╪═══════════╪═══════════╪═══════════╪═══╪═══════════╪═══════════╪═══════════╪══════════╡\n",
       "│ Kekai     ┆ 4b771085- ┆ null      ┆ null      ┆ … ┆ Artifact, ┆ 7047d44f- ┆ 7a16b020- ┆ null     │\n",
       "│ Kotaki    ┆ c049-4308 ┆           ┆           ┆   ┆ Creature  ┆ 0eb7-5a0b ┆ 5aef-5d65 ┆          │\n",
       "│           ┆ -930d-ec9 ┆           ┆           ┆   ┆           ┆ -9a2b-7ef ┆ -bcae-69d ┆          │\n",
       "│           ┆ 665f8…    ┆           ┆           ┆   ┆           ┆ 51448…    ┆ e0509…    ┆          │\n",
       "│ Kekai     ┆ 4b771085- ┆ null      ┆ null      ┆ … ┆ Artifact, ┆ 7a16b020- ┆ 7047d44f- ┆ null     │\n",
       "│ Kotaki    ┆ c049-4308 ┆           ┆           ┆   ┆ Creature  ┆ 5aef-5d65 ┆ 0eb7-5a0b ┆          │\n",
       "│           ┆ -930d-ec9 ┆           ┆           ┆   ┆           ┆ -bcae-69d ┆ -9a2b-7ef ┆          │\n",
       "│           ┆ 665f8…    ┆           ┆           ┆   ┆           ┆ e0509…    ┆ 51448…    ┆          │\n",
       "│ Leon      ┆ 669b8b90- ┆ null      ┆ null      ┆ … ┆ Artifact, ┆ 5228982e- ┆ c4a8e16e- ┆ null     │\n",
       "│ Tukker    ┆ 758d-4f9e ┆           ┆           ┆   ┆ Creature  ┆ 997d-5edc ┆ d4cc-5e46 ┆          │\n",
       "│           ┆ -b4f7-98c ┆           ┆           ┆   ┆           ┆ -9d3d-a29 ┆ -945e-771 ┆          │\n",
       "│           ┆ d6742…    ┆           ┆           ┆   ┆           ┆ 25250…    ┆ 7007d…    ┆          │\n",
       "│ Leon      ┆ 669b8b90- ┆ null      ┆ null      ┆ … ┆ Artifact, ┆ c4a8e16e- ┆ 5228982e- ┆ null     │\n",
       "│ Tukker    ┆ 758d-4f9e ┆           ┆           ┆   ┆ Creature  ┆ d4cc-5e46 ┆ 997d-5edc ┆          │\n",
       "│           ┆ -b4f7-98c ┆           ┆           ┆   ┆           ┆ -945e-771 ┆ -9d3d-a29 ┆          │\n",
       "│           ┆ d6742…    ┆           ┆           ┆   ┆           ┆ 7007d…    ┆ 25250…    ┆          │\n",
       "│ Kieran    ┆ aa7e89ed- ┆ null      ┆ null      ┆ … ┆ Creature  ┆ cf08de10- ┆ 40d68e84- ┆ wotc     │\n",
       "│ Yanner    ┆ d294-4633 ┆           ┆           ┆   ┆           ┆ eeba-542e ┆ 5538-599e ┆          │\n",
       "│           ┆ -9057-ce0 ┆           ┆           ┆   ┆           ┆ -ad88-21f ┆ -a47b-595 ┆          │\n",
       "│           ┆ 4dacf…    ┆           ┆           ┆   ┆           ┆ 3b1ff…    ┆ a0815…    ┆          │\n",
       "│ …         ┆ …         ┆ …         ┆ …         ┆ … ┆ …         ┆ …         ┆ …         ┆ …        │\n",
       "│ Evan      ┆ eea284ce- ┆ null      ┆ null      ┆ … ┆ Artifact  ┆ 78bfcb1a- ┆ 1c283607- ┆ null     │\n",
       "│ Shipard   ┆ 9377-49c1 ┆           ┆           ┆   ┆           ┆ 4379-5731 ┆ 16fc-51e1 ┆          │\n",
       "│           ┆ -9d96-f34 ┆           ┆           ┆   ┆           ┆ -a4cb-7b3 ┆ -8d57-212 ┆          │\n",
       "│           ┆ b7d48…    ┆           ┆           ┆   ┆           ┆ b81ec…    ┆ 442be…    ┆          │\n",
       "│ Ryan      ┆ 89cc9475- ┆ null      ┆ null      ┆ … ┆ Artifact, ┆ a89e0ffd- ┆ 135aeec4- ┆ null     │\n",
       "│ Pancoast  ┆ dda2-4d13 ┆           ┆           ┆   ┆ Creature  ┆ 5b3b-5227 ┆ f811-5944 ┆          │\n",
       "│           ┆ -bf88-54b ┆           ┆           ┆   ┆           ┆ -8818-e42 ┆ -afca-a45 ┆          │\n",
       "│           ┆ 92867…    ┆           ┆           ┆   ┆           ┆ 70e8f…    ┆ f163c…    ┆          │\n",
       "│ Ryan      ┆ 89cc9475- ┆ null      ┆ null      ┆ … ┆ Artifact, ┆ 135aeec4- ┆ a89e0ffd- ┆ null     │\n",
       "│ Pancoast  ┆ dda2-4d13 ┆           ┆           ┆   ┆ Creature  ┆ f811-5944 ┆ 5b3b-5227 ┆          │\n",
       "│           ┆ -bf88-54b ┆           ┆           ┆   ┆           ┆ -afca-a45 ┆ -8818-e42 ┆          │\n",
       "│           ┆ 92867…    ┆           ┆           ┆   ┆           ┆ f163c…    ┆ 70e8f…    ┆          │\n",
       "│ Josu      ┆ 74246024- ┆ null      ┆ null      ┆ … ┆ Creature  ┆ 7f1f230b- ┆ 45ac6c4c- ┆ null     │\n",
       "│ Hernaiz   ┆ 92b4-43d0 ┆           ┆           ┆   ┆           ┆ 9036-5672 ┆ 907e-57b2 ┆          │\n",
       "│           ┆ -a5af-a3f ┆           ┆           ┆   ┆           ┆ -926f-4d8 ┆ -8564-15e ┆          │\n",
       "│           ┆ 9f2a3…    ┆           ┆           ┆   ┆           ┆ 1da7c…    ┆ 516fe…    ┆          │\n",
       "│ Josu      ┆ 74246024- ┆ null      ┆ null      ┆ … ┆ Creature  ┆ 45ac6c4c- ┆ 7f1f230b- ┆ null     │\n",
       "│ Hernaiz   ┆ 92b4-43d0 ┆           ┆           ┆   ┆           ┆ 907e-57b2 ┆ 9036-5672 ┆          │\n",
       "│           ┆ -a5af-a3f ┆           ┆           ┆   ┆           ┆ -8564-15e ┆ -926f-4d8 ┆          │\n",
       "│           ┆ 9f2a3…    ┆           ┆           ┆   ┆           ┆ 516fe…    ┆ 1da7c…    ┆          │\n",
       "└───────────┴───────────┴───────────┴───────────┴───┴───────────┴───────────┴───────────┴──────────┘"
      ]
     },
     "execution_count": 49,
     "metadata": {},
     "output_type": "execute_result"
    }
   ],
   "source": [
    "brothers_war_cards = df.filter(pl.col(\"setCode\").is_in([\"BRO\", \"BRC\"]))\n",
    "\n",
    "duplicated_brothers_war_cards = brothers_war_cards.filter(pl.col(\"setCode\").is_in([\"BRO\", \"BRC\"])).group_by(\"name\").len().filter(pl.col(\"len\") > 1)\n",
    "\n",
    "brothers_war_cards.filter(pl.col(\"name\").is_in(duplicated_brothers_war_cards[\"name\"])).sort(\"name\")"
   ]
  },
  {
   "cell_type": "markdown",
   "metadata": {},
   "source": [
    "['artist', 'artistIds', 'asciiName', 'attractionLights', 'availability', 'boosterTypes', 'borderColor', 'cardParts', 'colorIdentity', 'colorIndicator', 'colors', 'defense', 'duelDeck', 'edhrecRank', 'edhrecSaltiness', 'faceConvertedManaCost', 'faceFlavorName', 'faceManaValue', 'faceName', 'finishes', 'flavorName', 'flavorText', 'frameEffects', 'frameVersion', 'hand', 'hasAlternativeDeckLimit', 'hasContentWarning', 'hasFoil', 'hasNonFoil', 'isAlternative', 'isFullArt', 'isFunny', 'isOnlineOnly', 'isOversized', 'isPromo', 'isRebalanced', 'isReprint', 'isReserved', 'isStarter', 'isStorySpotlight', 'isTextless', 'isTimeshifted', 'keywords', 'language', 'layout', 'leadershipSkills', 'life', 'loyalty', 'manaCost', 'manaValue', 'name', 'number', 'originalPrintings', 'originalReleaseDate', 'originalText', 'originalType', 'otherFaceIds', 'power', 'printings', 'promoTypes', 'rarity', 'rebalancedPrintings', 'relatedCards', 'securityStamp', 'setCode', 'side', 'signature', 'sourceProducts', 'subsets', 'subtypes', 'supertypes', 'text', 'toughness', 'type', 'types', 'uuid', 'variations', 'watermark']\n"
   ]
  },
  {
   "cell_type": "code",
   "execution_count": 54,
   "metadata": {},
   "outputs": [
    {
     "data": {
      "text/html": [
       "<div><style>\n",
       ".dataframe > thead > tr,\n",
       ".dataframe > tbody > tr {\n",
       "  text-align: right;\n",
       "  white-space: pre-wrap;\n",
       "}\n",
       "</style>\n",
       "<small>shape: (469, 20)</small><table border=\"1\" class=\"dataframe\"><thead><tr><th>name</th><th>colorIdentity</th><th>colors</th><th>edhrecRank</th><th>edhrecSaltiness</th><th>faceConvertedManaCost</th><th>keywords</th><th>loyalty</th><th>manaCost</th><th>manaValue</th><th>number</th><th>power</th><th>rarity</th><th>setCode</th><th>subtypes</th><th>supertypes</th><th>toughness</th><th>type</th><th>types</th><th>uuid</th></tr><tr><td>str</td><td>str</td><td>str</td><td>f64</td><td>f64</td><td>f64</td><td>str</td><td>str</td><td>str</td><td>f64</td><td>str</td><td>str</td><td>str</td><td>str</td><td>str</td><td>str</td><td>str</td><td>str</td><td>str</td><td>str</td></tr></thead><tbody><tr><td>&quot;Vedalken Humil…</td><td>&quot;U&quot;</td><td>&quot;U&quot;</td><td>5635.0</td><td>0.38</td><td>null</td><td>&quot;Metalcraft&quot;</td><td>null</td><td>&quot;{3}{U}&quot;</td><td>4.0</td><td>&quot;100&quot;</td><td>&quot;3&quot;</td><td>&quot;rare&quot;</td><td>&quot;BRC&quot;</td><td>&quot;Vedalken, Wiza…</td><td>&quot;&quot;</td><td>&quot;4&quot;</td><td>&quot;Creature — Ved…</td><td>&quot;Creature&quot;</td><td>&quot;09084e39-92ad-…</td></tr><tr><td>&quot;Armix, Filigre…</td><td>&quot;B&quot;</td><td>&quot;B&quot;</td><td>3670.0</td><td>0.28</td><td>null</td><td>&quot;Partner&quot;</td><td>null</td><td>&quot;{2}{B}&quot;</td><td>3.0</td><td>&quot;103&quot;</td><td>&quot;3&quot;</td><td>&quot;uncommon&quot;</td><td>&quot;BRC&quot;</td><td>&quot;Golem&quot;</td><td>&quot;Legendary&quot;</td><td>&quot;2&quot;</td><td>&quot;Legendary Arti…</td><td>&quot;Artifact, Crea…</td><td>&quot;d46fea1f-e83b-…</td></tr><tr><td>&quot;Gurgling Anoin…</td><td>&quot;B&quot;</td><td>&quot;B&quot;</td><td>9237.0</td><td>0.22</td><td>null</td><td>&quot;Flying&quot;</td><td>null</td><td>&quot;{2}{B}&quot;</td><td>3.0</td><td>&quot;104&quot;</td><td>&quot;1&quot;</td><td>&quot;uncommon&quot;</td><td>&quot;BRO&quot;</td><td>&quot;Phyrexian, Hor…</td><td>&quot;&quot;</td><td>&quot;3&quot;</td><td>&quot;Creature — Phy…</td><td>&quot;Creature&quot;</td><td>&quot;06ac58c4-0646-…</td></tr><tr><td>&quot;Herald of Angu…</td><td>&quot;B&quot;</td><td>&quot;B&quot;</td><td>6503.0</td><td>0.45</td><td>null</td><td>&quot;Flying, Improv…</td><td>null</td><td>&quot;{5}{B}{B}&quot;</td><td>7.0</td><td>&quot;108&quot;</td><td>&quot;5&quot;</td><td>&quot;mythic&quot;</td><td>&quot;BRC&quot;</td><td>&quot;Demon&quot;</td><td>&quot;&quot;</td><td>&quot;5&quot;</td><td>&quot;Creature — Dem…</td><td>&quot;Creature&quot;</td><td>&quot;fad6e56e-10b0-…</td></tr><tr><td>&quot;No One Left Be…</td><td>&quot;B&quot;</td><td>&quot;B&quot;</td><td>10293.0</td><td>0.07</td><td>null</td><td>null</td><td>null</td><td>&quot;{4}{B}&quot;</td><td>5.0</td><td>&quot;109&quot;</td><td>null</td><td>&quot;uncommon&quot;</td><td>&quot;BRO&quot;</td><td>&quot;&quot;</td><td>&quot;&quot;</td><td>null</td><td>&quot;Sorcery&quot;</td><td>&quot;Sorcery&quot;</td><td>&quot;a188e94b-90ab-…</td></tr><tr><td>&hellip;</td><td>&hellip;</td><td>&hellip;</td><td>&hellip;</td><td>&hellip;</td><td>&hellip;</td><td>&hellip;</td><td>&hellip;</td><td>&hellip;</td><td>&hellip;</td><td>&hellip;</td><td>&hellip;</td><td>&hellip;</td><td>&hellip;</td><td>&hellip;</td><td>&hellip;</td><td>&hellip;</td><td>&hellip;</td><td>&hellip;</td><td>&hellip;</td></tr><tr><td>&quot;Sharding Sphin…</td><td>&quot;U&quot;</td><td>&quot;U&quot;</td><td>2745.0</td><td>0.29</td><td>null</td><td>&quot;Flying&quot;</td><td>null</td><td>&quot;{4}{U}{U}&quot;</td><td>6.0</td><td>&quot;94&quot;</td><td>&quot;4&quot;</td><td>&quot;rare&quot;</td><td>&quot;BRC&quot;</td><td>&quot;Sphinx&quot;</td><td>&quot;&quot;</td><td>&quot;4&quot;</td><td>&quot;Artifact Creat…</td><td>&quot;Artifact, Crea…</td><td>&quot;00fee3dc-2e24-…</td></tr><tr><td>&quot;Thought Monito…</td><td>&quot;U&quot;</td><td>&quot;U&quot;</td><td>1067.0</td><td>0.2</td><td>null</td><td>&quot;Affinity, Flyi…</td><td>null</td><td>&quot;{6}{U}&quot;</td><td>7.0</td><td>&quot;98&quot;</td><td>&quot;2&quot;</td><td>&quot;rare&quot;</td><td>&quot;BRC&quot;</td><td>&quot;Construct&quot;</td><td>&quot;&quot;</td><td>&quot;2&quot;</td><td>&quot;Artifact Creat…</td><td>&quot;Artifact, Crea…</td><td>&quot;24878db9-28d3-…</td></tr><tr><td>&quot;Gixian Infiltr…</td><td>&quot;B&quot;</td><td>&quot;B&quot;</td><td>11630.0</td><td>0.05</td><td>null</td><td>null</td><td>null</td><td>&quot;{1}{B}&quot;</td><td>2.0</td><td>&quot;98&quot;</td><td>&quot;2&quot;</td><td>&quot;common&quot;</td><td>&quot;BRO&quot;</td><td>&quot;Phyrexian, Hum…</td><td>&quot;&quot;</td><td>&quot;1&quot;</td><td>&quot;Creature — Phy…</td><td>&quot;Creature&quot;</td><td>&quot;e0a113c6-8557-…</td></tr><tr><td>&quot;Thoughtcast&quot;</td><td>&quot;U&quot;</td><td>&quot;U&quot;</td><td>941.0</td><td>0.25</td><td>null</td><td>&quot;Affinity&quot;</td><td>null</td><td>&quot;{4}{U}&quot;</td><td>5.0</td><td>&quot;99&quot;</td><td>null</td><td>&quot;common&quot;</td><td>&quot;BRC&quot;</td><td>&quot;&quot;</td><td>&quot;&quot;</td><td>null</td><td>&quot;Sorcery&quot;</td><td>&quot;Sorcery&quot;</td><td>&quot;a4550383-2a51-…</td></tr><tr><td>&quot;A-Haywire Mite…</td><td>&quot;G&quot;</td><td>&quot;&quot;</td><td>null</td><td>null</td><td>null</td><td>null</td><td>null</td><td>&quot;{1}&quot;</td><td>1.0</td><td>&quot;A-199&quot;</td><td>&quot;1&quot;</td><td>&quot;uncommon&quot;</td><td>&quot;BRO&quot;</td><td>&quot;Insect&quot;</td><td>&quot;&quot;</td><td>&quot;2&quot;</td><td>&quot;Artifact Creat…</td><td>&quot;Artifact, Crea…</td><td>&quot;f0737feb-71aa-…</td></tr></tbody></table></div>"
      ],
      "text/plain": [
       "shape: (469, 20)\n",
       "┌────────────┬────────────┬────────┬───────────┬───┬───────────┬───────────┬───────────┬───────────┐\n",
       "│ name       ┆ colorIdent ┆ colors ┆ edhrecRan ┆ … ┆ toughness ┆ type      ┆ types     ┆ uuid      │\n",
       "│ ---        ┆ ity        ┆ ---    ┆ k         ┆   ┆ ---       ┆ ---       ┆ ---       ┆ ---       │\n",
       "│ str        ┆ ---        ┆ str    ┆ ---       ┆   ┆ str       ┆ str       ┆ str       ┆ str       │\n",
       "│            ┆ str        ┆        ┆ f64       ┆   ┆           ┆           ┆           ┆           │\n",
       "╞════════════╪════════════╪════════╪═══════════╪═══╪═══════════╪═══════════╪═══════════╪═══════════╡\n",
       "│ Vedalken   ┆ U          ┆ U      ┆ 5635.0    ┆ … ┆ 4         ┆ Creature  ┆ Creature  ┆ 09084e39- │\n",
       "│ Humiliator ┆            ┆        ┆           ┆   ┆           ┆ —         ┆           ┆ 92ad-50c5 │\n",
       "│            ┆            ┆        ┆           ┆   ┆           ┆ Vedalken  ┆           ┆ -a1aa-72d │\n",
       "│            ┆            ┆        ┆           ┆   ┆           ┆ Wizard    ┆           ┆ 6fd29…    │\n",
       "│ Armix,     ┆ B          ┆ B      ┆ 3670.0    ┆ … ┆ 2         ┆ Legendary ┆ Artifact, ┆ d46fea1f- │\n",
       "│ Filigree   ┆            ┆        ┆           ┆   ┆           ┆ Artifact  ┆ Creature  ┆ e83b-5e62 │\n",
       "│ Thrasher   ┆            ┆        ┆           ┆   ┆           ┆ Creature  ┆           ┆ -b4a9-2c1 │\n",
       "│            ┆            ┆        ┆           ┆   ┆           ┆ — Go…     ┆           ┆ d0f36…    │\n",
       "│ Gurgling   ┆ B          ┆ B      ┆ 9237.0    ┆ … ┆ 3         ┆ Creature  ┆ Creature  ┆ 06ac58c4- │\n",
       "│ Anointer   ┆            ┆        ┆           ┆   ┆           ┆ —         ┆           ┆ 0646-5424 │\n",
       "│            ┆            ┆        ┆           ┆   ┆           ┆ Phyrexian ┆           ┆ -a9b7-c73 │\n",
       "│            ┆            ┆        ┆           ┆   ┆           ┆ Horror    ┆           ┆ b1a49…    │\n",
       "│ Herald of  ┆ B          ┆ B      ┆ 6503.0    ┆ … ┆ 5         ┆ Creature  ┆ Creature  ┆ fad6e56e- │\n",
       "│ Anguish    ┆            ┆        ┆           ┆   ┆           ┆ — Demon   ┆           ┆ 10b0-53e2 │\n",
       "│            ┆            ┆        ┆           ┆   ┆           ┆           ┆           ┆ -bddc-da5 │\n",
       "│            ┆            ┆        ┆           ┆   ┆           ┆           ┆           ┆ 8fbe6…    │\n",
       "│ No One     ┆ B          ┆ B      ┆ 10293.0   ┆ … ┆ null      ┆ Sorcery   ┆ Sorcery   ┆ a188e94b- │\n",
       "│ Left       ┆            ┆        ┆           ┆   ┆           ┆           ┆           ┆ 90ab-53f0 │\n",
       "│ Behind     ┆            ┆        ┆           ┆   ┆           ┆           ┆           ┆ -b052-ff8 │\n",
       "│            ┆            ┆        ┆           ┆   ┆           ┆           ┆           ┆ 41258…    │\n",
       "│ …          ┆ …          ┆ …      ┆ …         ┆ … ┆ …         ┆ …         ┆ …         ┆ …         │\n",
       "│ Sharding   ┆ U          ┆ U      ┆ 2745.0    ┆ … ┆ 4         ┆ Artifact  ┆ Artifact, ┆ 00fee3dc- │\n",
       "│ Sphinx     ┆            ┆        ┆           ┆   ┆           ┆ Creature  ┆ Creature  ┆ 2e24-52f8 │\n",
       "│            ┆            ┆        ┆           ┆   ┆           ┆ — Sphinx  ┆           ┆ -8e0f-7a8 │\n",
       "│            ┆            ┆        ┆           ┆   ┆           ┆           ┆           ┆ c91b8…    │\n",
       "│ Thought    ┆ U          ┆ U      ┆ 1067.0    ┆ … ┆ 2         ┆ Artifact  ┆ Artifact, ┆ 24878db9- │\n",
       "│ Monitor    ┆            ┆        ┆           ┆   ┆           ┆ Creature  ┆ Creature  ┆ 28d3-5179 │\n",
       "│            ┆            ┆        ┆           ┆   ┆           ┆ —         ┆           ┆ -ac7d-353 │\n",
       "│            ┆            ┆        ┆           ┆   ┆           ┆ Construct ┆           ┆ 71806…    │\n",
       "│ Gixian Inf ┆ B          ┆ B      ┆ 11630.0   ┆ … ┆ 1         ┆ Creature  ┆ Creature  ┆ e0a113c6- │\n",
       "│ iltrator   ┆            ┆        ┆           ┆   ┆           ┆ —         ┆           ┆ 8557-5796 │\n",
       "│            ┆            ┆        ┆           ┆   ┆           ┆ Phyrexian ┆           ┆ -8783-7ca │\n",
       "│            ┆            ┆        ┆           ┆   ┆           ┆ Human     ┆           ┆ 191ff…    │\n",
       "│ Thoughtcas ┆ U          ┆ U      ┆ 941.0     ┆ … ┆ null      ┆ Sorcery   ┆ Sorcery   ┆ a4550383- │\n",
       "│ t          ┆            ┆        ┆           ┆   ┆           ┆           ┆           ┆ 2a51-5848 │\n",
       "│            ┆            ┆        ┆           ┆   ┆           ┆           ┆           ┆ -84a0-a5f │\n",
       "│            ┆            ┆        ┆           ┆   ┆           ┆           ┆           ┆ f726a…    │\n",
       "│ A-Haywire  ┆ G          ┆        ┆ null      ┆ … ┆ 2         ┆ Artifact  ┆ Artifact, ┆ f0737feb- │\n",
       "│ Mite       ┆            ┆        ┆           ┆   ┆           ┆ Creature  ┆ Creature  ┆ 71aa-5803 │\n",
       "│            ┆            ┆        ┆           ┆   ┆           ┆ — Insect  ┆           ┆ -abcc-b04 │\n",
       "│            ┆            ┆        ┆           ┆   ┆           ┆           ┆           ┆ 85b46…    │\n",
       "└────────────┴────────────┴────────┴───────────┴───┴───────────┴───────────┴───────────┴───────────┘"
      ]
     },
     "execution_count": 54,
     "metadata": {},
     "output_type": "execute_result"
    }
   ],
   "source": [
    "brothers_war_cards.select(\n",
    "    [\n",
    "        \"name\",\n",
    "        \"colorIdentity\",\n",
    "        \"colors\",\n",
    "        \"edhrecRank\",\n",
    "        \"edhrecSaltiness\",\n",
    "        \"faceConvertedManaCost\",\n",
    "        \"keywords\",\n",
    "        \"loyalty\",\n",
    "        \"manaCost\",\n",
    "        \"manaValue\",\n",
    "        \"number\",\n",
    "        \"power\",\n",
    "        \"rarity\",\n",
    "        \"setCode\",\n",
    "        \"subtypes\",\n",
    "        \"supertypes\",\n",
    "        \"toughness\",\n",
    "        \"text\",\n",
    "        \"type\",\n",
    "        \"types\",\n",
    "        \"uuid\",\n",
    "    ]\n",
    ").sort(\"number\").unique(\n",
    "    [\n",
    "        \"name\",\n",
    "        \"colorIdentity\",\n",
    "        \"colors\",\n",
    "        \"edhrecRank\",\n",
    "        \"edhrecSaltiness\",\n",
    "        \"faceConvertedManaCost\",\n",
    "        \"keywords\",\n",
    "        \"loyalty\",\n",
    "        \"manaCost\",\n",
    "        \"manaValue\",\n",
    "        \"power\",\n",
    "        \"rarity\",\n",
    "        \"setCode\",\n",
    "        \"subtypes\",\n",
    "        \"supertypes\",\n",
    "        \"toughness\",\n",
    "        \"text\",\n",
    "        \"type\",\n",
    "        \"types\",\n",
    "    ])"
   ]
  }
 ],
 "metadata": {
  "kernelspec": {
   "display_name": "Python 3",
   "language": "python",
   "name": "python3"
  },
  "language_info": {
   "codemirror_mode": {
    "name": "ipython",
    "version": 3
   },
   "file_extension": ".py",
   "mimetype": "text/x-python",
   "name": "python",
   "nbconvert_exporter": "python",
   "pygments_lexer": "ipython3",
   "version": "3.12.0"
  }
 },
 "nbformat": 4,
 "nbformat_minor": 2
}
