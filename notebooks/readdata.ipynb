{
 "cells": [
  {
   "cell_type": "code",
   "execution_count": 12,
   "metadata": {},
   "outputs": [],
   "source": [
    "import polars as pl"
   ]
  },
  {
   "cell_type": "code",
   "execution_count": 3,
   "metadata": {},
   "outputs": [
    {
     "name": "stdout",
     "output_type": "stream",
     "text": [
      "shape: (90_857, 78)\n",
      "┌───────────┬───────────┬───────────┬───────────┬───┬──────────┬───────────┬───────────┬───────────┐\n",
      "│ artist    ┆ artistIds ┆ asciiName ┆ attractio ┆ … ┆ types    ┆ uuid      ┆ variation ┆ watermark │\n",
      "│ ---       ┆ ---       ┆ ---       ┆ nLights   ┆   ┆ ---      ┆ ---       ┆ s         ┆ ---       │\n",
      "│ str       ┆ str       ┆ str       ┆ ---       ┆   ┆ str      ┆ str       ┆ ---       ┆ str       │\n",
      "│           ┆           ┆           ┆ str       ┆   ┆          ┆           ┆ str       ┆           │\n",
      "╞═══════════╪═══════════╪═══════════╪═══════════╪═══╪══════════╪═══════════╪═══════════╪═══════════╡\n",
      "│ Pete      ┆ d54c4a1a- ┆ null      ┆ null      ┆ … ┆ Creature ┆ 5f8287b1- ┆ b7c19924- ┆ null      │\n",
      "│ Venters   ┆ c0c5-4834 ┆           ┆           ┆   ┆          ┆ 5bb6-5f4c ┆ b4bf-56fc ┆           │\n",
      "│           ┆ -84db-125 ┆           ┆           ┆   ┆          ┆ -ad17-316 ┆ -aa73-f58 ┆           │\n",
      "│           ┆ d341f…    ┆           ┆           ┆   ┆          ┆ a40d5…    ┆ 6e940…    ┆           │\n",
      "│ Pete      ┆ d54c4a1a- ┆ null      ┆ null      ┆ … ┆ Creature ┆ b7c19924- ┆ 5f8287b1- ┆ null      │\n",
      "│ Venters   ┆ c0c5-4834 ┆           ┆           ┆   ┆          ┆ b4bf-56fc ┆ 5bb6-5f4c ┆           │\n",
      "│           ┆ -84db-125 ┆           ┆           ┆   ┆          ┆ -aa73-f58 ┆ -ad17-316 ┆           │\n",
      "│           ┆ d341f…    ┆           ┆           ┆   ┆          ┆ 6e940…    ┆ a40d5…    ┆           │\n",
      "│ Volkan    ┆ 93bec3c0- ┆ null      ┆ null      ┆ … ┆ Creature ┆ 57aaebc1- ┆ 8fd4e2eb- ┆ null      │\n",
      "│ Baǵa      ┆ 0260-4d31 ┆           ┆           ┆   ┆          ┆ 850c-503d ┆ 3eb4-50ea ┆           │\n",
      "│           ┆ -8064-5d0 ┆           ┆           ┆   ┆          ┆ -9f6e-bb8 ┆ -856b-ef6 ┆           │\n",
      "│           ┆ 1efb4…    ┆           ┆           ┆   ┆          ┆ d00d8…    ┆ 38fa4…    ┆           │\n",
      "│ Volkan    ┆ 93bec3c0- ┆ null      ┆ null      ┆ … ┆ Creature ┆ 8fd4e2eb- ┆ 57aaebc1- ┆ null      │\n",
      "│ Baǵa      ┆ 0260-4d31 ┆           ┆           ┆   ┆          ┆ 3eb4-50ea ┆ 850c-503d ┆           │\n",
      "│           ┆ -8064-5d0 ┆           ┆           ┆   ┆          ┆ -856b-ef6 ┆ -9f6e-bb8 ┆           │\n",
      "│           ┆ 1efb4…    ┆           ┆           ┆   ┆          ┆ 38fa4…    ┆ d00d8…    ┆           │\n",
      "│ Mark Zug  ┆ 48e2b98c- ┆ null      ┆ null      ┆ … ┆ Sorcery  ┆ 55bd38ca- ┆ c5655330- ┆ null      │\n",
      "│           ┆ 5467-4671 ┆           ┆           ┆   ┆          ┆ dc73-5c06 ┆ 5131-5f40 ┆           │\n",
      "│           ┆ -bd42-4c3 ┆           ┆           ┆   ┆          ┆ -8f80-a6d ┆ -9d3e-054 ┆           │\n",
      "│           ┆ 74611…    ┆           ┆           ┆   ┆          ┆ dd2f4…    ┆ 9d88c…    ┆           │\n",
      "│ …         ┆ …         ┆ …         ┆ …         ┆ … ┆ …        ┆ …         ┆ …         ┆ …         │\n",
      "│ Campbell  ┆ d281eab4- ┆ null      ┆ null      ┆ … ┆ Instant  ┆ 3f492516- ┆ dd604910- ┆ planeswal │\n",
      "│ White     ┆ 463a-4ba8 ┆           ┆           ┆   ┆          ┆ 7767-5ed7 ┆ 0e81-5d56 ┆ ker       │\n",
      "│           ┆ -9039-894 ┆           ┆           ┆   ┆          ┆ -a1d4-e3f ┆ -b022-e08 ┆           │\n",
      "│           ┆ 37379…    ┆           ┆           ┆   ┆          ┆ 7c06a…    ┆ f21de…    ┆           │\n",
      "│ Jason     ┆ 6ed7e669- ┆ null      ┆ null      ┆ … ┆ Sorcery  ┆ 3f9a0369- ┆ d947d9cd- ┆ planeswal │\n",
      "│ Rainville ┆ 579b-443d ┆           ┆           ┆   ┆          ┆ 5fe7-5aee ┆ f855-5496 ┆ ker       │\n",
      "│           ┆ -b223-e5c ┆           ┆           ┆   ┆          ┆ -85fe-3cf ┆ -b5de-880 ┆           │\n",
      "│           ┆ bcb2a…    ┆           ┆           ┆   ┆          ┆ aacd2…    ┆ 06b49…    ┆           │\n",
      "│ Campbell  ┆ d281eab4- ┆ null      ┆ null      ┆ … ┆ Sorcery  ┆ 97577e9e- ┆ dbd65728- ┆ planeswal │\n",
      "│ White     ┆ 463a-4ba8 ┆           ┆           ┆   ┆          ┆ 69a9-5a8b ┆ bba8-536e ┆ ker       │\n",
      "│           ┆ -9039-894 ┆           ┆           ┆   ┆          ┆ -9c24-a72 ┆ -a908-5df ┆           │\n",
      "│           ┆ 37379…    ┆           ┆           ┆   ┆          ┆ 70379…    ┆ a5606…    ┆           │\n",
      "│ Jonas De  ┆ 561ebf9e- ┆ null      ┆ null      ┆ … ┆ Instant  ┆ deb51cbd- ┆ 7ef6cffb- ┆ planeswal │\n",
      "│ Ro        ┆ 8d93-4b57 ┆           ┆           ┆   ┆          ┆ b890-5b2d ┆ 335a-5831 ┆ ker       │\n",
      "│           ┆ -8156-882 ┆           ┆           ┆   ┆          ┆ -9d6f-7b8 ┆ -8319-20b ┆           │\n",
      "│           ┆ 6d0c1…    ┆           ┆           ┆   ┆          ┆ 96e16…    ┆ 6a020…    ┆           │\n",
      "│ Colin     ┆ 9c201dbe- ┆ null      ┆ null      ┆ … ┆ Creature ┆ 46407d93- ┆ f3434acf- ┆ planeswal │\n",
      "│ Boyer     ┆ db56-429a ┆           ┆           ┆   ┆          ┆ df48-5161 ┆ 7796-572c ┆ ker       │\n",
      "│           ┆ -87e6-189 ┆           ┆           ┆   ┆          ┆ -95fe-f24 ┆ -a889-487 ┆           │\n",
      "│           ┆ ea70c…    ┆           ┆           ┆   ┆          ┆ 08674…    ┆ c84cf…    ┆           │\n",
      "└───────────┴───────────┴───────────┴───────────┴───┴──────────┴───────────┴───────────┴───────────┘\n"
     ]
    }
   ],
   "source": [
    "# Read the parquet file\n",
    "df = pl.read_parquet('../data/raw/cards.parquet')\n",
    "\n",
    "# Display the dataframe\n",
    "print(df)\n"
   ]
  },
  {
   "cell_type": "code",
   "execution_count": 4,
   "metadata": {},
   "outputs": [
    {
     "name": "stdout",
     "output_type": "stream",
     "text": [
      "['artist', 'artistIds', 'asciiName', 'attractionLights', 'availability', 'boosterTypes', 'borderColor', 'cardParts', 'colorIdentity', 'colorIndicator', 'colors', 'defense', 'duelDeck', 'edhrecRank', 'edhrecSaltiness', 'faceConvertedManaCost', 'faceFlavorName', 'faceManaValue', 'faceName', 'finishes', 'flavorName', 'flavorText', 'frameEffects', 'frameVersion', 'hand', 'hasAlternativeDeckLimit', 'hasContentWarning', 'hasFoil', 'hasNonFoil', 'isAlternative', 'isFullArt', 'isFunny', 'isOnlineOnly', 'isOversized', 'isPromo', 'isRebalanced', 'isReprint', 'isReserved', 'isStarter', 'isStorySpotlight', 'isTextless', 'isTimeshifted', 'keywords', 'language', 'layout', 'leadershipSkills', 'life', 'loyalty', 'manaCost', 'manaValue', 'name', 'number', 'originalPrintings', 'originalReleaseDate', 'originalText', 'originalType', 'otherFaceIds', 'power', 'printings', 'promoTypes', 'rarity', 'rebalancedPrintings', 'relatedCards', 'securityStamp', 'setCode', 'side', 'signature', 'sourceProducts', 'subsets', 'subtypes', 'supertypes', 'text', 'toughness', 'type', 'types', 'uuid', 'variations', 'watermark']\n"
     ]
    }
   ],
   "source": [
    "print(df.columns)"
   ]
  },
  {
   "cell_type": "code",
   "execution_count": 6,
   "metadata": {},
   "outputs": [
    {
     "data": {
      "text/html": [
       "<div><style>\n",
       ".dataframe > thead > tr,\n",
       ".dataframe > tbody > tr {\n",
       "  text-align: right;\n",
       "  white-space: pre-wrap;\n",
       "}\n",
       "</style>\n",
       "<small>shape: (9, 79)</small><table border=\"1\" class=\"dataframe\"><thead><tr><th>statistic</th><th>artist</th><th>artistIds</th><th>asciiName</th><th>attractionLights</th><th>availability</th><th>boosterTypes</th><th>borderColor</th><th>cardParts</th><th>colorIdentity</th><th>colorIndicator</th><th>colors</th><th>defense</th><th>duelDeck</th><th>edhrecRank</th><th>edhrecSaltiness</th><th>faceConvertedManaCost</th><th>faceFlavorName</th><th>faceManaValue</th><th>faceName</th><th>finishes</th><th>flavorName</th><th>flavorText</th><th>frameEffects</th><th>frameVersion</th><th>hand</th><th>hasAlternativeDeckLimit</th><th>hasContentWarning</th><th>hasFoil</th><th>hasNonFoil</th><th>isAlternative</th><th>isFullArt</th><th>isFunny</th><th>isOnlineOnly</th><th>isOversized</th><th>isPromo</th><th>isRebalanced</th><th>&hellip;</th><th>isTimeshifted</th><th>keywords</th><th>language</th><th>layout</th><th>leadershipSkills</th><th>life</th><th>loyalty</th><th>manaCost</th><th>manaValue</th><th>name</th><th>number</th><th>originalPrintings</th><th>originalReleaseDate</th><th>originalText</th><th>originalType</th><th>otherFaceIds</th><th>power</th><th>printings</th><th>promoTypes</th><th>rarity</th><th>rebalancedPrintings</th><th>relatedCards</th><th>securityStamp</th><th>setCode</th><th>side</th><th>signature</th><th>sourceProducts</th><th>subsets</th><th>subtypes</th><th>supertypes</th><th>text</th><th>toughness</th><th>type</th><th>types</th><th>uuid</th><th>variations</th><th>watermark</th></tr><tr><td>str</td><td>str</td><td>str</td><td>str</td><td>str</td><td>str</td><td>str</td><td>str</td><td>str</td><td>str</td><td>str</td><td>str</td><td>str</td><td>str</td><td>f64</td><td>f64</td><td>f64</td><td>str</td><td>f64</td><td>str</td><td>str</td><td>str</td><td>str</td><td>str</td><td>str</td><td>str</td><td>f64</td><td>f64</td><td>f64</td><td>f64</td><td>f64</td><td>f64</td><td>f64</td><td>f64</td><td>f64</td><td>f64</td><td>f64</td><td>&hellip;</td><td>f64</td><td>str</td><td>str</td><td>str</td><td>str</td><td>str</td><td>str</td><td>str</td><td>f64</td><td>str</td><td>str</td><td>str</td><td>str</td><td>str</td><td>str</td><td>str</td><td>str</td><td>str</td><td>str</td><td>str</td><td>str</td><td>str</td><td>str</td><td>str</td><td>str</td><td>str</td><td>str</td><td>str</td><td>str</td><td>str</td><td>str</td><td>str</td><td>str</td><td>str</td><td>str</td><td>str</td><td>str</td></tr></thead><tbody><tr><td>&quot;count&quot;</td><td>&quot;90849&quot;</td><td>&quot;90849&quot;</td><td>&quot;221&quot;</td><td>&quot;135&quot;</td><td>&quot;90857&quot;</td><td>&quot;48415&quot;</td><td>&quot;90857&quot;</td><td>&quot;18&quot;</td><td>&quot;90857&quot;</td><td>&quot;796&quot;</td><td>&quot;90857&quot;</td><td>&quot;52&quot;</td><td>&quot;1594&quot;</td><td>83844.0</td><td>67820.0</td><td>3395.0</td><td>&quot;20&quot;</td><td>3395.0</td><td>&quot;3573&quot;</td><td>&quot;90857&quot;</td><td>&quot;272&quot;</td><td>&quot;45385&quot;</td><td>&quot;14065&quot;</td><td>&quot;90857&quot;</td><td>&quot;119&quot;</td><td>61.0</td><td>29.0</td><td>90857.0</td><td>90857.0</td><td>6054.0</td><td>1745.0</td><td>1332.0</td><td>8531.0</td><td>619.0</td><td>10424.0</td><td>228.0</td><td>&hellip;</td><td>223.0</td><td>&quot;37117&quot;</td><td>&quot;90857&quot;</td><td>&quot;90857&quot;</td><td>&quot;9988&quot;</td><td>&quot;119&quot;</td><td>&quot;1451&quot;</td><td>&quot;78802&quot;</td><td>90857.0</td><td>&quot;90857&quot;</td><td>&quot;90857&quot;</td><td>&quot;228&quot;</td><td>&quot;9457&quot;</td><td>&quot;53658&quot;</td><td>&quot;54787&quot;</td><td>&quot;3573&quot;</td><td>&quot;43144&quot;</td><td>&quot;90857&quot;</td><td>&quot;17606&quot;</td><td>&quot;90857&quot;</td><td>&quot;347&quot;</td><td>&quot;46&quot;</td><td>&quot;31015&quot;</td><td>&quot;90857&quot;</td><td>&quot;3573&quot;</td><td>&quot;1244&quot;</td><td>&quot;69480&quot;</td><td>&quot;1016&quot;</td><td>&quot;90857&quot;</td><td>&quot;90857&quot;</td><td>&quot;89769&quot;</td><td>&quot;43144&quot;</td><td>&quot;90857&quot;</td><td>&quot;90857&quot;</td><td>&quot;90857&quot;</td><td>&quot;27837&quot;</td><td>&quot;6491&quot;</td></tr><tr><td>&quot;null_count&quot;</td><td>&quot;8&quot;</td><td>&quot;8&quot;</td><td>&quot;90636&quot;</td><td>&quot;90722&quot;</td><td>&quot;0&quot;</td><td>&quot;42442&quot;</td><td>&quot;0&quot;</td><td>&quot;90839&quot;</td><td>&quot;0&quot;</td><td>&quot;90061&quot;</td><td>&quot;0&quot;</td><td>&quot;90805&quot;</td><td>&quot;89263&quot;</td><td>7013.0</td><td>23037.0</td><td>87462.0</td><td>&quot;90837&quot;</td><td>87462.0</td><td>&quot;87284&quot;</td><td>&quot;0&quot;</td><td>&quot;90585&quot;</td><td>&quot;45472&quot;</td><td>&quot;76792&quot;</td><td>&quot;0&quot;</td><td>&quot;90738&quot;</td><td>90796.0</td><td>90828.0</td><td>0.0</td><td>0.0</td><td>84803.0</td><td>89112.0</td><td>89525.0</td><td>82326.0</td><td>90238.0</td><td>80433.0</td><td>90629.0</td><td>&hellip;</td><td>90634.0</td><td>&quot;53740&quot;</td><td>&quot;0&quot;</td><td>&quot;0&quot;</td><td>&quot;80869&quot;</td><td>&quot;90738&quot;</td><td>&quot;89406&quot;</td><td>&quot;12055&quot;</td><td>0.0</td><td>&quot;0&quot;</td><td>&quot;0&quot;</td><td>&quot;90629&quot;</td><td>&quot;81400&quot;</td><td>&quot;37199&quot;</td><td>&quot;36070&quot;</td><td>&quot;87284&quot;</td><td>&quot;47713&quot;</td><td>&quot;0&quot;</td><td>&quot;73251&quot;</td><td>&quot;0&quot;</td><td>&quot;90510&quot;</td><td>&quot;90811&quot;</td><td>&quot;59842&quot;</td><td>&quot;0&quot;</td><td>&quot;87284&quot;</td><td>&quot;89613&quot;</td><td>&quot;21377&quot;</td><td>&quot;89841&quot;</td><td>&quot;0&quot;</td><td>&quot;0&quot;</td><td>&quot;1088&quot;</td><td>&quot;47713&quot;</td><td>&quot;0&quot;</td><td>&quot;0&quot;</td><td>&quot;0&quot;</td><td>&quot;63020&quot;</td><td>&quot;84366&quot;</td></tr><tr><td>&quot;mean&quot;</td><td>null</td><td>null</td><td>null</td><td>null</td><td>null</td><td>null</td><td>null</td><td>null</td><td>null</td><td>null</td><td>null</td><td>null</td><td>null</td><td>10055.72382</td><td>0.332868</td><td>2.233873</td><td>null</td><td>2.233873</td><td>null</td><td>null</td><td>null</td><td>null</td><td>null</td><td>null</td><td>null</td><td>1.0</td><td>1.0</td><td>0.602606</td><td>0.866791</td><td>1.0</td><td>1.0</td><td>1.0</td><td>1.0</td><td>1.0</td><td>1.0</td><td>1.0</td><td>&hellip;</td><td>1.0</td><td>null</td><td>null</td><td>null</td><td>null</td><td>null</td><td>null</td><td>null</td><td>25.0076</td><td>null</td><td>null</td><td>null</td><td>null</td><td>null</td><td>null</td><td>null</td><td>null</td><td>null</td><td>null</td><td>null</td><td>null</td><td>null</td><td>null</td><td>null</td><td>null</td><td>null</td><td>null</td><td>null</td><td>null</td><td>null</td><td>null</td><td>null</td><td>null</td><td>null</td><td>null</td><td>null</td><td>null</td></tr><tr><td>&quot;std&quot;</td><td>null</td><td>null</td><td>null</td><td>null</td><td>null</td><td>null</td><td>null</td><td>null</td><td>null</td><td>null</td><td>null</td><td>null</td><td>null</td><td>7925.170815</td><td>0.328432</td><td>1.997959</td><td>null</td><td>1.997959</td><td>null</td><td>null</td><td>null</td><td>null</td><td>null</td><td>null</td><td>null</td><td>null</td><td>null</td><td>null</td><td>null</td><td>null</td><td>null</td><td>null</td><td>null</td><td>null</td><td>null</td><td>null</td><td>&hellip;</td><td>null</td><td>null</td><td>null</td><td>null</td><td>null</td><td>null</td><td>null</td><td>null</td><td>4691.72069</td><td>null</td><td>null</td><td>null</td><td>null</td><td>null</td><td>null</td><td>null</td><td>null</td><td>null</td><td>null</td><td>null</td><td>null</td><td>null</td><td>null</td><td>null</td><td>null</td><td>null</td><td>null</td><td>null</td><td>null</td><td>null</td><td>null</td><td>null</td><td>null</td><td>null</td><td>null</td><td>null</td><td>null</td></tr><tr><td>&quot;min&quot;</td><td>&quot;A. M. Sartor&quot;</td><td>&quot;00018b26-29e7-…</td><td>&quot;Altair Ibn-La&#x27;…</td><td>&quot;2, 3, 4, 6&quot;</td><td>&quot;arena&quot;</td><td>&quot;deck&quot;</td><td>&quot;black&quot;</td><td>&quot;Gisela, the Br…</td><td>&quot;&quot;</td><td>&quot;B&quot;</td><td>&quot;&quot;</td><td>&quot;3&quot;</td><td>&quot;a&quot;</td><td>1.0</td><td>0.01</td><td>0.0</td><td>&quot;Casket of Nati…</td><td>0.0</td><td>&quot;A-Alrund, God …</td><td>&quot;etched&quot;</td><td>&quot;Abraham Van He…</td><td>&quot;&quot; . . . And th…</td><td>&quot;borderless&quot;</td><td>&quot;1993&quot;</td><td>&quot;+0&quot;</td><td>1.0</td><td>1.0</td><td>0.0</td><td>0.0</td><td>1.0</td><td>1.0</td><td>1.0</td><td>1.0</td><td>1.0</td><td>1.0</td><td>1.0</td><td>&hellip;</td><td>1.0</td><td>&quot;A Thousand Sou…</td><td>&quot;Ancient Greek&quot;</td><td>&quot;adventure&quot;</td><td>&quot;{&quot;brawl&quot;: fals…</td><td>&quot;+0&quot;</td><td>&quot;*&quot;</td><td>&quot;{0}&quot;</td><td>0.0</td><td>&quot;&quot;Ach! Hans, Ru…</td><td>&quot;0&quot;</td><td>&quot;00819278-741b-…</td><td>&quot;1993-11-01&quot;</td><td>&quot;&quot;Until end of …</td><td>&quot;(none)&quot;</td><td>&quot;000a85b2-d96c-…</td><td>&quot;*&quot;</td><td>&quot;10E, 2ED, 2XM,…</td><td>&quot;alchemy&quot;</td><td>&quot;bonus&quot;</td><td>&quot;003dd554-bc55-…</td><td>&quot;{&quot;spellbook&quot;: …</td><td>&quot;acorn&quot;</td><td>&quot;10E&quot;</td><td>&quot;a&quot;</td><td>&quot;Aeo Paquette&quot;</td><td>&quot;{&quot;etched&quot;: [&quot;0…</td><td>&quot;&lt;explosion sou…</td><td>&quot;&quot;</td><td>&quot;&quot;</td><td>&quot;&quot;Lifetime&quot; Pas…</td><td>&quot;*&quot;</td><td>&quot;Artifact&quot;</td><td>&quot;Artifact&quot;</td><td>&quot;00010d56-fe38-…</td><td>&quot;0005fe8b-170d-…</td><td>&quot;abzan&quot;</td></tr><tr><td>&quot;25%&quot;</td><td>null</td><td>null</td><td>null</td><td>null</td><td>null</td><td>null</td><td>null</td><td>null</td><td>null</td><td>null</td><td>null</td><td>null</td><td>null</td><td>2837.0</td><td>0.12</td><td>0.0</td><td>null</td><td>0.0</td><td>null</td><td>null</td><td>null</td><td>null</td><td>null</td><td>null</td><td>null</td><td>null</td><td>null</td><td>null</td><td>null</td><td>null</td><td>null</td><td>null</td><td>null</td><td>null</td><td>null</td><td>null</td><td>&hellip;</td><td>null</td><td>null</td><td>null</td><td>null</td><td>null</td><td>null</td><td>null</td><td>null</td><td>2.0</td><td>null</td><td>null</td><td>null</td><td>null</td><td>null</td><td>null</td><td>null</td><td>null</td><td>null</td><td>null</td><td>null</td><td>null</td><td>null</td><td>null</td><td>null</td><td>null</td><td>null</td><td>null</td><td>null</td><td>null</td><td>null</td><td>null</td><td>null</td><td>null</td><td>null</td><td>null</td><td>null</td><td>null</td></tr><tr><td>&quot;50%&quot;</td><td>null</td><td>null</td><td>null</td><td>null</td><td>null</td><td>null</td><td>null</td><td>null</td><td>null</td><td>null</td><td>null</td><td>null</td><td>null</td><td>8530.0</td><td>0.24</td><td>2.0</td><td>null</td><td>2.0</td><td>null</td><td>null</td><td>null</td><td>null</td><td>null</td><td>null</td><td>null</td><td>null</td><td>null</td><td>null</td><td>null</td><td>null</td><td>null</td><td>null</td><td>null</td><td>null</td><td>null</td><td>null</td><td>&hellip;</td><td>null</td><td>null</td><td>null</td><td>null</td><td>null</td><td>null</td><td>null</td><td>null</td><td>3.0</td><td>null</td><td>null</td><td>null</td><td>null</td><td>null</td><td>null</td><td>null</td><td>null</td><td>null</td><td>null</td><td>null</td><td>null</td><td>null</td><td>null</td><td>null</td><td>null</td><td>null</td><td>null</td><td>null</td><td>null</td><td>null</td><td>null</td><td>null</td><td>null</td><td>null</td><td>null</td><td>null</td><td>null</td></tr><tr><td>&quot;75%&quot;</td><td>null</td><td>null</td><td>null</td><td>null</td><td>null</td><td>null</td><td>null</td><td>null</td><td>null</td><td>null</td><td>null</td><td>null</td><td>null</td><td>16510.0</td><td>0.41</td><td>3.0</td><td>null</td><td>3.0</td><td>null</td><td>null</td><td>null</td><td>null</td><td>null</td><td>null</td><td>null</td><td>null</td><td>null</td><td>null</td><td>null</td><td>null</td><td>null</td><td>null</td><td>null</td><td>null</td><td>null</td><td>null</td><td>&hellip;</td><td>null</td><td>null</td><td>null</td><td>null</td><td>null</td><td>null</td><td>null</td><td>null</td><td>4.0</td><td>null</td><td>null</td><td>null</td><td>null</td><td>null</td><td>null</td><td>null</td><td>null</td><td>null</td><td>null</td><td>null</td><td>null</td><td>null</td><td>null</td><td>null</td><td>null</td><td>null</td><td>null</td><td>null</td><td>null</td><td>null</td><td>null</td><td>null</td><td>null</td><td>null</td><td>null</td><td>null</td><td>null</td></tr><tr><td>&quot;max&quot;</td><td>&quot;王玉群&quot;</td><td>&quot;ffd063ae-c097-…</td><td>&quot;Ugluk of the W…</td><td>&quot;5, 6&quot;</td><td>&quot;shandalar&quot;</td><td>&quot;default&quot;</td><td>&quot;white&quot;</td><td>&quot;Urza, Lord Pro…</td><td>&quot;W&quot;</td><td>&quot;W&quot;</td><td>&quot;W, U&quot;</td><td>&quot;7&quot;</td><td>&quot;b&quot;</td><td>26737.0</td><td>2.99</td><td>11.0</td><td>&quot;The Upside Dow…</td><td>11.0</td><td>&quot;Zoological Stu…</td><td>&quot;nonfoil, signe…</td><td>&quot;Zangief, the R…</td><td>&quot;𓍹𓈎𓃭𓍢𓊪𓂧𓂋𓏏𓆇𓊹𓏏𓆇𓌰𓏏…</td><td>&quot;tombstone&quot;</td><td>&quot;future&quot;</td><td>&quot;-4&quot;</td><td>1.0</td><td>1.0</td><td>1.0</td><td>1.0</td><td>1.0</td><td>1.0</td><td>1.0</td><td>1.0</td><td>1.0</td><td>1.0</td><td>1.0</td><td>&hellip;</td><td>1.0</td><td>&quot;Wither&quot;</td><td>&quot;Spanish&quot;</td><td>&quot;vanguard&quot;</td><td>&quot;{&quot;brawl&quot;: true…</td><td>&quot;-8&quot;</td><td>&quot;X&quot;</td><td>&quot;{X}{Y}{Z}{R}{R…</td><td>1e6</td><td>&quot;Éowyn, Shieldm…</td><td>&quot;we97&quot;</td><td>&quot;ffa1ae56-535f-…</td><td>&quot;2024-10-01&quot;</td><td>&quot;−1: Up to two …</td><td>&quot;o3oB&quot;</td><td>&quot;ffa4a87d-f2e4-…</td><td>&quot;∞&quot;</td><td>&quot;ZNR&quot;</td><td>&quot;wizardsplaynet…</td><td>&quot;uncommon&quot;</td><td>&quot;fdbabaf0-9197-…</td><td>&quot;{&quot;spellbook&quot;: …</td><td>&quot;triangle&quot;</td><td>&quot;ZNR&quot;</td><td>&quot;e&quot;</td><td>&quot;Wolfgang Eder&quot;</td><td>&quot;{&quot;nonfoil&quot;: [&quot;…</td><td>&quot;Year of the Ra…</td><td>&quot;Zubera, Spirit…</td><td>&quot;World&quot;</td><td>&quot;{X}{X}{R}, {T}…</td><td>&quot;?&quot;</td><td>&quot;instant&quot;</td><td>&quot;instant&quot;</td><td>&quot;fffe10ca-d43b-…</td><td>&quot;fffe10ca-d43b-…</td><td>&quot;wpn&quot;</td></tr></tbody></table></div>"
      ],
      "text/plain": [
       "shape: (9, 79)\n",
       "┌────────────┬────────┬────────────┬────────────┬───┬──────────┬───────────┬───────────┬───────────┐\n",
       "│ statistic  ┆ artist ┆ artistIds  ┆ asciiName  ┆ … ┆ types    ┆ uuid      ┆ variation ┆ watermark │\n",
       "│ ---        ┆ ---    ┆ ---        ┆ ---        ┆   ┆ ---      ┆ ---       ┆ s         ┆ ---       │\n",
       "│ str        ┆ str    ┆ str        ┆ str        ┆   ┆ str      ┆ str       ┆ ---       ┆ str       │\n",
       "│            ┆        ┆            ┆            ┆   ┆          ┆           ┆ str       ┆           │\n",
       "╞════════════╪════════╪════════════╪════════════╪═══╪══════════╪═══════════╪═══════════╪═══════════╡\n",
       "│ count      ┆ 90849  ┆ 90849      ┆ 221        ┆ … ┆ 90857    ┆ 90857     ┆ 27837     ┆ 6491      │\n",
       "│ null_count ┆ 8      ┆ 8          ┆ 90636      ┆ … ┆ 0        ┆ 0         ┆ 63020     ┆ 84366     │\n",
       "│ mean       ┆ null   ┆ null       ┆ null       ┆ … ┆ null     ┆ null      ┆ null      ┆ null      │\n",
       "│ std        ┆ null   ┆ null       ┆ null       ┆ … ┆ null     ┆ null      ┆ null      ┆ null      │\n",
       "│ min        ┆ A. M.  ┆ 00018b26-2 ┆ Altair Ibn ┆ … ┆ Artifact ┆ 00010d56- ┆ 0005fe8b- ┆ abzan     │\n",
       "│            ┆ Sartor ┆ 9e7-4545-9 ┆ -La'Ahad   ┆   ┆          ┆ fe38-5e35 ┆ 170d-5381 ┆           │\n",
       "│            ┆        ┆ 15b-382d9c ┆            ┆   ┆          ┆ -8aed-518 ┆ -baaf-3d6 ┆           │\n",
       "│            ┆        ┆ bc…        ┆            ┆   ┆          ┆ 019aa…    ┆ bd580…    ┆           │\n",
       "│ 25%        ┆ null   ┆ null       ┆ null       ┆ … ┆ null     ┆ null      ┆ null      ┆ null      │\n",
       "│ 50%        ┆ null   ┆ null       ┆ null       ┆ … ┆ null     ┆ null      ┆ null      ┆ null      │\n",
       "│ 75%        ┆ null   ┆ null       ┆ null       ┆ … ┆ null     ┆ null      ┆ null      ┆ null      │\n",
       "│ max        ┆ 王玉群 ┆ ffd063ae-c ┆ Ugluk of   ┆ … ┆ instant  ┆ fffe10ca- ┆ fffe10ca- ┆ wpn       │\n",
       "│            ┆        ┆ 097-4f26-b ┆ the White  ┆   ┆          ┆ d43b-5234 ┆ d43b-5234 ┆           │\n",
       "│            ┆        ┆ 2e6-b1e213 ┆ Hand       ┆   ┆          ┆ -b768-201 ┆ -b768-201 ┆           │\n",
       "│            ┆        ┆ 77…        ┆            ┆   ┆          ┆ cc5c2…    ┆ cc5c2…    ┆           │\n",
       "└────────────┴────────┴────────────┴────────────┴───┴──────────┴───────────┴───────────┴───────────┘"
      ]
     },
     "execution_count": 6,
     "metadata": {},
     "output_type": "execute_result"
    }
   ],
   "source": [
    "df.describe()\n"
   ]
  },
  {
   "cell_type": "code",
   "execution_count": 16,
   "metadata": {},
   "outputs": [
    {
     "data": {
      "text/html": [
       "<div><style>\n",
       ".dataframe > thead > tr,\n",
       ".dataframe > tbody > tr {\n",
       "  text-align: right;\n",
       "  white-space: pre-wrap;\n",
       "}\n",
       "</style>\n",
       "<small>shape: (90_857, 3)</small><table border=\"1\" class=\"dataframe\"><thead><tr><th>name</th><th>power</th><th>toughness</th></tr><tr><td>str</td><td>str</td><td>str</td></tr></thead><tbody><tr><td>&quot;Ancestor&#x27;s Cho…</td><td>&quot;4&quot;</td><td>&quot;4&quot;</td></tr><tr><td>&quot;Ancestor&#x27;s Cho…</td><td>&quot;4&quot;</td><td>&quot;4&quot;</td></tr><tr><td>&quot;Angel of Mercy…</td><td>&quot;3&quot;</td><td>&quot;3&quot;</td></tr><tr><td>&quot;Angel of Mercy…</td><td>&quot;3&quot;</td><td>&quot;3&quot;</td></tr><tr><td>&quot;Angelic Blessi…</td><td>null</td><td>null</td></tr><tr><td>&hellip;</td><td>&hellip;</td><td>&hellip;</td></tr><tr><td>&quot;Into the Roil&quot;</td><td>null</td><td>null</td></tr><tr><td>&quot;Bloodchief&#x27;s T…</td><td>null</td><td>null</td></tr><tr><td>&quot;Roil Eruption&quot;</td><td>null</td><td>null</td></tr><tr><td>&quot;Roiling Regrow…</td><td>null</td><td>null</td></tr><tr><td>&quot;Kargan Warlead…</td><td>&quot;3&quot;</td><td>&quot;3&quot;</td></tr></tbody></table></div>"
      ],
      "text/plain": [
       "shape: (90_857, 3)\n",
       "┌─────────────────────┬───────┬───────────┐\n",
       "│ name                ┆ power ┆ toughness │\n",
       "│ ---                 ┆ ---   ┆ ---       │\n",
       "│ str                 ┆ str   ┆ str       │\n",
       "╞═════════════════════╪═══════╪═══════════╡\n",
       "│ Ancestor's Chosen   ┆ 4     ┆ 4         │\n",
       "│ Ancestor's Chosen   ┆ 4     ┆ 4         │\n",
       "│ Angel of Mercy      ┆ 3     ┆ 3         │\n",
       "│ Angel of Mercy      ┆ 3     ┆ 3         │\n",
       "│ Angelic Blessing    ┆ null  ┆ null      │\n",
       "│ …                   ┆ …     ┆ …         │\n",
       "│ Into the Roil       ┆ null  ┆ null      │\n",
       "│ Bloodchief's Thirst ┆ null  ┆ null      │\n",
       "│ Roil Eruption       ┆ null  ┆ null      │\n",
       "│ Roiling Regrowth    ┆ null  ┆ null      │\n",
       "│ Kargan Warleader    ┆ 3     ┆ 3         │\n",
       "└─────────────────────┴───────┴───────────┘"
      ]
     },
     "execution_count": 16,
     "metadata": {},
     "output_type": "execute_result"
    }
   ],
   "source": [
    "df.select([\"name\", \"power\", \"toughness\"])"
   ]
  },
  {
   "cell_type": "code",
   "execution_count": 23,
   "metadata": {},
   "outputs": [
    {
     "name": "stderr",
     "output_type": "stream",
     "text": [
      "/tmp/ipykernel_53533/493418366.py:1: DeprecationWarning: `count` is deprecated. It has been renamed to `len`.\n",
      "  df.group_by([\"name\"]).count()\n"
     ]
    },
    {
     "data": {
      "text/html": [
       "<div><style>\n",
       ".dataframe > thead > tr,\n",
       ".dataframe > tbody > tr {\n",
       "  text-align: right;\n",
       "  white-space: pre-wrap;\n",
       "}\n",
       "</style>\n",
       "<small>shape: (28_672, 2)</small><table border=\"1\" class=\"dataframe\"><thead><tr><th>name</th><th>count</th></tr><tr><td>str</td><td>u32</td></tr></thead><tbody><tr><td>&quot;Elderfang Veno…</td><td>1</td></tr><tr><td>&quot;On Thin Ice&quot;</td><td>1</td></tr><tr><td>&quot;Ketria&quot;</td><td>1</td></tr><tr><td>&quot;Forbidden Lore…</td><td>2</td></tr><tr><td>&quot;The Wilds&quot;</td><td>1</td></tr><tr><td>&hellip;</td><td>&hellip;</td></tr><tr><td>&quot;Pulmonic Slive…</td><td>3</td></tr><tr><td>&quot;Braid of Fire&quot;</td><td>4</td></tr><tr><td>&quot;Recall&quot;</td><td>9</td></tr><tr><td>&quot;Viscera Dragge…</td><td>1</td></tr><tr><td>&quot;Zephyr Scribe&quot;</td><td>1</td></tr></tbody></table></div>"
      ],
      "text/plain": [
       "shape: (28_672, 2)\n",
       "┌─────────────────┬───────┐\n",
       "│ name            ┆ count │\n",
       "│ ---             ┆ ---   │\n",
       "│ str             ┆ u32   │\n",
       "╞═════════════════╪═══════╡\n",
       "│ Elderfang Venom ┆ 1     │\n",
       "│ On Thin Ice     ┆ 1     │\n",
       "│ Ketria          ┆ 1     │\n",
       "│ Forbidden Lore  ┆ 2     │\n",
       "│ The Wilds       ┆ 1     │\n",
       "│ …               ┆ …     │\n",
       "│ Pulmonic Sliver ┆ 3     │\n",
       "│ Braid of Fire   ┆ 4     │\n",
       "│ Recall          ┆ 9     │\n",
       "│ Viscera Dragger ┆ 1     │\n",
       "│ Zephyr Scribe   ┆ 1     │\n",
       "└─────────────────┴───────┘"
      ]
     },
     "execution_count": 23,
     "metadata": {},
     "output_type": "execute_result"
    }
   ],
   "source": [
    "df.group_by([\"name\"]).count()\n"
   ]
  },
  {
   "cell_type": "code",
   "execution_count": 27,
   "metadata": {},
   "outputs": [
    {
     "data": {
      "text/html": [
       "<div><style>\n",
       ".dataframe > thead > tr,\n",
       ".dataframe > tbody > tr {\n",
       "  text-align: right;\n",
       "  white-space: pre-wrap;\n",
       "}\n",
       "</style>\n",
       "<small>shape: (9, 1)</small><table border=\"1\" class=\"dataframe\"><thead><tr><th>setCode</th></tr><tr><td>str</td></tr></thead><tbody><tr><td>&quot;5ED&quot;</td></tr><tr><td>&quot;6ED&quot;</td></tr><tr><td>&quot;BCHR&quot;</td></tr><tr><td>&quot;CHR&quot;</td></tr><tr><td>&quot;LEG&quot;</td></tr><tr><td>&quot;ME3&quot;</td></tr><tr><td>&quot;OLEP&quot;</td></tr><tr><td>&quot;PTC&quot;</td></tr><tr><td>&quot;PTC&quot;</td></tr></tbody></table></div>"
      ],
      "text/plain": [
       "shape: (9, 1)\n",
       "┌─────────┐\n",
       "│ setCode │\n",
       "│ ---     │\n",
       "│ str     │\n",
       "╞═════════╡\n",
       "│ 5ED     │\n",
       "│ 6ED     │\n",
       "│ BCHR    │\n",
       "│ CHR     │\n",
       "│ LEG     │\n",
       "│ ME3     │\n",
       "│ OLEP    │\n",
       "│ PTC     │\n",
       "│ PTC     │\n",
       "└─────────┘"
      ]
     },
     "execution_count": 27,
     "metadata": {},
     "output_type": "execute_result"
    }
   ],
   "source": [
    "df.filter(pl.col(\"name\") == \"Recall\").select(\"setCode\")"
   ]
  },
  {
   "cell_type": "code",
   "execution_count": 29,
   "metadata": {},
   "outputs": [
    {
     "data": {
      "text/html": [
       "<div><style>\n",
       ".dataframe > thead > tr,\n",
       ".dataframe > tbody > tr {\n",
       "  text-align: right;\n",
       "  white-space: pre-wrap;\n",
       "}\n",
       "</style>\n",
       "<small>shape: (399, 78)</small><table border=\"1\" class=\"dataframe\"><thead><tr><th>artist</th><th>artistIds</th><th>asciiName</th><th>attractionLights</th><th>availability</th><th>boosterTypes</th><th>borderColor</th><th>cardParts</th><th>colorIdentity</th><th>colorIndicator</th><th>colors</th><th>defense</th><th>duelDeck</th><th>edhrecRank</th><th>edhrecSaltiness</th><th>faceConvertedManaCost</th><th>faceFlavorName</th><th>faceManaValue</th><th>faceName</th><th>finishes</th><th>flavorName</th><th>flavorText</th><th>frameEffects</th><th>frameVersion</th><th>hand</th><th>hasAlternativeDeckLimit</th><th>hasContentWarning</th><th>hasFoil</th><th>hasNonFoil</th><th>isAlternative</th><th>isFullArt</th><th>isFunny</th><th>isOnlineOnly</th><th>isOversized</th><th>isPromo</th><th>isRebalanced</th><th>isReprint</th><th>&hellip;</th><th>isTimeshifted</th><th>keywords</th><th>language</th><th>layout</th><th>leadershipSkills</th><th>life</th><th>loyalty</th><th>manaCost</th><th>manaValue</th><th>name</th><th>number</th><th>originalPrintings</th><th>originalReleaseDate</th><th>originalText</th><th>originalType</th><th>otherFaceIds</th><th>power</th><th>printings</th><th>promoTypes</th><th>rarity</th><th>rebalancedPrintings</th><th>relatedCards</th><th>securityStamp</th><th>setCode</th><th>side</th><th>signature</th><th>sourceProducts</th><th>subsets</th><th>subtypes</th><th>supertypes</th><th>text</th><th>toughness</th><th>type</th><th>types</th><th>uuid</th><th>variations</th><th>watermark</th></tr><tr><td>str</td><td>str</td><td>str</td><td>str</td><td>str</td><td>str</td><td>str</td><td>str</td><td>str</td><td>str</td><td>str</td><td>str</td><td>str</td><td>f64</td><td>f64</td><td>f64</td><td>str</td><td>f64</td><td>str</td><td>str</td><td>str</td><td>str</td><td>str</td><td>str</td><td>str</td><td>bool</td><td>bool</td><td>bool</td><td>bool</td><td>bool</td><td>bool</td><td>bool</td><td>bool</td><td>bool</td><td>bool</td><td>bool</td><td>bool</td><td>&hellip;</td><td>bool</td><td>str</td><td>str</td><td>str</td><td>str</td><td>str</td><td>str</td><td>str</td><td>f64</td><td>str</td><td>str</td><td>str</td><td>str</td><td>str</td><td>str</td><td>str</td><td>str</td><td>str</td><td>str</td><td>str</td><td>str</td><td>str</td><td>str</td><td>str</td><td>str</td><td>str</td><td>str</td><td>str</td><td>str</td><td>str</td><td>str</td><td>str</td><td>str</td><td>str</td><td>str</td><td>str</td><td>str</td></tr></thead><tbody><tr><td>&quot;Lorenzo Mastro…</td><td>&quot;70213e7d-47e0-…</td><td>null</td><td>null</td><td>&quot;arena, mtgo, p…</td><td>&quot;default&quot;</td><td>&quot;black&quot;</td><td>null</td><td>&quot;W&quot;</td><td>null</td><td>&quot;W&quot;</td><td>null</td><td>null</td><td>19166.0</td><td>0.1</td><td>null</td><td>null</td><td>null</td><td>null</td><td>&quot;nonfoil, foil&quot;</td><td>null</td><td>&quot;&quot;The ground is…</td><td>null</td><td>&quot;2015&quot;</td><td>null</td><td>null</td><td>null</td><td>true</td><td>true</td><td>null</td><td>null</td><td>null</td><td>null</td><td>null</td><td>null</td><td>null</td><td>null</td><td>&hellip;</td><td>null</td><td>&quot;Flying&quot;</td><td>&quot;English&quot;</td><td>&quot;normal&quot;</td><td>null</td><td>null</td><td>null</td><td>&quot;{4}{W}&quot;</td><td>5.0</td><td>&quot;Aeronaut Caval…</td><td>&quot;1&quot;</td><td>null</td><td>null</td><td>null</td><td>null</td><td>null</td><td>&quot;3&quot;</td><td>&quot;BRO&quot;</td><td>null</td><td>&quot;common&quot;</td><td>null</td><td>null</td><td>null</td><td>&quot;BRO&quot;</td><td>null</td><td>null</td><td>&quot;{&quot;foil&quot;: [&quot;104…</td><td>null</td><td>&quot;Human, Soldier…</td><td>&quot;&quot;</td><td>&quot;Flying\\nWhen A…</td><td>&quot;4&quot;</td><td>&quot;Creature — Hum…</td><td>&quot;Creature&quot;</td><td>&quot;6ff98307-b89c-…</td><td>null</td><td>null</td></tr><tr><td>&quot;Caroline Garib…</td><td>&quot;61a4c572-3d1b-…</td><td>null</td><td>null</td><td>&quot;arena, mtgo, p…</td><td>&quot;default&quot;</td><td>&quot;black&quot;</td><td>null</td><td>&quot;W&quot;</td><td>null</td><td>&quot;W&quot;</td><td>null</td><td>null</td><td>14866.0</td><td>0.02</td><td>null</td><td>null</td><td>null</td><td>null</td><td>&quot;nonfoil, foil&quot;</td><td>null</td><td>null</td><td>null</td><td>&quot;2015&quot;</td><td>null</td><td>null</td><td>null</td><td>true</td><td>true</td><td>null</td><td>null</td><td>null</td><td>null</td><td>null</td><td>null</td><td>null</td><td>null</td><td>&hellip;</td><td>null</td><td>&quot;Flying, Mill&quot;</td><td>&quot;English&quot;</td><td>&quot;normal&quot;</td><td>null</td><td>null</td><td>null</td><td>&quot;{2}{W}&quot;</td><td>3.0</td><td>&quot;Airlift Chapla…</td><td>&quot;2&quot;</td><td>null</td><td>null</td><td>null</td><td>null</td><td>null</td><td>&quot;1&quot;</td><td>&quot;BRO&quot;</td><td>null</td><td>&quot;common&quot;</td><td>null</td><td>null</td><td>null</td><td>&quot;BRO&quot;</td><td>null</td><td>null</td><td>&quot;{&quot;foil&quot;: [&quot;104…</td><td>null</td><td>&quot;Human, Cleric&quot;</td><td>&quot;&quot;</td><td>&quot;Flying\\nWhen A…</td><td>&quot;1&quot;</td><td>&quot;Creature — Hum…</td><td>&quot;Creature&quot;</td><td>&quot;e4d66ec1-7ba2-…</td><td>null</td><td>null</td></tr><tr><td>&quot;Vladimir Krise…</td><td>&quot;6a6d08a4-77eb-…</td><td>null</td><td>null</td><td>&quot;arena, mtgo, p…</td><td>&quot;default&quot;</td><td>&quot;black&quot;</td><td>null</td><td>&quot;W&quot;</td><td>null</td><td>&quot;W&quot;</td><td>null</td><td>null</td><td>15612.0</td><td>null</td><td>null</td><td>null</td><td>null</td><td>null</td><td>&quot;nonfoil, foil&quot;</td><td>null</td><td>&quot;&quot;It would be f…</td><td>null</td><td>&quot;2015&quot;</td><td>null</td><td>null</td><td>null</td><td>true</td><td>true</td><td>null</td><td>null</td><td>null</td><td>null</td><td>null</td><td>null</td><td>null</td><td>null</td><td>&hellip;</td><td>null</td><td>&quot;Flash, Flying&quot;</td><td>&quot;English&quot;</td><td>&quot;normal&quot;</td><td>null</td><td>null</td><td>null</td><td>&quot;{1}{W}&quot;</td><td>2.0</td><td>&quot;Ambush Paratro…</td><td>&quot;3&quot;</td><td>null</td><td>null</td><td>null</td><td>null</td><td>null</td><td>&quot;1&quot;</td><td>&quot;BRO&quot;</td><td>null</td><td>&quot;common&quot;</td><td>null</td><td>null</td><td>null</td><td>&quot;BRO&quot;</td><td>null</td><td>null</td><td>&quot;{&quot;foil&quot;: [&quot;104…</td><td>null</td><td>&quot;Human, Soldier…</td><td>&quot;&quot;</td><td>&quot;Flash\\nFlying\\…</td><td>&quot;2&quot;</td><td>&quot;Creature — Hum…</td><td>&quot;Creature&quot;</td><td>&quot;8d065ec5-4e7f-…</td><td>null</td><td>null</td></tr><tr><td>&quot;Slawomir Mania…</td><td>&quot;d887bc66-2779-…</td><td>null</td><td>null</td><td>&quot;arena, mtgo, p…</td><td>&quot;default&quot;</td><td>&quot;black&quot;</td><td>null</td><td>&quot;W&quot;</td><td>null</td><td>&quot;W&quot;</td><td>null</td><td>null</td><td>5775.0</td><td>0.6</td><td>null</td><td>null</td><td>null</td><td>null</td><td>&quot;nonfoil, foil&quot;</td><td>null</td><td>&quot;The sylex&#x27;s bl…</td><td>null</td><td>&quot;2015&quot;</td><td>null</td><td>null</td><td>null</td><td>true</td><td>true</td><td>null</td><td>null</td><td>null</td><td>null</td><td>null</td><td>null</td><td>null</td><td>null</td><td>&hellip;</td><td>null</td><td>null</td><td>&quot;English&quot;</td><td>&quot;normal&quot;</td><td>null</td><td>null</td><td>null</td><td>&quot;{1}{W}&quot;</td><td>2.0</td><td>&quot;Calamity&#x27;s Wak…</td><td>&quot;4&quot;</td><td>null</td><td>null</td><td>null</td><td>null</td><td>null</td><td>null</td><td>&quot;BRO&quot;</td><td>null</td><td>&quot;uncommon&quot;</td><td>null</td><td>null</td><td>null</td><td>&quot;BRO&quot;</td><td>null</td><td>null</td><td>&quot;{&quot;foil&quot;: [&quot;104…</td><td>null</td><td>&quot;&quot;</td><td>&quot;&quot;</td><td>&quot;Exile all grav…</td><td>null</td><td>&quot;Instant&quot;</td><td>&quot;Instant&quot;</td><td>&quot;45e16536-c429-…</td><td>null</td><td>null</td></tr><tr><td>&quot;Olena Richards…</td><td>&quot;fad4282c-49d1-…</td><td>null</td><td>null</td><td>&quot;arena, mtgo, p…</td><td>&quot;default&quot;</td><td>&quot;black&quot;</td><td>null</td><td>&quot;W&quot;</td><td>null</td><td>&quot;W&quot;</td><td>null</td><td>null</td><td>17229.0</td><td>null</td><td>null</td><td>null</td><td>null</td><td>null</td><td>&quot;nonfoil, foil&quot;</td><td>null</td><td>&quot;&quot;Automatons ar…</td><td>null</td><td>&quot;2015&quot;</td><td>null</td><td>null</td><td>null</td><td>true</td><td>true</td><td>null</td><td>null</td><td>null</td><td>null</td><td>null</td><td>null</td><td>null</td><td>null</td><td>&hellip;</td><td>null</td><td>null</td><td>&quot;English&quot;</td><td>&quot;normal&quot;</td><td>null</td><td>null</td><td>null</td><td>&quot;{1}{W}&quot;</td><td>2.0</td><td>&quot;Deadly Riposte…</td><td>&quot;5&quot;</td><td>null</td><td>null</td><td>null</td><td>null</td><td>null</td><td>null</td><td>&quot;BRO, CLU&quot;</td><td>null</td><td>&quot;common&quot;</td><td>null</td><td>null</td><td>null</td><td>&quot;BRO&quot;</td><td>null</td><td>null</td><td>&quot;{&quot;foil&quot;: [&quot;104…</td><td>null</td><td>&quot;&quot;</td><td>&quot;&quot;</td><td>&quot;Deadly Riposte…</td><td>null</td><td>&quot;Instant&quot;</td><td>&quot;Instant&quot;</td><td>&quot;d184bcd7-1c35-…</td><td>null</td><td>null</td></tr><tr><td>&hellip;</td><td>&hellip;</td><td>&hellip;</td><td>&hellip;</td><td>&hellip;</td><td>&hellip;</td><td>&hellip;</td><td>&hellip;</td><td>&hellip;</td><td>&hellip;</td><td>&hellip;</td><td>&hellip;</td><td>&hellip;</td><td>&hellip;</td><td>&hellip;</td><td>&hellip;</td><td>&hellip;</td><td>&hellip;</td><td>&hellip;</td><td>&hellip;</td><td>&hellip;</td><td>&hellip;</td><td>&hellip;</td><td>&hellip;</td><td>&hellip;</td><td>&hellip;</td><td>&hellip;</td><td>&hellip;</td><td>&hellip;</td><td>&hellip;</td><td>&hellip;</td><td>&hellip;</td><td>&hellip;</td><td>&hellip;</td><td>&hellip;</td><td>&hellip;</td><td>&hellip;</td><td>&hellip;</td><td>&hellip;</td><td>&hellip;</td><td>&hellip;</td><td>&hellip;</td><td>&hellip;</td><td>&hellip;</td><td>&hellip;</td><td>&hellip;</td><td>&hellip;</td><td>&hellip;</td><td>&hellip;</td><td>&hellip;</td><td>&hellip;</td><td>&hellip;</td><td>&hellip;</td><td>&hellip;</td><td>&hellip;</td><td>&hellip;</td><td>&hellip;</td><td>&hellip;</td><td>&hellip;</td><td>&hellip;</td><td>&hellip;</td><td>&hellip;</td><td>&hellip;</td><td>&hellip;</td><td>&hellip;</td><td>&hellip;</td><td>&hellip;</td><td>&hellip;</td><td>&hellip;</td><td>&hellip;</td><td>&hellip;</td><td>&hellip;</td><td>&hellip;</td><td>&hellip;</td><td>&hellip;</td></tr><tr><td>&quot;Liiga Smilshka…</td><td>&quot;5a50ced2-b301-…</td><td>null</td><td>null</td><td>&quot;arena, mtgo, p…</td><td>null</td><td>&quot;black&quot;</td><td>null</td><td>&quot;W&quot;</td><td>null</td><td>&quot;W&quot;</td><td>null</td><td>null</td><td>6943.0</td><td>0.12</td><td>null</td><td>null</td><td>null</td><td>null</td><td>&quot;nonfoil, foil&quot;</td><td>null</td><td>&quot;She&#x27;ll swing a…</td><td>&quot;inverted&quot;</td><td>&quot;2015&quot;</td><td>null</td><td>null</td><td>null</td><td>true</td><td>true</td><td>null</td><td>null</td><td>null</td><td>null</td><td>null</td><td>true</td><td>null</td><td>null</td><td>&hellip;</td><td>null</td><td>null</td><td>&quot;English&quot;</td><td>&quot;normal&quot;</td><td>null</td><td>null</td><td>null</td><td>&quot;{W}&quot;</td><td>1.0</td><td>&quot;Lay Down Arms&quot;</td><td>&quot;380&quot;</td><td>null</td><td>null</td><td>null</td><td>null</td><td>null</td><td>null</td><td>&quot;BRO&quot;</td><td>&quot;promopack&quot;</td><td>&quot;uncommon&quot;</td><td>null</td><td>null</td><td>&quot;oval&quot;</td><td>&quot;BRO&quot;</td><td>null</td><td>null</td><td>null</td><td>null</td><td>&quot;&quot;</td><td>&quot;&quot;</td><td>&quot;Exile target c…</td><td>null</td><td>&quot;Sorcery&quot;</td><td>&quot;Sorcery&quot;</td><td>&quot;c0712b85-a002-…</td><td>&quot;75daa469-6ba9-…</td><td>&quot;planeswalker&quot;</td></tr><tr><td>&quot;Tuan Duong Chu…</td><td>&quot;d84246f9-a536-…</td><td>null</td><td>null</td><td>&quot;arena, mtgo, p…</td><td>null</td><td>&quot;black&quot;</td><td>null</td><td>&quot;U&quot;</td><td>null</td><td>&quot;U&quot;</td><td>null</td><td>null</td><td>4404.0</td><td>0.1</td><td>null</td><td>null</td><td>null</td><td>null</td><td>&quot;nonfoil, foil&quot;</td><td>null</td><td>&quot;&quot;Focus your mi…</td><td>&quot;inverted&quot;</td><td>&quot;2015&quot;</td><td>null</td><td>null</td><td>null</td><td>true</td><td>true</td><td>null</td><td>null</td><td>null</td><td>null</td><td>null</td><td>true</td><td>null</td><td>null</td><td>&hellip;</td><td>null</td><td>null</td><td>&quot;English&quot;</td><td>&quot;normal&quot;</td><td>null</td><td>null</td><td>null</td><td>&quot;{4}{U}&quot;</td><td>5.0</td><td>&quot;Flow of Knowle…</td><td>&quot;381&quot;</td><td>null</td><td>null</td><td>null</td><td>null</td><td>null</td><td>null</td><td>&quot;BRO&quot;</td><td>&quot;promopack&quot;</td><td>&quot;uncommon&quot;</td><td>null</td><td>null</td><td>&quot;oval&quot;</td><td>&quot;BRO&quot;</td><td>null</td><td>null</td><td>null</td><td>null</td><td>&quot;&quot;</td><td>&quot;&quot;</td><td>&quot;Draw a card fo…</td><td>null</td><td>&quot;Instant&quot;</td><td>&quot;Instant&quot;</td><td>&quot;8dd8300a-ab15-…</td><td>&quot;eac32d48-3333-…</td><td>&quot;planeswalker&quot;</td></tr><tr><td>&quot;Julie Dillon&quot;</td><td>&quot;ce8605ad-6d5a-…</td><td>null</td><td>null</td><td>&quot;arena, mtgo, p…</td><td>null</td><td>&quot;black&quot;</td><td>null</td><td>&quot;B&quot;</td><td>null</td><td>&quot;B&quot;</td><td>null</td><td>null</td><td>7547.0</td><td>0.24</td><td>null</td><td>null</td><td>null</td><td>null</td><td>&quot;nonfoil, foil&quot;</td><td>null</td><td>&quot;&quot;Most wise, mo…</td><td>&quot;inverted&quot;</td><td>&quot;2015&quot;</td><td>null</td><td>null</td><td>null</td><td>true</td><td>true</td><td>null</td><td>null</td><td>null</td><td>null</td><td>null</td><td>true</td><td>null</td><td>true</td><td>&hellip;</td><td>null</td><td>null</td><td>&quot;English&quot;</td><td>&quot;normal&quot;</td><td>null</td><td>null</td><td>null</td><td>&quot;{5}{B}&quot;</td><td>6.0</td><td>&quot;Corrupt&quot;</td><td>&quot;382&quot;</td><td>null</td><td>null</td><td>null</td><td>null</td><td>null</td><td>null</td><td>&quot;7ED, BRO, DDC,…</td><td>&quot;promopack&quot;</td><td>&quot;uncommon&quot;</td><td>null</td><td>null</td><td>&quot;oval&quot;</td><td>&quot;BRO&quot;</td><td>null</td><td>null</td><td>null</td><td>null</td><td>&quot;&quot;</td><td>&quot;&quot;</td><td>&quot;Corrupt deals …</td><td>null</td><td>&quot;Sorcery&quot;</td><td>&quot;Sorcery&quot;</td><td>&quot;281cc1c7-b5c3-…</td><td>&quot;05d760c0-3e76-…</td><td>&quot;planeswalker&quot;</td></tr><tr><td>&quot;Joseph Weston&quot;</td><td>&quot;50365a81-fa9f-…</td><td>null</td><td>null</td><td>&quot;arena, mtgo, p…</td><td>null</td><td>&quot;black&quot;</td><td>null</td><td>&quot;R&quot;</td><td>null</td><td>&quot;R&quot;</td><td>null</td><td>null</td><td>12701.0</td><td>0.09</td><td>null</td><td>null</td><td>null</td><td>null</td><td>&quot;nonfoil, foil&quot;</td><td>null</td><td>&quot;When Urza betr…</td><td>&quot;inverted&quot;</td><td>&quot;2015&quot;</td><td>null</td><td>null</td><td>null</td><td>true</td><td>true</td><td>null</td><td>null</td><td>null</td><td>null</td><td>null</td><td>true</td><td>null</td><td>null</td><td>&hellip;</td><td>null</td><td>null</td><td>&quot;English&quot;</td><td>&quot;normal&quot;</td><td>null</td><td>null</td><td>null</td><td>&quot;{1}{R}&quot;</td><td>2.0</td><td>&quot;Sardian Cliffs…</td><td>&quot;383&quot;</td><td>null</td><td>null</td><td>null</td><td>null</td><td>null</td><td>&quot;0&quot;</td><td>&quot;BRO&quot;</td><td>&quot;promopack&quot;</td><td>&quot;uncommon&quot;</td><td>null</td><td>null</td><td>&quot;oval&quot;</td><td>&quot;BRO&quot;</td><td>null</td><td>null</td><td>null</td><td>null</td><td>&quot;Minotaur, Barb…</td><td>&quot;&quot;</td><td>&quot;As long as it&#x27;…</td><td>&quot;4&quot;</td><td>&quot;Creature — Min…</td><td>&quot;Creature&quot;</td><td>&quot;6999b379-736a-…</td><td>&quot;d5bee0a3-7e2b-…</td><td>&quot;planeswalker&quot;</td></tr><tr><td>&quot;Manuel Castañó…</td><td>&quot;35f11eeb-36ff-…</td><td>null</td><td>null</td><td>&quot;arena, mtgo, p…</td><td>null</td><td>&quot;black&quot;</td><td>null</td><td>&quot;G&quot;</td><td>null</td><td>&quot;G&quot;</td><td>null</td><td>null</td><td>3370.0</td><td>0.17</td><td>null</td><td>null</td><td>null</td><td>null</td><td>&quot;nonfoil, foil&quot;</td><td>null</td><td>&quot;Some armor is …</td><td>&quot;inverted&quot;</td><td>&quot;2015&quot;</td><td>null</td><td>null</td><td>null</td><td>true</td><td>true</td><td>null</td><td>null</td><td>null</td><td>null</td><td>null</td><td>true</td><td>null</td><td>true</td><td>&hellip;</td><td>null</td><td>&quot;Enchant&quot;</td><td>&quot;English&quot;</td><td>&quot;normal&quot;</td><td>null</td><td>null</td><td>null</td><td>&quot;{2}{G}&quot;</td><td>3.0</td><td>&quot;Blanchwood Arm…</td><td>&quot;384&quot;</td><td>null</td><td>null</td><td>null</td><td>null</td><td>null</td><td>null</td><td>&quot;10E, 7ED, 8ED,…</td><td>&quot;promopack&quot;</td><td>&quot;uncommon&quot;</td><td>null</td><td>null</td><td>&quot;oval&quot;</td><td>&quot;BRO&quot;</td><td>null</td><td>null</td><td>null</td><td>null</td><td>&quot;Aura&quot;</td><td>&quot;&quot;</td><td>&quot;Enchant creatu…</td><td>null</td><td>&quot;Enchantment — …</td><td>&quot;Enchantment&quot;</td><td>&quot;8eadb239-db1e-…</td><td>&quot;0c193a0e-6d64-…</td><td>&quot;planeswalker&quot;</td></tr></tbody></table></div>"
      ],
      "text/plain": [
       "shape: (399, 78)\n",
       "┌───────────┬───────────┬───────────┬───────────┬───┬───────────┬───────────┬───────────┬──────────┐\n",
       "│ artist    ┆ artistIds ┆ asciiName ┆ attractio ┆ … ┆ types     ┆ uuid      ┆ variation ┆ watermar │\n",
       "│ ---       ┆ ---       ┆ ---       ┆ nLights   ┆   ┆ ---       ┆ ---       ┆ s         ┆ k        │\n",
       "│ str       ┆ str       ┆ str       ┆ ---       ┆   ┆ str       ┆ str       ┆ ---       ┆ ---      │\n",
       "│           ┆           ┆           ┆ str       ┆   ┆           ┆           ┆ str       ┆ str      │\n",
       "╞═══════════╪═══════════╪═══════════╪═══════════╪═══╪═══════════╪═══════════╪═══════════╪══════════╡\n",
       "│ Lorenzo   ┆ 70213e7d- ┆ null      ┆ null      ┆ … ┆ Creature  ┆ 6ff98307- ┆ null      ┆ null     │\n",
       "│ Mastroian ┆ 47e0-4543 ┆           ┆           ┆   ┆           ┆ b89c-5a43 ┆           ┆          │\n",
       "│ ni        ┆ -a1ae-451 ┆           ┆           ┆   ┆           ┆ -bc3c-3f8 ┆           ┆          │\n",
       "│           ┆ 00905…    ┆           ┆           ┆   ┆           ┆ 1d803…    ┆           ┆          │\n",
       "│ Caroline  ┆ 61a4c572- ┆ null      ┆ null      ┆ … ┆ Creature  ┆ e4d66ec1- ┆ null      ┆ null     │\n",
       "│ Gariba    ┆ 3d1b-4b71 ┆           ┆           ┆   ┆           ┆ 7ba2-5c80 ┆           ┆          │\n",
       "│           ┆ -aeb0-1a5 ┆           ┆           ┆   ┆           ┆ -a9c1-e33 ┆           ┆          │\n",
       "│           ┆ a6b82…    ┆           ┆           ┆   ┆           ┆ 500cf…    ┆           ┆          │\n",
       "│ Vladimir  ┆ 6a6d08a4- ┆ null      ┆ null      ┆ … ┆ Creature  ┆ 8d065ec5- ┆ null      ┆ null     │\n",
       "│ Krisetski ┆ 77eb-4345 ┆           ┆           ┆   ┆           ┆ 4e7f-50f6 ┆           ┆          │\n",
       "│ y         ┆ -9ac4-212 ┆           ┆           ┆   ┆           ┆ -92c8-277 ┆           ┆          │\n",
       "│           ┆ 48cce…    ┆           ┆           ┆   ┆           ┆ 673a6…    ┆           ┆          │\n",
       "│ Slawomir  ┆ d887bc66- ┆ null      ┆ null      ┆ … ┆ Instant   ┆ 45e16536- ┆ null      ┆ null     │\n",
       "│ Maniak    ┆ 2779-416c ┆           ┆           ┆   ┆           ┆ c429-54c9 ┆           ┆          │\n",
       "│           ┆ -a1ff-d87 ┆           ┆           ┆   ┆           ┆ -906e-43b ┆           ┆          │\n",
       "│           ┆ 20242…    ┆           ┆           ┆   ┆           ┆ 9f9ee…    ┆           ┆          │\n",
       "│ Olena     ┆ fad4282c- ┆ null      ┆ null      ┆ … ┆ Instant   ┆ d184bcd7- ┆ null      ┆ null     │\n",
       "│ Richards  ┆ 49d1-4b5b ┆           ┆           ┆   ┆           ┆ 1c35-558f ┆           ┆          │\n",
       "│           ┆ -be1d-713 ┆           ┆           ┆   ┆           ┆ -8fd4-c20 ┆           ┆          │\n",
       "│           ┆ 369fc…    ┆           ┆           ┆   ┆           ┆ 65a34…    ┆           ┆          │\n",
       "│ …         ┆ …         ┆ …         ┆ …         ┆ … ┆ …         ┆ …         ┆ …         ┆ …        │\n",
       "│ Liiga Smi ┆ 5a50ced2- ┆ null      ┆ null      ┆ … ┆ Sorcery   ┆ c0712b85- ┆ 75daa469- ┆ planeswa │\n",
       "│ lshkalne  ┆ b301-4195 ┆           ┆           ┆   ┆           ┆ a002-5e55 ┆ 6ba9-5c9b ┆ lker     │\n",
       "│           ┆ -8af4-f7e ┆           ┆           ┆   ┆           ┆ -98e9-902 ┆ -a5e3-950 ┆          │\n",
       "│           ┆ 1bae0…    ┆           ┆           ┆   ┆           ┆ bb377…    ┆ 9cfb6…    ┆          │\n",
       "│ Tuan      ┆ d84246f9- ┆ null      ┆ null      ┆ … ┆ Instant   ┆ 8dd8300a- ┆ eac32d48- ┆ planeswa │\n",
       "│ Duong Chu ┆ a536-485f ┆           ┆           ┆   ┆           ┆ ab15-5eee ┆ 3333-5a71 ┆ lker     │\n",
       "│           ┆ -a21d-a23 ┆           ┆           ┆   ┆           ┆ -be5e-583 ┆ -8c03-a62 ┆          │\n",
       "│           ┆ 7302e…    ┆           ┆           ┆   ┆           ┆ 438b5…    ┆ bedeb…    ┆          │\n",
       "│ Julie     ┆ ce8605ad- ┆ null      ┆ null      ┆ … ┆ Sorcery   ┆ 281cc1c7- ┆ 05d760c0- ┆ planeswa │\n",
       "│ Dillon    ┆ 6d5a-45a3 ┆           ┆           ┆   ┆           ┆ b5c3-5784 ┆ 3e76-597c ┆ lker     │\n",
       "│           ┆ -a7b6-84b ┆           ┆           ┆   ┆           ┆ -b1d0-791 ┆ -9881-9f2 ┆          │\n",
       "│           ┆ e4f52…    ┆           ┆           ┆   ┆           ┆ 6b185…    ┆ 04d34…    ┆          │\n",
       "│ Joseph    ┆ 50365a81- ┆ null      ┆ null      ┆ … ┆ Creature  ┆ 6999b379- ┆ d5bee0a3- ┆ planeswa │\n",
       "│ Weston    ┆ fa9f-4fcf ┆           ┆           ┆   ┆           ┆ 736a-5b82 ┆ 7e2b-5266 ┆ lker     │\n",
       "│           ┆ -aa83-6a5 ┆           ┆           ┆   ┆           ┆ -832d-df9 ┆ -88f1-038 ┆          │\n",
       "│           ┆ 7c63a…    ┆           ┆           ┆   ┆           ┆ 79909…    ┆ 3cc31…    ┆          │\n",
       "│ Manuel    ┆ 35f11eeb- ┆ null      ┆ null      ┆ … ┆ Enchantme ┆ 8eadb239- ┆ 0c193a0e- ┆ planeswa │\n",
       "│ Castañón  ┆ 36ff-4059 ┆           ┆           ┆   ┆ nt        ┆ db1e-5c89 ┆ 6d64-5231 ┆ lker     │\n",
       "│           ┆ -bb70-d12 ┆           ┆           ┆   ┆           ┆ -8111-a31 ┆ -a8cc-cf7 ┆          │\n",
       "│           ┆ 74f5b…    ┆           ┆           ┆   ┆           ┆ 136c9…    ┆ 7cb65…    ┆          │\n",
       "└───────────┴───────────┴───────────┴───────────┴───┴───────────┴───────────┴───────────┴──────────┘"
      ]
     },
     "execution_count": 29,
     "metadata": {},
     "output_type": "execute_result"
    }
   ],
   "source": [
    "df.filter(pl.col(\"setCode\") == \"BRO\")"
   ]
  }
 ],
 "metadata": {
  "kernelspec": {
   "display_name": "Python 3",
   "language": "python",
   "name": "python3"
  },
  "language_info": {
   "codemirror_mode": {
    "name": "ipython",
    "version": 3
   },
   "file_extension": ".py",
   "mimetype": "text/x-python",
   "name": "python",
   "nbconvert_exporter": "python",
   "pygments_lexer": "ipython3",
   "version": "3.12.0"
  }
 },
 "nbformat": 4,
 "nbformat_minor": 2
}
