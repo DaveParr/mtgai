{
 "cells": [
  {
   "cell_type": "code",
   "execution_count": 3,
   "metadata": {},
   "outputs": [
    {
     "data": {
      "text/html": [
       "<div><style>\n",
       ".dataframe > thead > tr,\n",
       ".dataframe > tbody > tr {\n",
       "  text-align: right;\n",
       "  white-space: pre-wrap;\n",
       "}\n",
       "</style>\n",
       "<small>shape: (9, 18)</small><table border=\"1\" class=\"dataframe\"><thead><tr><th>statistic</th><th>name</th><th>colorIdentity</th><th>colors</th><th>faceConvertedManaCost</th><th>keywords</th><th>loyalty</th><th>manaCost</th><th>manaValue</th><th>power</th><th>subtypes</th><th>supertypes</th><th>toughness</th><th>text</th><th>type</th><th>types</th><th>setCodes</th><th>page_content</th></tr><tr><td>str</td><td>str</td><td>str</td><td>str</td><td>f64</td><td>str</td><td>str</td><td>str</td><td>f64</td><td>str</td><td>str</td><td>str</td><td>str</td><td>str</td><td>str</td><td>str</td><td>f64</td><td>str</td></tr></thead><tbody><tr><td>&quot;count&quot;</td><td>&quot;656&quot;</td><td>&quot;656&quot;</td><td>&quot;656&quot;</td><td>35.0</td><td>&quot;461&quot;</td><td>&quot;0&quot;</td><td>&quot;647&quot;</td><td>656.0</td><td>&quot;656&quot;</td><td>&quot;656&quot;</td><td>&quot;656&quot;</td><td>&quot;656&quot;</td><td>&quot;655&quot;</td><td>&quot;656&quot;</td><td>&quot;656&quot;</td><td>656.0</td><td>&quot;656&quot;</td></tr><tr><td>&quot;null_count&quot;</td><td>&quot;0&quot;</td><td>&quot;0&quot;</td><td>&quot;0&quot;</td><td>621.0</td><td>&quot;195&quot;</td><td>&quot;656&quot;</td><td>&quot;9&quot;</td><td>0.0</td><td>&quot;0&quot;</td><td>&quot;0&quot;</td><td>&quot;0&quot;</td><td>&quot;0&quot;</td><td>&quot;1&quot;</td><td>&quot;0&quot;</td><td>&quot;0&quot;</td><td>0.0</td><td>&quot;0&quot;</td></tr><tr><td>&quot;mean&quot;</td><td>null</td><td>null</td><td>null</td><td>2.657143</td><td>null</td><td>null</td><td>null</td><td>3.920732</td><td>null</td><td>null</td><td>null</td><td>null</td><td>null</td><td>null</td><td>null</td><td>null</td><td>null</td></tr><tr><td>&quot;std&quot;</td><td>null</td><td>null</td><td>null</td><td>2.057166</td><td>null</td><td>null</td><td>null</td><td>1.520284</td><td>null</td><td>null</td><td>null</td><td>null</td><td>null</td><td>null</td><td>null</td><td>null</td><td>null</td></tr><tr><td>&quot;min&quot;</td><td>&quot;Abuelo, Ancest…</td><td>&quot;&quot;</td><td>&quot;&quot;</td><td>0.0</td><td>&quot;Adapt&quot;</td><td>null</td><td>&quot;{10}&quot;</td><td>1.0</td><td>&quot;*&quot;</td><td>&quot;Aetherborn, Ro…</td><td>&quot;Legendary&quot;</td><td>&quot;*&quot;</td><td>&quot;({B/P} can be …</td><td>&quot;Legendary Crea…</td><td>&quot;Creature&quot;</td><td>null</td><td>&quot;Legendary Crea…</td></tr><tr><td>&quot;25%&quot;</td><td>null</td><td>null</td><td>null</td><td>1.0</td><td>null</td><td>null</td><td>null</td><td>3.0</td><td>null</td><td>null</td><td>null</td><td>null</td><td>null</td><td>null</td><td>null</td><td>null</td><td>null</td></tr><tr><td>&quot;50%&quot;</td><td>null</td><td>null</td><td>null</td><td>3.0</td><td>null</td><td>null</td><td>null</td><td>4.0</td><td>null</td><td>null</td><td>null</td><td>null</td><td>null</td><td>null</td><td>null</td><td>null</td><td>null</td></tr><tr><td>&quot;75%&quot;</td><td>null</td><td>null</td><td>null</td><td>4.0</td><td>null</td><td>null</td><td>null</td><td>5.0</td><td>null</td><td>null</td><td>null</td><td>null</td><td>null</td><td>null</td><td>null</td><td>null</td><td>null</td></tr><tr><td>&quot;max&quot;</td><td>&quot;Éowyn, Shieldm…</td><td>&quot;W&quot;</td><td>&quot;W&quot;</td><td>7.0</td><td>&quot;Will of the co…</td><td>null</td><td>&quot;{X}{W}&quot;</td><td>12.0</td><td>&quot;9&quot;</td><td>&quot;Zombie, Mutant…</td><td>&quot;Legendary&quot;</td><td>&quot;9&quot;</td><td>&quot;{W/B}{W/B}: If…</td><td>&quot;Legendary Crea…</td><td>&quot;Creature&quot;</td><td>null</td><td>&quot;Legendary Crea…</td></tr></tbody></table></div>"
      ],
      "text/plain": [
       "shape: (9, 18)\n",
       "┌────────────┬────────────┬────────────┬────────┬───┬────────────┬──────────┬──────────┬───────────┐\n",
       "│ statistic  ┆ name       ┆ colorIdent ┆ colors ┆ … ┆ type       ┆ types    ┆ setCodes ┆ page_cont │\n",
       "│ ---        ┆ ---        ┆ ity        ┆ ---    ┆   ┆ ---        ┆ ---      ┆ ---      ┆ ent       │\n",
       "│ str        ┆ str        ┆ ---        ┆ str    ┆   ┆ str        ┆ str      ┆ f64      ┆ ---       │\n",
       "│            ┆            ┆ str        ┆        ┆   ┆            ┆          ┆          ┆ str       │\n",
       "╞════════════╪════════════╪════════════╪════════╪═══╪════════════╪══════════╪══════════╪═══════════╡\n",
       "│ count      ┆ 656        ┆ 656        ┆ 656    ┆ … ┆ 656        ┆ 656      ┆ 656.0    ┆ 656       │\n",
       "│ null_count ┆ 0          ┆ 0          ┆ 0      ┆ … ┆ 0          ┆ 0        ┆ 0.0      ┆ 0         │\n",
       "│ mean       ┆ null       ┆ null       ┆ null   ┆ … ┆ null       ┆ null     ┆ null     ┆ null      │\n",
       "│ std        ┆ null       ┆ null       ┆ null   ┆ … ┆ null       ┆ null     ┆ null     ┆ null      │\n",
       "│ min        ┆ Abuelo,    ┆            ┆        ┆ … ┆ Legendary  ┆ Creature ┆ null     ┆ Legendary │\n",
       "│            ┆ Ancestral  ┆            ┆        ┆   ┆ Creature — ┆          ┆          ┆ Creature  │\n",
       "│            ┆ Echo       ┆            ┆        ┆   ┆ Aetherborn ┆          ┆          ┆ — Aetherb │\n",
       "│            ┆            ┆            ┆        ┆   ┆ …          ┆          ┆          ┆ orn …     │\n",
       "│ 25%        ┆ null       ┆ null       ┆ null   ┆ … ┆ null       ┆ null     ┆ null     ┆ null      │\n",
       "│ 50%        ┆ null       ┆ null       ┆ null   ┆ … ┆ null       ┆ null     ┆ null     ┆ null      │\n",
       "│ 75%        ┆ null       ┆ null       ┆ null   ┆ … ┆ null       ┆ null     ┆ null     ┆ null      │\n",
       "│ max        ┆ Éowyn, Shi ┆ W          ┆ W      ┆ … ┆ Legendary  ┆ Creature ┆ null     ┆ Legendary │\n",
       "│            ┆ eldmaiden  ┆            ┆        ┆   ┆ Creature — ┆          ┆          ┆ Creature  │\n",
       "│            ┆            ┆            ┆        ┆   ┆ Zombie     ┆          ┆          ┆ — Zombie  │\n",
       "│            ┆            ┆            ┆        ┆   ┆ Muta…      ┆          ┆          ┆ Muta…     │\n",
       "└────────────┴────────────┴────────────┴────────┴───┴────────────┴──────────┴──────────┴───────────┘"
      ]
     },
     "execution_count": 3,
     "metadata": {},
     "output_type": "execute_result"
    }
   ],
   "source": [
    "import polars as pl\n",
    "\n",
    "commanders = pl.read_parquet(\"./../data/processed/commanders.parquet\")\n",
    "commanders.describe()"
   ]
  },
  {
   "cell_type": "code",
   "execution_count": 4,
   "metadata": {},
   "outputs": [],
   "source": [
    "commanders_subset = commanders.slice(0, 10)"
   ]
  },
  {
   "cell_type": "code",
   "execution_count": 5,
   "metadata": {},
   "outputs": [],
   "source": [
    "import langchain\n",
    "import langchain.globals\n",
    "import langchain_openai\n",
    "\n",
    "langchain.globals.set_debug(True)\n",
    "langchain.globals.set_verbose(True)\n",
    "\n",
    "llm = langchain_openai.OpenAI()"
   ]
  },
  {
   "cell_type": "code",
   "execution_count": 6,
   "metadata": {},
   "outputs": [
    {
     "name": "stdout",
     "output_type": "stream",
     "text": [
      "page_content=\"Flying, ward {2}\\\\n{1}{W}{U}: Exile another target creature or artifact you control. Return it to the battlefield under its owner's control at the beginning of the next end step.\" metadata={'name': 'Abuelo, Ancestral Echo', 'colorIdentity': 'U, W', 'colors': 'U, W', 'faceConvertedManaCost': None, 'keywords': 'Flying, Ward', 'loyalty': None, 'manaCost': '{1}{W}{U}', 'manaValue': 3.0, 'power': '2', 'subtypes': 'Spirit', 'supertypes': 'Legendary', 'toughness': '2', 'type': 'Legendary Creature — Spirit', 'types': 'Creature', 'setCodes': ['LCI', 'LCI'], 'page_content': \"Legendary Creature — SpiritFlying, ward {2}\\\\n{1}{W}{U}: Exile another target creature or artifact you control. Return it to the battlefield under its owner's control at the beginning of the next end step.Flying, Ward\"}\n",
      "page_content=\"Nitro-9 — Whenever Ace, Fearless Rebel attacks, you may sacrifice an artifact. When you do, put a +1/+1 counter on Ace, Fearless Rebel, then it fights up to one target creature defending player controls.\\\\nDoctor's companion (You can have two commanders if the other is the Doctor.)\" metadata={'name': 'Ace, Fearless Rebel', 'colorIdentity': 'G', 'colors': 'G', 'faceConvertedManaCost': None, 'keywords': \"Doctor's companion, Fight, Nitro-9\", 'loyalty': None, 'manaCost': '{3}{G}', 'manaValue': 4.0, 'power': '2', 'subtypes': 'Human, Rebel', 'supertypes': 'Legendary', 'toughness': '2', 'type': 'Legendary Creature — Human Rebel', 'types': 'Creature', 'setCodes': ['WHO', 'WHO', 'WHO', 'WHO'], 'page_content': \"Legendary Creature — Human RebelNitro-9 — Whenever Ace, Fearless Rebel attacks, you may sacrifice an artifact. When you do, put a +1/+1 counter on Ace, Fearless Rebel, then it fights up to one target creature defending player controls.\\\\nDoctor's companion (You can have two commanders if the other is the Doctor.)Doctor's companion, Fight, Nitro-9\"}\n",
      "page_content=\"Flying, lifelink\\\\nWhenever Aclazotz attacks, each opponent discards a card. For each opponent who can't, you draw a card.\\\\nWhenever an opponent discards a land card, create a 1/1 black Bat creature token with flying.\\\\nWhen Aclazotz dies, return it to the battlefield tapped and transformed under its owner's control.\" metadata={'name': 'Aclazotz, Deepest Betrayal // Temple of the Dead', 'colorIdentity': 'B', 'colors': 'B', 'faceConvertedManaCost': 5.0, 'keywords': 'Flying, Lifelink, Transform', 'loyalty': None, 'manaCost': '{3}{B}{B}', 'manaValue': 5.0, 'power': '4', 'subtypes': 'Bat, God', 'supertypes': 'Legendary', 'toughness': '4', 'type': 'Legendary Creature — Bat God', 'types': 'Creature', 'setCodes': ['LCI', 'LCI'], 'page_content': \"Legendary Creature — Bat GodFlying, lifelink\\\\nWhenever Aclazotz attacks, each opponent discards a card. For each opponent who can't, you draw a card.\\\\nWhenever an opponent discards a land card, create a 1/1 black Bat creature token with flying.\\\\nWhen Aclazotz dies, return it to the battlefield tapped and transformed under its owner's control.Flying, Lifelink, Transform\"}\n",
      "page_content=\"Vigilance\\\\nAdeline, Resplendent Cathar's power is equal to the number of creatures you control.\\\\nWhenever you attack, for each opponent, create a 1/1 white Human creature token that's tapped and attacking that player or a planeswalker they control.\" metadata={'name': 'Adeline, Resplendent Cathar', 'colorIdentity': 'W', 'colors': 'W', 'faceConvertedManaCost': None, 'keywords': 'Vigilance', 'loyalty': None, 'manaCost': '{1}{W}{W}', 'manaValue': 3.0, 'power': '*', 'subtypes': 'Human, Knight', 'supertypes': 'Legendary', 'toughness': '4', 'type': 'Legendary Creature — Human Knight', 'types': 'Creature', 'setCodes': ['MOC'], 'page_content': \"Legendary Creature — Human KnightVigilance\\\\nAdeline, Resplendent Cathar's power is equal to the number of creatures you control.\\\\nWhenever you attack, for each opponent, create a 1/1 white Human creature token that's tapped and attacking that player or a planeswalker they control.Vigilance\"}\n",
      "page_content='Other Pirates you control get +1/+1.\\\\nAt the beginning of your end step, gain control of target nonland permanent controlled by a player who was dealt combat damage by three or more Pirates this turn.' metadata={'name': 'Admiral Beckett Brass', 'colorIdentity': 'B, R, U', 'colors': 'B, R, U', 'faceConvertedManaCost': None, 'keywords': None, 'loyalty': None, 'manaCost': '{1}{U}{B}{R}', 'manaValue': 4.0, 'power': '3', 'subtypes': 'Human, Pirate', 'supertypes': 'Legendary', 'toughness': '3', 'type': 'Legendary Creature — Human Pirate', 'types': 'Creature', 'setCodes': ['LCC'], 'page_content': 'Legendary Creature — Human PirateOther Pirates you control get +1/+1.\\\\nAt the beginning of your end step, gain control of target nonland permanent controlled by a player who was dealt combat damage by three or more Pirates this turn.'}\n",
      "page_content='When Admiral Brass, Unsinkable enters the battlefield, mill four cards.\\\\nAt the beginning of combat on your turn, you may return target Pirate creature card from your graveyard to the battlefield with a finality counter on it. It has base power and toughness 4/4. It gains haste until end of turn. (If a creature with a finality counter on it would die, exile it instead.)' metadata={'name': 'Admiral Brass, Unsinkable', 'colorIdentity': 'B, R, U', 'colors': 'B, R, U', 'faceConvertedManaCost': None, 'keywords': 'Mill', 'loyalty': None, 'manaCost': '{2}{U}{B}{R}', 'manaValue': 5.0, 'power': '3', 'subtypes': 'Human, Pirate', 'supertypes': 'Legendary', 'toughness': '3', 'type': 'Legendary Creature — Human Pirate', 'types': 'Creature', 'setCodes': ['LCC', 'LCC', 'LCC', 'LCC'], 'page_content': 'Legendary Creature — Human PirateWhen Admiral Brass, Unsinkable enters the battlefield, mill four cards.\\\\nAt the beginning of combat on your turn, you may return target Pirate creature card from your graveyard to the battlefield with a finality counter on it. It has base power and toughness 4/4. It gains haste until end of turn. (If a creature with a finality counter on it would die, exile it instead.)Mill'}\n",
      "page_content='Melee (Whenever this creature attacks, it gets +1/+1 until end of turn for each opponent you attacked this combat.)\\\\nOther creatures you control have melee. (If a creature has multiple instances of melee, each triggers separately.)' metadata={'name': 'Adriana, Captain of the Guard', 'colorIdentity': 'R, W', 'colors': 'R, W', 'faceConvertedManaCost': None, 'keywords': 'Melee', 'loyalty': None, 'manaCost': '{3}{R}{W}', 'manaValue': 5.0, 'power': '4', 'subtypes': 'Human, Knight', 'supertypes': 'Legendary', 'toughness': '4', 'type': 'Legendary Creature — Human Knight', 'types': 'Creature', 'setCodes': ['ONC'], 'page_content': 'Legendary Creature — Human KnightMelee (Whenever this creature attacks, it gets +1/+1 until end of turn for each opponent you attacked this combat.)\\\\nOther creatures you control have melee. (If a creature has multiple instances of melee, each triggers separately.)Melee'}\n",
      "page_content=\"{2}{U}, {T}: Copy target activated or triggered ability you control. You may choose new targets for the copy.\\\\nUltimate Sacrifice — {1}{U}, Sacrifice Adric: Counter target activated or triggered ability.\\\\nDoctor's companion (You can have two commanders if the other is the Doctor.)\" metadata={'name': 'Adric, Mathematical Genius', 'colorIdentity': 'U', 'colors': 'U', 'faceConvertedManaCost': None, 'keywords': \"Doctor's companion, Ultimate Sacrifice\", 'loyalty': None, 'manaCost': '{1}{U}', 'manaValue': 2.0, 'power': '1', 'subtypes': 'Human, Artificer', 'supertypes': 'Legendary', 'toughness': '1', 'type': 'Legendary Creature — Human Artificer', 'types': 'Creature', 'setCodes': ['WHO', 'WHO', 'WHO', 'WHO'], 'page_content': \"Legendary Creature — Human Artificer{2}{U}, {T}: Copy target activated or triggered ability you control. You may choose new targets for the copy.\\\\nUltimate Sacrifice — {1}{U}, Sacrifice Adric: Counter target activated or triggered ability.\\\\nDoctor's companion (You can have two commanders if the other is the Doctor.)Doctor's companion, Ultimate Sacrifice\"}\n",
      "page_content='Ward {2} (Whenever this creature becomes the target of a spell or ability an opponent controls, counter it unless that player pays {2}.)\\\\nIf one or more tokens would be created under your control, twice that many of those tokens are created instead.' metadata={'name': 'Adrix and Nev, Twincasters', 'colorIdentity': 'G, U', 'colors': 'G, U', 'faceConvertedManaCost': None, 'keywords': 'Ward', 'loyalty': None, 'manaCost': '{2}{G}{U}', 'manaValue': 4.0, 'power': '2', 'subtypes': 'Merfolk, Wizard', 'supertypes': 'Legendary', 'toughness': '2', 'type': 'Legendary Creature — Merfolk Wizard', 'types': 'Creature', 'setCodes': ['MKC'], 'page_content': 'Legendary Creature — Merfolk WizardWard {2} (Whenever this creature becomes the target of a spell or ability an opponent controls, counter it unless that player pays {2}.)\\\\nIf one or more tokens would be created under your control, twice that many of those tokens are created instead.Ward'}\n",
      "page_content=\"Activated abilities of creatures you control cost {X} less to activate, where X is Agatha of the Vile Cauldron's power. This effect can't reduce the mana in that cost to less than one mana.\\\\n{4}{R}{G}: Other creatures you control get +1/+1 and gain trample and haste until end of turn.\" metadata={'name': 'Agatha of the Vile Cauldron', 'colorIdentity': 'G, R', 'colors': 'G, R', 'faceConvertedManaCost': None, 'keywords': None, 'loyalty': None, 'manaCost': '{R}{G}', 'manaValue': 2.0, 'power': '1', 'subtypes': 'Human, Warlock', 'supertypes': 'Legendary', 'toughness': '1', 'type': 'Legendary Creature — Human Warlock', 'types': 'Creature', 'setCodes': ['WOE', 'WOE'], 'page_content': \"Legendary Creature — Human WarlockActivated abilities of creatures you control cost {X} less to activate, where X is Agatha of the Vile Cauldron's power. This effect can't reduce the mana in that cost to less than one mana.\\\\n{4}{R}{G}: Other creatures you control get +1/+1 and gain trample and haste until end of turn.\"}\n"
     ]
    }
   ],
   "source": [
    "\n",
    "from langchain_community.document_loaders import PolarsDataFrameLoader\n",
    "\n",
    "loader = PolarsDataFrameLoader(commanders_subset)\n",
    "\n",
    "# Use lazy load for larger table, which won't read the full table into memory\n",
    "for i in loader.lazy_load():\n",
    "    print(i)"
   ]
  },
  {
   "cell_type": "markdown",
   "metadata": {},
   "source": [
    "## Naive classification"
   ]
  },
  {
   "cell_type": "code",
   "execution_count": 11,
   "metadata": {},
   "outputs": [],
   "source": [
    "from langchain.prompts import PromptTemplate\n",
    "\n",
    "commander_classification = PromptTemplate.from_template(\n",
    "    \"\"\"Classify this commander: {commander_data}\"\"\"\n",
    ")\n",
    "\n",
    "prompts = []\n",
    "for i in commanders_subset.rows():\n",
    "    prompts.append(commander_classification.format(commander_data=i))"
   ]
  },
  {
   "cell_type": "code",
   "execution_count": null,
   "metadata": {},
   "outputs": [],
   "source": [
    "\n",
    "responses = []\n",
    "for i in prompts:\n",
    "    llm.invoke(i)\n",
    "    responses.append(llm.invoke(i))\n",
    "\n",
    "print(responses)"
   ]
  },
  {
   "cell_type": "markdown",
   "metadata": {},
   "source": [
    "## Few shot classification"
   ]
  },
  {
   "cell_type": "code",
   "execution_count": 8,
   "metadata": {},
   "outputs": [
    {
     "name": "stdout",
     "output_type": "stream",
     "text": [
      "('Atraxa, Grand Unifier', 'B, G, U, W', 'B, G, U, W', None, 'Deathtouch, Flying, Lifelink, Vigilance', None, '{3}{G}{W}{U}{B}', 7.0, '7', 'Phyrexian, Angel', 'Legendary', '7', 'Flying, vigilance, deathtouch, lifelink\\\\nWhen Atraxa, Grand Unifier enters the battlefield, reveal the top ten cards of your library. For each card type, you may put a card of that type from among the revealed cards into your hand. Put the rest on the bottom of your library in a random order. (Artifact, battle, creature, enchantment, instant, land, planeswalker, and sorcery are card types.)', 'Legendary Creature — Phyrexian Angel', 'Creature', ['ONE', 'ONE', 'ONE', 'ONE'], 'Legendary Creature — Phyrexian AngelFlying, vigilance, deathtouch, lifelink\\\\nWhen Atraxa, Grand Unifier enters the battlefield, reveal the top ten cards of your library. For each card type, you may put a card of that type from among the revealed cards into your hand. Put the rest on the bottom of your library in a random order. (Artifact, battle, creature, enchantment, instant, land, planeswalker, and sorcery are card types.)Deathtouch, Flying, Lifelink, Vigilance')\n",
      "(\"Gishath, Sun's Avatar\", 'G, R, W', 'G, R, W', None, 'Haste, Trample, Vigilance', None, '{5}{R}{G}{W}', 8.0, '7', 'Dinosaur, Avatar', 'Legendary', '6', \"Vigilance, trample, haste\\\\nWhenever Gishath, Sun's Avatar deals combat damage to a player, reveal that many cards from the top of your library. Put any number of Dinosaur creature cards from among them onto the battlefield and the rest on the bottom of your library in a random order.\", 'Legendary Creature — Dinosaur Avatar', 'Creature', ['LCI', 'LCI'], \"Legendary Creature — Dinosaur AvatarVigilance, trample, haste\\\\nWhenever Gishath, Sun's Avatar deals combat damage to a player, reveal that many cards from the top of your library. Put any number of Dinosaur creature cards from among them onto the battlefield and the rest on the bottom of your library in a random order.Haste, Trample, Vigilance\")\n",
      "('Kumena, Tyrant of Orazca', 'G, U', 'G, U', None, None, None, '{1}{G}{U}', 3.0, '2', 'Merfolk, Shaman', 'Legendary', '4', \"Tap another untapped Merfolk you control: Kumena, Tyrant of Orazca can't be blocked this turn.\\\\nTap three untapped Merfolk you control: Draw a card.\\\\nTap five untapped Merfolk you control: Put a +1/+1 counter on each Merfolk you control.\", 'Legendary Creature — Merfolk Shaman', 'Creature', ['LCC'], \"Legendary Creature — Merfolk ShamanTap another untapped Merfolk you control: Kumena, Tyrant of Orazca can't be blocked this turn.\\\\nTap three untapped Merfolk you control: Draw a card.\\\\nTap five untapped Merfolk you control: Put a +1/+1 counter on each Merfolk you control.\")\n",
      "('Sauron, the Dark Lord', 'B, R, U', 'B, R, U', None, 'Amass, Ward', None, '{3}{U}{B}{R}', 6.0, '7', 'Avatar, Horror', 'Legendary', '6', 'Ward—Sacrifice a legendary artifact or legendary creature.\\\\nWhenever an opponent casts a spell, amass Orcs 1.\\\\nWhenever an Army you control deals combat damage to a player, the Ring tempts you.\\\\nWhenever the Ring tempts you, you may discard your hand. If you do, draw four cards.', 'Legendary Creature — Avatar Horror', 'Creature', ['LTR', 'LTR', 'LTR', 'LTR', 'LTR', 'LTR', 'LTR'], 'Legendary Creature — Avatar HorrorWard—Sacrifice a legendary artifact or legendary creature.\\\\nWhenever an opponent casts a spell, amass Orcs 1.\\\\nWhenever an Army you control deals combat damage to a player, the Ring tempts you.\\\\nWhenever the Ring tempts you, you may discard your hand. If you do, draw four cards.Amass, Ward')\n",
      "('The Necrobloom', 'B, G, W', 'B, G, W', None, 'Landfall, Mill', None, '{1}{W}{B}{G}', 4.0, '2', 'Plant', 'Legendary', '7', 'Landfall — Whenever a land enters the battlefield under your control, create a 0/1 green Plant creature token. If you control seven or more lands with different names, create a 2/2 black Zombie creature token instead.\\\\nLand cards in your graveyard have dredge 2. (You may return a land card from your graveyard to your hand and mill two cards instead of drawing a card.)', 'Legendary Creature — Plant', 'Creature', ['MH3', 'MH3', 'MH3'], 'Legendary Creature — PlantLandfall — Whenever a land enters the battlefield under your control, create a 0/1 green Plant creature token. If you control seven or more lands with different names, create a 2/2 black Zombie creature token instead.\\\\nLand cards in your graveyard have dredge 2. (You may return a land card from your graveyard to your hand and mill two cards instead of drawing a card.)Landfall, Mill')\n"
     ]
    }
   ],
   "source": [
    "example_commanders = commanders.filter(pl.col(\"name\").is_in([\"Atraxa, Grand Unifier\", \"Sauron, the Dark Lord\", \"The Necrobloom\", \"Gishath, Sun's Avatar\", \"Kumena, Tyrant of Orazca\"]))\n",
    "\n",
    "for i in example_commanders.rows():\n",
    "    print(i)\n"
   ]
  },
  {
   "cell_type": "code",
   "execution_count": 9,
   "metadata": {},
   "outputs": [
    {
     "data": {
      "text/plain": [
       "'Atraxa, Grand Unifier Flying, vigilance, deathtouch, lifelinknWhen Atraxa, Grand Unifier enters the battlefield, reveal the top ten cards of your library. For each card type, you may put a card of that type from among the revealed cards into your hand. Put the rest on the bottom of your library in a random order. (Artifact, battle, creature, enchantment, instant, land, planeswalker, and sorcery are card types.) 7 7 3GWUB Legendary Creature — Phyrexian Angel '"
      ]
     },
     "execution_count": 9,
     "metadata": {},
     "output_type": "execute_result"
    }
   ],
   "source": [
    "def commander_to_prompt_argument(df, commander_name) -> str:\n",
    "    \"\"\"Get single row that matches commnader name, then return a simple string with all formatting removed.\"\"\"\n",
    "    data = df.filter(pl.col(\"name\") == commander_name).select(\n",
    "        pl.first(\"name\", \"text\", \"power\", \"toughness\", \"manaCost\", \"type\")\n",
    "    )\n",
    "\n",
    "    # for each value in each collumn append into a string\n",
    "    data_str = \"\"\n",
    "    for i in data.rows():\n",
    "        for j in i:\n",
    "            data_str += str(j) + \" \"\n",
    "\n",
    "    # remove all \\, \\\\n and {} from the string\n",
    "    data_str = data_str.replace(\"\\\\\", \"\").replace(\"\\n\", \"\").replace(\"{\", \"\").replace(\"}\", \"\")\n",
    "    return data_str\n",
    "\n",
    "commander_to_prompt_argument(example_commanders, \"Atraxa, Grand Unifier\")"
   ]
  },
  {
   "cell_type": "code",
   "execution_count": 12,
   "metadata": {},
   "outputs": [
    {
     "name": "stdout",
     "output_type": "stream",
     "text": [
      "Classify this commander: Atraxa, Grand Unifier Flying, vigilance, deathtouch, lifelinknWhen Atraxa, Grand Unifier enters the battlefield, reveal the top ten cards of your library. For each card type, you may put a card of that type from among the revealed cards into your hand. Put the rest on the bottom of your library in a random order. (Artifact, battle, creature, enchantment, instant, land, planeswalker, and sorcery are card types.) 7 7 3GWUB Legendary Creature — Phyrexian Angel , Classifications: Types Matter, Voltron, Enters the battlefield\n"
     ]
    }
   ],
   "source": [
    "from langchain.prompts import FewShotPromptTemplate\n",
    "\n",
    "examples = [\n",
    "    {\n",
    "        \"commander\": commander_to_prompt_argument(example_commanders, \"Atraxa, Grand Unifier\"),\n",
    "        \"classification\": \"Types Matter, Voltron, Enters the battlefield\",\n",
    "    },\n",
    "    {\n",
    "        \"commander\": commander_to_prompt_argument(example_commanders,\"Sauron, the Dark Lord\"),\n",
    "        \"classification\": \"Ring Matters, Armies Aggro, Opponent Casts Benefit, Wheel\",\n",
    "    },\n",
    "    {\n",
    "        \"commander\": commander_to_prompt_argument(example_commanders, \"The Necrobloom\"),\n",
    "        \"classification\": \"Lands Matter, Token Generation, Dredge\",\n",
    "    },\n",
    "    {\n",
    "        \"commander\": commander_to_prompt_argument(example_commanders,\"Gishath, Sun's Avatar\"),\n",
    "        \"classification\": \"Commander Damage, Dinosaur Tribal\",\n",
    "    },\n",
    "    {\n",
    "        \"commander\": commander_to_prompt_argument(example_commanders,\"Kumena, Tyrant of Orazca\"),\n",
    "        \"classification\": \"Merfolk Tribal, +1/+1 Counters\",\n",
    "    },\n",
    "]\n",
    "\n",
    "example_prompt = PromptTemplate(\n",
    "    input_variables=[\"commander\", \"classification\"],\n",
    "    template=\"\"\"Classify this commander: {commander}, Classifications: {classification}\"\"\",\n",
    ")\n",
    "\n",
    "print(example_prompt.format(**examples[0]))"
   ]
  },
  {
   "cell_type": "code",
   "execution_count": 13,
   "metadata": {},
   "outputs": [
    {
     "data": {
      "text/plain": [
       "'Chiss-Goria, Forge Tyrant Affinity for artifacts (This spell costs 1 less to cast for each artifact you control.)nFlying, hastenWhenever Chiss-Goria, Forge Tyrant attacks, exile the top five cards of your library. You may cast an artifact spell from among them this turn. If you do, it has affinity for artifacts. 5 4 6RRR Legendary Creature — Dragon '"
      ]
     },
     "execution_count": 13,
     "metadata": {},
     "output_type": "execute_result"
    }
   ],
   "source": [
    "query_commander = commander_to_prompt_argument(\n",
    "    commanders, \"Chiss-Goria, Forge Tyrant\"\n",
    ")\n",
    "\n",
    "query_commander"
   ]
  },
  {
   "cell_type": "code",
   "execution_count": 14,
   "metadata": {},
   "outputs": [
    {
     "name": "stdout",
     "output_type": "stream",
     "text": [
      "Classify this commander: Atraxa, Grand Unifier Flying, vigilance, deathtouch, lifelinknWhen Atraxa, Grand Unifier enters the battlefield, reveal the top ten cards of your library. For each card type, you may put a card of that type from among the revealed cards into your hand. Put the rest on the bottom of your library in a random order. (Artifact, battle, creature, enchantment, instant, land, planeswalker, and sorcery are card types.) 7 7 3GWUB Legendary Creature — Phyrexian Angel , Classifications: Types Matter, Voltron, Enters the battlefield\n",
      "\n",
      "Classify this commander: Sauron, the Dark Lord Ward—Sacrifice a legendary artifact or legendary creature.nWhenever an opponent casts a spell, amass Orcs 1.nWhenever an Army you control deals combat damage to a player, the Ring tempts you.nWhenever the Ring tempts you, you may discard your hand. If you do, draw four cards. 7 6 3UBR Legendary Creature — Avatar Horror , Classifications: Ring Matters, Armies Aggro, Opponent Casts Benefit, Wheel\n",
      "\n",
      "Classify this commander: The Necrobloom Landfall — Whenever a land enters the battlefield under your control, create a 0/1 green Plant creature token. If you control seven or more lands with different names, create a 2/2 black Zombie creature token instead.nLand cards in your graveyard have dredge 2. (You may return a land card from your graveyard to your hand and mill two cards instead of drawing a card.) 2 7 1WBG Legendary Creature — Plant , Classifications: Lands Matter, Token Generation, Dredge\n",
      "\n",
      "Classify this commander: Gishath, Sun's Avatar Vigilance, trample, hastenWhenever Gishath, Sun's Avatar deals combat damage to a player, reveal that many cards from the top of your library. Put any number of Dinosaur creature cards from among them onto the battlefield and the rest on the bottom of your library in a random order. 7 6 5RGW Legendary Creature — Dinosaur Avatar , Classifications: Commander Damage, Dinosaur Tribal\n",
      "\n",
      "Classify this commander: Kumena, Tyrant of Orazca Tap another untapped Merfolk you control: Kumena, Tyrant of Orazca can't be blocked this turn.nTap three untapped Merfolk you control: Draw a card.nTap five untapped Merfolk you control: Put a +1/+1 counter on each Merfolk you control. 2 4 1GU Legendary Creature — Merfolk Shaman , Classifications: Merfolk Tribal, +1/+1 Counters\n",
      "\n",
      "Commander: Chiss-Goria, Forge Tyrant Affinity for artifacts (This spell costs 1 less to cast for each artifact you control.)nFlying, hastenWhenever Chiss-Goria, Forge Tyrant attacks, exile the top five cards of your library. You may cast an artifact spell from among them this turn. If you do, it has affinity for artifacts. 5 4 6RRR Legendary Creature — Dragon \n"
     ]
    }
   ],
   "source": [
    "prompt = FewShotPromptTemplate(\n",
    "    examples=examples,\n",
    "    example_prompt=example_prompt,\n",
    "    suffix=\"Commander: {commander}\",\n",
    "    input_variables=[\"commander\"],\n",
    ")\n",
    "\n",
    "print(prompt.format(commander=query_commander))"
   ]
  },
  {
   "cell_type": "code",
   "execution_count": null,
   "metadata": {},
   "outputs": [],
   "source": [
    "llm.invoke(prompt.format(commander=query_commander))"
   ]
  },
  {
   "cell_type": "code",
   "execution_count": null,
   "metadata": {},
   "outputs": [],
   "source": [
    "llm.invoke(\n",
    "    prompt.format(\n",
    "        commander=commander_to_prompt_argument(commanders, \"Cayth, Famed Mechanist\")\n",
    "    )\n",
    ")"
   ]
  },
  {
   "cell_type": "markdown",
   "metadata": {},
   "source": [
    "## Structured Output"
   ]
  },
  {
   "cell_type": "code",
   "execution_count": 15,
   "metadata": {},
   "outputs": [
    {
     "data": {
      "text/plain": [
       "{'name': ['Cayth, Famed Mechanist'],\n",
       " 'colorIdentity': ['R, U, W'],\n",
       " 'colors': ['R, U, W'],\n",
       " 'faceConvertedManaCost': [None],\n",
       " 'keywords': ['Fabricate, Populate, Proliferate'],\n",
       " 'loyalty': [None],\n",
       " 'manaCost': ['{1}{U}{R}{W}'],\n",
       " 'manaValue': [4.0],\n",
       " 'power': ['3'],\n",
       " 'subtypes': ['Dwarf, Artificer'],\n",
       " 'supertypes': ['Legendary'],\n",
       " 'toughness': ['3'],\n",
       " 'text': ['Fabricate 1 (When this creature enters the battlefield, put a +1/+1 counter on it or create a 1/1 colorless Servo artifact creature token.)\\\\nOther nontoken creatures you control have fabricate 1.\\\\n{2}, {T}: Choose one —\\\\n• Populate.\\\\n• Proliferate.'],\n",
       " 'type': ['Legendary Creature — Dwarf Artificer'],\n",
       " 'types': ['Creature'],\n",
       " 'setCodes': [['M3C', 'M3C', 'M3C', 'M3C', 'M3C']],\n",
       " 'page_content': ['Legendary Creature — Dwarf ArtificerFabricate 1 (When this creature enters the battlefield, put a +1/+1 counter on it or create a 1/1 colorless Servo artifact creature token.)\\\\nOther nontoken creatures you control have fabricate 1.\\\\n{2}, {T}: Choose one —\\\\n• Populate.\\\\n• Proliferate.Fabricate, Populate, Proliferate']}"
      ]
     },
     "execution_count": 15,
     "metadata": {},
     "output_type": "execute_result"
    }
   ],
   "source": [
    "commanders.filter(pl.col(\"name\").is_in([\"Cayth, Famed Mechanist\"])).to_dict(as_series=False)"
   ]
  },
  {
   "cell_type": "code",
   "execution_count": 43,
   "metadata": {},
   "outputs": [
    {
     "data": {
      "text/plain": [
       "Commander(name='Adric, Mathematical Genius', colorIdentity=['U'], manaCost='1U', type='Legendary Creature — Human Artificer', text=\"2U, T: Copy target activated or triggered ability you control. You may choose new targets for the copy. Ultimate Sacrifice — 1U, Sacrifice Adric: Counter target activated or triggered ability. Doctor's companion (You can have two commanders if the other is the Doctor.)\", power=1, toughness=1)"
      ]
     },
     "execution_count": 43,
     "metadata": {},
     "output_type": "execute_result"
    }
   ],
   "source": [
    "from langchain.output_parsers import PydanticOutputParser\n",
    "from langchain_core.pydantic_v1 import BaseModel, Field\n",
    "\n",
    "\n",
    "class Commander(BaseModel):\n",
    "    name: str = Field(title=\"Name of the commander\", description=\"Name of the commander\")\n",
    "    colorIdentity: list[str] = Field(\n",
    "        title=\"Color identity\",\n",
    "        description=\"The mana color identity of the commander when selecting cards for the deck\",\n",
    "    )\n",
    "    manaCost: str = Field(\n",
    "        title=\"Mana cost\",\n",
    "        description=\"The mana cost of the commander to pay to cast it\",\n",
    "    )\n",
    "    type: str = Field(\n",
    "        title=\"Type\",\n",
    "        description=\"The type of the commander\",\n",
    "    )\n",
    "    text: str = Field(\n",
    "        title=\"Text\",\n",
    "        description=\"The text of the commander that describes its abilities\",\n",
    "    )\n",
    "    power: int = Field(\n",
    "        title=\"Power\",\n",
    "        description=\"The power of the commander for combat\",\n",
    "    )\n",
    "    toughness: int = Field(\n",
    "        title=\"Toughness\",\n",
    "        description=\"The toughness of the commander for combat\",\n",
    "    )\n",
    "\n",
    "def convert_commander(df: pl.DataFrame, name: str) -> Commander:\n",
    "    if name not in df[\"name\"]:\n",
    "        raise ValueError(f\"Commander {name} not found in DataFrame.\")\n",
    "\n",
    "    data = (\n",
    "        df.filter(pl.col(\"name\") == name)\n",
    "        .select(\n",
    "            pl.first(\n",
    "                \"name\",\n",
    "                \"colorIdentity\",\n",
    "                \"manaCost\",\n",
    "                \"type\",\n",
    "                \"text\",\n",
    "                \"power\",\n",
    "                \"toughness\",\n",
    "            )\n",
    "        )\n",
    "        .slice(0, 1)\n",
    "        .to_dict(as_series=False)\n",
    "    )\n",
    "\n",
    "    def _strip_braces(s: str) -> str: return s.replace(\"{\", \"\").replace(\"}\", \"\")\n",
    "\n",
    "    def _strip_new_line(s: str) -> str: return s.replace(\"\\\\n\", \" \")\n",
    "\n",
    "    def _strip_backslash(s: str) -> str: return s.replace(\"\\\\\", \"\")\n",
    "\n",
    "    def _strip_all(s: str) -> str: return _strip_braces(_strip_backslash(_strip_new_line(s)))\n",
    "\n",
    "    return Commander(\n",
    "        name=data[\"name\"][0],\n",
    "        colorIdentity=data[\"colorIdentity\"][0].split(\", \"),\n",
    "        manaCost=_strip_all(data[\"manaCost\"][0]),\n",
    "        type=data[\"type\"][0],\n",
    "        text=_strip_all(data[\"text\"][0]),\n",
    "        power=int(data[\"power\"][0]),\n",
    "        toughness=int(data[\"toughness\"][0]),\n",
    "    )\n",
    "\n",
    "\n",
    "convert_commander(commanders, \"Adric, Mathematical Genius\")"
   ]
  },
  {
   "cell_type": "code",
   "execution_count": 44,
   "metadata": {},
   "outputs": [
    {
     "data": {
      "text/plain": [
       "\"name='Atraxa, Grand Unifier' colorIdentity=['B', 'G', 'U', 'W'] manaCost='3GWUB' type='Legendary Creature — Phyrexian Angel' text='Flying, vigilance, deathtouch, lifelink When Atraxa, Grand Unifier enters the battlefield, reveal the top ten cards of your library. For each card type, you may put a card of that type from among the revealed cards into your hand. Put the rest on the bottom of your library in a random order. (Artifact, battle, creature, enchantment, instant, land, planeswalker, and sorcery are card types.)' power=7 toughness=7\""
      ]
     },
     "execution_count": 44,
     "metadata": {},
     "output_type": "execute_result"
    }
   ],
   "source": [
    "atraxa = convert_commander(commanders, \"Atraxa, Grand Unifier\")\n",
    "\n",
    "str(atraxa)"
   ]
  },
  {
   "cell_type": "code",
   "execution_count": 50,
   "metadata": {},
   "outputs": [
    {
     "data": {
      "text/plain": [
       "\"classification=['Types Matter', 'Voltron', 'Enters the battlefield']\""
      ]
     },
     "execution_count": 50,
     "metadata": {},
     "output_type": "execute_result"
    }
   ],
   "source": [
    "class Classification(BaseModel):\n",
    "    classification: list[str]\n",
    "\n",
    "\n",
    "parser = PydanticOutputParser(pydantic_object=Classification)\n",
    "\n",
    "atraxa_classification = Classification(\n",
    "    classification=[\"Types Matter\", \"Voltron\", \"Enters the battlefield\"]\n",
    ")\n",
    "\n",
    "str(atraxa_classification)"
   ]
  },
  {
   "cell_type": "code",
   "execution_count": 42,
   "metadata": {},
   "outputs": [
    {
     "data": {
      "text/plain": [
       "CommanderClassification(commander=Commander(name='Atraxa, Grand Unifier', colorIdentity=['B', 'G', 'U', 'W'], manaCost='3GWUB', type='Legendary Creature — Phyrexian Angel', text='Flying, vigilance, deathtouch, lifelink When Atraxa, Grand Unifier enters the battlefield, reveal the top ten cards of your library. For each card type, you may put a card of that type from among the revealed cards into your hand. Put the rest on the bottom of your library in a random order. (Artifact, battle, creature, enchantment, instant, land, planeswalker, and sorcery are card types.)', power=7, toughness=7), classification=Classification(classification=['Types Matter', 'Voltron', 'Enters the battlefield']))"
      ]
     },
     "execution_count": 42,
     "metadata": {},
     "output_type": "execute_result"
    }
   ],
   "source": [
    "class CommanderClassification(BaseModel):\n",
    "    commander: Commander\n",
    "    classification: Classification\n",
    "\n",
    "atraxa_classified = CommanderClassification(commander=atraxa, classification=atraxa_classification)\n",
    "\n",
    "atraxa_classified"
   ]
  },
  {
   "cell_type": "code",
   "execution_count": 47,
   "metadata": {},
   "outputs": [
    {
     "data": {
      "text/plain": [
       "Commander(name='Adric, Mathematical Genius', colorIdentity=['U'], manaCost='1U', type='Legendary Creature — Human Artificer', text=\"2U, T: Copy target activated or triggered ability you control. You may choose new targets for the copy. Ultimate Sacrifice — 1U, Sacrifice Adric: Counter target activated or triggered ability. Doctor's companion (You can have two commanders if the other is the Doctor.)\", power=1, toughness=1)"
      ]
     },
     "execution_count": 47,
     "metadata": {},
     "output_type": "execute_result"
    }
   ],
   "source": [
    "commander_classification_query =convert_commander(commanders, \"Adric, Mathematical Genius\")\n",
    "\n",
    "commander_classification_query"
   ]
  },
  {
   "cell_type": "code",
   "execution_count": 76,
   "metadata": {},
   "outputs": [
    {
     "data": {
      "text/plain": [
       "[{'commander': Commander(name='Atraxa, Grand Unifier', colorIdentity=['B', 'G', 'U', 'W'], manaCost='3GWUB', type='Legendary Creature — Phyrexian Angel', text='Flying, vigilance, deathtouch, lifelink When Atraxa, Grand Unifier enters the battlefield, reveal the top ten cards of your library. For each card type, you may put a card of that type from among the revealed cards into your hand. Put the rest on the bottom of your library in a random order. (Artifact, battle, creature, enchantment, instant, land, planeswalker, and sorcery are card types.)', power=7, toughness=7),\n",
       "  'classification': Classification(classification=['Types Matter', 'Voltron', 'Enters the battlefield'])},\n",
       " {'commander': Commander(name='Sauron, the Dark Lord', colorIdentity=['B', 'R', 'U'], manaCost='3UBR', type='Legendary Creature — Avatar Horror', text='Ward—Sacrifice a legendary artifact or legendary creature. Whenever an opponent casts a spell, amass Orcs 1. Whenever an Army you control deals combat damage to a player, the Ring tempts you. Whenever the Ring tempts you, you may discard your hand. If you do, draw four cards.', power=7, toughness=6),\n",
       "  'classification': Classification(classification=['Ring Matters', 'Armies Aggro', 'Opponent Casts Benefit', 'Wheel'])},\n",
       " {'commander': Commander(name='The Necrobloom', colorIdentity=['B', 'G', 'W'], manaCost='1WBG', type='Legendary Creature — Plant', text='Landfall — Whenever a land enters the battlefield under your control, create a 0/1 green Plant creature token. If you control seven or more lands with different names, create a 2/2 black Zombie creature token instead. Land cards in your graveyard have dredge 2. (You may return a land card from your graveyard to your hand and mill two cards instead of drawing a card.)', power=2, toughness=7),\n",
       "  'classification': Classification(classification=['Lands Matter', 'Token Generation', 'Dredge'])},\n",
       " {'commander': Commander(name=\"Gishath, Sun's Avatar\", colorIdentity=['G', 'R', 'W'], manaCost='5RGW', type='Legendary Creature — Dinosaur Avatar', text=\"Vigilance, trample, haste Whenever Gishath, Sun's Avatar deals combat damage to a player, reveal that many cards from the top of your library. Put any number of Dinosaur creature cards from among them onto the battlefield and the rest on the bottom of your library in a random order.\", power=7, toughness=6),\n",
       "  'classification': Classification(classification=['Commander Damage', 'Dinosaur Tribal'])},\n",
       " {'commander': Commander(name='Kumena, Tyrant of Orazca', colorIdentity=['G', 'U'], manaCost='1GU', type='Legendary Creature — Merfolk Shaman', text=\"Tap another untapped Merfolk you control: Kumena, Tyrant of Orazca can't be blocked this turn. Tap three untapped Merfolk you control: Draw a card. Tap five untapped Merfolk you control: Put a +1/+1 counter on each Merfolk you control.\", power=2, toughness=4),\n",
       "  'classification': Classification(classification=['Merfolk Tribal', '+1/+1 Counters'])}]"
      ]
     },
     "execution_count": 76,
     "metadata": {},
     "output_type": "execute_result"
    }
   ],
   "source": [
    "structured_examples = [\n",
    "    {\n",
    "        \"commander\": convert_commander(commanders, \"Atraxa, Grand Unifier\"),\n",
    "        \"classification\": Classification(classification=[\"Types Matter\", \"Voltron\", \"Enters the battlefield\"]),\n",
    "    },\n",
    "    {\n",
    "        \"commander\": convert_commander(commanders, \"Sauron, the Dark Lord\"),\n",
    "        \"classification\": Classification(\n",
    "            classification=[\"Ring Matters\", \"Armies Aggro\", \"Opponent Casts Benefit\", \"Wheel\"]\n",
    "        ),\n",
    "    },\n",
    "    {\n",
    "        \"commander\": convert_commander(commanders, \"The Necrobloom\"),\n",
    "        \"classification\": Classification(\n",
    "            classification=[\"Lands Matter\", \"Token Generation\", \"Dredge\"]\n",
    "        ),\n",
    "    },\n",
    "    {\n",
    "        \"commander\": convert_commander(commanders, \"Gishath, Sun's Avatar\"),\n",
    "        \"classification\": Classification(classification=[\"Commander Damage\", \"Dinosaur Tribal\"]),\n",
    "    },\n",
    "    {\n",
    "        \"commander\": convert_commander(commanders, \"Kumena, Tyrant of Orazca\"),\n",
    "        \"classification\": Classification(classification=[\"Merfolk Tribal\", \"+1/+1 Counters\"]),\n",
    "    },\n",
    "]\n",
    "\n",
    "structured_examples"
   ]
  },
  {
   "cell_type": "code",
   "execution_count": 77,
   "metadata": {},
   "outputs": [
    {
     "data": {
      "text/plain": [
       "'\\n        You are a Magic the Gathering expert who is assessing the possibilities for a new commander deck.\\n\\n        Here are some examples of other commander cards and their classifications:\\n        Commander: name=\\'Atraxa, Grand Unifier\\' colorIdentity=[\\'B\\', \\'G\\', \\'U\\', \\'W\\'] manaCost=\\'3GWUB\\' type=\\'Legendary Creature — Phyrexian Angel\\' text=\\'Flying, vigilance, deathtouch, lifelink When Atraxa, Grand Unifier enters the battlefield, reveal the top ten cards of your library. For each card type, you may put a card of that type from among the revealed cards into your hand. Put the rest on the bottom of your library in a random order. (Artifact, battle, creature, enchantment, instant, land, planeswalker, and sorcery are card types.)\\' power=7 toughness=7, Classifications: classification=[\\'Types Matter\\', \\'Voltron\\', \\'Enters the battlefield\\']\\n\\n\\n        You are a Magic the Gathering expert who is assessing the possibilities for a new commander deck.\\n\\n        Here are some examples of other commander cards and their classifications:\\n        Commander: name=\\'Sauron, the Dark Lord\\' colorIdentity=[\\'B\\', \\'R\\', \\'U\\'] manaCost=\\'3UBR\\' type=\\'Legendary Creature — Avatar Horror\\' text=\\'Ward—Sacrifice a legendary artifact or legendary creature. Whenever an opponent casts a spell, amass Orcs 1. Whenever an Army you control deals combat damage to a player, the Ring tempts you. Whenever the Ring tempts you, you may discard your hand. If you do, draw four cards.\\' power=7 toughness=6, Classifications: classification=[\\'Ring Matters\\', \\'Armies Aggro\\', \\'Opponent Casts Benefit\\', \\'Wheel\\']\\n\\n\\n        You are a Magic the Gathering expert who is assessing the possibilities for a new commander deck.\\n\\n        Here are some examples of other commander cards and their classifications:\\n        Commander: name=\\'The Necrobloom\\' colorIdentity=[\\'B\\', \\'G\\', \\'W\\'] manaCost=\\'1WBG\\' type=\\'Legendary Creature — Plant\\' text=\\'Landfall — Whenever a land enters the battlefield under your control, create a 0/1 green Plant creature token. If you control seven or more lands with different names, create a 2/2 black Zombie creature token instead. Land cards in your graveyard have dredge 2. (You may return a land card from your graveyard to your hand and mill two cards instead of drawing a card.)\\' power=2 toughness=7, Classifications: classification=[\\'Lands Matter\\', \\'Token Generation\\', \\'Dredge\\']\\n\\n\\n        You are a Magic the Gathering expert who is assessing the possibilities for a new commander deck.\\n\\n        Here are some examples of other commander cards and their classifications:\\n        Commander: name=\"Gishath, Sun\\'s Avatar\" colorIdentity=[\\'G\\', \\'R\\', \\'W\\'] manaCost=\\'5RGW\\' type=\\'Legendary Creature — Dinosaur Avatar\\' text=\"Vigilance, trample, haste Whenever Gishath, Sun\\'s Avatar deals combat damage to a player, reveal that many cards from the top of your library. Put any number of Dinosaur creature cards from among them onto the battlefield and the rest on the bottom of your library in a random order.\" power=7 toughness=6, Classifications: classification=[\\'Commander Damage\\', \\'Dinosaur Tribal\\']\\n\\n\\n        You are a Magic the Gathering expert who is assessing the possibilities for a new commander deck.\\n\\n        Here are some examples of other commander cards and their classifications:\\n        Commander: name=\\'Kumena, Tyrant of Orazca\\' colorIdentity=[\\'G\\', \\'U\\'] manaCost=\\'1GU\\' type=\\'Legendary Creature — Merfolk Shaman\\' text=\"Tap another untapped Merfolk you control: Kumena, Tyrant of Orazca can\\'t be blocked this turn. Tap three untapped Merfolk you control: Draw a card. Tap five untapped Merfolk you control: Put a +1/+1 counter on each Merfolk you control.\" power=2 toughness=4, Classifications: classification=[\\'Merfolk Tribal\\', \\'+1/+1 Counters\\']\\n\\nClassify this commander: name=\\'Atraxa, Grand Unifier\\' colorIdentity=[\\'B\\', \\'G\\', \\'U\\', \\'W\\'] manaCost=\\'3GWUB\\' type=\\'Legendary Creature — Phyrexian Angel\\' text=\\'Flying, vigilance, deathtouch, lifelink When Atraxa, Grand Unifier enters the battlefield, reveal the top ten cards of your library. For each card type, you may put a card of that type from among the revealed cards into your hand. Put the rest on the bottom of your library in a random order. (Artifact, battle, creature, enchantment, instant, land, planeswalker, and sorcery are card types.)\\' power=7 toughness=7, Classification(classification='"
      ]
     },
     "execution_count": 77,
     "metadata": {},
     "output_type": "execute_result"
    }
   ],
   "source": [
    "structured_example_prompt = FewShotPromptTemplate(\n",
    "    examples=structured_examples,\n",
    "    example_prompt=PromptTemplate(\n",
    "        input_variables=[\"commander\", \"classification\"],\n",
    "        template=\"\"\"\n",
    "        You are a Magic the Gathering expert who is assessing the possibilities for a new commander deck.\n",
    "\n",
    "        Here are some examples of other commander cards and their classifications:\n",
    "        Commander: {commander}, Classifications: {classification}\"\"\",\n",
    "    ),\n",
    "    suffix=\"Classify this commander: {commander}, Classification(classification=\",\n",
    "    input_variables=[\"commander\"],\n",
    ")\n",
    "\n",
    "structured_example_prompt.format(**structured_examples[0])"
   ]
  },
  {
   "cell_type": "code",
   "execution_count": 78,
   "metadata": {},
   "outputs": [
    {
     "name": "stdout",
     "output_type": "stream",
     "text": [
      "\u001b[32;1m\u001b[1;3m[chain/start]\u001b[0m \u001b[1m[1:chain:RunnableSequence] Entering Chain run with input:\n",
      "\u001b[0m[inputs]\n",
      "\u001b[32;1m\u001b[1;3m[chain/start]\u001b[0m \u001b[1m[1:chain:RunnableSequence > 2:prompt:FewShotPromptTemplate] Entering Prompt run with input:\n",
      "\u001b[0m[inputs]\n",
      "\u001b[36;1m\u001b[1;3m[chain/end]\u001b[0m \u001b[1m[1:chain:RunnableSequence > 2:prompt:FewShotPromptTemplate] [1ms] Exiting Prompt run with output:\n",
      "\u001b[0m[outputs]\n",
      "\u001b[32;1m\u001b[1;3m[llm/start]\u001b[0m \u001b[1m[1:chain:RunnableSequence > 3:llm:OpenAI] Entering LLM run with input:\n",
      "\u001b[0m{\n",
      "  \"prompts\": [\n",
      "    \"You are a Magic the Gathering expert who is assessing the possibilities for a new commander deck.\\n\\n        Here are some examples of other commander cards and their classifications:\\n        Commander: name='Atraxa, Grand Unifier' colorIdentity=['B', 'G', 'U', 'W'] manaCost='3GWUB' type='Legendary Creature — Phyrexian Angel' text='Flying, vigilance, deathtouch, lifelink When Atraxa, Grand Unifier enters the battlefield, reveal the top ten cards of your library. For each card type, you may put a card of that type from among the revealed cards into your hand. Put the rest on the bottom of your library in a random order. (Artifact, battle, creature, enchantment, instant, land, planeswalker, and sorcery are card types.)' power=7 toughness=7, Classifications: classification=['Types Matter', 'Voltron', 'Enters the battlefield']\\n\\n\\n        You are a Magic the Gathering expert who is assessing the possibilities for a new commander deck.\\n\\n        Here are some examples of other commander cards and their classifications:\\n        Commander: name='Sauron, the Dark Lord' colorIdentity=['B', 'R', 'U'] manaCost='3UBR' type='Legendary Creature — Avatar Horror' text='Ward—Sacrifice a legendary artifact or legendary creature. Whenever an opponent casts a spell, amass Orcs 1. Whenever an Army you control deals combat damage to a player, the Ring tempts you. Whenever the Ring tempts you, you may discard your hand. If you do, draw four cards.' power=7 toughness=6, Classifications: classification=['Ring Matters', 'Armies Aggro', 'Opponent Casts Benefit', 'Wheel']\\n\\n\\n        You are a Magic the Gathering expert who is assessing the possibilities for a new commander deck.\\n\\n        Here are some examples of other commander cards and their classifications:\\n        Commander: name='The Necrobloom' colorIdentity=['B', 'G', 'W'] manaCost='1WBG' type='Legendary Creature — Plant' text='Landfall — Whenever a land enters the battlefield under your control, create a 0/1 green Plant creature token. If you control seven or more lands with different names, create a 2/2 black Zombie creature token instead. Land cards in your graveyard have dredge 2. (You may return a land card from your graveyard to your hand and mill two cards instead of drawing a card.)' power=2 toughness=7, Classifications: classification=['Lands Matter', 'Token Generation', 'Dredge']\\n\\n\\n        You are a Magic the Gathering expert who is assessing the possibilities for a new commander deck.\\n\\n        Here are some examples of other commander cards and their classifications:\\n        Commander: name=\\\"Gishath, Sun's Avatar\\\" colorIdentity=['G', 'R', 'W'] manaCost='5RGW' type='Legendary Creature — Dinosaur Avatar' text=\\\"Vigilance, trample, haste Whenever Gishath, Sun's Avatar deals combat damage to a player, reveal that many cards from the top of your library. Put any number of Dinosaur creature cards from among them onto the battlefield and the rest on the bottom of your library in a random order.\\\" power=7 toughness=6, Classifications: classification=['Commander Damage', 'Dinosaur Tribal']\\n\\n\\n        You are a Magic the Gathering expert who is assessing the possibilities for a new commander deck.\\n\\n        Here are some examples of other commander cards and their classifications:\\n        Commander: name='Kumena, Tyrant of Orazca' colorIdentity=['G', 'U'] manaCost='1GU' type='Legendary Creature — Merfolk Shaman' text=\\\"Tap another untapped Merfolk you control: Kumena, Tyrant of Orazca can't be blocked this turn. Tap three untapped Merfolk you control: Draw a card. Tap five untapped Merfolk you control: Put a +1/+1 counter on each Merfolk you control.\\\" power=2 toughness=4, Classifications: classification=['Merfolk Tribal', '+1/+1 Counters']\\n\\nClassify this commander: name='Adric, Mathematical Genius' colorIdentity=['U'] manaCost='1U' type='Legendary Creature — Human Artificer' text=\\\"2U, T: Copy target activated or triggered ability you control. You may choose new targets for the copy. Ultimate Sacrifice — 1U, Sacrifice Adric: Counter target activated or triggered ability. Doctor's companion (You can have two commanders if the other is the Doctor.)\\\" power=1 toughness=1, Classification(classification=\"\n",
      "  ]\n",
      "}\n",
      "\u001b[36;1m\u001b[1;3m[llm/end]\u001b[0m \u001b[1m[1:chain:RunnableSequence > 3:llm:OpenAI] [897ms] Exiting LLM run with output:\n",
      "\u001b[0m{\n",
      "  \"generations\": [\n",
      "    [\n",
      "      {\n",
      "        \"text\": \" ['Control', 'Activated Abilities', 'Triggered Abilities', 'Sacrifice', 'Doctor's companion'])\",\n",
      "        \"generation_info\": {\n",
      "          \"finish_reason\": \"stop\",\n",
      "          \"logprobs\": null\n",
      "        },\n",
      "        \"type\": \"Generation\"\n",
      "      }\n",
      "    ]\n",
      "  ],\n",
      "  \"llm_output\": {\n",
      "    \"token_usage\": {\n",
      "      \"prompt_tokens\": 969,\n",
      "      \"total_tokens\": 991,\n",
      "      \"completion_tokens\": 22\n",
      "    },\n",
      "    \"model_name\": \"gpt-3.5-turbo-instruct\"\n",
      "  },\n",
      "  \"run\": null\n",
      "}\n",
      "\u001b[32;1m\u001b[1;3m[chain/start]\u001b[0m \u001b[1m[1:chain:RunnableSequence > 4:parser:PydanticOutputParser] Entering Parser run with input:\n",
      "\u001b[0m{\n",
      "  \"input\": \" ['Control', 'Activated Abilities', 'Triggered Abilities', 'Sacrifice', 'Doctor's companion'])\"\n",
      "}\n",
      "\u001b[31;1m\u001b[1;3m[chain/error]\u001b[0m \u001b[1m[1:chain:RunnableSequence > 4:parser:PydanticOutputParser] [3ms] Parser run errored with error:\n",
      "\u001b[0m\"OutputParserException(\\\"Invalid json output: ['Control', 'Activated Abilities', 'Triggered Abilities', 'Sacrifice', 'Doctor's companion'])\\\")Traceback (most recent call last):\\n\\n\\n  File \\\"/home/dave/Development/mtgai/.venv/lib/python3.12/site-packages/langchain_core/output_parsers/json.py\\\", line 66, in parse_result\\n    return parse_json_markdown(text)\\n           ^^^^^^^^^^^^^^^^^^^^^^^^^\\n\\n\\n  File \\\"/home/dave/Development/mtgai/.venv/lib/python3.12/site-packages/langchain_core/utils/json.py\\\", line 147, in parse_json_markdown\\n    return _parse_json(json_str, parser=parser)\\n           ^^^^^^^^^^^^^^^^^^^^^^^^^^^^^^^^^^^^\\n\\n\\n  File \\\"/home/dave/Development/mtgai/.venv/lib/python3.12/site-packages/langchain_core/utils/json.py\\\", line 160, in _parse_json\\n    return parser(json_str)\\n           ^^^^^^^^^^^^^^^^\\n\\n\\n  File \\\"/home/dave/Development/mtgai/.venv/lib/python3.12/site-packages/langchain_core/utils/json.py\\\", line 120, in parse_partial_json\\n    return json.loads(s, strict=strict)\\n           ^^^^^^^^^^^^^^^^^^^^^^^^^^^^\\n\\n\\n  File \\\"/home/linuxbrew/.linuxbrew/opt/python@3.12/lib/python3.12/json/__init__.py\\\", line 359, in loads\\n    return cls(**kw).decode(s)\\n           ^^^^^^^^^^^^^^^^^^^\\n\\n\\n  File \\\"/home/linuxbrew/.linuxbrew/opt/python@3.12/lib/python3.12/json/decoder.py\\\", line 337, in decode\\n    obj, end = self.raw_decode(s, idx=_w(s, 0).end())\\n               ^^^^^^^^^^^^^^^^^^^^^^^^^^^^^^^^^^^^^^\\n\\n\\n  File \\\"/home/linuxbrew/.linuxbrew/opt/python@3.12/lib/python3.12/json/decoder.py\\\", line 355, in raw_decode\\n    raise JSONDecodeError(\\\"Expecting value\\\", s, err.value) from None\\n\\n\\njson.decoder.JSONDecodeError: Expecting value: line 1 column 2 (char 1)\\n\\n\\n\\nThe above exception was the direct cause of the following exception:\\n\\n\\n\\nTraceback (most recent call last):\\n\\n\\n  File \\\"/home/dave/Development/mtgai/.venv/lib/python3.12/site-packages/langchain_core/runnables/base.py\\\", line 1625, in _call_with_config\\n    context.run(\\n\\n\\n  File \\\"/home/dave/Development/mtgai/.venv/lib/python3.12/site-packages/langchain_core/runnables/config.py\\\", line 347, in call_func_with_variable_args\\n    return func(input, **kwargs)  # type: ignore[call-arg]\\n           ^^^^^^^^^^^^^^^^^^^^^\\n\\n\\n  File \\\"/home/dave/Development/mtgai/.venv/lib/python3.12/site-packages/langchain_core/output_parsers/base.py\\\", line 179, in <lambda>\\n    lambda inner_input: self.parse_result([Generation(text=inner_input)]),\\n                        ^^^^^^^^^^^^^^^^^^^^^^^^^^^^^^^^^^^^^^^^^^^^^^^^^\\n\\n\\n  File \\\"/home/dave/Development/mtgai/.venv/lib/python3.12/site-packages/langchain_core/output_parsers/pydantic.py\\\", line 60, in parse_result\\n    json_object = super().parse_result(result)\\n                  ^^^^^^^^^^^^^^^^^^^^^^^^^^^^\\n\\n\\n  File \\\"/home/dave/Development/mtgai/.venv/lib/python3.12/site-packages/langchain_core/output_parsers/json.py\\\", line 69, in parse_result\\n    raise OutputParserException(msg, llm_output=text) from e\\n\\n\\nlangchain_core.exceptions.OutputParserException: Invalid json output: ['Control', 'Activated Abilities', 'Triggered Abilities', 'Sacrifice', 'Doctor's companion'])\"\n",
      "\u001b[31;1m\u001b[1;3m[chain/error]\u001b[0m \u001b[1m[1:chain:RunnableSequence] [910ms] Chain run errored with error:\n",
      "\u001b[0m\"OutputParserException(\\\"Invalid json output: ['Control', 'Activated Abilities', 'Triggered Abilities', 'Sacrifice', 'Doctor's companion'])\\\")Traceback (most recent call last):\\n\\n\\n  File \\\"/home/dave/Development/mtgai/.venv/lib/python3.12/site-packages/langchain_core/output_parsers/json.py\\\", line 66, in parse_result\\n    return parse_json_markdown(text)\\n           ^^^^^^^^^^^^^^^^^^^^^^^^^\\n\\n\\n  File \\\"/home/dave/Development/mtgai/.venv/lib/python3.12/site-packages/langchain_core/utils/json.py\\\", line 147, in parse_json_markdown\\n    return _parse_json(json_str, parser=parser)\\n           ^^^^^^^^^^^^^^^^^^^^^^^^^^^^^^^^^^^^\\n\\n\\n  File \\\"/home/dave/Development/mtgai/.venv/lib/python3.12/site-packages/langchain_core/utils/json.py\\\", line 160, in _parse_json\\n    return parser(json_str)\\n           ^^^^^^^^^^^^^^^^\\n\\n\\n  File \\\"/home/dave/Development/mtgai/.venv/lib/python3.12/site-packages/langchain_core/utils/json.py\\\", line 120, in parse_partial_json\\n    return json.loads(s, strict=strict)\\n           ^^^^^^^^^^^^^^^^^^^^^^^^^^^^\\n\\n\\n  File \\\"/home/linuxbrew/.linuxbrew/opt/python@3.12/lib/python3.12/json/__init__.py\\\", line 359, in loads\\n    return cls(**kw).decode(s)\\n           ^^^^^^^^^^^^^^^^^^^\\n\\n\\n  File \\\"/home/linuxbrew/.linuxbrew/opt/python@3.12/lib/python3.12/json/decoder.py\\\", line 337, in decode\\n    obj, end = self.raw_decode(s, idx=_w(s, 0).end())\\n               ^^^^^^^^^^^^^^^^^^^^^^^^^^^^^^^^^^^^^^\\n\\n\\n  File \\\"/home/linuxbrew/.linuxbrew/opt/python@3.12/lib/python3.12/json/decoder.py\\\", line 355, in raw_decode\\n    raise JSONDecodeError(\\\"Expecting value\\\", s, err.value) from None\\n\\n\\njson.decoder.JSONDecodeError: Expecting value: line 1 column 2 (char 1)\\n\\n\\n\\nThe above exception was the direct cause of the following exception:\\n\\n\\n\\nTraceback (most recent call last):\\n\\n\\n  File \\\"/home/dave/Development/mtgai/.venv/lib/python3.12/site-packages/langchain_core/runnables/base.py\\\", line 2499, in invoke\\n    input = step.invoke(\\n            ^^^^^^^^^^^^\\n\\n\\n  File \\\"/home/dave/Development/mtgai/.venv/lib/python3.12/site-packages/langchain_core/output_parsers/base.py\\\", line 178, in invoke\\n    return self._call_with_config(\\n           ^^^^^^^^^^^^^^^^^^^^^^^\\n\\n\\n  File \\\"/home/dave/Development/mtgai/.venv/lib/python3.12/site-packages/langchain_core/runnables/base.py\\\", line 1625, in _call_with_config\\n    context.run(\\n\\n\\n  File \\\"/home/dave/Development/mtgai/.venv/lib/python3.12/site-packages/langchain_core/runnables/config.py\\\", line 347, in call_func_with_variable_args\\n    return func(input, **kwargs)  # type: ignore[call-arg]\\n           ^^^^^^^^^^^^^^^^^^^^^\\n\\n\\n  File \\\"/home/dave/Development/mtgai/.venv/lib/python3.12/site-packages/langchain_core/output_parsers/base.py\\\", line 179, in <lambda>\\n    lambda inner_input: self.parse_result([Generation(text=inner_input)]),\\n                        ^^^^^^^^^^^^^^^^^^^^^^^^^^^^^^^^^^^^^^^^^^^^^^^^^\\n\\n\\n  File \\\"/home/dave/Development/mtgai/.venv/lib/python3.12/site-packages/langchain_core/output_parsers/pydantic.py\\\", line 60, in parse_result\\n    json_object = super().parse_result(result)\\n                  ^^^^^^^^^^^^^^^^^^^^^^^^^^^^\\n\\n\\n  File \\\"/home/dave/Development/mtgai/.venv/lib/python3.12/site-packages/langchain_core/output_parsers/json.py\\\", line 69, in parse_result\\n    raise OutputParserException(msg, llm_output=text) from e\\n\\n\\nlangchain_core.exceptions.OutputParserException: Invalid json output: ['Control', 'Activated Abilities', 'Triggered Abilities', 'Sacrifice', 'Doctor's companion'])\"\n"
     ]
    },
    {
     "ename": "OutputParserException",
     "evalue": "Invalid json output: ['Control', 'Activated Abilities', 'Triggered Abilities', 'Sacrifice', 'Doctor's companion'])",
     "output_type": "error",
     "traceback": [
      "\u001b[0;31m---------------------------------------------------------------------------\u001b[0m",
      "\u001b[0;31mJSONDecodeError\u001b[0m                           Traceback (most recent call last)",
      "File \u001b[0;32m~/Development/mtgai/.venv/lib/python3.12/site-packages/langchain_core/output_parsers/json.py:66\u001b[0m, in \u001b[0;36mJsonOutputParser.parse_result\u001b[0;34m(self, result, partial)\u001b[0m\n\u001b[1;32m     65\u001b[0m \u001b[38;5;28;01mtry\u001b[39;00m:\n\u001b[0;32m---> 66\u001b[0m     \u001b[38;5;28;01mreturn\u001b[39;00m \u001b[43mparse_json_markdown\u001b[49m\u001b[43m(\u001b[49m\u001b[43mtext\u001b[49m\u001b[43m)\u001b[49m\n\u001b[1;32m     67\u001b[0m \u001b[38;5;28;01mexcept\u001b[39;00m JSONDecodeError \u001b[38;5;28;01mas\u001b[39;00m e:\n",
      "File \u001b[0;32m~/Development/mtgai/.venv/lib/python3.12/site-packages/langchain_core/utils/json.py:147\u001b[0m, in \u001b[0;36mparse_json_markdown\u001b[0;34m(json_string, parser)\u001b[0m\n\u001b[1;32m    146\u001b[0m         json_str \u001b[38;5;241m=\u001b[39m match\u001b[38;5;241m.\u001b[39mgroup(\u001b[38;5;241m2\u001b[39m)\n\u001b[0;32m--> 147\u001b[0m \u001b[38;5;28;01mreturn\u001b[39;00m \u001b[43m_parse_json\u001b[49m\u001b[43m(\u001b[49m\u001b[43mjson_str\u001b[49m\u001b[43m,\u001b[49m\u001b[43m \u001b[49m\u001b[43mparser\u001b[49m\u001b[38;5;241;43m=\u001b[39;49m\u001b[43mparser\u001b[49m\u001b[43m)\u001b[49m\n",
      "File \u001b[0;32m~/Development/mtgai/.venv/lib/python3.12/site-packages/langchain_core/utils/json.py:160\u001b[0m, in \u001b[0;36m_parse_json\u001b[0;34m(json_str, parser)\u001b[0m\n\u001b[1;32m    159\u001b[0m \u001b[38;5;66;03m# Parse the JSON string into a Python dictionary\u001b[39;00m\n\u001b[0;32m--> 160\u001b[0m \u001b[38;5;28;01mreturn\u001b[39;00m \u001b[43mparser\u001b[49m\u001b[43m(\u001b[49m\u001b[43mjson_str\u001b[49m\u001b[43m)\u001b[49m\n",
      "File \u001b[0;32m~/Development/mtgai/.venv/lib/python3.12/site-packages/langchain_core/utils/json.py:120\u001b[0m, in \u001b[0;36mparse_partial_json\u001b[0;34m(s, strict)\u001b[0m\n\u001b[1;32m    117\u001b[0m \u001b[38;5;66;03m# If we got here, we ran out of characters to remove\u001b[39;00m\n\u001b[1;32m    118\u001b[0m \u001b[38;5;66;03m# and still couldn't parse the string as JSON, so return the parse error\u001b[39;00m\n\u001b[1;32m    119\u001b[0m \u001b[38;5;66;03m# for the original string.\u001b[39;00m\n\u001b[0;32m--> 120\u001b[0m \u001b[38;5;28;01mreturn\u001b[39;00m \u001b[43mjson\u001b[49m\u001b[38;5;241;43m.\u001b[39;49m\u001b[43mloads\u001b[49m\u001b[43m(\u001b[49m\u001b[43ms\u001b[49m\u001b[43m,\u001b[49m\u001b[43m \u001b[49m\u001b[43mstrict\u001b[49m\u001b[38;5;241;43m=\u001b[39;49m\u001b[43mstrict\u001b[49m\u001b[43m)\u001b[49m\n",
      "File \u001b[0;32m/home/linuxbrew/.linuxbrew/opt/python@3.12/lib/python3.12/json/__init__.py:359\u001b[0m, in \u001b[0;36mloads\u001b[0;34m(s, cls, object_hook, parse_float, parse_int, parse_constant, object_pairs_hook, **kw)\u001b[0m\n\u001b[1;32m    358\u001b[0m     kw[\u001b[38;5;124m'\u001b[39m\u001b[38;5;124mparse_constant\u001b[39m\u001b[38;5;124m'\u001b[39m] \u001b[38;5;241m=\u001b[39m parse_constant\n\u001b[0;32m--> 359\u001b[0m \u001b[38;5;28;01mreturn\u001b[39;00m \u001b[38;5;28;43mcls\u001b[39;49m\u001b[43m(\u001b[49m\u001b[38;5;241;43m*\u001b[39;49m\u001b[38;5;241;43m*\u001b[39;49m\u001b[43mkw\u001b[49m\u001b[43m)\u001b[49m\u001b[38;5;241;43m.\u001b[39;49m\u001b[43mdecode\u001b[49m\u001b[43m(\u001b[49m\u001b[43ms\u001b[49m\u001b[43m)\u001b[49m\n",
      "File \u001b[0;32m/home/linuxbrew/.linuxbrew/opt/python@3.12/lib/python3.12/json/decoder.py:337\u001b[0m, in \u001b[0;36mJSONDecoder.decode\u001b[0;34m(self, s, _w)\u001b[0m\n\u001b[1;32m    333\u001b[0m \u001b[38;5;250m\u001b[39m\u001b[38;5;124;03m\"\"\"Return the Python representation of ``s`` (a ``str`` instance\u001b[39;00m\n\u001b[1;32m    334\u001b[0m \u001b[38;5;124;03mcontaining a JSON document).\u001b[39;00m\n\u001b[1;32m    335\u001b[0m \n\u001b[1;32m    336\u001b[0m \u001b[38;5;124;03m\"\"\"\u001b[39;00m\n\u001b[0;32m--> 337\u001b[0m obj, end \u001b[38;5;241m=\u001b[39m \u001b[38;5;28;43mself\u001b[39;49m\u001b[38;5;241;43m.\u001b[39;49m\u001b[43mraw_decode\u001b[49m\u001b[43m(\u001b[49m\u001b[43ms\u001b[49m\u001b[43m,\u001b[49m\u001b[43m \u001b[49m\u001b[43midx\u001b[49m\u001b[38;5;241;43m=\u001b[39;49m\u001b[43m_w\u001b[49m\u001b[43m(\u001b[49m\u001b[43ms\u001b[49m\u001b[43m,\u001b[49m\u001b[43m \u001b[49m\u001b[38;5;241;43m0\u001b[39;49m\u001b[43m)\u001b[49m\u001b[38;5;241;43m.\u001b[39;49m\u001b[43mend\u001b[49m\u001b[43m(\u001b[49m\u001b[43m)\u001b[49m\u001b[43m)\u001b[49m\n\u001b[1;32m    338\u001b[0m end \u001b[38;5;241m=\u001b[39m _w(s, end)\u001b[38;5;241m.\u001b[39mend()\n",
      "File \u001b[0;32m/home/linuxbrew/.linuxbrew/opt/python@3.12/lib/python3.12/json/decoder.py:355\u001b[0m, in \u001b[0;36mJSONDecoder.raw_decode\u001b[0;34m(self, s, idx)\u001b[0m\n\u001b[1;32m    354\u001b[0m \u001b[38;5;28;01mexcept\u001b[39;00m \u001b[38;5;167;01mStopIteration\u001b[39;00m \u001b[38;5;28;01mas\u001b[39;00m err:\n\u001b[0;32m--> 355\u001b[0m     \u001b[38;5;28;01mraise\u001b[39;00m JSONDecodeError(\u001b[38;5;124m\"\u001b[39m\u001b[38;5;124mExpecting value\u001b[39m\u001b[38;5;124m\"\u001b[39m, s, err\u001b[38;5;241m.\u001b[39mvalue) \u001b[38;5;28;01mfrom\u001b[39;00m \u001b[38;5;28;01mNone\u001b[39;00m\n\u001b[1;32m    356\u001b[0m \u001b[38;5;28;01mreturn\u001b[39;00m obj, end\n",
      "\u001b[0;31mJSONDecodeError\u001b[0m: Expecting value: line 1 column 2 (char 1)",
      "\nThe above exception was the direct cause of the following exception:\n",
      "\u001b[0;31mOutputParserException\u001b[0m                     Traceback (most recent call last)",
      "Cell \u001b[0;32mIn[78], line 3\u001b[0m\n\u001b[1;32m      1\u001b[0m chain \u001b[38;5;241m=\u001b[39m structured_example_prompt \u001b[38;5;241m|\u001b[39m llm \u001b[38;5;241m|\u001b[39m parser\n\u001b[0;32m----> 3\u001b[0m chain_invoke \u001b[38;5;241m=\u001b[39m \u001b[43mchain\u001b[49m\u001b[38;5;241;43m.\u001b[39;49m\u001b[43minvoke\u001b[49m\u001b[43m(\u001b[49m\u001b[38;5;28;43minput\u001b[39;49m\u001b[38;5;241;43m=\u001b[39;49m\u001b[43m{\u001b[49m\u001b[38;5;124;43m\"\u001b[39;49m\u001b[38;5;124;43mcommander\u001b[39;49m\u001b[38;5;124;43m\"\u001b[39;49m\u001b[43m:\u001b[49m\u001b[43m \u001b[49m\u001b[43mcommander_classification_query\u001b[49m\u001b[43m}\u001b[49m\u001b[43m)\u001b[49m\n",
      "File \u001b[0;32m~/Development/mtgai/.venv/lib/python3.12/site-packages/langchain_core/runnables/base.py:2499\u001b[0m, in \u001b[0;36mRunnableSequence.invoke\u001b[0;34m(self, input, config)\u001b[0m\n\u001b[1;32m   2497\u001b[0m \u001b[38;5;28;01mtry\u001b[39;00m:\n\u001b[1;32m   2498\u001b[0m     \u001b[38;5;28;01mfor\u001b[39;00m i, step \u001b[38;5;129;01min\u001b[39;00m \u001b[38;5;28menumerate\u001b[39m(\u001b[38;5;28mself\u001b[39m\u001b[38;5;241m.\u001b[39msteps):\n\u001b[0;32m-> 2499\u001b[0m         \u001b[38;5;28minput\u001b[39m \u001b[38;5;241m=\u001b[39m \u001b[43mstep\u001b[49m\u001b[38;5;241;43m.\u001b[39;49m\u001b[43minvoke\u001b[49m\u001b[43m(\u001b[49m\n\u001b[1;32m   2500\u001b[0m \u001b[43m            \u001b[49m\u001b[38;5;28;43minput\u001b[39;49m\u001b[43m,\u001b[49m\n\u001b[1;32m   2501\u001b[0m \u001b[43m            \u001b[49m\u001b[38;5;66;43;03m# mark each step as a child run\u001b[39;49;00m\n\u001b[1;32m   2502\u001b[0m \u001b[43m            \u001b[49m\u001b[43mpatch_config\u001b[49m\u001b[43m(\u001b[49m\n\u001b[1;32m   2503\u001b[0m \u001b[43m                \u001b[49m\u001b[43mconfig\u001b[49m\u001b[43m,\u001b[49m\u001b[43m \u001b[49m\u001b[43mcallbacks\u001b[49m\u001b[38;5;241;43m=\u001b[39;49m\u001b[43mrun_manager\u001b[49m\u001b[38;5;241;43m.\u001b[39;49m\u001b[43mget_child\u001b[49m\u001b[43m(\u001b[49m\u001b[38;5;124;43mf\u001b[39;49m\u001b[38;5;124;43m\"\u001b[39;49m\u001b[38;5;124;43mseq:step:\u001b[39;49m\u001b[38;5;132;43;01m{\u001b[39;49;00m\u001b[43mi\u001b[49m\u001b[38;5;241;43m+\u001b[39;49m\u001b[38;5;241;43m1\u001b[39;49m\u001b[38;5;132;43;01m}\u001b[39;49;00m\u001b[38;5;124;43m\"\u001b[39;49m\u001b[43m)\u001b[49m\n\u001b[1;32m   2504\u001b[0m \u001b[43m            \u001b[49m\u001b[43m)\u001b[49m\u001b[43m,\u001b[49m\n\u001b[1;32m   2505\u001b[0m \u001b[43m        \u001b[49m\u001b[43m)\u001b[49m\n\u001b[1;32m   2506\u001b[0m \u001b[38;5;66;03m# finish the root run\u001b[39;00m\n\u001b[1;32m   2507\u001b[0m \u001b[38;5;28;01mexcept\u001b[39;00m \u001b[38;5;167;01mBaseException\u001b[39;00m \u001b[38;5;28;01mas\u001b[39;00m e:\n",
      "File \u001b[0;32m~/Development/mtgai/.venv/lib/python3.12/site-packages/langchain_core/output_parsers/base.py:178\u001b[0m, in \u001b[0;36mBaseOutputParser.invoke\u001b[0;34m(self, input, config)\u001b[0m\n\u001b[1;32m    169\u001b[0m     \u001b[38;5;28;01mreturn\u001b[39;00m \u001b[38;5;28mself\u001b[39m\u001b[38;5;241m.\u001b[39m_call_with_config(\n\u001b[1;32m    170\u001b[0m         \u001b[38;5;28;01mlambda\u001b[39;00m inner_input: \u001b[38;5;28mself\u001b[39m\u001b[38;5;241m.\u001b[39mparse_result(\n\u001b[1;32m    171\u001b[0m             [ChatGeneration(message\u001b[38;5;241m=\u001b[39minner_input)]\n\u001b[0;32m   (...)\u001b[0m\n\u001b[1;32m    175\u001b[0m         run_type\u001b[38;5;241m=\u001b[39m\u001b[38;5;124m\"\u001b[39m\u001b[38;5;124mparser\u001b[39m\u001b[38;5;124m\"\u001b[39m,\n\u001b[1;32m    176\u001b[0m     )\n\u001b[1;32m    177\u001b[0m \u001b[38;5;28;01melse\u001b[39;00m:\n\u001b[0;32m--> 178\u001b[0m     \u001b[38;5;28;01mreturn\u001b[39;00m \u001b[38;5;28;43mself\u001b[39;49m\u001b[38;5;241;43m.\u001b[39;49m\u001b[43m_call_with_config\u001b[49m\u001b[43m(\u001b[49m\n\u001b[1;32m    179\u001b[0m \u001b[43m        \u001b[49m\u001b[38;5;28;43;01mlambda\u001b[39;49;00m\u001b[43m \u001b[49m\u001b[43minner_input\u001b[49m\u001b[43m:\u001b[49m\u001b[43m \u001b[49m\u001b[38;5;28;43mself\u001b[39;49m\u001b[38;5;241;43m.\u001b[39;49m\u001b[43mparse_result\u001b[49m\u001b[43m(\u001b[49m\u001b[43m[\u001b[49m\u001b[43mGeneration\u001b[49m\u001b[43m(\u001b[49m\u001b[43mtext\u001b[49m\u001b[38;5;241;43m=\u001b[39;49m\u001b[43minner_input\u001b[49m\u001b[43m)\u001b[49m\u001b[43m]\u001b[49m\u001b[43m)\u001b[49m\u001b[43m,\u001b[49m\n\u001b[1;32m    180\u001b[0m \u001b[43m        \u001b[49m\u001b[38;5;28;43minput\u001b[39;49m\u001b[43m,\u001b[49m\n\u001b[1;32m    181\u001b[0m \u001b[43m        \u001b[49m\u001b[43mconfig\u001b[49m\u001b[43m,\u001b[49m\n\u001b[1;32m    182\u001b[0m \u001b[43m        \u001b[49m\u001b[43mrun_type\u001b[49m\u001b[38;5;241;43m=\u001b[39;49m\u001b[38;5;124;43m\"\u001b[39;49m\u001b[38;5;124;43mparser\u001b[39;49m\u001b[38;5;124;43m\"\u001b[39;49m\u001b[43m,\u001b[49m\n\u001b[1;32m    183\u001b[0m \u001b[43m    \u001b[49m\u001b[43m)\u001b[49m\n",
      "File \u001b[0;32m~/Development/mtgai/.venv/lib/python3.12/site-packages/langchain_core/runnables/base.py:1625\u001b[0m, in \u001b[0;36mRunnable._call_with_config\u001b[0;34m(self, func, input, config, run_type, **kwargs)\u001b[0m\n\u001b[1;32m   1621\u001b[0m     context \u001b[38;5;241m=\u001b[39m copy_context()\n\u001b[1;32m   1622\u001b[0m     context\u001b[38;5;241m.\u001b[39mrun(var_child_runnable_config\u001b[38;5;241m.\u001b[39mset, child_config)\n\u001b[1;32m   1623\u001b[0m     output \u001b[38;5;241m=\u001b[39m cast(\n\u001b[1;32m   1624\u001b[0m         Output,\n\u001b[0;32m-> 1625\u001b[0m         \u001b[43mcontext\u001b[49m\u001b[38;5;241;43m.\u001b[39;49m\u001b[43mrun\u001b[49m\u001b[43m(\u001b[49m\n\u001b[1;32m   1626\u001b[0m \u001b[43m            \u001b[49m\u001b[43mcall_func_with_variable_args\u001b[49m\u001b[43m,\u001b[49m\u001b[43m  \u001b[49m\u001b[38;5;66;43;03m# type: ignore[arg-type]\u001b[39;49;00m\n\u001b[1;32m   1627\u001b[0m \u001b[43m            \u001b[49m\u001b[43mfunc\u001b[49m\u001b[43m,\u001b[49m\u001b[43m  \u001b[49m\u001b[38;5;66;43;03m# type: ignore[arg-type]\u001b[39;49;00m\n\u001b[1;32m   1628\u001b[0m \u001b[43m            \u001b[49m\u001b[38;5;28;43minput\u001b[39;49m\u001b[43m,\u001b[49m\u001b[43m  \u001b[49m\u001b[38;5;66;43;03m# type: ignore[arg-type]\u001b[39;49;00m\n\u001b[1;32m   1629\u001b[0m \u001b[43m            \u001b[49m\u001b[43mconfig\u001b[49m\u001b[43m,\u001b[49m\n\u001b[1;32m   1630\u001b[0m \u001b[43m            \u001b[49m\u001b[43mrun_manager\u001b[49m\u001b[43m,\u001b[49m\n\u001b[1;32m   1631\u001b[0m \u001b[43m            \u001b[49m\u001b[38;5;241;43m*\u001b[39;49m\u001b[38;5;241;43m*\u001b[39;49m\u001b[43mkwargs\u001b[49m\u001b[43m,\u001b[49m\n\u001b[1;32m   1632\u001b[0m \u001b[43m        \u001b[49m\u001b[43m)\u001b[49m,\n\u001b[1;32m   1633\u001b[0m     )\n\u001b[1;32m   1634\u001b[0m \u001b[38;5;28;01mexcept\u001b[39;00m \u001b[38;5;167;01mBaseException\u001b[39;00m \u001b[38;5;28;01mas\u001b[39;00m e:\n\u001b[1;32m   1635\u001b[0m     run_manager\u001b[38;5;241m.\u001b[39mon_chain_error(e)\n",
      "File \u001b[0;32m~/Development/mtgai/.venv/lib/python3.12/site-packages/langchain_core/runnables/config.py:347\u001b[0m, in \u001b[0;36mcall_func_with_variable_args\u001b[0;34m(func, input, config, run_manager, **kwargs)\u001b[0m\n\u001b[1;32m    345\u001b[0m \u001b[38;5;28;01mif\u001b[39;00m run_manager \u001b[38;5;129;01mis\u001b[39;00m \u001b[38;5;129;01mnot\u001b[39;00m \u001b[38;5;28;01mNone\u001b[39;00m \u001b[38;5;129;01mand\u001b[39;00m accepts_run_manager(func):\n\u001b[1;32m    346\u001b[0m     kwargs[\u001b[38;5;124m\"\u001b[39m\u001b[38;5;124mrun_manager\u001b[39m\u001b[38;5;124m\"\u001b[39m] \u001b[38;5;241m=\u001b[39m run_manager\n\u001b[0;32m--> 347\u001b[0m \u001b[38;5;28;01mreturn\u001b[39;00m \u001b[43mfunc\u001b[49m\u001b[43m(\u001b[49m\u001b[38;5;28;43minput\u001b[39;49m\u001b[43m,\u001b[49m\u001b[43m \u001b[49m\u001b[38;5;241;43m*\u001b[39;49m\u001b[38;5;241;43m*\u001b[39;49m\u001b[43mkwargs\u001b[49m\u001b[43m)\u001b[49m\n",
      "File \u001b[0;32m~/Development/mtgai/.venv/lib/python3.12/site-packages/langchain_core/output_parsers/base.py:179\u001b[0m, in \u001b[0;36mBaseOutputParser.invoke.<locals>.<lambda>\u001b[0;34m(inner_input)\u001b[0m\n\u001b[1;32m    169\u001b[0m     \u001b[38;5;28;01mreturn\u001b[39;00m \u001b[38;5;28mself\u001b[39m\u001b[38;5;241m.\u001b[39m_call_with_config(\n\u001b[1;32m    170\u001b[0m         \u001b[38;5;28;01mlambda\u001b[39;00m inner_input: \u001b[38;5;28mself\u001b[39m\u001b[38;5;241m.\u001b[39mparse_result(\n\u001b[1;32m    171\u001b[0m             [ChatGeneration(message\u001b[38;5;241m=\u001b[39minner_input)]\n\u001b[0;32m   (...)\u001b[0m\n\u001b[1;32m    175\u001b[0m         run_type\u001b[38;5;241m=\u001b[39m\u001b[38;5;124m\"\u001b[39m\u001b[38;5;124mparser\u001b[39m\u001b[38;5;124m\"\u001b[39m,\n\u001b[1;32m    176\u001b[0m     )\n\u001b[1;32m    177\u001b[0m \u001b[38;5;28;01melse\u001b[39;00m:\n\u001b[1;32m    178\u001b[0m     \u001b[38;5;28;01mreturn\u001b[39;00m \u001b[38;5;28mself\u001b[39m\u001b[38;5;241m.\u001b[39m_call_with_config(\n\u001b[0;32m--> 179\u001b[0m         \u001b[38;5;28;01mlambda\u001b[39;00m inner_input: \u001b[38;5;28;43mself\u001b[39;49m\u001b[38;5;241;43m.\u001b[39;49m\u001b[43mparse_result\u001b[49m\u001b[43m(\u001b[49m\u001b[43m[\u001b[49m\u001b[43mGeneration\u001b[49m\u001b[43m(\u001b[49m\u001b[43mtext\u001b[49m\u001b[38;5;241;43m=\u001b[39;49m\u001b[43minner_input\u001b[49m\u001b[43m)\u001b[49m\u001b[43m]\u001b[49m\u001b[43m)\u001b[49m,\n\u001b[1;32m    180\u001b[0m         \u001b[38;5;28minput\u001b[39m,\n\u001b[1;32m    181\u001b[0m         config,\n\u001b[1;32m    182\u001b[0m         run_type\u001b[38;5;241m=\u001b[39m\u001b[38;5;124m\"\u001b[39m\u001b[38;5;124mparser\u001b[39m\u001b[38;5;124m\"\u001b[39m,\n\u001b[1;32m    183\u001b[0m     )\n",
      "File \u001b[0;32m~/Development/mtgai/.venv/lib/python3.12/site-packages/langchain_core/output_parsers/pydantic.py:60\u001b[0m, in \u001b[0;36mPydanticOutputParser.parse_result\u001b[0;34m(self, result, partial)\u001b[0m\n\u001b[1;32m     57\u001b[0m \u001b[38;5;28;01mdef\u001b[39;00m \u001b[38;5;21mparse_result\u001b[39m(\n\u001b[1;32m     58\u001b[0m     \u001b[38;5;28mself\u001b[39m, result: List[Generation], \u001b[38;5;241m*\u001b[39m, partial: \u001b[38;5;28mbool\u001b[39m \u001b[38;5;241m=\u001b[39m \u001b[38;5;28;01mFalse\u001b[39;00m\n\u001b[1;32m     59\u001b[0m ) \u001b[38;5;241m-\u001b[39m\u001b[38;5;241m>\u001b[39m TBaseModel:\n\u001b[0;32m---> 60\u001b[0m     json_object \u001b[38;5;241m=\u001b[39m \u001b[38;5;28;43msuper\u001b[39;49m\u001b[43m(\u001b[49m\u001b[43m)\u001b[49m\u001b[38;5;241;43m.\u001b[39;49m\u001b[43mparse_result\u001b[49m\u001b[43m(\u001b[49m\u001b[43mresult\u001b[49m\u001b[43m)\u001b[49m\n\u001b[1;32m     61\u001b[0m     \u001b[38;5;28;01mreturn\u001b[39;00m \u001b[38;5;28mself\u001b[39m\u001b[38;5;241m.\u001b[39m_parse_obj(json_object)\n",
      "File \u001b[0;32m~/Development/mtgai/.venv/lib/python3.12/site-packages/langchain_core/output_parsers/json.py:69\u001b[0m, in \u001b[0;36mJsonOutputParser.parse_result\u001b[0;34m(self, result, partial)\u001b[0m\n\u001b[1;32m     67\u001b[0m \u001b[38;5;28;01mexcept\u001b[39;00m JSONDecodeError \u001b[38;5;28;01mas\u001b[39;00m e:\n\u001b[1;32m     68\u001b[0m     msg \u001b[38;5;241m=\u001b[39m \u001b[38;5;124mf\u001b[39m\u001b[38;5;124m\"\u001b[39m\u001b[38;5;124mInvalid json output: \u001b[39m\u001b[38;5;132;01m{\u001b[39;00mtext\u001b[38;5;132;01m}\u001b[39;00m\u001b[38;5;124m\"\u001b[39m\n\u001b[0;32m---> 69\u001b[0m     \u001b[38;5;28;01mraise\u001b[39;00m OutputParserException(msg, llm_output\u001b[38;5;241m=\u001b[39mtext) \u001b[38;5;28;01mfrom\u001b[39;00m \u001b[38;5;21;01me\u001b[39;00m\n",
      "\u001b[0;31mOutputParserException\u001b[0m: Invalid json output: ['Control', 'Activated Abilities', 'Triggered Abilities', 'Sacrifice', 'Doctor's companion'])"
     ]
    }
   ],
   "source": [
    "chain = structured_example_prompt | llm | parser\n",
    "\n",
    "chain_invoke = chain.invoke(input={\"commander\": commander_classification_query})"
   ]
  }
 ],
 "metadata": {
  "kernelspec": {
   "display_name": ".venv",
   "language": "python",
   "name": "python3"
  },
  "language_info": {
   "codemirror_mode": {
    "name": "ipython",
    "version": 3
   },
   "file_extension": ".py",
   "mimetype": "text/x-python",
   "name": "python",
   "nbconvert_exporter": "python",
   "pygments_lexer": "ipython3",
   "version": "3.12.0"
  }
 },
 "nbformat": 4,
 "nbformat_minor": 2
}
